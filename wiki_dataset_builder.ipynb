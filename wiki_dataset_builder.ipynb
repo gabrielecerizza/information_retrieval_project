{
    "cells": [
        {
            "cell_type": "code",
            "execution_count": null,
            "source": [
                "from irproject.wiki_dataset import update_dataset"
            ],
            "outputs": [],
            "metadata": {}
        },
        {
            "cell_type": "markdown",
            "source": [
                "# Build a dataset from Wikipedia pages"
            ],
            "metadata": {}
        },
        {
            "cell_type": "markdown",
            "source": [
                "For every chosen page title, the \"update_dataset\" function will retrieve 20 related Wikipedia pages and start building the dataset. The classification in historical and non-historical pages (and paragraphs) is handled internally. Modify the \"is_historical\" function in the \"wiki_dataset.py\" file to change the provided classification. "
            ],
            "metadata": {}
        },
        {
            "cell_type": "code",
            "execution_count": null,
            "source": [
                "for title in [\r\n",
                "    \"Edmund_Hazle\", \"World_War_I\", \"Lucid_dream\", \"Planetshine\", \"Operation_Barbarossa\",\r\n",
                "    \"Capture_of_Rome\", \"George_Washington\", \"Vincent_van_Gogh\", \"Google\", \"Julius_Caesar\",\r\n",
                "    \"Maximilien_Robespierre\", \"Napoleon\", \"Herman_Melville\", \"Horse\", \"Early_Middle_Ages\", \r\n",
                "    \"Renaissance\", \"Supernova\", \"Louis_XIV\", \"Basketball\", \"Brain\", \"Gulf_War\", \r\n",
                "    \"Saddam_Hussein\", \"Ratko_Mladić\", \"Communism\", \"Immanuel_Kant\", \"USS_Enterprise\", \r\n",
                "    \"Atomic_bombings_of_Hiroshima_and_Nagasaki\", \"Adolf_Hitler\", \"Zanardelli_Code\",\r\n",
                "    \"Sword\", \"History_of_Japan\", \"Antimicrobial_nanotechnology\", \"Prediction\", \"AI_winter\",\r\n",
                "    \"Heart\", \"Sun Tzu\", \"Cesare_Beccaria\", \"Alessandro_Manzoni\", \"Gamma_ray\", \"Human_history\",\r\n",
                "    \"Early_modern_Europe\", \"Dark_Ages_(historiography)\", \"Russian_Revolution\", \r\n",
                "    \"American_Civil_War\", \"United_States_Declaration_of_Independence\",\r\n",
                "    \"American_Revolution\", \"French_Revolution\", \"Viking_Age\", \"Ancient_Greece\",\r\n",
                "    \"Second_Battle_of_the_Piave_River\"\r\n",
                "]:\r\n",
                "    update_dataset(title)"
            ],
            "outputs": [],
            "metadata": {}
        }
    ],
    "metadata": {
        "orig_nbformat": 4,
        "language_info": {
            "name": "python",
            "version": "3.9.5",
            "mimetype": "text/x-python",
            "codemirror_mode": {
                "name": "ipython",
                "version": 3
            },
            "pygments_lexer": "ipython3",
            "nbconvert_exporter": "python",
            "file_extension": ".py"
        },
        "kernelspec": {
            "name": "python3",
            "display_name": "Python 3.9.5 64-bit ('tf_p3.9': conda)"
        },
        "interpreter": {
            "hash": "f3a0b09ceef9b827a17ce91fbca1b0359a993a122e166af5f0b6d31a5625f693"
        }
    },
    "nbformat": 4,
    "nbformat_minor": 2
}