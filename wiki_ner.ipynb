{
    "cells": [
        {
            "cell_type": "code",
            "execution_count": 1,
            "source": [
                "import torch\r\n",
                "import spacy\r\n",
                "from bs4 import BeautifulSoup\r\n",
                "import traceback\r\n",
                "import numpy as np\r\n",
                "import requests\r\n",
                "from tqdm.notebook import tqdm\r\n",
                "from irproject.wiki_dataset import (\r\n",
                "    update_dataset, get_statements, get_wikidata_info,\r\n",
                "    process_paragraph, preprocess_paragraph, is_historical,\r\n",
                "    NoPageException, get_wikipedia_page, process_page,\r\n",
                "    check_entities_offsets\r\n",
                ")"
            ],
            "outputs": [],
            "metadata": {}
        },
        {
            "cell_type": "code",
            "execution_count": 2,
            "source": [
                "for title in [\r\n",
                "    \"Edmund_Hazle\", \"World_War_I\", \"Lucid_dream\", \"Planetshine\", \"Operation_Barbarossa\",\r\n",
                "    \"Capture_of_Rome\", \"George_Washington\", \"Vincent_van_Gogh\", \"Google\", \"Julius_Caesar\",\r\n",
                "    \"Maximilien_Robespierre\", \"Napoleon\", \"Herman_Melville\", \"Horse\", \"Early_Middle_Ages\", \r\n",
                "    \"Renaissance\", \"Supernova\", \"Louis_XIV\", \"Basketball\", \"Brain\", \"Gulf_War\", \r\n",
                "    \"Saddam_Hussein\", \"Ratko_Mladić\", \"Communism\", \"Immanuel_Kant\", \"USS_Enterprise\", \r\n",
                "    \"Atomic_bombings_of_Hiroshima_and_Nagasaki\", \"Adolf_Hitler\", \"Zanardelli_Code\",\r\n",
                "    \"Sword\", \"History_of_Japan\", \"Antimicrobial_nanotechnology\", \"Prediction\", \"AI_winter\",\r\n",
                "    \"Heart\", \"Sun Tzu\", \"Cesare_Beccaria\", \"Alessandro_Manzoni\", \"Gamma_ray\", \"Human_history\",\r\n",
                "    \"Early_modern_Europe\", \"Dark_Ages_(historiography)\", \"Russian_Revolution\", \r\n",
                "    \"American_Civil_War\", \"United_States_Declaration_of_Independence\",\r\n",
                "    \"American_Revolution\", \"French_Revolution\", \"Viking_Age\", \"Ancient_Greece\",\r\n",
                "    \"Second_Battle_of_the_Piave_River\"\r\n",
                "]:\r\n",
                "    update_dataset(title)"
            ],
            "outputs": [
                {
                    "output_type": "display_data",
                    "data": {
                        "text/plain": [
                            "HBox(children=(HTML(value='Processing titles'), FloatProgress(value=0.0, max=21.0), HTML(value='')))"
                        ],
                        "application/vnd.jupyter.widget-view+json": {
                            "version_major": 2,
                            "version_minor": 0,
                            "model_id": "d26268739a5a424b92bb10aaf44f62d3"
                        }
                    },
                    "metadata": {}
                },
                {
                    "output_type": "stream",
                    "name": "stdout",
                    "text": [
                        "token_num 997169\n",
                        "total_pages 232\n"
                    ]
                },
                {
                    "output_type": "display_data",
                    "data": {
                        "text/plain": [
                            "HBox(children=(HTML(value='Processing titles'), FloatProgress(value=0.0, max=21.0), HTML(value='')))"
                        ],
                        "application/vnd.jupyter.widget-view+json": {
                            "version_major": 2,
                            "version_minor": 0,
                            "model_id": "cb50e02dc56c4270844cfa7879de6217"
                        }
                    },
                    "metadata": {}
                },
                {
                    "output_type": "stream",
                    "name": "stdout",
                    "text": [
                        "token_num 997169\n",
                        "total_pages 232\n"
                    ]
                },
                {
                    "output_type": "display_data",
                    "data": {
                        "text/plain": [
                            "HBox(children=(HTML(value='Processing titles'), FloatProgress(value=0.0, max=21.0), HTML(value='')))"
                        ],
                        "application/vnd.jupyter.widget-view+json": {
                            "version_major": 2,
                            "version_minor": 0,
                            "model_id": "d3870daeef164e00ac5a8290155f921d"
                        }
                    },
                    "metadata": {}
                },
                {
                    "output_type": "stream",
                    "name": "stdout",
                    "text": [
                        "token_num 997169\n",
                        "total_pages 232\n"
                    ]
                },
                {
                    "output_type": "display_data",
                    "data": {
                        "text/plain": [
                            "HBox(children=(HTML(value='Processing titles'), FloatProgress(value=0.0, max=21.0), HTML(value='')))"
                        ],
                        "application/vnd.jupyter.widget-view+json": {
                            "version_major": 2,
                            "version_minor": 0,
                            "model_id": "460ec333477a4afb8a01ef75baf4fb64"
                        }
                    },
                    "metadata": {}
                },
                {
                    "output_type": "stream",
                    "name": "stdout",
                    "text": [
                        "token_num 997169\n",
                        "total_pages 232\n"
                    ]
                },
                {
                    "output_type": "display_data",
                    "data": {
                        "text/plain": [
                            "HBox(children=(HTML(value='Processing titles'), FloatProgress(value=0.0, max=21.0), HTML(value='')))"
                        ],
                        "application/vnd.jupyter.widget-view+json": {
                            "version_major": 2,
                            "version_minor": 0,
                            "model_id": "b2edd137f671420f84dde554adf2cabb"
                        }
                    },
                    "metadata": {}
                },
                {
                    "output_type": "stream",
                    "name": "stdout",
                    "text": [
                        "token_num 997169\n",
                        "total_pages 232\n"
                    ]
                },
                {
                    "output_type": "display_data",
                    "data": {
                        "text/plain": [
                            "HBox(children=(HTML(value='Processing titles'), FloatProgress(value=0.0, max=21.0), HTML(value='')))"
                        ],
                        "application/vnd.jupyter.widget-view+json": {
                            "version_major": 2,
                            "version_minor": 0,
                            "model_id": "b114f6ec33eb4767869d490d88479568"
                        }
                    },
                    "metadata": {}
                },
                {
                    "output_type": "stream",
                    "name": "stdout",
                    "text": [
                        "token_num 997169\n",
                        "total_pages 232\n"
                    ]
                },
                {
                    "output_type": "display_data",
                    "data": {
                        "text/plain": [
                            "HBox(children=(HTML(value='Processing titles'), FloatProgress(value=0.0, max=21.0), HTML(value='')))"
                        ],
                        "application/vnd.jupyter.widget-view+json": {
                            "version_major": 2,
                            "version_minor": 0,
                            "model_id": "52ec4c642cc14354b5729d287d910aba"
                        }
                    },
                    "metadata": {}
                },
                {
                    "output_type": "stream",
                    "name": "stdout",
                    "text": [
                        "token_num 997169\n",
                        "total_pages 232\n"
                    ]
                },
                {
                    "output_type": "display_data",
                    "data": {
                        "text/plain": [
                            "HBox(children=(HTML(value='Processing titles'), FloatProgress(value=0.0, max=21.0), HTML(value='')))"
                        ],
                        "application/vnd.jupyter.widget-view+json": {
                            "version_major": 2,
                            "version_minor": 0,
                            "model_id": "5120424ae26345959f1e2c46e01195e6"
                        }
                    },
                    "metadata": {}
                },
                {
                    "output_type": "stream",
                    "name": "stdout",
                    "text": [
                        "token_num 997169\n",
                        "total_pages 232\n"
                    ]
                },
                {
                    "output_type": "display_data",
                    "data": {
                        "text/plain": [
                            "HBox(children=(HTML(value='Processing titles'), FloatProgress(value=0.0, max=21.0), HTML(value='')))"
                        ],
                        "application/vnd.jupyter.widget-view+json": {
                            "version_major": 2,
                            "version_minor": 0,
                            "model_id": "f3e6fdf526ec4a3e9e40262b3a3bf6ba"
                        }
                    },
                    "metadata": {}
                },
                {
                    "output_type": "stream",
                    "name": "stdout",
                    "text": [
                        "token_num 997169\n",
                        "total_pages 232\n"
                    ]
                },
                {
                    "output_type": "display_data",
                    "data": {
                        "text/plain": [
                            "HBox(children=(HTML(value='Processing titles'), FloatProgress(value=0.0, max=21.0), HTML(value='')))"
                        ],
                        "application/vnd.jupyter.widget-view+json": {
                            "version_major": 2,
                            "version_minor": 0,
                            "model_id": "1eadc12b62ce4103b6bf9986e9866164"
                        }
                    },
                    "metadata": {}
                },
                {
                    "output_type": "stream",
                    "name": "stdout",
                    "text": [
                        "token_num 997169\n",
                        "total_pages 232\n"
                    ]
                },
                {
                    "output_type": "display_data",
                    "data": {
                        "text/plain": [
                            "HBox(children=(HTML(value='Processing titles'), FloatProgress(value=0.0, max=21.0), HTML(value='')))"
                        ],
                        "application/vnd.jupyter.widget-view+json": {
                            "version_major": 2,
                            "version_minor": 0,
                            "model_id": "5b72bea0333d4df98f476f4115326b7c"
                        }
                    },
                    "metadata": {}
                },
                {
                    "output_type": "stream",
                    "name": "stdout",
                    "text": [
                        "token_num 997169\n",
                        "total_pages 232\n"
                    ]
                },
                {
                    "output_type": "display_data",
                    "data": {
                        "text/plain": [
                            "HBox(children=(HTML(value='Processing titles'), FloatProgress(value=0.0, max=21.0), HTML(value='')))"
                        ],
                        "application/vnd.jupyter.widget-view+json": {
                            "version_major": 2,
                            "version_minor": 0,
                            "model_id": "e8b3f0b3419341a29bd0b9e3bbdce3e9"
                        }
                    },
                    "metadata": {}
                },
                {
                    "output_type": "stream",
                    "name": "stdout",
                    "text": [
                        "Napoleonic_Wars\n"
                    ]
                },
                {
                    "output_type": "display_data",
                    "data": {
                        "text/plain": [
                            "HBox(children=(HTML(value='Processing paragraphs'), FloatProgress(value=1.0, bar_style='info', layout=Layout(w…"
                        ],
                        "application/vnd.jupyter.widget-view+json": {
                            "version_major": 2,
                            "version_minor": 0,
                            "model_id": "c7e04728b8294d8dadd1ad892baae068"
                        }
                    },
                    "metadata": {}
                },
                {
                    "output_type": "stream",
                    "name": "stdout",
                    "text": [
                        "Battle_of_Austerlitz\n"
                    ]
                },
                {
                    "output_type": "display_data",
                    "data": {
                        "text/plain": [
                            "HBox(children=(HTML(value='Processing paragraphs'), FloatProgress(value=1.0, bar_style='info', layout=Layout(w…"
                        ],
                        "application/vnd.jupyter.widget-view+json": {
                            "version_major": 2,
                            "version_minor": 0,
                            "model_id": "26e3525850204ec9848516c762939ee0"
                        }
                    },
                    "metadata": {}
                },
                {
                    "output_type": "stream",
                    "name": "stdout",
                    "text": [
                        "Battle_of_Leipzig\n"
                    ]
                },
                {
                    "output_type": "display_data",
                    "data": {
                        "text/plain": [
                            "HBox(children=(HTML(value='Processing paragraphs'), FloatProgress(value=1.0, bar_style='info', layout=Layout(w…"
                        ],
                        "application/vnd.jupyter.widget-view+json": {
                            "version_major": 2,
                            "version_minor": 0,
                            "model_id": "2b90f3c9f2714d5aa4802b72d074cfab"
                        }
                    },
                    "metadata": {}
                },
                {
                    "output_type": "stream",
                    "name": "stdout",
                    "text": [
                        "Battle_of_Friedland\n"
                    ]
                },
                {
                    "output_type": "display_data",
                    "data": {
                        "text/plain": [
                            "HBox(children=(HTML(value='Processing paragraphs'), FloatProgress(value=1.0, bar_style='info', layout=Layout(w…"
                        ],
                        "application/vnd.jupyter.widget-view+json": {
                            "version_major": 2,
                            "version_minor": 0,
                            "model_id": "f9604d83275a4c0cb8386f0c83575afe"
                        }
                    },
                    "metadata": {}
                },
                {
                    "output_type": "stream",
                    "name": "stdout",
                    "text": [
                        "André_Masséna\n"
                    ]
                },
                {
                    "output_type": "display_data",
                    "data": {
                        "text/plain": [
                            "HBox(children=(HTML(value='Processing paragraphs'), FloatProgress(value=1.0, bar_style='info', layout=Layout(w…"
                        ],
                        "application/vnd.jupyter.widget-view+json": {
                            "version_major": 2,
                            "version_minor": 0,
                            "model_id": "f0734ced4d6440f0b273bad36c580048"
                        }
                    },
                    "metadata": {}
                },
                {
                    "output_type": "stream",
                    "name": "stdout",
                    "text": [
                        "Hundred_Days\n"
                    ]
                },
                {
                    "output_type": "display_data",
                    "data": {
                        "text/plain": [
                            "HBox(children=(HTML(value='Processing paragraphs'), FloatProgress(value=1.0, bar_style='info', layout=Layout(w…"
                        ],
                        "application/vnd.jupyter.widget-view+json": {
                            "version_major": 2,
                            "version_minor": 0,
                            "model_id": "49298570dfcd4431a405c447e676cb14"
                        }
                    },
                    "metadata": {}
                },
                {
                    "output_type": "stream",
                    "name": "stdout",
                    "text": [
                        "French_Revolutionary_Wars\n"
                    ]
                },
                {
                    "output_type": "display_data",
                    "data": {
                        "text/plain": [
                            "HBox(children=(HTML(value='Processing paragraphs'), FloatProgress(value=1.0, bar_style='info', layout=Layout(w…"
                        ],
                        "application/vnd.jupyter.widget-view+json": {
                            "version_major": 2,
                            "version_minor": 0,
                            "model_id": "3379aad7482b40768780cddb077d6d1d"
                        }
                    },
                    "metadata": {}
                },
                {
                    "output_type": "stream",
                    "name": "stdout",
                    "text": [
                        "Pierre_Augereau\n"
                    ]
                },
                {
                    "output_type": "display_data",
                    "data": {
                        "text/plain": [
                            "HBox(children=(HTML(value='Processing paragraphs'), FloatProgress(value=1.0, bar_style='info', layout=Layout(w…"
                        ],
                        "application/vnd.jupyter.widget-view+json": {
                            "version_major": 2,
                            "version_minor": 0,
                            "model_id": "9e3540f31599405189f714ed0b095649"
                        }
                    },
                    "metadata": {}
                },
                {
                    "output_type": "stream",
                    "name": "stdout",
                    "text": [
                        "Battle_of_Lodi\n"
                    ]
                },
                {
                    "output_type": "display_data",
                    "data": {
                        "text/plain": [
                            "HBox(children=(HTML(value='Processing paragraphs'), FloatProgress(value=1.0, bar_style='info', layout=Layout(w…"
                        ],
                        "application/vnd.jupyter.widget-view+json": {
                            "version_major": 2,
                            "version_minor": 0,
                            "model_id": "6bf92e20f8c644b6848afc25e307b2e5"
                        }
                    },
                    "metadata": {}
                },
                {
                    "output_type": "stream",
                    "name": "stdout",
                    "text": [
                        "War_of_the_Sixth_Coalition\n"
                    ]
                },
                {
                    "output_type": "display_data",
                    "data": {
                        "text/plain": [
                            "HBox(children=(HTML(value='Processing paragraphs'), FloatProgress(value=1.0, bar_style='info', layout=Layout(w…"
                        ],
                        "application/vnd.jupyter.widget-view+json": {
                            "version_major": 2,
                            "version_minor": 0,
                            "model_id": "c576d232f1b74eb4a69e841fa63feff0"
                        }
                    },
                    "metadata": {}
                },
                {
                    "output_type": "stream",
                    "name": "stdout",
                    "text": [
                        "War_of_the_Second_Coalition\n"
                    ]
                },
                {
                    "output_type": "display_data",
                    "data": {
                        "text/plain": [
                            "HBox(children=(HTML(value='Processing paragraphs'), FloatProgress(value=1.0, bar_style='info', layout=Layout(w…"
                        ],
                        "application/vnd.jupyter.widget-view+json": {
                            "version_major": 2,
                            "version_minor": 0,
                            "model_id": "15c01c2bb0894d80b12ef74fd08b2ec5"
                        }
                    },
                    "metadata": {}
                },
                {
                    "output_type": "stream",
                    "name": "stdout",
                    "text": [
                        "War_of_the_Fifth_Coalition\n"
                    ]
                },
                {
                    "output_type": "display_data",
                    "data": {
                        "text/plain": [
                            "HBox(children=(HTML(value='Processing paragraphs'), FloatProgress(value=1.0, bar_style='info', layout=Layout(w…"
                        ],
                        "application/vnd.jupyter.widget-view+json": {
                            "version_major": 2,
                            "version_minor": 0,
                            "model_id": "7b90d0b52bb34dfe8c346eda7da084c6"
                        }
                    },
                    "metadata": {}
                },
                {
                    "output_type": "stream",
                    "name": "stdout",
                    "text": [
                        "Italian_campaigns_of_the_French_Revolutionary_Wars\n"
                    ]
                },
                {
                    "output_type": "display_data",
                    "data": {
                        "text/plain": [
                            "HBox(children=(HTML(value='Processing paragraphs'), FloatProgress(value=1.0, bar_style='info', layout=Layout(w…"
                        ],
                        "application/vnd.jupyter.widget-view+json": {
                            "version_major": 2,
                            "version_minor": 0,
                            "model_id": "265e75a1641f4d938512ecdfa8f947ca"
                        }
                    },
                    "metadata": {}
                },
                {
                    "output_type": "stream",
                    "name": "stdout",
                    "text": [
                        "Battle_of_Castiglione\n"
                    ]
                },
                {
                    "output_type": "display_data",
                    "data": {
                        "text/plain": [
                            "HBox(children=(HTML(value='Processing paragraphs'), FloatProgress(value=1.0, bar_style='info', layout=Layout(w…"
                        ],
                        "application/vnd.jupyter.widget-view+json": {
                            "version_major": 2,
                            "version_minor": 0,
                            "model_id": "9e2337fba8e74727802cea6251ee3a41"
                        }
                    },
                    "metadata": {}
                },
                {
                    "output_type": "stream",
                    "name": "stdout",
                    "text": [
                        "Military_career_of_Napoleon_Bonaparte\n"
                    ]
                },
                {
                    "output_type": "display_data",
                    "data": {
                        "text/plain": [
                            "HBox(children=(HTML(value='Processing paragraphs'), FloatProgress(value=1.0, bar_style='info', layout=Layout(w…"
                        ],
                        "application/vnd.jupyter.widget-view+json": {
                            "version_major": 2,
                            "version_minor": 0,
                            "model_id": "3b8f9221abf847cfa521dc265df53e8c"
                        }
                    },
                    "metadata": {}
                },
                {
                    "output_type": "stream",
                    "name": "stdout",
                    "text": [
                        "First_French_Empire\n"
                    ]
                },
                {
                    "output_type": "display_data",
                    "data": {
                        "text/plain": [
                            "HBox(children=(HTML(value='Processing paragraphs'), FloatProgress(value=1.0, bar_style='info', layout=Layout(w…"
                        ],
                        "application/vnd.jupyter.widget-view+json": {
                            "version_major": 2,
                            "version_minor": 0,
                            "model_id": "c075ee9f8ff349ff986257a3a55e8ad0"
                        }
                    },
                    "metadata": {}
                },
                {
                    "output_type": "stream",
                    "name": "stdout",
                    "text": [
                        "Peter_Karl_Ott_von_Bátorkéz\n"
                    ]
                },
                {
                    "output_type": "display_data",
                    "data": {
                        "text/plain": [
                            "HBox(children=(HTML(value='Processing paragraphs'), FloatProgress(value=1.0, bar_style='info', layout=Layout(w…"
                        ],
                        "application/vnd.jupyter.widget-view+json": {
                            "version_major": 2,
                            "version_minor": 0,
                            "model_id": "08213388a43849a8bf39452f9e752388"
                        }
                    },
                    "metadata": {}
                },
                {
                    "output_type": "stream",
                    "name": "stdout",
                    "text": [
                        "Johann_Mészáros_von_Szoboszló\n"
                    ]
                },
                {
                    "output_type": "display_data",
                    "data": {
                        "text/plain": [
                            "HBox(children=(HTML(value='Processing paragraphs'), FloatProgress(value=1.0, bar_style='info', layout=Layout(w…"
                        ],
                        "application/vnd.jupyter.widget-view+json": {
                            "version_major": 2,
                            "version_minor": 0,
                            "model_id": "13beba815fdb44ab9a30c330ef1c4744"
                        }
                    },
                    "metadata": {}
                },
                {
                    "output_type": "stream",
                    "name": "stdout",
                    "text": [
                        "Bibliography_of_Napoleon\n"
                    ]
                },
                {
                    "output_type": "display_data",
                    "data": {
                        "text/plain": [
                            "HBox(children=(HTML(value='Processing paragraphs'), FloatProgress(value=1.0, bar_style='info', layout=Layout(w…"
                        ],
                        "application/vnd.jupyter.widget-view+json": {
                            "version_major": 2,
                            "version_minor": 0,
                            "model_id": "5d07cf219b5549059d98703edac69906"
                        }
                    },
                    "metadata": {}
                },
                {
                    "output_type": "stream",
                    "name": "stdout",
                    "text": [
                        "Convention_of_Alessandria\n"
                    ]
                },
                {
                    "output_type": "display_data",
                    "data": {
                        "text/plain": [
                            "HBox(children=(HTML(value='Processing paragraphs'), FloatProgress(value=1.0, bar_style='info', layout=Layout(w…"
                        ],
                        "application/vnd.jupyter.widget-view+json": {
                            "version_major": 2,
                            "version_minor": 0,
                            "model_id": "c9f2c1e2dd02495b8cd5baf2cac3dd5b"
                        }
                    },
                    "metadata": {}
                },
                {
                    "output_type": "stream",
                    "name": "stdout",
                    "text": [
                        "token_num 1072803\n",
                        "total_pages 252\n"
                    ]
                },
                {
                    "output_type": "display_data",
                    "data": {
                        "text/plain": [
                            "HBox(children=(HTML(value='Processing titles'), FloatProgress(value=0.0, max=21.0), HTML(value='')))"
                        ],
                        "application/vnd.jupyter.widget-view+json": {
                            "version_major": 2,
                            "version_minor": 0,
                            "model_id": "ed953b9c1c854f4389b02617b8782035"
                        }
                    },
                    "metadata": {}
                },
                {
                    "output_type": "stream",
                    "name": "stdout",
                    "text": [
                        "Herman_Melville\n"
                    ]
                },
                {
                    "output_type": "display_data",
                    "data": {
                        "text/plain": [
                            "HBox(children=(HTML(value='Processing paragraphs'), FloatProgress(value=1.0, bar_style='info', layout=Layout(w…"
                        ],
                        "application/vnd.jupyter.widget-view+json": {
                            "version_major": 2,
                            "version_minor": 0,
                            "model_id": "6cabacbfd2124ba5970076056220031f"
                        }
                    },
                    "metadata": {}
                },
                {
                    "output_type": "stream",
                    "name": "stdout",
                    "text": [
                        "Moby-Dick\n"
                    ]
                },
                {
                    "output_type": "display_data",
                    "data": {
                        "text/plain": [
                            "HBox(children=(HTML(value='Processing paragraphs'), FloatProgress(value=1.0, bar_style='info', layout=Layout(w…"
                        ],
                        "application/vnd.jupyter.widget-view+json": {
                            "version_major": 2,
                            "version_minor": 0,
                            "model_id": "2e697476994e43d785d89e700f95f313"
                        }
                    },
                    "metadata": {}
                },
                {
                    "output_type": "stream",
                    "name": "stdout",
                    "text": [
                        "Typee\n"
                    ]
                },
                {
                    "output_type": "display_data",
                    "data": {
                        "text/plain": [
                            "HBox(children=(HTML(value='Processing paragraphs'), FloatProgress(value=1.0, bar_style='info', layout=Layout(w…"
                        ],
                        "application/vnd.jupyter.widget-view+json": {
                            "version_major": 2,
                            "version_minor": 0,
                            "model_id": "674c6c1c983b49fd8fdf19f8f9cf88ca"
                        }
                    },
                    "metadata": {}
                },
                {
                    "output_type": "stream",
                    "name": "stdout",
                    "text": [
                        "Ishmael_(Moby-Dick)\n"
                    ]
                },
                {
                    "output_type": "display_data",
                    "data": {
                        "text/plain": [
                            "HBox(children=(HTML(value='Processing paragraphs'), FloatProgress(value=1.0, bar_style='info', layout=Layout(w…"
                        ],
                        "application/vnd.jupyter.widget-view+json": {
                            "version_major": 2,
                            "version_minor": 0,
                            "model_id": "7916ff2fff1f42fc9d6aaf97cdb3dcf9"
                        }
                    },
                    "metadata": {}
                },
                {
                    "output_type": "stream",
                    "name": "stdout",
                    "text": [
                        "Billy_Budd\n"
                    ]
                },
                {
                    "output_type": "display_data",
                    "data": {
                        "text/plain": [
                            "HBox(children=(HTML(value='Processing paragraphs'), FloatProgress(value=1.0, bar_style='info', layout=Layout(w…"
                        ],
                        "application/vnd.jupyter.widget-view+json": {
                            "version_major": 2,
                            "version_minor": 0,
                            "model_id": "f42f1b5ab0bf4ecb9fd34d34242ddeb9"
                        }
                    },
                    "metadata": {}
                },
                {
                    "output_type": "stream",
                    "name": "stdout",
                    "text": [
                        "Mardi\n"
                    ]
                },
                {
                    "output_type": "display_data",
                    "data": {
                        "text/plain": [
                            "HBox(children=(HTML(value='Processing paragraphs'), FloatProgress(value=1.0, bar_style='info', layout=Layout(w…"
                        ],
                        "application/vnd.jupyter.widget-view+json": {
                            "version_major": 2,
                            "version_minor": 0,
                            "model_id": "fea91aa316e64c0f86806d6ebe6743de"
                        }
                    },
                    "metadata": {}
                },
                {
                    "output_type": "stream",
                    "name": "stdout",
                    "text": [
                        "Omoo\n"
                    ]
                },
                {
                    "output_type": "display_data",
                    "data": {
                        "text/plain": [
                            "HBox(children=(HTML(value='Processing paragraphs'), FloatProgress(value=1.0, bar_style='info', layout=Layout(w…"
                        ],
                        "application/vnd.jupyter.widget-view+json": {
                            "version_major": 2,
                            "version_minor": 0,
                            "model_id": "8244caf6f1a641a78be19826406c25a6"
                        }
                    },
                    "metadata": {}
                },
                {
                    "output_type": "stream",
                    "name": "stdout",
                    "text": [
                        "Redburn\n"
                    ]
                },
                {
                    "output_type": "display_data",
                    "data": {
                        "text/plain": [
                            "HBox(children=(HTML(value='Processing paragraphs'), FloatProgress(value=1.0, bar_style='info', layout=Layout(w…"
                        ],
                        "application/vnd.jupyter.widget-view+json": {
                            "version_major": 2,
                            "version_minor": 0,
                            "model_id": "f162436430e5495e981d25ac1f5eb70f"
                        }
                    },
                    "metadata": {}
                },
                {
                    "output_type": "stream",
                    "name": "stdout",
                    "text": [
                        "Arrowhead_(Herman_Melville_House)\n"
                    ]
                },
                {
                    "output_type": "display_data",
                    "data": {
                        "text/plain": [
                            "HBox(children=(HTML(value='Processing paragraphs'), FloatProgress(value=1.0, bar_style='info', layout=Layout(w…"
                        ],
                        "application/vnd.jupyter.widget-view+json": {
                            "version_major": 2,
                            "version_minor": 0,
                            "model_id": "329d04789d354dc6be572fe19551b26e"
                        }
                    },
                    "metadata": {}
                },
                {
                    "output_type": "stream",
                    "name": "stdout",
                    "text": [
                        "Benito_Cereno\n"
                    ]
                },
                {
                    "output_type": "display_data",
                    "data": {
                        "text/plain": [
                            "HBox(children=(HTML(value='Processing paragraphs'), FloatProgress(value=1.0, bar_style='info', layout=Layout(w…"
                        ],
                        "application/vnd.jupyter.widget-view+json": {
                            "version_major": 2,
                            "version_minor": 0,
                            "model_id": "d644f5741a784958b1119f40a982d12a"
                        }
                    },
                    "metadata": {}
                },
                {
                    "output_type": "stream",
                    "name": "stdout",
                    "text": [
                        "The_Piazza_Tales\n"
                    ]
                },
                {
                    "output_type": "display_data",
                    "data": {
                        "text/plain": [
                            "HBox(children=(HTML(value='Processing paragraphs'), FloatProgress(value=1.0, bar_style='info', layout=Layout(w…"
                        ],
                        "application/vnd.jupyter.widget-view+json": {
                            "version_major": 2,
                            "version_minor": 0,
                            "model_id": "48afb297614645bf8d4cc92153a62c03"
                        }
                    },
                    "metadata": {}
                },
                {
                    "output_type": "stream",
                    "name": "stdout",
                    "text": [
                        "The_Encantadas\n"
                    ]
                },
                {
                    "output_type": "display_data",
                    "data": {
                        "text/plain": [
                            "HBox(children=(HTML(value='Processing paragraphs'), FloatProgress(value=1.0, bar_style='info', layout=Layout(w…"
                        ],
                        "application/vnd.jupyter.widget-view+json": {
                            "version_major": 2,
                            "version_minor": 0,
                            "model_id": "1d010c9b34d6433f9dd2bd7cae5f9a49"
                        }
                    },
                    "metadata": {}
                },
                {
                    "output_type": "stream",
                    "name": "stdout",
                    "text": [
                        "Isle_of_the_Cross\n"
                    ]
                },
                {
                    "output_type": "display_data",
                    "data": {
                        "text/plain": [
                            "HBox(children=(HTML(value='Processing paragraphs'), FloatProgress(value=1.0, bar_style='info', layout=Layout(w…"
                        ],
                        "application/vnd.jupyter.widget-view+json": {
                            "version_major": 2,
                            "version_minor": 0,
                            "model_id": "879bd63440b549eb81ca5cf1a01eca81"
                        }
                    },
                    "metadata": {}
                },
                {
                    "output_type": "stream",
                    "name": "stdout",
                    "text": [
                        "Herman_Melville_bibliography\n"
                    ]
                },
                {
                    "output_type": "display_data",
                    "data": {
                        "text/plain": [
                            "HBox(children=(HTML(value='Processing paragraphs'), FloatProgress(value=1.0, bar_style='info', layout=Layout(w…"
                        ],
                        "application/vnd.jupyter.widget-view+json": {
                            "version_major": 2,
                            "version_minor": 0,
                            "model_id": "4cb2ec21bb424c969b78b7edf8aec0a3"
                        }
                    },
                    "metadata": {}
                },
                {
                    "output_type": "stream",
                    "name": "stdout",
                    "text": [
                        "Hawthorne_and_His_Mosses\n"
                    ]
                },
                {
                    "output_type": "display_data",
                    "data": {
                        "text/plain": [
                            "HBox(children=(HTML(value='Processing paragraphs'), FloatProgress(value=1.0, bar_style='info', layout=Layout(w…"
                        ],
                        "application/vnd.jupyter.widget-view+json": {
                            "version_major": 2,
                            "version_minor": 0,
                            "model_id": "c432523423004486b08bdb8f1d9829c0"
                        }
                    },
                    "metadata": {}
                },
                {
                    "output_type": "stream",
                    "name": "stdout",
                    "text": [
                        "Merton_Sealts\n"
                    ]
                },
                {
                    "output_type": "display_data",
                    "data": {
                        "text/plain": [
                            "HBox(children=(HTML(value='Processing paragraphs'), FloatProgress(value=1.0, bar_style='info', layout=Layout(w…"
                        ],
                        "application/vnd.jupyter.widget-view+json": {
                            "version_major": 2,
                            "version_minor": 0,
                            "model_id": "365cfd347b0e49c59e168ff43263d27b"
                        }
                    },
                    "metadata": {}
                },
                {
                    "output_type": "stream",
                    "name": "stdout",
                    "text": [
                        "Captain_Ahab\n"
                    ]
                },
                {
                    "output_type": "display_data",
                    "data": {
                        "text/plain": [
                            "HBox(children=(HTML(value='Processing paragraphs'), FloatProgress(value=1.0, bar_style='info', layout=Layout(w…"
                        ],
                        "application/vnd.jupyter.widget-view+json": {
                            "version_major": 2,
                            "version_minor": 0,
                            "model_id": "7ed247652dd4439c9735b8e3ed56f9d7"
                        }
                    },
                    "metadata": {}
                },
                {
                    "output_type": "stream",
                    "name": "stdout",
                    "text": [
                        "Harrison_M._Hayford\n"
                    ]
                },
                {
                    "output_type": "display_data",
                    "data": {
                        "text/plain": [
                            "HBox(children=(HTML(value='Processing paragraphs'), FloatProgress(value=1.0, bar_style='info', layout=Layout(w…"
                        ],
                        "application/vnd.jupyter.widget-view+json": {
                            "version_major": 2,
                            "version_minor": 0,
                            "model_id": "c348e59cc5884b01ad6a839f881307d3"
                        }
                    },
                    "metadata": {}
                },
                {
                    "output_type": "stream",
                    "name": "stdout",
                    "text": [
                        "Sarah_Morewood\n"
                    ]
                },
                {
                    "output_type": "display_data",
                    "data": {
                        "text/plain": [
                            "HBox(children=(HTML(value='Processing paragraphs'), FloatProgress(value=1.0, bar_style='info', layout=Layout(w…"
                        ],
                        "application/vnd.jupyter.widget-view+json": {
                            "version_major": 2,
                            "version_minor": 0,
                            "model_id": "9f69ab600c09435ba9639b1b02878fc1"
                        }
                    },
                    "metadata": {}
                },
                {
                    "output_type": "stream",
                    "name": "stdout",
                    "text": [
                        "Walter_E._Bezanson\n"
                    ]
                },
                {
                    "output_type": "display_data",
                    "data": {
                        "text/plain": [
                            "HBox(children=(HTML(value='Processing paragraphs'), FloatProgress(value=1.0, bar_style='info', layout=Layout(w…"
                        ],
                        "application/vnd.jupyter.widget-view+json": {
                            "version_major": 2,
                            "version_minor": 0,
                            "model_id": "8fbe22865dff45da81a79f49a0d8afc6"
                        }
                    },
                    "metadata": {}
                },
                {
                    "output_type": "stream",
                    "name": "stdout",
                    "text": [
                        "Herman_Melville_(book)\n"
                    ]
                },
                {
                    "output_type": "display_data",
                    "data": {
                        "text/plain": [
                            "HBox(children=(HTML(value='Processing paragraphs'), FloatProgress(value=1.0, bar_style='info', layout=Layout(w…"
                        ],
                        "application/vnd.jupyter.widget-view+json": {
                            "version_major": 2,
                            "version_minor": 0,
                            "model_id": "c6e5a889ed844c3bb6c42ab41670b605"
                        }
                    },
                    "metadata": {}
                },
                {
                    "output_type": "stream",
                    "name": "stdout",
                    "text": [
                        "token_num 1144657\n",
                        "total_pages 273\n"
                    ]
                },
                {
                    "output_type": "display_data",
                    "data": {
                        "text/plain": [
                            "HBox(children=(HTML(value='Processing titles'), FloatProgress(value=0.0, max=21.0), HTML(value='')))"
                        ],
                        "application/vnd.jupyter.widget-view+json": {
                            "version_major": 2,
                            "version_minor": 0,
                            "model_id": "174660ee3bf244e1803b223c9ebe6a5c"
                        }
                    },
                    "metadata": {}
                },
                {
                    "output_type": "stream",
                    "name": "stdout",
                    "text": [
                        "Horse\n"
                    ]
                },
                {
                    "output_type": "display_data",
                    "data": {
                        "text/plain": [
                            "HBox(children=(HTML(value='Processing paragraphs'), FloatProgress(value=1.0, bar_style='info', layout=Layout(w…"
                        ],
                        "application/vnd.jupyter.widget-view+json": {
                            "version_major": 2,
                            "version_minor": 0,
                            "model_id": "f55fa50cbc304856b703686531dcfb64"
                        }
                    },
                    "metadata": {}
                },
                {
                    "output_type": "stream",
                    "name": "stdout",
                    "text": [
                        "Horse_breed\n"
                    ]
                },
                {
                    "output_type": "display_data",
                    "data": {
                        "text/plain": [
                            "HBox(children=(HTML(value='Processing paragraphs'), FloatProgress(value=1.0, bar_style='info', layout=Layout(w…"
                        ],
                        "application/vnd.jupyter.widget-view+json": {
                            "version_major": 2,
                            "version_minor": 0,
                            "model_id": "cd40f7d6ee2049728f5164decf42a99d"
                        }
                    },
                    "metadata": {}
                },
                {
                    "output_type": "stream",
                    "name": "stdout",
                    "text": [
                        "Domestication_of_the_horse\n"
                    ]
                },
                {
                    "output_type": "display_data",
                    "data": {
                        "text/plain": [
                            "HBox(children=(HTML(value='Processing paragraphs'), FloatProgress(value=1.0, bar_style='info', layout=Layout(w…"
                        ],
                        "application/vnd.jupyter.widget-view+json": {
                            "version_major": 2,
                            "version_minor": 0,
                            "model_id": "95d2842c7f3846d0a8f1c36413ee9da3"
                        }
                    },
                    "metadata": {}
                },
                {
                    "output_type": "stream",
                    "name": "stdout",
                    "text": [
                        "Donkey\n"
                    ]
                },
                {
                    "output_type": "display_data",
                    "data": {
                        "text/plain": [
                            "HBox(children=(HTML(value='Processing paragraphs'), FloatProgress(value=1.0, bar_style='info', layout=Layout(w…"
                        ],
                        "application/vnd.jupyter.widget-view+json": {
                            "version_major": 2,
                            "version_minor": 0,
                            "model_id": "268669338c3a448daf8b444f5fa5de1e"
                        }
                    },
                    "metadata": {}
                },
                {
                    "output_type": "stream",
                    "name": "stdout",
                    "text": [
                        "Appaloosa\n"
                    ]
                },
                {
                    "output_type": "display_data",
                    "data": {
                        "text/plain": [
                            "HBox(children=(HTML(value='Processing paragraphs'), FloatProgress(value=1.0, bar_style='info', layout=Layout(w…"
                        ],
                        "application/vnd.jupyter.widget-view+json": {
                            "version_major": 2,
                            "version_minor": 0,
                            "model_id": "5dffe67218274fa4969698731bc2a833"
                        }
                    },
                    "metadata": {}
                },
                {
                    "output_type": "stream",
                    "name": "stdout",
                    "text": [
                        "Arabian_horse\n"
                    ]
                },
                {
                    "output_type": "display_data",
                    "data": {
                        "text/plain": [
                            "HBox(children=(HTML(value='Processing paragraphs'), FloatProgress(value=1.0, bar_style='info', layout=Layout(w…"
                        ],
                        "application/vnd.jupyter.widget-view+json": {
                            "version_major": 2,
                            "version_minor": 0,
                            "model_id": "7ccebcd3614e48128e1ca87d3517f4d3"
                        }
                    },
                    "metadata": {}
                },
                {
                    "output_type": "stream",
                    "name": "stdout",
                    "text": [
                        "Tarpan\n"
                    ]
                },
                {
                    "output_type": "display_data",
                    "data": {
                        "text/plain": [
                            "HBox(children=(HTML(value='Processing paragraphs'), FloatProgress(value=1.0, bar_style='info', layout=Layout(w…"
                        ],
                        "application/vnd.jupyter.widget-view+json": {
                            "version_major": 2,
                            "version_minor": 0,
                            "model_id": "66217726251a402ba0b2662e728eeb9b"
                        }
                    },
                    "metadata": {}
                },
                {
                    "output_type": "stream",
                    "name": "stdout",
                    "text": [
                        "Dartmoor_pony\n"
                    ]
                },
                {
                    "output_type": "display_data",
                    "data": {
                        "text/plain": [
                            "HBox(children=(HTML(value='Processing paragraphs'), FloatProgress(value=1.0, bar_style='info', layout=Layout(w…"
                        ],
                        "application/vnd.jupyter.widget-view+json": {
                            "version_major": 2,
                            "version_minor": 0,
                            "model_id": "739d732699ab4b2d973c0b09912aad00"
                        }
                    },
                    "metadata": {}
                },
                {
                    "output_type": "stream",
                    "name": "stdout",
                    "text": [
                        "New_Forest_pony\n"
                    ]
                },
                {
                    "output_type": "display_data",
                    "data": {
                        "text/plain": [
                            "HBox(children=(HTML(value='Processing paragraphs'), FloatProgress(value=1.0, bar_style='info', layout=Layout(w…"
                        ],
                        "application/vnd.jupyter.widget-view+json": {
                            "version_major": 2,
                            "version_minor": 0,
                            "model_id": "876512c72ef04634bf6224dd3918ff10"
                        }
                    },
                    "metadata": {}
                },
                {
                    "output_type": "stream",
                    "name": "stdout",
                    "text": [
                        "Equus_(genus)\n"
                    ]
                },
                {
                    "output_type": "display_data",
                    "data": {
                        "text/plain": [
                            "HBox(children=(HTML(value='Processing paragraphs'), FloatProgress(value=1.0, bar_style='info', layout=Layout(w…"
                        ],
                        "application/vnd.jupyter.widget-view+json": {
                            "version_major": 2,
                            "version_minor": 0,
                            "model_id": "e3149bae57164ab6837cc9b9d6fc7a75"
                        }
                    },
                    "metadata": {}
                },
                {
                    "output_type": "stream",
                    "name": "stdout",
                    "text": [
                        "Exmoor_pony\n"
                    ]
                },
                {
                    "output_type": "display_data",
                    "data": {
                        "text/plain": [
                            "HBox(children=(HTML(value='Processing paragraphs'), FloatProgress(value=1.0, bar_style='info', layout=Layout(w…"
                        ],
                        "application/vnd.jupyter.widget-view+json": {
                            "version_major": 2,
                            "version_minor": 0,
                            "model_id": "d11015e335384a318e4c0a242c98bd6d"
                        }
                    },
                    "metadata": {}
                },
                {
                    "output_type": "stream",
                    "name": "stdout",
                    "text": [
                        "Wild_horse\n"
                    ]
                },
                {
                    "output_type": "display_data",
                    "data": {
                        "text/plain": [
                            "HBox(children=(HTML(value='Processing paragraphs'), FloatProgress(value=1.0, bar_style='info', layout=Layout(w…"
                        ],
                        "application/vnd.jupyter.widget-view+json": {
                            "version_major": 2,
                            "version_minor": 0,
                            "model_id": "e5f004d03a6d4189aeb2e63c8720d3f2"
                        }
                    },
                    "metadata": {}
                },
                {
                    "output_type": "stream",
                    "name": "stdout",
                    "text": [
                        "Horse_behavior\n"
                    ]
                },
                {
                    "output_type": "display_data",
                    "data": {
                        "text/plain": [
                            "HBox(children=(HTML(value='Processing paragraphs'), FloatProgress(value=1.0, bar_style='info', layout=Layout(w…"
                        ],
                        "application/vnd.jupyter.widget-view+json": {
                            "version_major": 2,
                            "version_minor": 0,
                            "model_id": "3a1aaa9930db49ef8c0df21620668a9c"
                        }
                    },
                    "metadata": {}
                },
                {
                    "output_type": "stream",
                    "name": "stdout",
                    "text": [
                        "Evolution_of_the_horse\n"
                    ]
                },
                {
                    "output_type": "display_data",
                    "data": {
                        "text/plain": [
                            "HBox(children=(HTML(value='Processing paragraphs'), FloatProgress(value=1.0, bar_style='info', layout=Layout(w…"
                        ],
                        "application/vnd.jupyter.widget-view+json": {
                            "version_major": 2,
                            "version_minor": 0,
                            "model_id": "7a00b581aad04b0b9658a7bc26fe2b0d"
                        }
                    },
                    "metadata": {}
                },
                {
                    "output_type": "stream",
                    "name": "stdout",
                    "text": [
                        "Banker_horse\n"
                    ]
                },
                {
                    "output_type": "display_data",
                    "data": {
                        "text/plain": [
                            "HBox(children=(HTML(value='Processing paragraphs'), FloatProgress(value=1.0, bar_style='info', layout=Layout(w…"
                        ],
                        "application/vnd.jupyter.widget-view+json": {
                            "version_major": 2,
                            "version_minor": 0,
                            "model_id": "b5e2bcb4c01f4767966c5a568bcf2949"
                        }
                    },
                    "metadata": {}
                },
                {
                    "output_type": "stream",
                    "name": "stdout",
                    "text": [
                        "Heck_horse\n"
                    ]
                },
                {
                    "output_type": "display_data",
                    "data": {
                        "text/plain": [
                            "HBox(children=(HTML(value='Processing paragraphs'), FloatProgress(value=1.0, bar_style='info', layout=Layout(w…"
                        ],
                        "application/vnd.jupyter.widget-view+json": {
                            "version_major": 2,
                            "version_minor": 0,
                            "model_id": "fa92ce1c6a0b49ad8345b5ea93c3b2eb"
                        }
                    },
                    "metadata": {}
                },
                {
                    "output_type": "stream",
                    "name": "stdout",
                    "text": [
                        "Pony\n"
                    ]
                },
                {
                    "output_type": "display_data",
                    "data": {
                        "text/plain": [
                            "HBox(children=(HTML(value='Processing paragraphs'), FloatProgress(value=1.0, bar_style='info', layout=Layout(w…"
                        ],
                        "application/vnd.jupyter.widget-view+json": {
                            "version_major": 2,
                            "version_minor": 0,
                            "model_id": "abb787a9979d47e1adef67ecd137da36"
                        }
                    },
                    "metadata": {}
                },
                {
                    "output_type": "stream",
                    "name": "stdout",
                    "text": [
                        "Glossary_of_equestrian_terms\n"
                    ]
                },
                {
                    "output_type": "display_data",
                    "data": {
                        "text/plain": [
                            "HBox(children=(HTML(value='Processing paragraphs'), FloatProgress(value=1.0, bar_style='info', layout=Layout(w…"
                        ],
                        "application/vnd.jupyter.widget-view+json": {
                            "version_major": 2,
                            "version_minor": 0,
                            "model_id": "2903567e98294b3d9d1e2c2f5467c8ea"
                        }
                    },
                    "metadata": {}
                },
                {
                    "output_type": "stream",
                    "name": "stdout",
                    "text": [
                        "History_of_the_horse_in_Britain\n"
                    ]
                },
                {
                    "output_type": "display_data",
                    "data": {
                        "text/plain": [
                            "HBox(children=(HTML(value='Processing paragraphs'), FloatProgress(value=1.0, bar_style='info', layout=Layout(w…"
                        ],
                        "application/vnd.jupyter.widget-view+json": {
                            "version_major": 2,
                            "version_minor": 0,
                            "model_id": "a5a0b5a5db0e41149aa742f311104d76"
                        }
                    },
                    "metadata": {}
                },
                {
                    "output_type": "stream",
                    "name": "stdout",
                    "text": [
                        "History_of_horse_domestication_theories\n"
                    ]
                },
                {
                    "output_type": "display_data",
                    "data": {
                        "text/plain": [
                            "HBox(children=(HTML(value='Processing paragraphs'), FloatProgress(value=1.0, bar_style='info', layout=Layout(w…"
                        ],
                        "application/vnd.jupyter.widget-view+json": {
                            "version_major": 2,
                            "version_minor": 0,
                            "model_id": "cffc83fb44d14a1b94265f811dbafce7"
                        }
                    },
                    "metadata": {}
                },
                {
                    "output_type": "stream",
                    "name": "stdout",
                    "text": [
                        "Horses_in_the_United_States\n"
                    ]
                },
                {
                    "output_type": "display_data",
                    "data": {
                        "text/plain": [
                            "HBox(children=(HTML(value='Processing paragraphs'), FloatProgress(value=1.0, bar_style='info', layout=Layout(w…"
                        ],
                        "application/vnd.jupyter.widget-view+json": {
                            "version_major": 2,
                            "version_minor": 0,
                            "model_id": "dd57de57573f4f1086fe268b1c35b400"
                        }
                    },
                    "metadata": {}
                },
                {
                    "output_type": "stream",
                    "name": "stdout",
                    "text": [
                        "token_num 1222741\n",
                        "total_pages 294\n"
                    ]
                },
                {
                    "output_type": "display_data",
                    "data": {
                        "text/plain": [
                            "HBox(children=(HTML(value='Processing titles'), FloatProgress(value=0.0, max=21.0), HTML(value='')))"
                        ],
                        "application/vnd.jupyter.widget-view+json": {
                            "version_major": 2,
                            "version_minor": 0,
                            "model_id": "95a2b08939d24540ac56b956c8eb4d7a"
                        }
                    },
                    "metadata": {}
                },
                {
                    "output_type": "stream",
                    "name": "stdout",
                    "text": [
                        "Early_Middle_Ages\n"
                    ]
                },
                {
                    "output_type": "display_data",
                    "data": {
                        "text/plain": [
                            "HBox(children=(HTML(value='Processing paragraphs'), FloatProgress(value=1.0, bar_style='info', layout=Layout(w…"
                        ],
                        "application/vnd.jupyter.widget-view+json": {
                            "version_major": 2,
                            "version_minor": 0,
                            "model_id": "ceb43b440c404664aa90b296bfe95579"
                        }
                    },
                    "metadata": {}
                },
                {
                    "output_type": "stream",
                    "name": "stdout",
                    "text": [
                        "Charlemagne\n"
                    ]
                },
                {
                    "output_type": "display_data",
                    "data": {
                        "text/plain": [
                            "HBox(children=(HTML(value='Processing paragraphs'), FloatProgress(value=1.0, bar_style='info', layout=Layout(w…"
                        ],
                        "application/vnd.jupyter.widget-view+json": {
                            "version_major": 2,
                            "version_minor": 0,
                            "model_id": "f3b908b9fcf848fa988c9ce796123191"
                        }
                    },
                    "metadata": {}
                },
                {
                    "output_type": "stream",
                    "name": "stdout",
                    "text": [
                        "Middle_Ages\n"
                    ]
                },
                {
                    "output_type": "display_data",
                    "data": {
                        "text/plain": [
                            "HBox(children=(HTML(value='Processing paragraphs'), FloatProgress(value=1.0, bar_style='info', layout=Layout(w…"
                        ],
                        "application/vnd.jupyter.widget-view+json": {
                            "version_major": 2,
                            "version_minor": 0,
                            "model_id": "e3f2028c624c470f9909e18ae03abc4d"
                        }
                    },
                    "metadata": {}
                },
                {
                    "output_type": "stream",
                    "name": "stdout",
                    "text": [
                        "Pope_Stephen_II\n"
                    ]
                },
                {
                    "output_type": "display_data",
                    "data": {
                        "text/plain": [
                            "HBox(children=(HTML(value='Processing paragraphs'), FloatProgress(value=1.0, bar_style='info', layout=Layout(w…"
                        ],
                        "application/vnd.jupyter.widget-view+json": {
                            "version_major": 2,
                            "version_minor": 0,
                            "model_id": "5f6b3b7cf1d64d0caa3aa9a8e3315b40"
                        }
                    },
                    "metadata": {}
                },
                {
                    "output_type": "stream",
                    "name": "stdout",
                    "text": [
                        "7th_century\n"
                    ]
                },
                {
                    "output_type": "display_data",
                    "data": {
                        "text/plain": [
                            "HBox(children=(HTML(value='Processing paragraphs'), FloatProgress(value=1.0, bar_style='info', layout=Layout(w…"
                        ],
                        "application/vnd.jupyter.widget-view+json": {
                            "version_major": 2,
                            "version_minor": 0,
                            "model_id": "b94fb1a485ff408eb8fc7cdb11dbcf9c"
                        }
                    },
                    "metadata": {}
                },
                {
                    "output_type": "stream",
                    "name": "stdout",
                    "text": [
                        "Battle_of_Tours\n"
                    ]
                },
                {
                    "output_type": "display_data",
                    "data": {
                        "text/plain": [
                            "HBox(children=(HTML(value='Processing paragraphs'), FloatProgress(value=1.0, bar_style='info', layout=Layout(w…"
                        ],
                        "application/vnd.jupyter.widget-view+json": {
                            "version_major": 2,
                            "version_minor": 0,
                            "model_id": "9348050014b24207b3de08cb49345569"
                        }
                    },
                    "metadata": {}
                },
                {
                    "output_type": "stream",
                    "name": "stdout",
                    "text": [
                        "Migration_Period\n"
                    ]
                },
                {
                    "output_type": "display_data",
                    "data": {
                        "text/plain": [
                            "HBox(children=(HTML(value='Processing paragraphs'), FloatProgress(value=1.0, bar_style='info', layout=Layout(w…"
                        ],
                        "application/vnd.jupyter.widget-view+json": {
                            "version_major": 2,
                            "version_minor": 0,
                            "model_id": "53bf3db5459c4065be0f4be9e20e230c"
                        }
                    },
                    "metadata": {}
                },
                {
                    "output_type": "stream",
                    "name": "stdout",
                    "text": [
                        "Translatio_imperii\n"
                    ]
                },
                {
                    "output_type": "display_data",
                    "data": {
                        "text/plain": [
                            "HBox(children=(HTML(value='Processing paragraphs'), FloatProgress(value=1.0, bar_style='info', layout=Layout(w…"
                        ],
                        "application/vnd.jupyter.widget-view+json": {
                            "version_major": 2,
                            "version_minor": 0,
                            "model_id": "39d0a3c7cfc54171b297ca2106982bce"
                        }
                    },
                    "metadata": {}
                },
                {
                    "output_type": "stream",
                    "name": "stdout",
                    "text": [
                        "High_Middle_Ages\n"
                    ]
                },
                {
                    "output_type": "display_data",
                    "data": {
                        "text/plain": [
                            "HBox(children=(HTML(value='Processing paragraphs'), FloatProgress(value=1.0, bar_style='info', layout=Layout(w…"
                        ],
                        "application/vnd.jupyter.widget-view+json": {
                            "version_major": 2,
                            "version_minor": 0,
                            "model_id": "d21a16e41b0d4b679f5bcc2437d70b60"
                        }
                    },
                    "metadata": {}
                },
                {
                    "output_type": "stream",
                    "name": "stdout",
                    "text": [
                        "Late_antiquity\n"
                    ]
                },
                {
                    "output_type": "display_data",
                    "data": {
                        "text/plain": [
                            "HBox(children=(HTML(value='Processing paragraphs'), FloatProgress(value=1.0, bar_style='info', layout=Layout(w…"
                        ],
                        "application/vnd.jupyter.widget-view+json": {
                            "version_major": 2,
                            "version_minor": 0,
                            "model_id": "45ab9fd7302245449cc414bd50a2a75e"
                        }
                    },
                    "metadata": {}
                },
                {
                    "output_type": "stream",
                    "name": "stdout",
                    "text": [
                        "Italy_in_the_Middle_Ages\n"
                    ]
                },
                {
                    "output_type": "display_data",
                    "data": {
                        "text/plain": [
                            "HBox(children=(HTML(value='Processing paragraphs'), FloatProgress(value=1.0, bar_style='info', layout=Layout(w…"
                        ],
                        "application/vnd.jupyter.widget-view+json": {
                            "version_major": 2,
                            "version_minor": 0,
                            "model_id": "ce197d8b0d4048a2986627466dcefb0f"
                        }
                    },
                    "metadata": {}
                },
                {
                    "output_type": "stream",
                    "name": "stdout",
                    "text": [
                        "Franks\n"
                    ]
                },
                {
                    "output_type": "display_data",
                    "data": {
                        "text/plain": [
                            "HBox(children=(HTML(value='Processing paragraphs'), FloatProgress(value=1.0, bar_style='info', layout=Layout(w…"
                        ],
                        "application/vnd.jupyter.widget-view+json": {
                            "version_major": 2,
                            "version_minor": 0,
                            "model_id": "6a4b173bcac242f0b46d697fddd1eba5"
                        }
                    },
                    "metadata": {}
                },
                {
                    "output_type": "stream",
                    "name": "stdout",
                    "text": [
                        "Arab–Byzantine_wars\n"
                    ]
                },
                {
                    "output_type": "display_data",
                    "data": {
                        "text/plain": [
                            "HBox(children=(HTML(value='Processing paragraphs'), FloatProgress(value=1.0, bar_style='info', layout=Layout(w…"
                        ],
                        "application/vnd.jupyter.widget-view+json": {
                            "version_major": 2,
                            "version_minor": 0,
                            "model_id": "2361a6c33b2a4c14a09ff24aa4cf52f7"
                        }
                    },
                    "metadata": {}
                },
                {
                    "output_type": "stream",
                    "name": "stdout",
                    "text": [
                        "Abbasid–Carolingian_alliance\n"
                    ]
                },
                {
                    "output_type": "display_data",
                    "data": {
                        "text/plain": [
                            "HBox(children=(HTML(value='Processing paragraphs'), FloatProgress(value=1.0, bar_style='info', layout=Layout(w…"
                        ],
                        "application/vnd.jupyter.widget-view+json": {
                            "version_major": 2,
                            "version_minor": 0,
                            "model_id": "119137960aeb4e28a1d3a11ed3748d79"
                        }
                    },
                    "metadata": {}
                },
                {
                    "output_type": "stream",
                    "name": "stdout",
                    "text": [
                        "Christianity_in_the_7th_century\n"
                    ]
                },
                {
                    "output_type": "display_data",
                    "data": {
                        "text/plain": [
                            "HBox(children=(HTML(value='Processing paragraphs'), FloatProgress(value=1.0, bar_style='info', layout=Layout(w…"
                        ],
                        "application/vnd.jupyter.widget-view+json": {
                            "version_major": 2,
                            "version_minor": 0,
                            "model_id": "463d5cec8461498889a7ea3b6de3d198"
                        }
                    },
                    "metadata": {}
                },
                {
                    "output_type": "stream",
                    "name": "stdout",
                    "text": [
                        "Christianity_in_the_8th_century\n"
                    ]
                },
                {
                    "output_type": "display_data",
                    "data": {
                        "text/plain": [
                            "HBox(children=(HTML(value='Processing paragraphs'), FloatProgress(value=1.0, bar_style='info', layout=Layout(w…"
                        ],
                        "application/vnd.jupyter.widget-view+json": {
                            "version_major": 2,
                            "version_minor": 0,
                            "model_id": "8aa8019a836249988168df1e96a6dc1f"
                        }
                    },
                    "metadata": {}
                },
                {
                    "output_type": "stream",
                    "name": "stdout",
                    "text": [
                        "Christianity_in_the_9th_century\n"
                    ]
                },
                {
                    "output_type": "display_data",
                    "data": {
                        "text/plain": [
                            "HBox(children=(HTML(value='Processing paragraphs'), FloatProgress(value=1.0, bar_style='info', layout=Layout(w…"
                        ],
                        "application/vnd.jupyter.widget-view+json": {
                            "version_major": 2,
                            "version_minor": 0,
                            "model_id": "3012c9169a204776b8b3afb40d2ea351"
                        }
                    },
                    "metadata": {}
                },
                {
                    "output_type": "stream",
                    "name": "stdout",
                    "text": [
                        "Christianity_in_the_11th_century\n"
                    ]
                },
                {
                    "output_type": "display_data",
                    "data": {
                        "text/plain": [
                            "HBox(children=(HTML(value='Processing paragraphs'), FloatProgress(value=1.0, bar_style='info', layout=Layout(w…"
                        ],
                        "application/vnd.jupyter.widget-view+json": {
                            "version_major": 2,
                            "version_minor": 0,
                            "model_id": "ba21102fab4047ca9a8f21340759cf22"
                        }
                    },
                    "metadata": {}
                },
                {
                    "output_type": "stream",
                    "name": "stdout",
                    "text": [
                        "Christianity_in_the_Middle_Ages\n"
                    ]
                },
                {
                    "output_type": "display_data",
                    "data": {
                        "text/plain": [
                            "HBox(children=(HTML(value='Processing paragraphs'), FloatProgress(value=1.0, bar_style='info', layout=Layout(w…"
                        ],
                        "application/vnd.jupyter.widget-view+json": {
                            "version_major": 2,
                            "version_minor": 0,
                            "model_id": "405c5e06ccb94fc281e4fa0175bbabbb"
                        }
                    },
                    "metadata": {}
                },
                {
                    "output_type": "stream",
                    "name": "stdout",
                    "text": [
                        "Roman_people\n"
                    ]
                },
                {
                    "output_type": "display_data",
                    "data": {
                        "text/plain": [
                            "HBox(children=(HTML(value='Processing paragraphs'), FloatProgress(value=1.0, bar_style='info', layout=Layout(w…"
                        ],
                        "application/vnd.jupyter.widget-view+json": {
                            "version_major": 2,
                            "version_minor": 0,
                            "model_id": "e7f07abe3de74e05a9d303db5bf47936"
                        }
                    },
                    "metadata": {}
                },
                {
                    "output_type": "stream",
                    "name": "stdout",
                    "text": [
                        "Barbarian_kingdoms\n"
                    ]
                },
                {
                    "output_type": "display_data",
                    "data": {
                        "text/plain": [
                            "HBox(children=(HTML(value='Processing paragraphs'), FloatProgress(value=1.0, bar_style='info', layout=Layout(w…"
                        ],
                        "application/vnd.jupyter.widget-view+json": {
                            "version_major": 2,
                            "version_minor": 0,
                            "model_id": "b640317356cf491088be809b42203f69"
                        }
                    },
                    "metadata": {}
                },
                {
                    "output_type": "stream",
                    "name": "stdout",
                    "text": [
                        "token_num 1345927\n",
                        "total_pages 315\n"
                    ]
                },
                {
                    "output_type": "display_data",
                    "data": {
                        "text/plain": [
                            "HBox(children=(HTML(value='Processing titles'), FloatProgress(value=0.0, max=21.0), HTML(value='')))"
                        ],
                        "application/vnd.jupyter.widget-view+json": {
                            "version_major": 2,
                            "version_minor": 0,
                            "model_id": "1fae90de1bfd468b9a376885c17a5a28"
                        }
                    },
                    "metadata": {}
                },
                {
                    "output_type": "stream",
                    "name": "stdout",
                    "text": [
                        "Renaissance\n"
                    ]
                },
                {
                    "output_type": "display_data",
                    "data": {
                        "text/plain": [
                            "HBox(children=(HTML(value='Processing paragraphs'), FloatProgress(value=1.0, bar_style='info', layout=Layout(w…"
                        ],
                        "application/vnd.jupyter.widget-view+json": {
                            "version_major": 2,
                            "version_minor": 0,
                            "model_id": "a8e5b4eefeae4208998aac51ea79d318"
                        }
                    },
                    "metadata": {}
                },
                {
                    "output_type": "stream",
                    "name": "stdout",
                    "text": [
                        "Leonardo_da_Vinci\n"
                    ]
                },
                {
                    "output_type": "display_data",
                    "data": {
                        "text/plain": [
                            "HBox(children=(HTML(value='Processing paragraphs'), FloatProgress(value=1.0, bar_style='info', layout=Layout(w…"
                        ],
                        "application/vnd.jupyter.widget-view+json": {
                            "version_major": 2,
                            "version_minor": 0,
                            "model_id": "dd12537a8efc4fa9b40134b99bad7cf8"
                        }
                    },
                    "metadata": {}
                },
                {
                    "output_type": "stream",
                    "name": "stdout",
                    "text": [
                        "Coluccio_Salutati\n"
                    ]
                },
                {
                    "output_type": "display_data",
                    "data": {
                        "text/plain": [
                            "HBox(children=(HTML(value='Processing paragraphs'), FloatProgress(value=1.0, bar_style='info', layout=Layout(w…"
                        ],
                        "application/vnd.jupyter.widget-view+json": {
                            "version_major": 2,
                            "version_minor": 0,
                            "model_id": "6ddd231b101a4aea897b67e0030a02ef"
                        }
                    },
                    "metadata": {}
                },
                {
                    "output_type": "stream",
                    "name": "stdout",
                    "text": [
                        "Leonardo_Bruni\n"
                    ]
                },
                {
                    "output_type": "display_data",
                    "data": {
                        "text/plain": [
                            "HBox(children=(HTML(value='Processing paragraphs'), FloatProgress(value=1.0, bar_style='info', layout=Layout(w…"
                        ],
                        "application/vnd.jupyter.widget-view+json": {
                            "version_major": 2,
                            "version_minor": 0,
                            "model_id": "17baa4820b7e467a8cac4755f8616c86"
                        }
                    },
                    "metadata": {}
                },
                {
                    "output_type": "stream",
                    "name": "stdout",
                    "text": [
                        "Dark_Ages_(historiography)\n"
                    ]
                },
                {
                    "output_type": "display_data",
                    "data": {
                        "text/plain": [
                            "HBox(children=(HTML(value='Processing paragraphs'), FloatProgress(value=1.0, bar_style='info', layout=Layout(w…"
                        ],
                        "application/vnd.jupyter.widget-view+json": {
                            "version_major": 2,
                            "version_minor": 0,
                            "model_id": "1d1ce16ae2f047b78490ecc84ccce9ce"
                        }
                    },
                    "metadata": {}
                },
                {
                    "output_type": "stream",
                    "name": "stdout",
                    "text": [
                        "Renaissance_humanism\n"
                    ]
                },
                {
                    "output_type": "display_data",
                    "data": {
                        "text/plain": [
                            "HBox(children=(HTML(value='Processing paragraphs'), FloatProgress(value=1.0, bar_style='info', layout=Layout(w…"
                        ],
                        "application/vnd.jupyter.widget-view+json": {
                            "version_major": 2,
                            "version_minor": 0,
                            "model_id": "ef83276dc40445c09a04d4cca4b25e70"
                        }
                    },
                    "metadata": {}
                },
                {
                    "output_type": "stream",
                    "name": "stdout",
                    "text": [
                        "Renaissance_art\n"
                    ]
                },
                {
                    "output_type": "display_data",
                    "data": {
                        "text/plain": [
                            "HBox(children=(HTML(value='Processing paragraphs'), FloatProgress(value=1.0, bar_style='info', layout=Layout(w…"
                        ],
                        "application/vnd.jupyter.widget-view+json": {
                            "version_major": 2,
                            "version_minor": 0,
                            "model_id": "dd2e78c36dd549d3884753cea5e5acf9"
                        }
                    },
                    "metadata": {}
                },
                {
                    "output_type": "stream",
                    "name": "stdout",
                    "text": [
                        "Italian_Renaissance\n"
                    ]
                },
                {
                    "output_type": "display_data",
                    "data": {
                        "text/plain": [
                            "HBox(children=(HTML(value='Processing paragraphs'), FloatProgress(value=1.0, bar_style='info', layout=Layout(w…"
                        ],
                        "application/vnd.jupyter.widget-view+json": {
                            "version_major": 2,
                            "version_minor": 0,
                            "model_id": "8ac9b1194c464bac91efaca8e5c11faa"
                        }
                    },
                    "metadata": {}
                },
                {
                    "output_type": "stream",
                    "name": "stdout",
                    "text": [
                        "Renaissance_philosophy\n"
                    ]
                },
                {
                    "output_type": "display_data",
                    "data": {
                        "text/plain": [
                            "HBox(children=(HTML(value='Processing paragraphs'), FloatProgress(value=1.0, bar_style='info', layout=Layout(w…"
                        ],
                        "application/vnd.jupyter.widget-view+json": {
                            "version_major": 2,
                            "version_minor": 0,
                            "model_id": "61f5d777d06d4bc6a89c13d3a4400e32"
                        }
                    },
                    "metadata": {}
                },
                {
                    "output_type": "stream",
                    "name": "stdout",
                    "text": [
                        "Northern_Renaissance\n"
                    ]
                },
                {
                    "output_type": "display_data",
                    "data": {
                        "text/plain": [
                            "HBox(children=(HTML(value='Processing paragraphs'), FloatProgress(value=1.0, bar_style='info', layout=Layout(w…"
                        ],
                        "application/vnd.jupyter.widget-view+json": {
                            "version_major": 2,
                            "version_minor": 0,
                            "model_id": "d227b28c6c064401b9a305256cd63b79"
                        }
                    },
                    "metadata": {}
                },
                {
                    "output_type": "stream",
                    "name": "stdout",
                    "text": [
                        "Poggio_Bracciolini\n"
                    ]
                },
                {
                    "output_type": "display_data",
                    "data": {
                        "text/plain": [
                            "HBox(children=(HTML(value='Processing paragraphs'), FloatProgress(value=1.0, bar_style='info', layout=Layout(w…"
                        ],
                        "application/vnd.jupyter.widget-view+json": {
                            "version_major": 2,
                            "version_minor": 0,
                            "model_id": "fa76dfc8f99248ac8bb08731fe11f524"
                        }
                    },
                    "metadata": {}
                },
                {
                    "output_type": "stream",
                    "name": "stdout",
                    "text": [
                        "French_Renaissance\n"
                    ]
                },
                {
                    "output_type": "display_data",
                    "data": {
                        "text/plain": [
                            "HBox(children=(HTML(value='Processing paragraphs'), FloatProgress(value=1.0, bar_style='info', layout=Layout(w…"
                        ],
                        "application/vnd.jupyter.widget-view+json": {
                            "version_major": 2,
                            "version_minor": 0,
                            "model_id": "f806856c5b7a44c396e7010059cfd787"
                        }
                    },
                    "metadata": {}
                },
                {
                    "output_type": "stream",
                    "name": "stdout",
                    "text": [
                        "Late_Middle_Ages\n"
                    ]
                },
                {
                    "output_type": "display_data",
                    "data": {
                        "text/plain": [
                            "HBox(children=(HTML(value='Processing paragraphs'), FloatProgress(value=1.0, bar_style='info', layout=Layout(w…"
                        ],
                        "application/vnd.jupyter.widget-view+json": {
                            "version_major": 2,
                            "version_minor": 0,
                            "model_id": "f982e11ea6134d64a9cb9527eda899da"
                        }
                    },
                    "metadata": {}
                },
                {
                    "output_type": "stream",
                    "name": "stdout",
                    "text": [
                        "Italian_classical_music\n"
                    ]
                },
                {
                    "output_type": "display_data",
                    "data": {
                        "text/plain": [
                            "HBox(children=(HTML(value='Processing paragraphs'), FloatProgress(value=1.0, bar_style='info', layout=Layout(w…"
                        ],
                        "application/vnd.jupyter.widget-view+json": {
                            "version_major": 2,
                            "version_minor": 0,
                            "model_id": "29b3b26dbcb74a5e973b494ae0b7985e"
                        }
                    },
                    "metadata": {}
                },
                {
                    "output_type": "stream",
                    "name": "stdout",
                    "text": [
                        "John_Argyropoulos\n"
                    ]
                },
                {
                    "output_type": "display_data",
                    "data": {
                        "text/plain": [
                            "HBox(children=(HTML(value='Processing paragraphs'), FloatProgress(value=1.0, bar_style='info', layout=Layout(w…"
                        ],
                        "application/vnd.jupyter.widget-view+json": {
                            "version_major": 2,
                            "version_minor": 0,
                            "model_id": "4cecef65d0b04515b22a988870b47b38"
                        }
                    },
                    "metadata": {}
                },
                {
                    "output_type": "stream",
                    "name": "stdout",
                    "text": [
                        "Renaissance_architecture_in_Central_and_Eastern_Europe\n"
                    ]
                },
                {
                    "output_type": "display_data",
                    "data": {
                        "text/plain": [
                            "HBox(children=(HTML(value='Processing paragraphs'), FloatProgress(value=1.0, bar_style='info', layout=Layout(w…"
                        ],
                        "application/vnd.jupyter.widget-view+json": {
                            "version_major": 2,
                            "version_minor": 0,
                            "model_id": "398e07d88af04c47b3626f4c7e0ee748"
                        }
                    },
                    "metadata": {}
                },
                {
                    "output_type": "stream",
                    "name": "stdout",
                    "text": [
                        "Outline_of_the_Renaissance\n"
                    ]
                },
                {
                    "output_type": "display_data",
                    "data": {
                        "text/plain": [
                            "HBox(children=(HTML(value='Processing paragraphs'), FloatProgress(value=1.0, bar_style='info', layout=Layout(w…"
                        ],
                        "application/vnd.jupyter.widget-view+json": {
                            "version_major": 2,
                            "version_minor": 0,
                            "model_id": "0d9511966b6f4f3f9cb81e886c8a5a10"
                        }
                    },
                    "metadata": {}
                },
                {
                    "output_type": "stream",
                    "name": "stdout",
                    "text": [
                        "Jacopo_d'Angelo\n"
                    ]
                },
                {
                    "output_type": "display_data",
                    "data": {
                        "text/plain": [
                            "HBox(children=(HTML(value='Processing paragraphs'), FloatProgress(value=1.0, bar_style='info', layout=Layout(w…"
                        ],
                        "application/vnd.jupyter.widget-view+json": {
                            "version_major": 2,
                            "version_minor": 0,
                            "model_id": "e1680ace085246e59259a7c594de62c5"
                        }
                    },
                    "metadata": {}
                },
                {
                    "output_type": "stream",
                    "name": "stdout",
                    "text": [
                        "Greek_scholars_in_the_Renaissance\n"
                    ]
                },
                {
                    "output_type": "display_data",
                    "data": {
                        "text/plain": [
                            "HBox(children=(HTML(value='Processing paragraphs'), FloatProgress(value=1.0, bar_style='info', layout=Layout(w…"
                        ],
                        "application/vnd.jupyter.widget-view+json": {
                            "version_major": 2,
                            "version_minor": 0,
                            "model_id": "1955700eafe2424b933b3c880fb3c460"
                        }
                    },
                    "metadata": {}
                },
                {
                    "output_type": "stream",
                    "name": "stdout",
                    "text": [
                        "Italophilia\n"
                    ]
                },
                {
                    "output_type": "display_data",
                    "data": {
                        "text/plain": [
                            "HBox(children=(HTML(value='Processing paragraphs'), FloatProgress(value=1.0, bar_style='info', layout=Layout(w…"
                        ],
                        "application/vnd.jupyter.widget-view+json": {
                            "version_major": 2,
                            "version_minor": 0,
                            "model_id": "136cc38ea11c40ad89d4993d40b1904e"
                        }
                    },
                    "metadata": {}
                },
                {
                    "output_type": "stream",
                    "name": "stdout",
                    "text": [
                        "Index_of_Renaissance_articles\n"
                    ]
                },
                {
                    "output_type": "display_data",
                    "data": {
                        "text/plain": [
                            "HBox(children=(HTML(value='Processing paragraphs'), FloatProgress(value=1.0, bar_style='info', layout=Layout(w…"
                        ],
                        "application/vnd.jupyter.widget-view+json": {
                            "version_major": 2,
                            "version_minor": 0,
                            "model_id": "702346cc0ae345e7936ab4f144110281"
                        }
                    },
                    "metadata": {}
                },
                {
                    "output_type": "stream",
                    "name": "stdout",
                    "text": [
                        "token_num 1422288\n",
                        "total_pages 336\n"
                    ]
                },
                {
                    "output_type": "display_data",
                    "data": {
                        "text/plain": [
                            "HBox(children=(HTML(value='Processing titles'), FloatProgress(value=0.0, max=21.0), HTML(value='')))"
                        ],
                        "application/vnd.jupyter.widget-view+json": {
                            "version_major": 2,
                            "version_minor": 0,
                            "model_id": "8892c1d7db1d48c48b0a07f0b2940e80"
                        }
                    },
                    "metadata": {}
                },
                {
                    "output_type": "stream",
                    "name": "stdout",
                    "text": [
                        "Supernova\n"
                    ]
                },
                {
                    "output_type": "display_data",
                    "data": {
                        "text/plain": [
                            "HBox(children=(HTML(value='Processing paragraphs'), FloatProgress(value=1.0, bar_style='info', layout=Layout(w…"
                        ],
                        "application/vnd.jupyter.widget-view+json": {
                            "version_major": 2,
                            "version_minor": 0,
                            "model_id": "1c6dace2bcdb4ac7b5fde4d719b8b64e"
                        }
                    },
                    "metadata": {}
                },
                {
                    "output_type": "stream",
                    "name": "stdout",
                    "text": [
                        "SN_1987A\n"
                    ]
                },
                {
                    "output_type": "display_data",
                    "data": {
                        "text/plain": [
                            "HBox(children=(HTML(value='Processing paragraphs'), FloatProgress(value=1.0, bar_style='info', layout=Layout(w…"
                        ],
                        "application/vnd.jupyter.widget-view+json": {
                            "version_major": 2,
                            "version_minor": 0,
                            "model_id": "da9af4fbcb8d4832929b0dc3f71c7e76"
                        }
                    },
                    "metadata": {}
                },
                {
                    "output_type": "stream",
                    "name": "stdout",
                    "text": [
                        "Supergiant\n"
                    ]
                },
                {
                    "output_type": "display_data",
                    "data": {
                        "text/plain": [
                            "HBox(children=(HTML(value='Processing paragraphs'), FloatProgress(value=1.0, bar_style='info', layout=Layout(w…"
                        ],
                        "application/vnd.jupyter.widget-view+json": {
                            "version_major": 2,
                            "version_minor": 0,
                            "model_id": "9dabf76507b94faebb5e127c5bac6f49"
                        }
                    },
                    "metadata": {}
                },
                {
                    "output_type": "stream",
                    "name": "stdout",
                    "text": [
                        "Red_supergiant\n"
                    ]
                },
                {
                    "output_type": "display_data",
                    "data": {
                        "text/plain": [
                            "HBox(children=(HTML(value='Processing paragraphs'), FloatProgress(value=1.0, bar_style='info', layout=Layout(w…"
                        ],
                        "application/vnd.jupyter.widget-view+json": {
                            "version_major": 2,
                            "version_minor": 0,
                            "model_id": "513f6574b8564f82b594690e7ab10754"
                        }
                    },
                    "metadata": {}
                },
                {
                    "output_type": "stream",
                    "name": "stdout",
                    "text": [
                        "Superluminous_supernova\n"
                    ]
                },
                {
                    "output_type": "display_data",
                    "data": {
                        "text/plain": [
                            "HBox(children=(HTML(value='Processing paragraphs'), FloatProgress(value=1.0, bar_style='info', layout=Layout(w…"
                        ],
                        "application/vnd.jupyter.widget-view+json": {
                            "version_major": 2,
                            "version_minor": 0,
                            "model_id": "bbf4ea0032244271afcb49a5f3cb157a"
                        }
                    },
                    "metadata": {}
                },
                {
                    "output_type": "stream",
                    "name": "stdout",
                    "text": [
                        "Blue_supergiant\n"
                    ]
                },
                {
                    "output_type": "display_data",
                    "data": {
                        "text/plain": [
                            "HBox(children=(HTML(value='Processing paragraphs'), FloatProgress(value=1.0, bar_style='info', layout=Layout(w…"
                        ],
                        "application/vnd.jupyter.widget-view+json": {
                            "version_major": 2,
                            "version_minor": 0,
                            "model_id": "fd61c7c690d04f649787594d78b28692"
                        }
                    },
                    "metadata": {}
                },
                {
                    "output_type": "stream",
                    "name": "stdout",
                    "text": [
                        "Luminous_blue_variable\n"
                    ]
                },
                {
                    "output_type": "display_data",
                    "data": {
                        "text/plain": [
                            "HBox(children=(HTML(value='Processing paragraphs'), FloatProgress(value=1.0, bar_style='info', layout=Layout(w…"
                        ],
                        "application/vnd.jupyter.widget-view+json": {
                            "version_major": 2,
                            "version_minor": 0,
                            "model_id": "3c34314011fb481188074665c4de0c86"
                        }
                    },
                    "metadata": {}
                },
                {
                    "output_type": "stream",
                    "name": "stdout",
                    "text": [
                        "Type_Ia_supernova\n"
                    ]
                },
                {
                    "output_type": "display_data",
                    "data": {
                        "text/plain": [
                            "HBox(children=(HTML(value='Processing paragraphs'), FloatProgress(value=1.0, bar_style='info', layout=Layout(w…"
                        ],
                        "application/vnd.jupyter.widget-view+json": {
                            "version_major": 2,
                            "version_minor": 0,
                            "model_id": "3b78a56eec2a4f6fb748e9eb300933ad"
                        }
                    },
                    "metadata": {}
                },
                {
                    "output_type": "stream",
                    "name": "stdout",
                    "text": [
                        "Yellow_hypergiant\n"
                    ]
                },
                {
                    "output_type": "display_data",
                    "data": {
                        "text/plain": [
                            "HBox(children=(HTML(value='Processing paragraphs'), FloatProgress(value=1.0, bar_style='info', layout=Layout(w…"
                        ],
                        "application/vnd.jupyter.widget-view+json": {
                            "version_major": 2,
                            "version_minor": 0,
                            "model_id": "d5d99a9a839144cb8df35132eaadbf55"
                        }
                    },
                    "metadata": {}
                },
                {
                    "output_type": "stream",
                    "name": "stdout",
                    "text": [
                        "Type_Ib_and_Ic_supernovae\n"
                    ]
                },
                {
                    "output_type": "display_data",
                    "data": {
                        "text/plain": [
                            "HBox(children=(HTML(value='Processing paragraphs'), FloatProgress(value=1.0, bar_style='info', layout=Layout(w…"
                        ],
                        "application/vnd.jupyter.widget-view+json": {
                            "version_major": 2,
                            "version_minor": 0,
                            "model_id": "c06cc92dcd7c489c8da94b0934f638b3"
                        }
                    },
                    "metadata": {}
                },
                {
                    "output_type": "stream",
                    "name": "stdout",
                    "text": [
                        "Type_II_supernova\n"
                    ]
                },
                {
                    "output_type": "display_data",
                    "data": {
                        "text/plain": [
                            "HBox(children=(HTML(value='Processing paragraphs'), FloatProgress(value=1.0, bar_style='info', layout=Layout(w…"
                        ],
                        "application/vnd.jupyter.widget-view+json": {
                            "version_major": 2,
                            "version_minor": 0,
                            "model_id": "44500d44d5c94e1698d63f38d7bf9ad9"
                        }
                    },
                    "metadata": {}
                },
                {
                    "output_type": "stream",
                    "name": "stdout",
                    "text": [
                        "Pair-instability_supernova\n"
                    ]
                },
                {
                    "output_type": "display_data",
                    "data": {
                        "text/plain": [
                            "HBox(children=(HTML(value='Processing paragraphs'), FloatProgress(value=1.0, bar_style='info', layout=Layout(w…"
                        ],
                        "application/vnd.jupyter.widget-view+json": {
                            "version_major": 2,
                            "version_minor": 0,
                            "model_id": "acaf200aa34c4692b01bacf94f72a386"
                        }
                    },
                    "metadata": {}
                },
                {
                    "output_type": "stream",
                    "name": "stdout",
                    "text": [
                        "Gamma-ray_burst_progenitors\n"
                    ]
                },
                {
                    "output_type": "display_data",
                    "data": {
                        "text/plain": [
                            "HBox(children=(HTML(value='Processing paragraphs'), FloatProgress(value=1.0, bar_style='info', layout=Layout(w…"
                        ],
                        "application/vnd.jupyter.widget-view+json": {
                            "version_major": 2,
                            "version_minor": 0,
                            "model_id": "eb3444475e384d02a95c05be76811140"
                        }
                    },
                    "metadata": {}
                },
                {
                    "output_type": "stream",
                    "name": "stdout",
                    "text": [
                        "SN_1993J\n"
                    ]
                },
                {
                    "output_type": "display_data",
                    "data": {
                        "text/plain": [
                            "HBox(children=(HTML(value='Processing paragraphs'), FloatProgress(value=1.0, bar_style='info', layout=Layout(w…"
                        ],
                        "application/vnd.jupyter.widget-view+json": {
                            "version_major": 2,
                            "version_minor": 0,
                            "model_id": "a24c8807b2d24f468cb261597d0f43c4"
                        }
                    },
                    "metadata": {}
                },
                {
                    "output_type": "stream",
                    "name": "stdout",
                    "text": [
                        "SN_2004gt\n"
                    ]
                },
                {
                    "output_type": "display_data",
                    "data": {
                        "text/plain": [
                            "HBox(children=(HTML(value='Processing paragraphs'), FloatProgress(value=1.0, bar_style='info', layout=Layout(w…"
                        ],
                        "application/vnd.jupyter.widget-view+json": {
                            "version_major": 2,
                            "version_minor": 0,
                            "model_id": "86a4be279f70492f988c79655a0d54c2"
                        }
                    },
                    "metadata": {}
                },
                {
                    "output_type": "stream",
                    "name": "stdout",
                    "text": [
                        "NGC_7424\n"
                    ]
                },
                {
                    "output_type": "display_data",
                    "data": {
                        "text/plain": [
                            "HBox(children=(HTML(value='Processing paragraphs'), FloatProgress(value=1.0, bar_style='info', layout=Layout(w…"
                        ],
                        "application/vnd.jupyter.widget-view+json": {
                            "version_major": 2,
                            "version_minor": 0,
                            "model_id": "45ebfc7c53d54e1985a6cdf07f9ae46c"
                        }
                    },
                    "metadata": {}
                },
                {
                    "output_type": "stream",
                    "name": "stdout",
                    "text": [
                        "SN_2005gl\n"
                    ]
                },
                {
                    "output_type": "display_data",
                    "data": {
                        "text/plain": [
                            "HBox(children=(HTML(value='Processing paragraphs'), FloatProgress(value=1.0, bar_style='info', layout=Layout(w…"
                        ],
                        "application/vnd.jupyter.widget-view+json": {
                            "version_major": 2,
                            "version_minor": 0,
                            "model_id": "ec275d0f531b4a9da10be946836abebf"
                        }
                    },
                    "metadata": {}
                },
                {
                    "output_type": "stream",
                    "name": "stdout",
                    "text": [
                        "List_of_supernova_candidates\n"
                    ]
                },
                {
                    "output_type": "display_data",
                    "data": {
                        "text/plain": [
                            "HBox(children=(HTML(value='Processing paragraphs'), FloatProgress(value=1.0, bar_style='info', layout=Layout(w…"
                        ],
                        "application/vnd.jupyter.widget-view+json": {
                            "version_major": 2,
                            "version_minor": 0,
                            "model_id": "a7a0d749270b42efaf9595cbb20b154a"
                        }
                    },
                    "metadata": {}
                },
                {
                    "output_type": "stream",
                    "name": "stdout",
                    "text": [
                        "NGC_5806\n"
                    ]
                },
                {
                    "output_type": "display_data",
                    "data": {
                        "text/plain": [
                            "HBox(children=(HTML(value='Processing paragraphs'), FloatProgress(value=1.0, bar_style='info', layout=Layout(w…"
                        ],
                        "application/vnd.jupyter.widget-view+json": {
                            "version_major": 2,
                            "version_minor": 0,
                            "model_id": "35df8689b7f4466f920976a022d89edb"
                        }
                    },
                    "metadata": {}
                },
                {
                    "output_type": "stream",
                    "name": "stdout",
                    "text": [
                        "Calcium-rich_supernovae\n"
                    ]
                },
                {
                    "output_type": "display_data",
                    "data": {
                        "text/plain": [
                            "HBox(children=(HTML(value='Processing paragraphs'), FloatProgress(value=1.0, bar_style='info', layout=Layout(w…"
                        ],
                        "application/vnd.jupyter.widget-view+json": {
                            "version_major": 2,
                            "version_minor": 0,
                            "model_id": "a5d89cf04c7b4cdab0aa7104c2313615"
                        }
                    },
                    "metadata": {}
                },
                {
                    "output_type": "stream",
                    "name": "stdout",
                    "text": [
                        "Hypernova\n"
                    ]
                },
                {
                    "output_type": "display_data",
                    "data": {
                        "text/plain": [
                            "HBox(children=(HTML(value='Processing paragraphs'), FloatProgress(value=1.0, bar_style='info', layout=Layout(w…"
                        ],
                        "application/vnd.jupyter.widget-view+json": {
                            "version_major": 2,
                            "version_minor": 0,
                            "model_id": "467c4d3410bb400287e909a172ed01e8"
                        }
                    },
                    "metadata": {}
                },
                {
                    "output_type": "stream",
                    "name": "stdout",
                    "text": [
                        "token_num 1464402\n",
                        "total_pages 357\n"
                    ]
                },
                {
                    "output_type": "display_data",
                    "data": {
                        "text/plain": [
                            "HBox(children=(HTML(value='Processing titles'), FloatProgress(value=0.0, max=21.0), HTML(value='')))"
                        ],
                        "application/vnd.jupyter.widget-view+json": {
                            "version_major": 2,
                            "version_minor": 0,
                            "model_id": "a18ee4bffebf4833ab46e615c123134d"
                        }
                    },
                    "metadata": {}
                },
                {
                    "output_type": "stream",
                    "name": "stdout",
                    "text": [
                        "Louis_XIV\n"
                    ]
                },
                {
                    "output_type": "display_data",
                    "data": {
                        "text/plain": [
                            "HBox(children=(HTML(value='Processing paragraphs'), FloatProgress(value=1.0, bar_style='info', layout=Layout(w…"
                        ],
                        "application/vnd.jupyter.widget-view+json": {
                            "version_major": 2,
                            "version_minor": 0,
                            "model_id": "bda45a71c395457db8c9eba3df9677b1"
                        }
                    },
                    "metadata": {}
                },
                {
                    "output_type": "stream",
                    "name": "stdout",
                    "text": [
                        "War_of_the_Spanish_Succession\n"
                    ]
                },
                {
                    "output_type": "display_data",
                    "data": {
                        "text/plain": [
                            "HBox(children=(HTML(value='Processing paragraphs'), FloatProgress(value=1.0, bar_style='info', layout=Layout(w…"
                        ],
                        "application/vnd.jupyter.widget-view+json": {
                            "version_major": 2,
                            "version_minor": 0,
                            "model_id": "45e147a4204e4d8bb97ee107f965a37d"
                        }
                    },
                    "metadata": {}
                },
                {
                    "output_type": "stream",
                    "name": "stdout",
                    "text": [
                        "House_of_Bourbon\n"
                    ]
                },
                {
                    "output_type": "display_data",
                    "data": {
                        "text/plain": [
                            "HBox(children=(HTML(value='Processing paragraphs'), FloatProgress(value=1.0, bar_style='info', layout=Layout(w…"
                        ],
                        "application/vnd.jupyter.widget-view+json": {
                            "version_major": 2,
                            "version_minor": 0,
                            "model_id": "d60143838b6f4e28827c6c3ecbf777e9"
                        }
                    },
                    "metadata": {}
                },
                {
                    "output_type": "stream",
                    "name": "stdout",
                    "text": [
                        "Palace_of_Versailles\n"
                    ]
                },
                {
                    "output_type": "display_data",
                    "data": {
                        "text/plain": [
                            "HBox(children=(HTML(value='Processing paragraphs'), FloatProgress(value=1.0, bar_style='info', layout=Layout(w…"
                        ],
                        "application/vnd.jupyter.widget-view+json": {
                            "version_major": 2,
                            "version_minor": 0,
                            "model_id": "ddce7b1571144712a91358040a9ea458"
                        }
                    },
                    "metadata": {}
                },
                {
                    "output_type": "stream",
                    "name": "stdout",
                    "text": [
                        "Louis_XV\n"
                    ]
                },
                {
                    "output_type": "display_data",
                    "data": {
                        "text/plain": [
                            "HBox(children=(HTML(value='Processing paragraphs'), FloatProgress(value=1.0, bar_style='info', layout=Layout(w…"
                        ],
                        "application/vnd.jupyter.widget-view+json": {
                            "version_major": 2,
                            "version_minor": 0,
                            "model_id": "5ba93c67ac394c6ab4a86676dad54f89"
                        }
                    },
                    "metadata": {}
                },
                {
                    "output_type": "stream",
                    "name": "stdout",
                    "text": [
                        "Philip_V_of_Spain\n"
                    ]
                },
                {
                    "output_type": "display_data",
                    "data": {
                        "text/plain": [
                            "HBox(children=(HTML(value='Processing paragraphs'), FloatProgress(value=1.0, bar_style='info', layout=Layout(w…"
                        ],
                        "application/vnd.jupyter.widget-view+json": {
                            "version_major": 2,
                            "version_minor": 0,
                            "model_id": "3c1da019396241829e73a915a8a10a44"
                        }
                    },
                    "metadata": {}
                },
                {
                    "output_type": "stream",
                    "name": "stdout",
                    "text": [
                        "Victor_Amadeus_II_of_Sardinia\n"
                    ]
                },
                {
                    "output_type": "display_data",
                    "data": {
                        "text/plain": [
                            "HBox(children=(HTML(value='Processing paragraphs'), FloatProgress(value=1.0, bar_style='info', layout=Layout(w…"
                        ],
                        "application/vnd.jupyter.widget-view+json": {
                            "version_major": 2,
                            "version_minor": 0,
                            "model_id": "792fe18805c247ea878878d737c83b96"
                        }
                    },
                    "metadata": {}
                },
                {
                    "output_type": "stream",
                    "name": "stdout",
                    "text": [
                        "Louis_XIII\n"
                    ]
                },
                {
                    "output_type": "display_data",
                    "data": {
                        "text/plain": [
                            "HBox(children=(HTML(value='Processing paragraphs'), FloatProgress(value=1.0, bar_style='info', layout=Layout(w…"
                        ],
                        "application/vnd.jupyter.widget-view+json": {
                            "version_major": 2,
                            "version_minor": 0,
                            "model_id": "899226d4e3e447ff9b0b39a17217a300"
                        }
                    },
                    "metadata": {}
                },
                {
                    "output_type": "stream",
                    "name": "stdout",
                    "text": [
                        "Philippe_II,_Duke_of_Orléans\n"
                    ]
                },
                {
                    "output_type": "display_data",
                    "data": {
                        "text/plain": [
                            "HBox(children=(HTML(value='Processing paragraphs'), FloatProgress(value=1.0, bar_style='info', layout=Layout(w…"
                        ],
                        "application/vnd.jupyter.widget-view+json": {
                            "version_major": 2,
                            "version_minor": 0,
                            "model_id": "a3da3c9f699a4e17b2cf3eff2d9e01c7"
                        }
                    },
                    "metadata": {}
                },
                {
                    "output_type": "stream",
                    "name": "stdout",
                    "text": [
                        "Anne_of_Austria\n"
                    ]
                },
                {
                    "output_type": "display_data",
                    "data": {
                        "text/plain": [
                            "HBox(children=(HTML(value='Processing paragraphs'), FloatProgress(value=1.0, bar_style='info', layout=Layout(w…"
                        ],
                        "application/vnd.jupyter.widget-view+json": {
                            "version_major": 2,
                            "version_minor": 0,
                            "model_id": "9b4a09c5c1a2449d848faef98e902c56"
                        }
                    },
                    "metadata": {}
                },
                {
                    "output_type": "stream",
                    "name": "stdout",
                    "text": [
                        "Peace_of_Utrecht\n"
                    ]
                },
                {
                    "output_type": "display_data",
                    "data": {
                        "text/plain": [
                            "HBox(children=(HTML(value='Processing paragraphs'), FloatProgress(value=1.0, bar_style='info', layout=Layout(w…"
                        ],
                        "application/vnd.jupyter.widget-view+json": {
                            "version_major": 2,
                            "version_minor": 0,
                            "model_id": "93a9fdb1c5ea4837b33a42bd7acc1b20"
                        }
                    },
                    "metadata": {}
                },
                {
                    "output_type": "stream",
                    "name": "stdout",
                    "text": [
                        "Cardinal_Mazarin\n"
                    ]
                },
                {
                    "output_type": "display_data",
                    "data": {
                        "text/plain": [
                            "HBox(children=(HTML(value='Processing paragraphs'), FloatProgress(value=1.0, bar_style='info', layout=Layout(w…"
                        ],
                        "application/vnd.jupyter.widget-view+json": {
                            "version_major": 2,
                            "version_minor": 0,
                            "model_id": "72c7ab20e65d4078b101608e87c45a87"
                        }
                    },
                    "metadata": {}
                },
                {
                    "output_type": "stream",
                    "name": "stdout",
                    "text": [
                        "Louise_de_La_Vallière\n"
                    ]
                },
                {
                    "output_type": "display_data",
                    "data": {
                        "text/plain": [
                            "HBox(children=(HTML(value='Processing paragraphs'), FloatProgress(value=1.0, bar_style='info', layout=Layout(w…"
                        ],
                        "application/vnd.jupyter.widget-view+json": {
                            "version_major": 2,
                            "version_minor": 0,
                            "model_id": "163f5754612d460bafcfaa735a5a7812"
                        }
                    },
                    "metadata": {}
                },
                {
                    "output_type": "stream",
                    "name": "stdout",
                    "text": [
                        "Philippe_I,_Duke_of_Orléans\n"
                    ]
                },
                {
                    "output_type": "display_data",
                    "data": {
                        "text/plain": [
                            "HBox(children=(HTML(value='Processing paragraphs'), FloatProgress(value=1.0, bar_style='info', layout=Layout(w…"
                        ],
                        "application/vnd.jupyter.widget-view+json": {
                            "version_major": 2,
                            "version_minor": 0,
                            "model_id": "59e2473b767d4cfa91bb4f3a7b45c122"
                        }
                    },
                    "metadata": {}
                },
                {
                    "output_type": "stream",
                    "name": "stdout",
                    "text": [
                        "Maria_Theresa_of_Spain\n"
                    ]
                },
                {
                    "output_type": "display_data",
                    "data": {
                        "text/plain": [
                            "HBox(children=(HTML(value='Processing paragraphs'), FloatProgress(value=1.0, bar_style='info', layout=Layout(w…"
                        ],
                        "application/vnd.jupyter.widget-view+json": {
                            "version_major": 2,
                            "version_minor": 0,
                            "model_id": "9c0df0ada96345ecac50f99bbefea045"
                        }
                    },
                    "metadata": {}
                },
                {
                    "output_type": "stream",
                    "name": "stdout",
                    "text": [
                        "Early_modern_France\n"
                    ]
                },
                {
                    "output_type": "display_data",
                    "data": {
                        "text/plain": [
                            "HBox(children=(HTML(value='Processing paragraphs'), FloatProgress(value=1.0, bar_style='info', layout=Layout(w…"
                        ],
                        "application/vnd.jupyter.widget-view+json": {
                            "version_major": 2,
                            "version_minor": 0,
                            "model_id": "78c96666ebde4833965ae34b9a0b0a46"
                        }
                    },
                    "metadata": {}
                },
                {
                    "output_type": "stream",
                    "name": "stdout",
                    "text": [
                        "Louis,_Duke_of_Burgundy\n"
                    ]
                },
                {
                    "output_type": "display_data",
                    "data": {
                        "text/plain": [
                            "HBox(children=(HTML(value='Processing paragraphs'), FloatProgress(value=1.0, bar_style='info', layout=Layout(w…"
                        ],
                        "application/vnd.jupyter.widget-view+json": {
                            "version_major": 2,
                            "version_minor": 0,
                            "model_id": "ae85dd7332a64429aeb8685a7a123804"
                        }
                    },
                    "metadata": {}
                },
                {
                    "output_type": "stream",
                    "name": "stdout",
                    "text": [
                        "Kingdom_of_France\n"
                    ]
                },
                {
                    "output_type": "display_data",
                    "data": {
                        "text/plain": [
                            "HBox(children=(HTML(value='Processing paragraphs'), FloatProgress(value=1.0, bar_style='info', layout=Layout(w…"
                        ],
                        "application/vnd.jupyter.widget-view+json": {
                            "version_major": 2,
                            "version_minor": 0,
                            "model_id": "4075448437bc4339b898272481c2ffa2"
                        }
                    },
                    "metadata": {}
                },
                {
                    "output_type": "stream",
                    "name": "stdout",
                    "text": [
                        "Anne_Marie_d'Orléans\n"
                    ]
                },
                {
                    "output_type": "display_data",
                    "data": {
                        "text/plain": [
                            "HBox(children=(HTML(value='Processing paragraphs'), FloatProgress(value=1.0, bar_style='info', layout=Layout(w…"
                        ],
                        "application/vnd.jupyter.widget-view+json": {
                            "version_major": 2,
                            "version_minor": 0,
                            "model_id": "e070d76fd9564355abbf1b143e634598"
                        }
                    },
                    "metadata": {}
                },
                {
                    "output_type": "stream",
                    "name": "stdout",
                    "text": [
                        "Descendants_of_Louis_XIV\n"
                    ]
                },
                {
                    "output_type": "display_data",
                    "data": {
                        "text/plain": [
                            "HBox(children=(HTML(value='Processing paragraphs'), FloatProgress(value=1.0, bar_style='info', layout=Layout(w…"
                        ],
                        "application/vnd.jupyter.widget-view+json": {
                            "version_major": 2,
                            "version_minor": 0,
                            "model_id": "ed2ffbc9def14a5a9618875749039aca"
                        }
                    },
                    "metadata": {}
                },
                {
                    "output_type": "stream",
                    "name": "stdout",
                    "text": [
                        "Bourbon_claim_to_the_Spanish_throne\n"
                    ]
                },
                {
                    "output_type": "display_data",
                    "data": {
                        "text/plain": [
                            "HBox(children=(HTML(value='Processing paragraphs'), FloatProgress(value=1.0, bar_style='info', layout=Layout(w…"
                        ],
                        "application/vnd.jupyter.widget-view+json": {
                            "version_major": 2,
                            "version_minor": 0,
                            "model_id": "2cb18ba018004be08d2bd195a522f57e"
                        }
                    },
                    "metadata": {}
                },
                {
                    "output_type": "stream",
                    "name": "stdout",
                    "text": [
                        "token_num 1581571\n",
                        "total_pages 378\n"
                    ]
                },
                {
                    "output_type": "display_data",
                    "data": {
                        "text/plain": [
                            "HBox(children=(HTML(value='Processing titles'), FloatProgress(value=0.0, max=21.0), HTML(value='')))"
                        ],
                        "application/vnd.jupyter.widget-view+json": {
                            "version_major": 2,
                            "version_minor": 0,
                            "model_id": "d2461bc8b5b64486a0e9bb0496a01d6f"
                        }
                    },
                    "metadata": {}
                },
                {
                    "output_type": "stream",
                    "name": "stdout",
                    "text": [
                        "Basketball\n"
                    ]
                },
                {
                    "output_type": "display_data",
                    "data": {
                        "text/plain": [
                            "HBox(children=(HTML(value='Processing paragraphs'), FloatProgress(value=1.0, bar_style='info', layout=Layout(w…"
                        ],
                        "application/vnd.jupyter.widget-view+json": {
                            "version_major": 2,
                            "version_minor": 0,
                            "model_id": "d97a44f651c0439db6c3ce25d88c7522"
                        }
                    },
                    "metadata": {}
                },
                {
                    "output_type": "stream",
                    "name": "stdout",
                    "text": [
                        "Goal_(sports)\n"
                    ]
                },
                {
                    "output_type": "display_data",
                    "data": {
                        "text/plain": [
                            "HBox(children=(HTML(value='Processing paragraphs'), FloatProgress(value=1.0, bar_style='info', layout=Layout(w…"
                        ],
                        "application/vnd.jupyter.widget-view+json": {
                            "version_major": 2,
                            "version_minor": 0,
                            "model_id": "c98cc9ee04f442bf86d53f1da875f876"
                        }
                    },
                    "metadata": {}
                },
                {
                    "output_type": "stream",
                    "name": "stdout",
                    "text": [
                        "Basketball_court\n"
                    ]
                },
                {
                    "output_type": "display_data",
                    "data": {
                        "text/plain": [
                            "HBox(children=(HTML(value='Processing paragraphs'), FloatProgress(value=1.0, bar_style='info', layout=Layout(w…"
                        ],
                        "application/vnd.jupyter.widget-view+json": {
                            "version_major": 2,
                            "version_minor": 0,
                            "model_id": "ed2a0506d346450d9e810bfd9a2c1603"
                        }
                    },
                    "metadata": {}
                },
                {
                    "output_type": "stream",
                    "name": "stdout",
                    "text": [
                        "College_basketball\n"
                    ]
                },
                {
                    "output_type": "display_data",
                    "data": {
                        "text/plain": [
                            "HBox(children=(HTML(value='Processing paragraphs'), FloatProgress(value=1.0, bar_style='info', layout=Layout(w…"
                        ],
                        "application/vnd.jupyter.widget-view+json": {
                            "version_major": 2,
                            "version_minor": 0,
                            "model_id": "99c5f753d91f47f3bacc40ab158725bf"
                        }
                    },
                    "metadata": {}
                },
                {
                    "output_type": "stream",
                    "name": "stdout",
                    "text": [
                        "Shot_clock\n"
                    ]
                },
                {
                    "output_type": "display_data",
                    "data": {
                        "text/plain": [
                            "HBox(children=(HTML(value='Processing paragraphs'), FloatProgress(value=1.0, bar_style='info', layout=Layout(w…"
                        ],
                        "application/vnd.jupyter.widget-view+json": {
                            "version_major": 2,
                            "version_minor": 0,
                            "model_id": "456964e972f647309e749693b5ee1f59"
                        }
                    },
                    "metadata": {}
                },
                {
                    "output_type": "stream",
                    "name": "stdout",
                    "text": [
                        "Personal_foul_(basketball)\n"
                    ]
                },
                {
                    "output_type": "display_data",
                    "data": {
                        "text/plain": [
                            "HBox(children=(HTML(value='Processing paragraphs'), FloatProgress(value=1.0, bar_style='info', layout=Layout(w…"
                        ],
                        "application/vnd.jupyter.widget-view+json": {
                            "version_major": 2,
                            "version_minor": 0,
                            "model_id": "b22e5f521b414d70b7d6739ec8a447fc"
                        }
                    },
                    "metadata": {}
                },
                {
                    "output_type": "stream",
                    "name": "stdout",
                    "text": [
                        "Rules_of_basketball\n"
                    ]
                },
                {
                    "output_type": "display_data",
                    "data": {
                        "text/plain": [
                            "HBox(children=(HTML(value='Processing paragraphs'), FloatProgress(value=1.0, bar_style='info', layout=Layout(w…"
                        ],
                        "application/vnd.jupyter.widget-view+json": {
                            "version_major": 2,
                            "version_minor": 0,
                            "model_id": "bdb1339f11c2404b84893cfebd48e086"
                        }
                    },
                    "metadata": {}
                },
                {
                    "output_type": "stream",
                    "name": "stdout",
                    "text": [
                        "Basketball_positions\n"
                    ]
                },
                {
                    "output_type": "display_data",
                    "data": {
                        "text/plain": [
                            "HBox(children=(HTML(value='Processing paragraphs'), FloatProgress(value=1.0, bar_style='info', layout=Layout(w…"
                        ],
                        "application/vnd.jupyter.widget-view+json": {
                            "version_major": 2,
                            "version_minor": 0,
                            "model_id": "67b8bdfe84bf4e508d6c3982eb9be857"
                        }
                    },
                    "metadata": {}
                },
                {
                    "output_type": "stream",
                    "name": "stdout",
                    "text": [
                        "Basketball_moves\n"
                    ]
                },
                {
                    "output_type": "display_data",
                    "data": {
                        "text/plain": [
                            "HBox(children=(HTML(value='Processing paragraphs'), FloatProgress(value=1.0, bar_style='info', layout=Layout(w…"
                        ],
                        "application/vnd.jupyter.widget-view+json": {
                            "version_major": 2,
                            "version_minor": 0,
                            "model_id": "57eb84e2726e4696be6f4e9dd84a5b72"
                        }
                    },
                    "metadata": {}
                },
                {
                    "output_type": "stream",
                    "name": "stdout",
                    "text": [
                        "Three-point_field_goal\n"
                    ]
                },
                {
                    "output_type": "display_data",
                    "data": {
                        "text/plain": [
                            "HBox(children=(HTML(value='Processing paragraphs'), FloatProgress(value=1.0, bar_style='info', layout=Layout(w…"
                        ],
                        "application/vnd.jupyter.widget-view+json": {
                            "version_major": 2,
                            "version_minor": 0,
                            "model_id": "12ecb0b568284236b8439622ddd03179"
                        }
                    },
                    "metadata": {}
                },
                {
                    "output_type": "stream",
                    "name": "stdout",
                    "text": [
                        "Traveling_(basketball)\n"
                    ]
                },
                {
                    "output_type": "display_data",
                    "data": {
                        "text/plain": [
                            "HBox(children=(HTML(value='Processing paragraphs'), FloatProgress(value=1.0, bar_style='info', layout=Layout(w…"
                        ],
                        "application/vnd.jupyter.widget-view+json": {
                            "version_major": 2,
                            "version_minor": 0,
                            "model_id": "fa888ceed5a34d96b0f13480a1cb8116"
                        }
                    },
                    "metadata": {}
                },
                {
                    "output_type": "stream",
                    "name": "stdout",
                    "text": [
                        "Glossary_of_basketball_terms\n"
                    ]
                },
                {
                    "output_type": "display_data",
                    "data": {
                        "text/plain": [
                            "HBox(children=(HTML(value='Processing paragraphs'), FloatProgress(value=1.0, bar_style='info', layout=Layout(w…"
                        ],
                        "application/vnd.jupyter.widget-view+json": {
                            "version_major": 2,
                            "version_minor": 0,
                            "model_id": "b999ad55c50d4175b72690a831d2f8be"
                        }
                    },
                    "metadata": {}
                },
                {
                    "output_type": "stream",
                    "name": "stdout",
                    "text": [
                        "Variations_of_basketball\n"
                    ]
                },
                {
                    "output_type": "display_data",
                    "data": {
                        "text/plain": [
                            "HBox(children=(HTML(value='Processing paragraphs'), FloatProgress(value=1.0, bar_style='info', layout=Layout(w…"
                        ],
                        "application/vnd.jupyter.widget-view+json": {
                            "version_major": 2,
                            "version_minor": 0,
                            "model_id": "44b93d5e1e1840ccbf80d7a4c0aa8251"
                        }
                    },
                    "metadata": {}
                },
                {
                    "output_type": "stream",
                    "name": "stdout",
                    "text": [
                        "Gus_Macker_3-on-3_Basketball_Tournament\n"
                    ]
                },
                {
                    "output_type": "display_data",
                    "data": {
                        "text/plain": [
                            "HBox(children=(HTML(value='Processing paragraphs'), FloatProgress(value=1.0, bar_style='info', layout=Layout(w…"
                        ],
                        "application/vnd.jupyter.widget-view+json": {
                            "version_major": 2,
                            "version_minor": 0,
                            "model_id": "6bcf6dcf735545d49ef2a6be2ae34fe4"
                        }
                    },
                    "metadata": {}
                },
                {
                    "output_type": "stream",
                    "name": "stdout",
                    "text": [
                        "Basketball_(ball)\n"
                    ]
                },
                {
                    "output_type": "display_data",
                    "data": {
                        "text/plain": [
                            "HBox(children=(HTML(value='Processing paragraphs'), FloatProgress(value=1.0, bar_style='info', layout=Layout(w…"
                        ],
                        "application/vnd.jupyter.widget-view+json": {
                            "version_major": 2,
                            "version_minor": 0,
                            "model_id": "5c9e06cbae9d47118a6cd3b3b826df60"
                        }
                    },
                    "metadata": {}
                },
                {
                    "output_type": "stream",
                    "name": "stdout",
                    "text": [
                        "Key_(basketball)\n"
                    ]
                },
                {
                    "output_type": "display_data",
                    "data": {
                        "text/plain": [
                            "HBox(children=(HTML(value='Processing paragraphs'), FloatProgress(value=1.0, bar_style='info', layout=Layout(w…"
                        ],
                        "application/vnd.jupyter.widget-view+json": {
                            "version_major": 2,
                            "version_minor": 0,
                            "model_id": "d675421dd28249c8ba2ac906ff7e55a1"
                        }
                    },
                    "metadata": {}
                },
                {
                    "output_type": "stream",
                    "name": "stdout",
                    "text": [
                        "History_of_basketball\n"
                    ]
                },
                {
                    "output_type": "display_data",
                    "data": {
                        "text/plain": [
                            "HBox(children=(HTML(value='Processing paragraphs'), FloatProgress(value=1.0, bar_style='info', layout=Layout(w…"
                        ],
                        "application/vnd.jupyter.widget-view+json": {
                            "version_major": 2,
                            "version_minor": 0,
                            "model_id": "4f027808ddce4c76a967cfc726d38542"
                        }
                    },
                    "metadata": {}
                },
                {
                    "output_type": "stream",
                    "name": "stdout",
                    "text": [
                        "Outline_of_basketball\n"
                    ]
                },
                {
                    "output_type": "display_data",
                    "data": {
                        "text/plain": [
                            "HBox(children=(HTML(value='Processing paragraphs'), FloatProgress(value=1.0, bar_style='info', layout=Layout(w…"
                        ],
                        "application/vnd.jupyter.widget-view+json": {
                            "version_major": 2,
                            "version_minor": 0,
                            "model_id": "8fa707cae4184014ba5df908ef4c7807"
                        }
                    },
                    "metadata": {}
                },
                {
                    "output_type": "stream",
                    "name": "stdout",
                    "text": [
                        "Index_of_basketball-related_articles\n"
                    ]
                },
                {
                    "output_type": "display_data",
                    "data": {
                        "text/plain": [
                            "HBox(children=(HTML(value='Processing paragraphs'), FloatProgress(value=1.0, bar_style='info', layout=Layout(w…"
                        ],
                        "application/vnd.jupyter.widget-view+json": {
                            "version_major": 2,
                            "version_minor": 0,
                            "model_id": "b0fb9d68d3134dc39643540399200c65"
                        }
                    },
                    "metadata": {}
                },
                {
                    "output_type": "stream",
                    "name": "stdout",
                    "text": [
                        "3x3_basketball\n"
                    ]
                },
                {
                    "output_type": "display_data",
                    "data": {
                        "text/plain": [
                            "HBox(children=(HTML(value='Processing paragraphs'), FloatProgress(value=1.0, bar_style='info', layout=Layout(w…"
                        ],
                        "application/vnd.jupyter.widget-view+json": {
                            "version_major": 2,
                            "version_minor": 0,
                            "model_id": "5227078288bc41099e7aa9f186c0acc7"
                        }
                    },
                    "metadata": {}
                },
                {
                    "output_type": "stream",
                    "name": "stdout",
                    "text": [
                        "Big3\n"
                    ]
                },
                {
                    "output_type": "display_data",
                    "data": {
                        "text/plain": [
                            "HBox(children=(HTML(value='Processing paragraphs'), FloatProgress(value=1.0, bar_style='info', layout=Layout(w…"
                        ],
                        "application/vnd.jupyter.widget-view+json": {
                            "version_major": 2,
                            "version_minor": 0,
                            "model_id": "666e50a658fb439b9193cfbe411343d1"
                        }
                    },
                    "metadata": {}
                },
                {
                    "output_type": "stream",
                    "name": "stdout",
                    "text": [
                        "token_num 1635487\n",
                        "total_pages 399\n"
                    ]
                },
                {
                    "output_type": "display_data",
                    "data": {
                        "text/plain": [
                            "HBox(children=(HTML(value='Processing titles'), FloatProgress(value=0.0, max=21.0), HTML(value='')))"
                        ],
                        "application/vnd.jupyter.widget-view+json": {
                            "version_major": 2,
                            "version_minor": 0,
                            "model_id": "4876e7be226c4c8786fb48bcfb4ba96f"
                        }
                    },
                    "metadata": {}
                },
                {
                    "output_type": "stream",
                    "name": "stdout",
                    "text": [
                        "Brain\n"
                    ]
                },
                {
                    "output_type": "display_data",
                    "data": {
                        "text/plain": [
                            "HBox(children=(HTML(value='Processing paragraphs'), FloatProgress(value=1.0, bar_style='info', layout=Layout(w…"
                        ],
                        "application/vnd.jupyter.widget-view+json": {
                            "version_major": 2,
                            "version_minor": 0,
                            "model_id": "ab5078aa322c4b27acb92578902fbdd5"
                        }
                    },
                    "metadata": {}
                },
                {
                    "output_type": "stream",
                    "name": "stdout",
                    "text": [
                        "Central_nervous_system\n"
                    ]
                },
                {
                    "output_type": "display_data",
                    "data": {
                        "text/plain": [
                            "HBox(children=(HTML(value='Processing paragraphs'), FloatProgress(value=1.0, bar_style='info', layout=Layout(w…"
                        ],
                        "application/vnd.jupyter.widget-view+json": {
                            "version_major": 2,
                            "version_minor": 0,
                            "model_id": "14a2c203f77341d488113bc148526d04"
                        }
                    },
                    "metadata": {}
                },
                {
                    "output_type": "stream",
                    "name": "stdout",
                    "text": [
                        "Neuron\n"
                    ]
                },
                {
                    "output_type": "display_data",
                    "data": {
                        "text/plain": [
                            "HBox(children=(HTML(value='Processing paragraphs'), FloatProgress(value=1.0, bar_style='info', layout=Layout(w…"
                        ],
                        "application/vnd.jupyter.widget-view+json": {
                            "version_major": 2,
                            "version_minor": 0,
                            "model_id": "b769fb66e12e4ceb88a2d120aa4ed092"
                        }
                    },
                    "metadata": {}
                },
                {
                    "output_type": "stream",
                    "name": "stdout",
                    "text": [
                        "Neurotransmitter\n"
                    ]
                },
                {
                    "output_type": "display_data",
                    "data": {
                        "text/plain": [
                            "HBox(children=(HTML(value='Processing paragraphs'), FloatProgress(value=1.0, bar_style='info', layout=Layout(w…"
                        ],
                        "application/vnd.jupyter.widget-view+json": {
                            "version_major": 2,
                            "version_minor": 0,
                            "model_id": "aab90f046743400da629191b639391a7"
                        }
                    },
                    "metadata": {}
                },
                {
                    "output_type": "stream",
                    "name": "stdout",
                    "text": [
                        "Nervous_system\n"
                    ]
                },
                {
                    "output_type": "display_data",
                    "data": {
                        "text/plain": [
                            "HBox(children=(HTML(value='Processing paragraphs'), FloatProgress(value=1.0, bar_style='info', layout=Layout(w…"
                        ],
                        "application/vnd.jupyter.widget-view+json": {
                            "version_major": 2,
                            "version_minor": 0,
                            "model_id": "523c3bd0de6a497c8eb978dea49a834b"
                        }
                    },
                    "metadata": {}
                },
                {
                    "output_type": "stream",
                    "name": "stdout",
                    "text": [
                        "Cerebral_cortex\n"
                    ]
                },
                {
                    "output_type": "display_data",
                    "data": {
                        "text/plain": [
                            "HBox(children=(HTML(value='Processing paragraphs'), FloatProgress(value=1.0, bar_style='info', layout=Layout(w…"
                        ],
                        "application/vnd.jupyter.widget-view+json": {
                            "version_major": 2,
                            "version_minor": 0,
                            "model_id": "5c63e6a9054e4551a7ffc76bee016ab3"
                        }
                    },
                    "metadata": {}
                },
                {
                    "output_type": "stream",
                    "name": "stdout",
                    "text": [
                        "Neuropil\n"
                    ]
                },
                {
                    "output_type": "display_data",
                    "data": {
                        "text/plain": [
                            "HBox(children=(HTML(value='Processing paragraphs'), FloatProgress(value=1.0, bar_style='info', layout=Layout(w…"
                        ],
                        "application/vnd.jupyter.widget-view+json": {
                            "version_major": 2,
                            "version_minor": 0,
                            "model_id": "276c6806be4e4104a664f91b17539d24"
                        }
                    },
                    "metadata": {}
                },
                {
                    "output_type": "stream",
                    "name": "stdout",
                    "text": [
                        "Basal_ganglia\n"
                    ]
                },
                {
                    "output_type": "display_data",
                    "data": {
                        "text/plain": [
                            "HBox(children=(HTML(value='Processing paragraphs'), FloatProgress(value=1.0, bar_style='info', layout=Layout(w…"
                        ],
                        "application/vnd.jupyter.widget-view+json": {
                            "version_major": 2,
                            "version_minor": 0,
                            "model_id": "9f5fa33b34384ed2b70b8433b83dc3dd"
                        }
                    },
                    "metadata": {}
                },
                {
                    "output_type": "stream",
                    "name": "stdout",
                    "text": [
                        "Development_of_the_nervous_system\n"
                    ]
                },
                {
                    "output_type": "display_data",
                    "data": {
                        "text/plain": [
                            "HBox(children=(HTML(value='Processing paragraphs'), FloatProgress(value=1.0, bar_style='info', layout=Layout(w…"
                        ],
                        "application/vnd.jupyter.widget-view+json": {
                            "version_major": 2,
                            "version_minor": 0,
                            "model_id": "a7a5975c407d45689cf755c0efdc224e"
                        }
                    },
                    "metadata": {}
                },
                {
                    "output_type": "stream",
                    "name": "stdout",
                    "text": [
                        "Neuroanatomy\n"
                    ]
                },
                {
                    "output_type": "display_data",
                    "data": {
                        "text/plain": [
                            "HBox(children=(HTML(value='Processing paragraphs'), FloatProgress(value=1.0, bar_style='info', layout=Layout(w…"
                        ],
                        "application/vnd.jupyter.widget-view+json": {
                            "version_major": 2,
                            "version_minor": 0,
                            "model_id": "dd184637057b4d15897d331de648c2d7"
                        }
                    },
                    "metadata": {}
                },
                {
                    "output_type": "stream",
                    "name": "stdout",
                    "text": [
                        "Olfactory_bulb\n"
                    ]
                },
                {
                    "output_type": "display_data",
                    "data": {
                        "text/plain": [
                            "HBox(children=(HTML(value='Processing paragraphs'), FloatProgress(value=1.0, bar_style='info', layout=Layout(w…"
                        ],
                        "application/vnd.jupyter.widget-view+json": {
                            "version_major": 2,
                            "version_minor": 0,
                            "model_id": "bc97d4d9b09442108a279140eaea2f84"
                        }
                    },
                    "metadata": {}
                },
                {
                    "output_type": "stream",
                    "name": "stdout",
                    "text": [
                        "Cerebrum\n"
                    ]
                },
                {
                    "output_type": "display_data",
                    "data": {
                        "text/plain": [
                            "HBox(children=(HTML(value='Processing paragraphs'), FloatProgress(value=1.0, bar_style='info', layout=Layout(w…"
                        ],
                        "application/vnd.jupyter.widget-view+json": {
                            "version_major": 2,
                            "version_minor": 0,
                            "model_id": "c7d727cd74ef47148846181647b8ad98"
                        }
                    },
                    "metadata": {}
                },
                {
                    "output_type": "stream",
                    "name": "stdout",
                    "text": [
                        "Neocortex\n"
                    ]
                },
                {
                    "output_type": "display_data",
                    "data": {
                        "text/plain": [
                            "HBox(children=(HTML(value='Processing paragraphs'), FloatProgress(value=1.0, bar_style='info', layout=Layout(w…"
                        ],
                        "application/vnd.jupyter.widget-view+json": {
                            "version_major": 2,
                            "version_minor": 0,
                            "model_id": "0465c3831ca14e2f963aca15f505fc01"
                        }
                    },
                    "metadata": {}
                },
                {
                    "output_type": "stream",
                    "name": "stdout",
                    "text": [
                        "Human_brain\n"
                    ]
                },
                {
                    "output_type": "display_data",
                    "data": {
                        "text/plain": [
                            "HBox(children=(HTML(value='Processing paragraphs'), FloatProgress(value=1.0, bar_style='info', layout=Layout(w…"
                        ],
                        "application/vnd.jupyter.widget-view+json": {
                            "version_major": 2,
                            "version_minor": 0,
                            "model_id": "45f352c8521648d7ab4ac5770b87a0e4"
                        }
                    },
                    "metadata": {}
                },
                {
                    "output_type": "stream",
                    "name": "stdout",
                    "text": [
                        "Neural_pathway\n"
                    ]
                },
                {
                    "output_type": "display_data",
                    "data": {
                        "text/plain": [
                            "HBox(children=(HTML(value='Processing paragraphs'), FloatProgress(value=1.0, bar_style='info', layout=Layout(w…"
                        ],
                        "application/vnd.jupyter.widget-view+json": {
                            "version_major": 2,
                            "version_minor": 0,
                            "model_id": "2ca3cd7365f842269b31fd18a4b62264"
                        }
                    },
                    "metadata": {}
                },
                {
                    "output_type": "stream",
                    "name": "stdout",
                    "text": [
                        "Nociceptor\n"
                    ]
                },
                {
                    "output_type": "display_data",
                    "data": {
                        "text/plain": [
                            "HBox(children=(HTML(value='Processing paragraphs'), FloatProgress(value=1.0, bar_style='info', layout=Layout(w…"
                        ],
                        "application/vnd.jupyter.widget-view+json": {
                            "version_major": 2,
                            "version_minor": 0,
                            "model_id": "e4b0d9926c7b4d82ab3d9505379fce80"
                        }
                    },
                    "metadata": {}
                },
                {
                    "output_type": "stream",
                    "name": "stdout",
                    "text": [
                        "Dopaminergic_pathways\n"
                    ]
                },
                {
                    "output_type": "display_data",
                    "data": {
                        "text/plain": [
                            "HBox(children=(HTML(value='Processing paragraphs'), FloatProgress(value=1.0, bar_style='info', layout=Layout(w…"
                        ],
                        "application/vnd.jupyter.widget-view+json": {
                            "version_major": 2,
                            "version_minor": 0,
                            "model_id": "cdd404fd42d849bb9254087707366c6a"
                        }
                    },
                    "metadata": {}
                },
                {
                    "output_type": "stream",
                    "name": "stdout",
                    "text": [
                        "Nigrostriatal_pathway\n"
                    ]
                },
                {
                    "output_type": "display_data",
                    "data": {
                        "text/plain": [
                            "HBox(children=(HTML(value='Processing paragraphs'), FloatProgress(value=1.0, bar_style='info', layout=Layout(w…"
                        ],
                        "application/vnd.jupyter.widget-view+json": {
                            "version_major": 2,
                            "version_minor": 0,
                            "model_id": "1de1cef15c2442ea85fbeecd940007b7"
                        }
                    },
                    "metadata": {}
                },
                {
                    "output_type": "stream",
                    "name": "stdout",
                    "text": [
                        "List_of_animals_by_number_of_neurons\n"
                    ]
                },
                {
                    "output_type": "display_data",
                    "data": {
                        "text/plain": [
                            "HBox(children=(HTML(value='Processing paragraphs'), FloatProgress(value=1.0, bar_style='info', layout=Layout(w…"
                        ],
                        "application/vnd.jupyter.widget-view+json": {
                            "version_major": 2,
                            "version_minor": 0,
                            "model_id": "0b8c3c636b6644f6966a1c48bd6f55ef"
                        }
                    },
                    "metadata": {}
                },
                {
                    "output_type": "stream",
                    "name": "stdout",
                    "text": [
                        "Development_of_the_nervous_system_in_humans\n"
                    ]
                },
                {
                    "output_type": "display_data",
                    "data": {
                        "text/plain": [
                            "HBox(children=(HTML(value='Processing paragraphs'), FloatProgress(value=1.0, bar_style='info', layout=Layout(w…"
                        ],
                        "application/vnd.jupyter.widget-view+json": {
                            "version_major": 2,
                            "version_minor": 0,
                            "model_id": "250f003be8bd487884bdcf4c83c38212"
                        }
                    },
                    "metadata": {}
                },
                {
                    "output_type": "stream",
                    "name": "stdout",
                    "text": [
                        "Evolution_of_the_brain\n"
                    ]
                },
                {
                    "output_type": "display_data",
                    "data": {
                        "text/plain": [
                            "HBox(children=(HTML(value='Processing paragraphs'), FloatProgress(value=1.0, bar_style='info', layout=Layout(w…"
                        ],
                        "application/vnd.jupyter.widget-view+json": {
                            "version_major": 2,
                            "version_minor": 0,
                            "model_id": "63bfff33b8474bbe9f063730e60c521c"
                        }
                    },
                    "metadata": {}
                },
                {
                    "output_type": "stream",
                    "name": "stdout",
                    "text": [
                        "token_num 1717026\n",
                        "total_pages 420\n"
                    ]
                },
                {
                    "output_type": "display_data",
                    "data": {
                        "text/plain": [
                            "HBox(children=(HTML(value='Processing titles'), FloatProgress(value=0.0, max=21.0), HTML(value='')))"
                        ],
                        "application/vnd.jupyter.widget-view+json": {
                            "version_major": 2,
                            "version_minor": 0,
                            "model_id": "44c093b7382a45bc856ed034d13a1a0a"
                        }
                    },
                    "metadata": {}
                },
                {
                    "output_type": "stream",
                    "name": "stdout",
                    "text": [
                        "Gulf_War\n"
                    ]
                },
                {
                    "output_type": "display_data",
                    "data": {
                        "text/plain": [
                            "HBox(children=(HTML(value='Processing paragraphs'), FloatProgress(value=1.0, bar_style='info', layout=Layout(w…"
                        ],
                        "application/vnd.jupyter.widget-view+json": {
                            "version_major": 2,
                            "version_minor": 0,
                            "model_id": "cf1a560304014c2bbe052b2b756117c7"
                        }
                    },
                    "metadata": {}
                },
                {
                    "output_type": "stream",
                    "name": "stdout",
                    "text": [
                        "Kuwait_Military_Forces\n"
                    ]
                },
                {
                    "output_type": "display_data",
                    "data": {
                        "text/plain": [
                            "HBox(children=(HTML(value='Processing paragraphs'), FloatProgress(value=1.0, bar_style='info', layout=Layout(w…"
                        ],
                        "application/vnd.jupyter.widget-view+json": {
                            "version_major": 2,
                            "version_minor": 0,
                            "model_id": "21301263575c467eb276f9356b8e5c05"
                        }
                    },
                    "metadata": {}
                },
                {
                    "output_type": "stream",
                    "name": "stdout",
                    "text": [
                        "Iraqi_no-fly_zones_conflict\n"
                    ]
                },
                {
                    "output_type": "display_data",
                    "data": {
                        "text/plain": [
                            "HBox(children=(HTML(value='Processing paragraphs'), FloatProgress(value=1.0, bar_style='info', layout=Layout(w…"
                        ],
                        "application/vnd.jupyter.widget-view+json": {
                            "version_major": 2,
                            "version_minor": 0,
                            "model_id": "3c2038c849af430da8c65c4560aafb14"
                        }
                    },
                    "metadata": {}
                },
                {
                    "output_type": "stream",
                    "name": "stdout",
                    "text": [
                        "Operation_Granby\n"
                    ]
                },
                {
                    "output_type": "display_data",
                    "data": {
                        "text/plain": [
                            "HBox(children=(HTML(value='Processing paragraphs'), FloatProgress(value=1.0, bar_style='info', layout=Layout(w…"
                        ],
                        "application/vnd.jupyter.widget-view+json": {
                            "version_major": 2,
                            "version_minor": 0,
                            "model_id": "88b091ed135f405c8661a1744bf91fce"
                        }
                    },
                    "metadata": {}
                },
                {
                    "output_type": "stream",
                    "name": "stdout",
                    "text": [
                        "United_States_Central_Command\n"
                    ]
                },
                {
                    "output_type": "display_data",
                    "data": {
                        "text/plain": [
                            "HBox(children=(HTML(value='Processing paragraphs'), FloatProgress(value=1.0, bar_style='info', layout=Layout(w…"
                        ],
                        "application/vnd.jupyter.widget-view+json": {
                            "version_major": 2,
                            "version_minor": 0,
                            "model_id": "7a3f52caaf34436fac9e3cf5f8cabe5c"
                        }
                    },
                    "metadata": {}
                },
                {
                    "output_type": "stream",
                    "name": "stdout",
                    "text": [
                        "1991_in_aviation\n"
                    ]
                },
                {
                    "output_type": "display_data",
                    "data": {
                        "text/plain": [
                            "HBox(children=(HTML(value='Processing paragraphs'), FloatProgress(value=1.0, bar_style='info', layout=Layout(w…"
                        ],
                        "application/vnd.jupyter.widget-view+json": {
                            "version_major": 2,
                            "version_minor": 0,
                            "model_id": "85e4d88a7bbe4987a236027518d22d89"
                        }
                    },
                    "metadata": {}
                },
                {
                    "output_type": "stream",
                    "name": "stdout",
                    "text": [
                        "Battle_of_Khafji\n"
                    ]
                },
                {
                    "output_type": "display_data",
                    "data": {
                        "text/plain": [
                            "HBox(children=(HTML(value='Processing paragraphs'), FloatProgress(value=1.0, bar_style='info', layout=Layout(w…"
                        ],
                        "application/vnd.jupyter.widget-view+json": {
                            "version_major": 2,
                            "version_minor": 0,
                            "model_id": "aee31b213e6741f880cf99cc93b6d818"
                        }
                    },
                    "metadata": {}
                },
                {
                    "output_type": "stream",
                    "name": "stdout",
                    "text": [
                        "Gulf_War_oil_spill\n"
                    ]
                },
                {
                    "output_type": "display_data",
                    "data": {
                        "text/plain": [
                            "HBox(children=(HTML(value='Processing paragraphs'), FloatProgress(value=1.0, bar_style='info', layout=Layout(w…"
                        ],
                        "application/vnd.jupyter.widget-view+json": {
                            "version_major": 2,
                            "version_minor": 0,
                            "model_id": "d91e757009d14af0974066f15e1a655a"
                        }
                    },
                    "metadata": {}
                },
                {
                    "output_type": "stream",
                    "name": "stdout",
                    "text": [
                        "Invasion_of_Kuwait\n"
                    ]
                },
                {
                    "output_type": "display_data",
                    "data": {
                        "text/plain": [
                            "HBox(children=(HTML(value='Processing paragraphs'), FloatProgress(value=1.0, bar_style='info', layout=Layout(w…"
                        ],
                        "application/vnd.jupyter.widget-view+json": {
                            "version_major": 2,
                            "version_minor": 0,
                            "model_id": "5854a0d04af14b60b6c9d67a138d33c8"
                        }
                    },
                    "metadata": {}
                },
                {
                    "output_type": "stream",
                    "name": "stdout",
                    "text": [
                        "Operation_Desert_Thunder\n"
                    ]
                },
                {
                    "output_type": "display_data",
                    "data": {
                        "text/plain": [
                            "HBox(children=(HTML(value='Processing paragraphs'), FloatProgress(value=1.0, bar_style='info', layout=Layout(w…"
                        ],
                        "application/vnd.jupyter.widget-view+json": {
                            "version_major": 2,
                            "version_minor": 0,
                            "model_id": "11290e0e4d844e4db1ebbe1c70c54292"
                        }
                    },
                    "metadata": {}
                },
                {
                    "output_type": "stream",
                    "name": "stdout",
                    "text": [
                        "Aftermath_of_the_Gulf_War\n"
                    ]
                },
                {
                    "output_type": "display_data",
                    "data": {
                        "text/plain": [
                            "HBox(children=(HTML(value='Processing paragraphs'), FloatProgress(value=1.0, bar_style='info', layout=Layout(w…"
                        ],
                        "application/vnd.jupyter.widget-view+json": {
                            "version_major": 2,
                            "version_minor": 0,
                            "model_id": "8553b186f9ee4211850c106f440543e6"
                        }
                    },
                    "metadata": {}
                },
                {
                    "output_type": "stream",
                    "name": "stdout",
                    "text": [
                        "Opération_Daguet\n"
                    ]
                },
                {
                    "output_type": "display_data",
                    "data": {
                        "text/plain": [
                            "HBox(children=(HTML(value='Processing paragraphs'), FloatProgress(value=1.0, bar_style='info', layout=Layout(w…"
                        ],
                        "application/vnd.jupyter.widget-view+json": {
                            "version_major": 2,
                            "version_minor": 0,
                            "model_id": "65c81db198a248bbb5ca48a2f1ac2c1b"
                        }
                    },
                    "metadata": {}
                },
                {
                    "output_type": "stream",
                    "name": "stdout",
                    "text": [
                        "Operation_Friction\n"
                    ]
                },
                {
                    "output_type": "display_data",
                    "data": {
                        "text/plain": [
                            "HBox(children=(HTML(value='Processing paragraphs'), FloatProgress(value=1.0, bar_style='info', layout=Layout(w…"
                        ],
                        "application/vnd.jupyter.widget-view+json": {
                            "version_major": 2,
                            "version_minor": 0,
                            "model_id": "84f9715c4c9f4ab9bc0f3cb0f03d69f0"
                        }
                    },
                    "metadata": {}
                },
                {
                    "output_type": "stream",
                    "name": "stdout",
                    "text": [
                        "Operation_Southern_Watch\n"
                    ]
                },
                {
                    "output_type": "display_data",
                    "data": {
                        "text/plain": [
                            "HBox(children=(HTML(value='Processing paragraphs'), FloatProgress(value=1.0, bar_style='info', layout=Layout(w…"
                        ],
                        "application/vnd.jupyter.widget-view+json": {
                            "version_major": 2,
                            "version_minor": 0,
                            "model_id": "dcd9aba71cc64e8e9ced3675336089eb"
                        }
                    },
                    "metadata": {}
                },
                {
                    "output_type": "stream",
                    "name": "stdout",
                    "text": [
                        "Iraq–Saudi_Arabia_relations\n"
                    ]
                },
                {
                    "output_type": "display_data",
                    "data": {
                        "text/plain": [
                            "HBox(children=(HTML(value='Processing paragraphs'), FloatProgress(value=1.0, bar_style='info', layout=Layout(w…"
                        ],
                        "application/vnd.jupyter.widget-view+json": {
                            "version_major": 2,
                            "version_minor": 0,
                            "model_id": "7e05dc212ee340bcb9b44d1d305b8909"
                        }
                    },
                    "metadata": {}
                },
                {
                    "output_type": "stream",
                    "name": "stdout",
                    "text": [
                        "Al_Hussein_(missile)\n"
                    ]
                },
                {
                    "output_type": "display_data",
                    "data": {
                        "text/plain": [
                            "HBox(children=(HTML(value='Processing paragraphs'), FloatProgress(value=1.0, bar_style='info', layout=Layout(w…"
                        ],
                        "application/vnd.jupyter.widget-view+json": {
                            "version_major": 2,
                            "version_minor": 0,
                            "model_id": "b82df186e2a2477abd14ea6b337871d5"
                        }
                    },
                    "metadata": {}
                },
                {
                    "output_type": "stream",
                    "name": "stdout",
                    "text": [
                        "Gulf_War_air_campaign\n"
                    ]
                },
                {
                    "output_type": "display_data",
                    "data": {
                        "text/plain": [
                            "HBox(children=(HTML(value='Processing paragraphs'), FloatProgress(value=1.0, bar_style='info', layout=Layout(w…"
                        ],
                        "application/vnd.jupyter.widget-view+json": {
                            "version_major": 2,
                            "version_minor": 0,
                            "model_id": "08f17b9a012543bfbd185666297b8afb"
                        }
                    },
                    "metadata": {}
                },
                {
                    "output_type": "stream",
                    "name": "stdout",
                    "text": [
                        "Liberation_of_Kuwait_campaign\n"
                    ]
                },
                {
                    "output_type": "display_data",
                    "data": {
                        "text/plain": [
                            "HBox(children=(HTML(value='Processing paragraphs'), FloatProgress(value=1.0, bar_style='info', layout=Layout(w…"
                        ],
                        "application/vnd.jupyter.widget-view+json": {
                            "version_major": 2,
                            "version_minor": 0,
                            "model_id": "896bb677b9014b32ba5d862d21aacfa8"
                        }
                    },
                    "metadata": {}
                },
                {
                    "output_type": "stream",
                    "name": "stdout",
                    "text": [
                        "Samurra_Air_Battle\n"
                    ]
                },
                {
                    "output_type": "display_data",
                    "data": {
                        "text/plain": [
                            "HBox(children=(HTML(value='Processing paragraphs'), FloatProgress(value=1.0, bar_style='info', layout=Layout(w…"
                        ],
                        "application/vnd.jupyter.widget-view+json": {
                            "version_major": 2,
                            "version_minor": 0,
                            "model_id": "adbdfb08d89440708dc4de392ea3c8c4"
                        }
                    },
                    "metadata": {}
                },
                {
                    "output_type": "stream",
                    "name": "stdout",
                    "text": [
                        "Timeline_of_Gulf_War_(1990–1991)\n"
                    ]
                },
                {
                    "output_type": "display_data",
                    "data": {
                        "text/plain": [
                            "HBox(children=(HTML(value='Processing paragraphs'), FloatProgress(value=1.0, bar_style='info', layout=Layout(w…"
                        ],
                        "application/vnd.jupyter.widget-view+json": {
                            "version_major": 2,
                            "version_minor": 0,
                            "model_id": "f41548ec03da45b79d6c8bf7bc6e8267"
                        }
                    },
                    "metadata": {}
                },
                {
                    "output_type": "stream",
                    "name": "stdout",
                    "text": [
                        "Rationale_for_the_Persian_Gulf_war\n"
                    ]
                },
                {
                    "output_type": "display_data",
                    "data": {
                        "text/plain": [
                            "HBox(children=(HTML(value='Processing paragraphs'), FloatProgress(value=1.0, bar_style='info', layout=Layout(w…"
                        ],
                        "application/vnd.jupyter.widget-view+json": {
                            "version_major": 2,
                            "version_minor": 0,
                            "model_id": "b6828d193caa480dbc275f15c479ebe5"
                        }
                    },
                    "metadata": {}
                },
                {
                    "output_type": "stream",
                    "name": "stdout",
                    "text": [
                        "token_num 1778947\n",
                        "total_pages 441\n"
                    ]
                },
                {
                    "output_type": "display_data",
                    "data": {
                        "text/plain": [
                            "HBox(children=(HTML(value='Processing titles'), FloatProgress(value=0.0, max=21.0), HTML(value='')))"
                        ],
                        "application/vnd.jupyter.widget-view+json": {
                            "version_major": 2,
                            "version_minor": 0,
                            "model_id": "3b707a7c2161454f88e2f763503c7bba"
                        }
                    },
                    "metadata": {}
                },
                {
                    "output_type": "stream",
                    "name": "stdout",
                    "text": [
                        "Saddam_Hussein\n"
                    ]
                },
                {
                    "output_type": "display_data",
                    "data": {
                        "text/plain": [
                            "HBox(children=(HTML(value='Processing paragraphs'), FloatProgress(value=1.0, bar_style='info', layout=Layout(w…"
                        ],
                        "application/vnd.jupyter.widget-view+json": {
                            "version_major": 2,
                            "version_minor": 0,
                            "model_id": "cc979f85feed42c89ba3bbabcf399590"
                        }
                    },
                    "metadata": {}
                },
                {
                    "output_type": "stream",
                    "name": "stdout",
                    "text": [
                        "Ahmed_Hassan_al-Bakr\n"
                    ]
                },
                {
                    "output_type": "display_data",
                    "data": {
                        "text/plain": [
                            "HBox(children=(HTML(value='Processing paragraphs'), FloatProgress(value=1.0, bar_style='info', layout=Layout(w…"
                        ],
                        "application/vnd.jupyter.widget-view+json": {
                            "version_major": 2,
                            "version_minor": 0,
                            "model_id": "3db3118876eb44b9b445d137790e40c9"
                        }
                    },
                    "metadata": {}
                },
                {
                    "output_type": "stream",
                    "name": "stdout",
                    "text": [
                        "Izzat_Ibrahim_al-Douri\n"
                    ]
                },
                {
                    "output_type": "display_data",
                    "data": {
                        "text/plain": [
                            "HBox(children=(HTML(value='Processing paragraphs'), FloatProgress(value=1.0, bar_style='info', layout=Layout(w…"
                        ],
                        "application/vnd.jupyter.widget-view+json": {
                            "version_major": 2,
                            "version_minor": 0,
                            "model_id": "cbe40b125b7a4ff4bc1b45f9958298ca"
                        }
                    },
                    "metadata": {}
                },
                {
                    "output_type": "stream",
                    "name": "stdout",
                    "text": [
                        "Abd_al-Karim_Qasim\n"
                    ]
                },
                {
                    "output_type": "display_data",
                    "data": {
                        "text/plain": [
                            "HBox(children=(HTML(value='Processing paragraphs'), FloatProgress(value=1.0, bar_style='info', layout=Layout(w…"
                        ],
                        "application/vnd.jupyter.widget-view+json": {
                            "version_major": 2,
                            "version_minor": 0,
                            "model_id": "de6209bb8ba04d769bb496ccddfb76fc"
                        }
                    },
                    "metadata": {}
                },
                {
                    "output_type": "stream",
                    "name": "stdout",
                    "text": [
                        "Islamic_Dawa_Party\n"
                    ]
                },
                {
                    "output_type": "display_data",
                    "data": {
                        "text/plain": [
                            "HBox(children=(HTML(value='Processing paragraphs'), FloatProgress(value=1.0, bar_style='info', layout=Layout(w…"
                        ],
                        "application/vnd.jupyter.widget-view+json": {
                            "version_major": 2,
                            "version_minor": 0,
                            "model_id": "2549ec7296e34b75bc500ee308c13353"
                        }
                    },
                    "metadata": {}
                },
                {
                    "output_type": "stream",
                    "name": "stdout",
                    "text": [
                        "1975_Algiers_Agreement\n"
                    ]
                },
                {
                    "output_type": "display_data",
                    "data": {
                        "text/plain": [
                            "HBox(children=(HTML(value='Processing paragraphs'), FloatProgress(value=1.0, bar_style='info', layout=Layout(w…"
                        ],
                        "application/vnd.jupyter.widget-view+json": {
                            "version_major": 2,
                            "version_minor": 0,
                            "model_id": "d8cb18ff1f8b40f0a09f53062f76ca25"
                        }
                    },
                    "metadata": {}
                },
                {
                    "output_type": "stream",
                    "name": "stdout",
                    "text": [
                        "Salah_Omar_al-Ali\n"
                    ]
                },
                {
                    "output_type": "display_data",
                    "data": {
                        "text/plain": [
                            "HBox(children=(HTML(value='Processing paragraphs'), FloatProgress(value=1.0, bar_style='info', layout=Layout(w…"
                        ],
                        "application/vnd.jupyter.widget-view+json": {
                            "version_major": 2,
                            "version_minor": 0,
                            "model_id": "bfcaab20e9034635b556b0d474764c16"
                        }
                    },
                    "metadata": {}
                },
                {
                    "output_type": "stream",
                    "name": "stdout",
                    "text": [
                        "Sectarian_violence_in_Iraq\n"
                    ]
                },
                {
                    "output_type": "display_data",
                    "data": {
                        "text/plain": [
                            "HBox(children=(HTML(value='Processing paragraphs'), FloatProgress(value=1.0, bar_style='info', layout=Layout(w…"
                        ],
                        "application/vnd.jupyter.widget-view+json": {
                            "version_major": 2,
                            "version_minor": 0,
                            "model_id": "7b504ba2ffdf4069b3fa8be3dfc5c787"
                        }
                    },
                    "metadata": {}
                },
                {
                    "output_type": "stream",
                    "name": "stdout",
                    "text": [
                        "1991_uprisings_in_Iraq\n"
                    ]
                },
                {
                    "output_type": "display_data",
                    "data": {
                        "text/plain": [
                            "HBox(children=(HTML(value='Processing paragraphs'), FloatProgress(value=1.0, bar_style='info', layout=Layout(w…"
                        ],
                        "application/vnd.jupyter.widget-view+json": {
                            "version_major": 2,
                            "version_minor": 0,
                            "model_id": "4d96c189a7964436a7e0e2e8459870ff"
                        }
                    },
                    "metadata": {}
                },
                {
                    "output_type": "stream",
                    "name": "stdout",
                    "text": [
                        "CIA_activities_in_Iraq\n"
                    ]
                },
                {
                    "output_type": "display_data",
                    "data": {
                        "text/plain": [
                            "HBox(children=(HTML(value='Processing paragraphs'), FloatProgress(value=1.0, bar_style='info', layout=Layout(w…"
                        ],
                        "application/vnd.jupyter.widget-view+json": {
                            "version_major": 2,
                            "version_minor": 0,
                            "model_id": "e529b54df7f841c0855e64ccfd539dc6"
                        }
                    },
                    "metadata": {}
                },
                {
                    "output_type": "stream",
                    "name": "stdout",
                    "text": [
                        "Iraq–United_States_relations\n"
                    ]
                },
                {
                    "output_type": "display_data",
                    "data": {
                        "text/plain": [
                            "HBox(children=(HTML(value='Processing paragraphs'), FloatProgress(value=1.0, bar_style='info', layout=Layout(w…"
                        ],
                        "application/vnd.jupyter.widget-view+json": {
                            "version_major": 2,
                            "version_minor": 0,
                            "model_id": "f1a244f1d81b490d8f736d2813f9c71a"
                        }
                    },
                    "metadata": {}
                },
                {
                    "output_type": "stream",
                    "name": "stdout",
                    "text": [
                        "Iraq–Syria_relations\n"
                    ]
                },
                {
                    "output_type": "display_data",
                    "data": {
                        "text/plain": [
                            "HBox(children=(HTML(value='Processing paragraphs'), FloatProgress(value=1.0, bar_style='info', layout=Layout(w…"
                        ],
                        "application/vnd.jupyter.widget-view+json": {
                            "version_major": 2,
                            "version_minor": 0,
                            "model_id": "08c9f4be71c242f4a38a939e86793312"
                        }
                    },
                    "metadata": {}
                },
                {
                    "output_type": "stream",
                    "name": "stdout",
                    "text": [
                        "Modern_history_of_Iraq\n"
                    ]
                },
                {
                    "output_type": "display_data",
                    "data": {
                        "text/plain": [
                            "HBox(children=(HTML(value='Processing paragraphs'), FloatProgress(value=1.0, bar_style='info', layout=Layout(w…"
                        ],
                        "application/vnd.jupyter.widget-view+json": {
                            "version_major": 2,
                            "version_minor": 0,
                            "model_id": "1664043a3f7546bd9fe73f59be38d2d7"
                        }
                    },
                    "metadata": {}
                },
                {
                    "output_type": "stream",
                    "name": "stdout",
                    "text": [
                        "Ba'athist_Iraq\n"
                    ]
                },
                {
                    "output_type": "display_data",
                    "data": {
                        "text/plain": [
                            "HBox(children=(HTML(value='Processing paragraphs'), FloatProgress(value=1.0, bar_style='info', layout=Layout(w…"
                        ],
                        "application/vnd.jupyter.widget-view+json": {
                            "version_major": 2,
                            "version_minor": 0,
                            "model_id": "e48195bcc56e44b582854f4c030b5957"
                        }
                    },
                    "metadata": {}
                },
                {
                    "output_type": "stream",
                    "name": "stdout",
                    "text": [
                        "Iraqi_nationalism\n"
                    ]
                },
                {
                    "output_type": "display_data",
                    "data": {
                        "text/plain": [
                            "HBox(children=(HTML(value='Processing paragraphs'), FloatProgress(value=1.0, bar_style='info', layout=Layout(w…"
                        ],
                        "application/vnd.jupyter.widget-view+json": {
                            "version_major": 2,
                            "version_minor": 0,
                            "model_id": "bc9ecab01a6e4defb3772ee188947704"
                        }
                    },
                    "metadata": {}
                },
                {
                    "output_type": "stream",
                    "name": "stdout",
                    "text": [
                        "Iraqi–Kurdish_conflict\n"
                    ]
                },
                {
                    "output_type": "display_data",
                    "data": {
                        "text/plain": [
                            "HBox(children=(HTML(value='Processing paragraphs'), FloatProgress(value=1.0, bar_style='info', layout=Layout(w…"
                        ],
                        "application/vnd.jupyter.widget-view+json": {
                            "version_major": 2,
                            "version_minor": 0,
                            "model_id": "cd1e6e3fb5694a238519aeb9f0e2a3d5"
                        }
                    },
                    "metadata": {}
                },
                {
                    "output_type": "stream",
                    "name": "stdout",
                    "text": [
                        "Ba'ath_Party_(Iraqi-dominated_faction)\n"
                    ]
                },
                {
                    "output_type": "display_data",
                    "data": {
                        "text/plain": [
                            "HBox(children=(HTML(value='Processing paragraphs'), FloatProgress(value=1.0, bar_style='info', layout=Layout(w…"
                        ],
                        "application/vnd.jupyter.widget-view+json": {
                            "version_major": 2,
                            "version_minor": 0,
                            "model_id": "ce2283be75fe4363ae0973617bfa4715"
                        }
                    },
                    "metadata": {}
                },
                {
                    "output_type": "stream",
                    "name": "stdout",
                    "text": [
                        "Arab_Socialist_Ba'ath_Party_–_Iraq_Region\n"
                    ]
                },
                {
                    "output_type": "display_data",
                    "data": {
                        "text/plain": [
                            "HBox(children=(HTML(value='Processing paragraphs'), FloatProgress(value=1.0, bar_style='info', layout=Layout(w…"
                        ],
                        "application/vnd.jupyter.widget-view+json": {
                            "version_major": 2,
                            "version_minor": 0,
                            "model_id": "b8ced47373ad46f4b5b3bfefb3d3011a"
                        }
                    },
                    "metadata": {}
                },
                {
                    "output_type": "stream",
                    "name": "stdout",
                    "text": [
                        "17_July_Revolution\n"
                    ]
                },
                {
                    "output_type": "display_data",
                    "data": {
                        "text/plain": [
                            "HBox(children=(HTML(value='Processing paragraphs'), FloatProgress(value=1.0, bar_style='info', layout=Layout(w…"
                        ],
                        "application/vnd.jupyter.widget-view+json": {
                            "version_major": 2,
                            "version_minor": 0,
                            "model_id": "0708c39e1c8f4e5ca49c6c673bd101b2"
                        }
                    },
                    "metadata": {}
                },
                {
                    "output_type": "stream",
                    "name": "stdout",
                    "text": [
                        "Abdullah_Sallum_al-Samarra'i\n"
                    ]
                },
                {
                    "output_type": "display_data",
                    "data": {
                        "text/plain": [
                            "HBox(children=(HTML(value='Processing paragraphs'), FloatProgress(value=1.0, bar_style='info', layout=Layout(w…"
                        ],
                        "application/vnd.jupyter.widget-view+json": {
                            "version_major": 2,
                            "version_minor": 0,
                            "model_id": "7e411a0850bc483bb60b391783d11501"
                        }
                    },
                    "metadata": {}
                },
                {
                    "output_type": "stream",
                    "name": "stdout",
                    "text": [
                        "Abd_al-Khaliq_al-Samarra'i\n"
                    ]
                },
                {
                    "output_type": "display_data",
                    "data": {
                        "text/plain": [
                            "HBox(children=(HTML(value='Processing paragraphs'), FloatProgress(value=1.0, bar_style='info', layout=Layout(w…"
                        ],
                        "application/vnd.jupyter.widget-view+json": {
                            "version_major": 2,
                            "version_minor": 0,
                            "model_id": "d9bf02d0f6984dcfb0987ac23fa09534"
                        }
                    },
                    "metadata": {}
                },
                {
                    "output_type": "stream",
                    "name": "stdout",
                    "text": [
                        "token_num 1875227\n",
                        "total_pages 462\n"
                    ]
                },
                {
                    "output_type": "display_data",
                    "data": {
                        "text/plain": [
                            "HBox(children=(HTML(value='Processing titles'), FloatProgress(value=0.0, max=21.0), HTML(value='')))"
                        ],
                        "application/vnd.jupyter.widget-view+json": {
                            "version_major": 2,
                            "version_minor": 0,
                            "model_id": "201cf29923c9479999026e91b382f252"
                        }
                    },
                    "metadata": {}
                },
                {
                    "output_type": "stream",
                    "name": "stdout",
                    "text": [
                        "Ratko_Mladić\n"
                    ]
                },
                {
                    "output_type": "display_data",
                    "data": {
                        "text/plain": [
                            "HBox(children=(HTML(value='Processing paragraphs'), FloatProgress(value=1.0, bar_style='info', layout=Layout(w…"
                        ],
                        "application/vnd.jupyter.widget-view+json": {
                            "version_major": 2,
                            "version_minor": 0,
                            "model_id": "4be0bac85b8048b9a9d08a81ce56e03e"
                        }
                    },
                    "metadata": {}
                },
                {
                    "output_type": "stream",
                    "name": "stdout",
                    "text": [
                        "International_Criminal_Tribunal_for_the_former_Yugoslavia\n"
                    ]
                },
                {
                    "output_type": "display_data",
                    "data": {
                        "text/plain": [
                            "HBox(children=(HTML(value='Processing paragraphs'), FloatProgress(value=1.0, bar_style='info', layout=Layout(w…"
                        ],
                        "application/vnd.jupyter.widget-view+json": {
                            "version_major": 2,
                            "version_minor": 0,
                            "model_id": "4c0aae77e3ed45119a6bfc2a639eb085"
                        }
                    },
                    "metadata": {}
                },
                {
                    "output_type": "stream",
                    "name": "stdout",
                    "text": [
                        "Naser_Orić\n"
                    ]
                },
                {
                    "output_type": "display_data",
                    "data": {
                        "text/plain": [
                            "HBox(children=(HTML(value='Processing paragraphs'), FloatProgress(value=1.0, bar_style='info', layout=Layout(w…"
                        ],
                        "application/vnd.jupyter.widget-view+json": {
                            "version_major": 2,
                            "version_minor": 0,
                            "model_id": "d60714a7e9514829b2b4dd6ffdfaac97"
                        }
                    },
                    "metadata": {}
                },
                {
                    "output_type": "stream",
                    "name": "stdout",
                    "text": [
                        "Army_of_Republika_Srpska\n"
                    ]
                },
                {
                    "output_type": "display_data",
                    "data": {
                        "text/plain": [
                            "HBox(children=(HTML(value='Processing paragraphs'), FloatProgress(value=1.0, bar_style='info', layout=Layout(w…"
                        ],
                        "application/vnd.jupyter.widget-view+json": {
                            "version_major": 2,
                            "version_minor": 0,
                            "model_id": "95f496c0a2704401a8a37ac7768dfb60"
                        }
                    },
                    "metadata": {}
                },
                {
                    "output_type": "stream",
                    "name": "stdout",
                    "text": [
                        "Srebrenica_massacre\n"
                    ]
                },
                {
                    "output_type": "display_data",
                    "data": {
                        "text/plain": [
                            "HBox(children=(HTML(value='Processing paragraphs'), FloatProgress(value=1.0, bar_style='info', layout=Layout(w…"
                        ],
                        "application/vnd.jupyter.widget-view+json": {
                            "version_major": 2,
                            "version_minor": 0,
                            "model_id": "9acdc945e1124428afb5ba70642fa15c"
                        }
                    },
                    "metadata": {}
                },
                {
                    "output_type": "stream",
                    "name": "stdout",
                    "text": [
                        "Bosnian_genocide\n"
                    ]
                },
                {
                    "output_type": "display_data",
                    "data": {
                        "text/plain": [
                            "HBox(children=(HTML(value='Processing paragraphs'), FloatProgress(value=1.0, bar_style='info', layout=Layout(w…"
                        ],
                        "application/vnd.jupyter.widget-view+json": {
                            "version_major": 2,
                            "version_minor": 0,
                            "model_id": "3862ec19d8ee46abbc53941ad0b3fe3c"
                        }
                    },
                    "metadata": {}
                },
                {
                    "output_type": "stream",
                    "name": "stdout",
                    "text": [
                        "Momčilo_Krajišnik\n"
                    ]
                },
                {
                    "output_type": "display_data",
                    "data": {
                        "text/plain": [
                            "HBox(children=(HTML(value='Processing paragraphs'), FloatProgress(value=1.0, bar_style='info', layout=Layout(w…"
                        ],
                        "application/vnd.jupyter.widget-view+json": {
                            "version_major": 2,
                            "version_minor": 0,
                            "model_id": "cd384eb054764aa6aa6008159b7406fb"
                        }
                    },
                    "metadata": {}
                },
                {
                    "output_type": "stream",
                    "name": "stdout",
                    "text": [
                        "Republika_Srpska_(1992–1995)\n"
                    ]
                },
                {
                    "output_type": "display_data",
                    "data": {
                        "text/plain": [
                            "HBox(children=(HTML(value='Processing paragraphs'), FloatProgress(value=1.0, bar_style='info', layout=Layout(w…"
                        ],
                        "application/vnd.jupyter.widget-view+json": {
                            "version_major": 2,
                            "version_minor": 0,
                            "model_id": "021319e455f443dbad67e82d69a1d8b7"
                        }
                    },
                    "metadata": {}
                },
                {
                    "output_type": "stream",
                    "name": "stdout",
                    "text": [
                        "Manjača_camp\n"
                    ]
                },
                {
                    "output_type": "display_data",
                    "data": {
                        "text/plain": [
                            "HBox(children=(HTML(value='Processing paragraphs'), FloatProgress(value=1.0, bar_style='info', layout=Layout(w…"
                        ],
                        "application/vnd.jupyter.widget-view+json": {
                            "version_major": 2,
                            "version_minor": 0,
                            "model_id": "5a970e155aa2409585f9d767eda15688"
                        }
                    },
                    "metadata": {}
                },
                {
                    "output_type": "stream",
                    "name": "stdout",
                    "text": [
                        "Zdravko_Tolimir\n"
                    ]
                },
                {
                    "output_type": "display_data",
                    "data": {
                        "text/plain": [
                            "HBox(children=(HTML(value='Processing paragraphs'), FloatProgress(value=1.0, bar_style='info', layout=Layout(w…"
                        ],
                        "application/vnd.jupyter.widget-view+json": {
                            "version_major": 2,
                            "version_minor": 0,
                            "model_id": "ebfa855952f24a399942ae11fc0b6e65"
                        }
                    },
                    "metadata": {}
                },
                {
                    "output_type": "stream",
                    "name": "stdout",
                    "text": [
                        "Thom_Karremans\n"
                    ]
                },
                {
                    "output_type": "display_data",
                    "data": {
                        "text/plain": [
                            "HBox(children=(HTML(value='Processing paragraphs'), FloatProgress(value=1.0, bar_style='info', layout=Layout(w…"
                        ],
                        "application/vnd.jupyter.widget-view+json": {
                            "version_major": 2,
                            "version_minor": 0,
                            "model_id": "9a6c3ed3b7974e51b2c575d9187bc82f"
                        }
                    },
                    "metadata": {}
                },
                {
                    "output_type": "stream",
                    "name": "stdout",
                    "text": [
                        "Višegrad_massacres\n"
                    ]
                },
                {
                    "output_type": "display_data",
                    "data": {
                        "text/plain": [
                            "HBox(children=(HTML(value='Processing paragraphs'), FloatProgress(value=1.0, bar_style='info', layout=Layout(w…"
                        ],
                        "application/vnd.jupyter.widget-view+json": {
                            "version_major": 2,
                            "version_minor": 0,
                            "model_id": "b0602852bd7a4f02b7140da72faa4c6f"
                        }
                    },
                    "metadata": {}
                },
                {
                    "output_type": "stream",
                    "name": "stdout",
                    "text": [
                        "List_of_Bosnian_genocide_prosecutions\n"
                    ]
                },
                {
                    "output_type": "display_data",
                    "data": {
                        "text/plain": [
                            "HBox(children=(HTML(value='Processing paragraphs'), FloatProgress(value=1.0, bar_style='info', layout=Layout(w…"
                        ],
                        "application/vnd.jupyter.widget-view+json": {
                            "version_major": 2,
                            "version_minor": 0,
                            "model_id": "7b5cb64ab2844864816be14eb0dfcd48"
                        }
                    },
                    "metadata": {}
                },
                {
                    "output_type": "stream",
                    "name": "stdout",
                    "text": [
                        "Trial_of_Radovan_Karadžić\n"
                    ]
                },
                {
                    "output_type": "display_data",
                    "data": {
                        "text/plain": [
                            "HBox(children=(HTML(value='Processing paragraphs'), FloatProgress(value=1.0, bar_style='info', layout=Layout(w…"
                        ],
                        "application/vnd.jupyter.widget-view+json": {
                            "version_major": 2,
                            "version_minor": 0,
                            "model_id": "99c415f065e44f7f8b765f9a3a8de243"
                        }
                    },
                    "metadata": {}
                },
                {
                    "output_type": "stream",
                    "name": "stdout",
                    "text": [
                        "Radovan_Karadžić\n"
                    ]
                },
                {
                    "output_type": "display_data",
                    "data": {
                        "text/plain": [
                            "HBox(children=(HTML(value='Processing paragraphs'), FloatProgress(value=1.0, bar_style='info', layout=Layout(w…"
                        ],
                        "application/vnd.jupyter.widget-view+json": {
                            "version_major": 2,
                            "version_minor": 0,
                            "model_id": "e4d1fd8c144640edba1c0faada5b2f27"
                        }
                    },
                    "metadata": {}
                },
                {
                    "output_type": "stream",
                    "name": "stdout",
                    "text": [
                        "Siege_of_Srebrenica\n"
                    ]
                },
                {
                    "output_type": "display_data",
                    "data": {
                        "text/plain": [
                            "HBox(children=(HTML(value='Processing paragraphs'), FloatProgress(value=1.0, bar_style='info', layout=Layout(w…"
                        ],
                        "application/vnd.jupyter.widget-view+json": {
                            "version_major": 2,
                            "version_minor": 0,
                            "model_id": "e40cda33ae74433dbf1374c29d12616f"
                        }
                    },
                    "metadata": {}
                },
                {
                    "output_type": "stream",
                    "name": "stdout",
                    "text": [
                        "Serbia_in_the_Yugoslav_Wars\n"
                    ]
                },
                {
                    "output_type": "display_data",
                    "data": {
                        "text/plain": [
                            "HBox(children=(HTML(value='Processing paragraphs'), FloatProgress(value=1.0, bar_style='info', layout=Layout(w…"
                        ],
                        "application/vnd.jupyter.widget-view+json": {
                            "version_major": 2,
                            "version_minor": 0,
                            "model_id": "6d5d65e9d4d947b5a98b8a6fb18585c6"
                        }
                    },
                    "metadata": {}
                },
                {
                    "output_type": "stream",
                    "name": "stdout",
                    "text": [
                        "Christoph_Flügge\n"
                    ]
                },
                {
                    "output_type": "display_data",
                    "data": {
                        "text/plain": [
                            "HBox(children=(HTML(value='Processing paragraphs'), FloatProgress(value=1.0, bar_style='info', layout=Layout(w…"
                        ],
                        "application/vnd.jupyter.widget-view+json": {
                            "version_major": 2,
                            "version_minor": 0,
                            "model_id": "bbce3037a7db4339a787ea25d0706445"
                        }
                    },
                    "metadata": {}
                },
                {
                    "output_type": "stream",
                    "name": "stdout",
                    "text": [
                        "Trial_of_Ratko_Mladić\n"
                    ]
                },
                {
                    "output_type": "display_data",
                    "data": {
                        "text/plain": [
                            "HBox(children=(HTML(value='Processing paragraphs'), FloatProgress(value=1.0, bar_style='info', layout=Layout(w…"
                        ],
                        "application/vnd.jupyter.widget-view+json": {
                            "version_major": 2,
                            "version_minor": 0,
                            "model_id": "d9e63e471b224ab583d6d25b65490461"
                        }
                    },
                    "metadata": {}
                },
                {
                    "output_type": "stream",
                    "name": "stdout",
                    "text": [
                        "2017_in_Bosnia_and_Herzegovina\n"
                    ]
                },
                {
                    "output_type": "display_data",
                    "data": {
                        "text/plain": [
                            "HBox(children=(HTML(value='Processing paragraphs'), FloatProgress(value=1.0, bar_style='info', layout=Layout(w…"
                        ],
                        "application/vnd.jupyter.widget-view+json": {
                            "version_major": 2,
                            "version_minor": 0,
                            "model_id": "eaa99d8d2da24bba966174a824f53427"
                        }
                    },
                    "metadata": {}
                },
                {
                    "output_type": "stream",
                    "name": "stdout",
                    "text": [
                        "Bosnian_genocide_denial\n"
                    ]
                },
                {
                    "output_type": "display_data",
                    "data": {
                        "text/plain": [
                            "HBox(children=(HTML(value='Processing paragraphs'), FloatProgress(value=1.0, bar_style='info', layout=Layout(w…"
                        ],
                        "application/vnd.jupyter.widget-view+json": {
                            "version_major": 2,
                            "version_minor": 0,
                            "model_id": "e0a5b3f367ce48d6b4daa072b2e1b868"
                        }
                    },
                    "metadata": {}
                },
                {
                    "output_type": "stream",
                    "name": "stdout",
                    "text": [
                        "token_num 1961279\n",
                        "total_pages 483\n"
                    ]
                },
                {
                    "output_type": "display_data",
                    "data": {
                        "text/plain": [
                            "HBox(children=(HTML(value='Processing titles'), FloatProgress(value=0.0, max=21.0), HTML(value='')))"
                        ],
                        "application/vnd.jupyter.widget-view+json": {
                            "version_major": 2,
                            "version_minor": 0,
                            "model_id": "ea063e0584c54b34a7f07c880b520024"
                        }
                    },
                    "metadata": {}
                },
                {
                    "output_type": "stream",
                    "name": "stdout",
                    "text": [
                        "Communism\n"
                    ]
                },
                {
                    "output_type": "display_data",
                    "data": {
                        "text/plain": [
                            "HBox(children=(HTML(value='Processing paragraphs'), FloatProgress(value=1.0, bar_style='info', layout=Layout(w…"
                        ],
                        "application/vnd.jupyter.widget-view+json": {
                            "version_major": 2,
                            "version_minor": 0,
                            "model_id": "01de2666c0c8440a9de09a1a0a471170"
                        }
                    },
                    "metadata": {}
                },
                {
                    "output_type": "stream",
                    "name": "stdout",
                    "text": [
                        "Leninism\n"
                    ]
                },
                {
                    "output_type": "display_data",
                    "data": {
                        "text/plain": [
                            "HBox(children=(HTML(value='Processing paragraphs'), FloatProgress(value=1.0, bar_style='info', layout=Layout(w…"
                        ],
                        "application/vnd.jupyter.widget-view+json": {
                            "version_major": 2,
                            "version_minor": 0,
                            "model_id": "97283b47d19743c3a9338403d1b7cd83"
                        }
                    },
                    "metadata": {}
                },
                {
                    "output_type": "stream",
                    "name": "stdout",
                    "text": [
                        "Marxism–Leninism\n"
                    ]
                },
                {
                    "output_type": "display_data",
                    "data": {
                        "text/plain": [
                            "HBox(children=(HTML(value='Processing paragraphs'), FloatProgress(value=1.0, bar_style='info', layout=Layout(w…"
                        ],
                        "application/vnd.jupyter.widget-view+json": {
                            "version_major": 2,
                            "version_minor": 0,
                            "model_id": "5923079ec5cd4dd79e32e476dc20fa28"
                        }
                    },
                    "metadata": {}
                },
                {
                    "output_type": "stream",
                    "name": "stdout",
                    "text": [
                        "Maoism\n"
                    ]
                },
                {
                    "output_type": "display_data",
                    "data": {
                        "text/plain": [
                            "HBox(children=(HTML(value='Processing paragraphs'), FloatProgress(value=1.0, bar_style='info', layout=Layout(w…"
                        ],
                        "application/vnd.jupyter.widget-view+json": {
                            "version_major": 2,
                            "version_minor": 0,
                            "model_id": "002642ad2b48457d8d8b8f4197fc37e8"
                        }
                    },
                    "metadata": {}
                },
                {
                    "output_type": "stream",
                    "name": "stdout",
                    "text": [
                        "Trotskyism\n"
                    ]
                },
                {
                    "output_type": "display_data",
                    "data": {
                        "text/plain": [
                            "HBox(children=(HTML(value='Processing paragraphs'), FloatProgress(value=1.0, bar_style='info', layout=Layout(w…"
                        ],
                        "application/vnd.jupyter.widget-view+json": {
                            "version_major": 2,
                            "version_minor": 0,
                            "model_id": "58cf63a697dd42e0add3c32712f9d1be"
                        }
                    },
                    "metadata": {}
                },
                {
                    "output_type": "stream",
                    "name": "stdout",
                    "text": [
                        "Marxism\n"
                    ]
                },
                {
                    "output_type": "display_data",
                    "data": {
                        "text/plain": [
                            "HBox(children=(HTML(value='Processing paragraphs'), FloatProgress(value=1.0, bar_style='info', layout=Layout(w…"
                        ],
                        "application/vnd.jupyter.widget-view+json": {
                            "version_major": 2,
                            "version_minor": 0,
                            "model_id": "45153eb63e65408ead5cb03e78cf9b60"
                        }
                    },
                    "metadata": {}
                },
                {
                    "output_type": "stream",
                    "name": "stdout",
                    "text": [
                        "Scientific_communism\n"
                    ]
                },
                {
                    "output_type": "display_data",
                    "data": {
                        "text/plain": [
                            "HBox(children=(HTML(value='Processing paragraphs'), FloatProgress(value=1.0, bar_style='info', layout=Layout(w…"
                        ],
                        "application/vnd.jupyter.widget-view+json": {
                            "version_major": 2,
                            "version_minor": 0,
                            "model_id": "bfe2c9bf23174bf282165aaf28aeed7d"
                        }
                    },
                    "metadata": {}
                },
                {
                    "output_type": "stream",
                    "name": "stdout",
                    "text": [
                        "Democracy_in_Marxism\n"
                    ]
                },
                {
                    "output_type": "display_data",
                    "data": {
                        "text/plain": [
                            "HBox(children=(HTML(value='Processing paragraphs'), FloatProgress(value=1.0, bar_style='info', layout=Layout(w…"
                        ],
                        "application/vnd.jupyter.widget-view+json": {
                            "version_major": 2,
                            "version_minor": 0,
                            "model_id": "8819235d97c14ea5b0acd09abbc51f1d"
                        }
                    },
                    "metadata": {}
                },
                {
                    "output_type": "stream",
                    "name": "stdout",
                    "text": [
                        "Ideology_of_the_Communist_Party_of_the_Soviet_Union\n"
                    ]
                },
                {
                    "output_type": "display_data",
                    "data": {
                        "text/plain": [
                            "HBox(children=(HTML(value='Processing paragraphs'), FloatProgress(value=1.0, bar_style='info', layout=Layout(w…"
                        ],
                        "application/vnd.jupyter.widget-view+json": {
                            "version_major": 2,
                            "version_minor": 0,
                            "model_id": "317d0c54b7344648a7f296fc07d7d6dc"
                        }
                    },
                    "metadata": {}
                },
                {
                    "output_type": "stream",
                    "name": "stdout",
                    "text": [
                        "List_of_communist_ideologies\n"
                    ]
                },
                {
                    "output_type": "display_data",
                    "data": {
                        "text/plain": [
                            "HBox(children=(HTML(value='Processing paragraphs'), FloatProgress(value=1.0, bar_style='info', layout=Layout(w…"
                        ],
                        "application/vnd.jupyter.widget-view+json": {
                            "version_major": 2,
                            "version_minor": 0,
                            "model_id": "0b373e9242a745ae84e526bf0690e70f"
                        }
                    },
                    "metadata": {}
                },
                {
                    "output_type": "stream",
                    "name": "stdout",
                    "text": [
                        "Marxist_schools_of_thought\n"
                    ]
                },
                {
                    "output_type": "display_data",
                    "data": {
                        "text/plain": [
                            "HBox(children=(HTML(value='Processing paragraphs'), FloatProgress(value=1.0, bar_style='info', layout=Layout(w…"
                        ],
                        "application/vnd.jupyter.widget-view+json": {
                            "version_major": 2,
                            "version_minor": 0,
                            "model_id": "4efe9f1e8bc14dec84564e1b7473b7fa"
                        }
                    },
                    "metadata": {}
                },
                {
                    "output_type": "stream",
                    "name": "stdout",
                    "text": [
                        "Revisionism_(Marxism)\n"
                    ]
                },
                {
                    "output_type": "display_data",
                    "data": {
                        "text/plain": [
                            "HBox(children=(HTML(value='Processing paragraphs'), FloatProgress(value=1.0, bar_style='info', layout=Layout(w…"
                        ],
                        "application/vnd.jupyter.widget-view+json": {
                            "version_major": 2,
                            "version_minor": 0,
                            "model_id": "8f281fc05cc24f53a4fb843942fa6fd2"
                        }
                    },
                    "metadata": {}
                },
                {
                    "output_type": "stream",
                    "name": "stdout",
                    "text": [
                        "State_socialism\n"
                    ]
                },
                {
                    "output_type": "display_data",
                    "data": {
                        "text/plain": [
                            "HBox(children=(HTML(value='Processing paragraphs'), FloatProgress(value=1.0, bar_style='info', layout=Layout(w…"
                        ],
                        "application/vnd.jupyter.widget-view+json": {
                            "version_major": 2,
                            "version_minor": 0,
                            "model_id": "7f3f6afeabf8458bbca7bebcc7215411"
                        }
                    },
                    "metadata": {}
                },
                {
                    "output_type": "stream",
                    "name": "stdout",
                    "text": [
                        "Revolutionary_socialism\n"
                    ]
                },
                {
                    "output_type": "display_data",
                    "data": {
                        "text/plain": [
                            "HBox(children=(HTML(value='Processing paragraphs'), FloatProgress(value=1.0, bar_style='info', layout=Layout(w…"
                        ],
                        "application/vnd.jupyter.widget-view+json": {
                            "version_major": 2,
                            "version_minor": 0,
                            "model_id": "5d8665b8e6994ab29ecf2251dd538553"
                        }
                    },
                    "metadata": {}
                },
                {
                    "output_type": "stream",
                    "name": "stdout",
                    "text": [
                        "Dictatorship_of_the_proletariat\n"
                    ]
                },
                {
                    "output_type": "display_data",
                    "data": {
                        "text/plain": [
                            "HBox(children=(HTML(value='Processing paragraphs'), FloatProgress(value=1.0, bar_style='info', layout=Layout(w…"
                        ],
                        "application/vnd.jupyter.widget-view+json": {
                            "version_major": 2,
                            "version_minor": 0,
                            "model_id": "ded72b3b9f8c432f97f86053288485c8"
                        }
                    },
                    "metadata": {}
                },
                {
                    "output_type": "stream",
                    "name": "stdout",
                    "text": [
                        "Anti-revisionism\n"
                    ]
                },
                {
                    "output_type": "display_data",
                    "data": {
                        "text/plain": [
                            "HBox(children=(HTML(value='Processing paragraphs'), FloatProgress(value=1.0, bar_style='info', layout=Layout(w…"
                        ],
                        "application/vnd.jupyter.widget-view+json": {
                            "version_major": 2,
                            "version_minor": 0,
                            "model_id": "db204eb1e39344b2b50066d2239ffffa"
                        }
                    },
                    "metadata": {}
                },
                {
                    "output_type": "stream",
                    "name": "stdout",
                    "text": [
                        "Socialism_in_one_country\n"
                    ]
                },
                {
                    "output_type": "display_data",
                    "data": {
                        "text/plain": [
                            "HBox(children=(HTML(value='Processing paragraphs'), FloatProgress(value=1.0, bar_style='info', layout=Layout(w…"
                        ],
                        "application/vnd.jupyter.widget-view+json": {
                            "version_major": 2,
                            "version_minor": 0,
                            "model_id": "02e5fadb35be4e68b630c2576d149cbb"
                        }
                    },
                    "metadata": {}
                },
                {
                    "output_type": "stream",
                    "name": "stdout",
                    "text": [
                        "Socialist_state\n"
                    ]
                },
                {
                    "output_type": "display_data",
                    "data": {
                        "text/plain": [
                            "HBox(children=(HTML(value='Processing paragraphs'), FloatProgress(value=1.0, bar_style='info', layout=Layout(w…"
                        ],
                        "application/vnd.jupyter.widget-view+json": {
                            "version_major": 2,
                            "version_minor": 0,
                            "model_id": "76a4ab53b81d4e40b82660d5d82c3990"
                        }
                    },
                    "metadata": {}
                },
                {
                    "output_type": "stream",
                    "name": "stdout",
                    "text": [
                        "Proletarian_internationalism\n"
                    ]
                },
                {
                    "output_type": "display_data",
                    "data": {
                        "text/plain": [
                            "HBox(children=(HTML(value='Processing paragraphs'), FloatProgress(value=1.0, bar_style='info', layout=Layout(w…"
                        ],
                        "application/vnd.jupyter.widget-view+json": {
                            "version_major": 2,
                            "version_minor": 0,
                            "model_id": "2e7c295a82e447ceaa5ddf9f2330fba0"
                        }
                    },
                    "metadata": {}
                },
                {
                    "output_type": "stream",
                    "name": "stdout",
                    "text": [
                        "Permanent_revolution\n"
                    ]
                },
                {
                    "output_type": "display_data",
                    "data": {
                        "text/plain": [
                            "HBox(children=(HTML(value='Processing paragraphs'), FloatProgress(value=1.0, bar_style='info', layout=Layout(w…"
                        ],
                        "application/vnd.jupyter.widget-view+json": {
                            "version_major": 2,
                            "version_minor": 0,
                            "model_id": "81a2b1a16e7449dba4a5c6e048186d3a"
                        }
                    },
                    "metadata": {}
                },
                {
                    "output_type": "stream",
                    "name": "stdout",
                    "text": [
                        "Outline_of_Marxism\n"
                    ]
                },
                {
                    "output_type": "display_data",
                    "data": {
                        "text/plain": [
                            "HBox(children=(HTML(value='Processing paragraphs'), FloatProgress(value=1.0, bar_style='info', layout=Layout(w…"
                        ],
                        "application/vnd.jupyter.widget-view+json": {
                            "version_major": 2,
                            "version_minor": 0,
                            "model_id": "54aac9ea70214594895abfd1f3d9a71d"
                        }
                    },
                    "metadata": {}
                },
                {
                    "output_type": "stream",
                    "name": "stdout",
                    "text": [
                        "token_num 2060914\n",
                        "total_pages 504\n"
                    ]
                },
                {
                    "output_type": "display_data",
                    "data": {
                        "text/plain": [
                            "HBox(children=(HTML(value='Processing titles'), FloatProgress(value=0.0, max=21.0), HTML(value='')))"
                        ],
                        "application/vnd.jupyter.widget-view+json": {
                            "version_major": 2,
                            "version_minor": 0,
                            "model_id": "a7204f9a4e80438782f347f6c108cedc"
                        }
                    },
                    "metadata": {}
                },
                {
                    "output_type": "stream",
                    "name": "stdout",
                    "text": [
                        "Immanuel_Kant\n"
                    ]
                },
                {
                    "output_type": "display_data",
                    "data": {
                        "text/plain": [
                            "HBox(children=(HTML(value='Processing paragraphs'), FloatProgress(value=1.0, bar_style='info', layout=Layout(w…"
                        ],
                        "application/vnd.jupyter.widget-view+json": {
                            "version_major": 2,
                            "version_minor": 0,
                            "model_id": "770f9f8b469f41769b600ab63ab00ccb"
                        }
                    },
                    "metadata": {}
                },
                {
                    "output_type": "stream",
                    "name": "stdout",
                    "text": [
                        "Noumenon\n"
                    ]
                },
                {
                    "output_type": "display_data",
                    "data": {
                        "text/plain": [
                            "HBox(children=(HTML(value='Processing paragraphs'), FloatProgress(value=1.0, bar_style='info', layout=Layout(w…"
                        ],
                        "application/vnd.jupyter.widget-view+json": {
                            "version_major": 2,
                            "version_minor": 0,
                            "model_id": "122c0d97f175470c87632f8c5205c0a0"
                        }
                    },
                    "metadata": {}
                },
                {
                    "output_type": "stream",
                    "name": "stdout",
                    "text": [
                        "German_idealism\n"
                    ]
                },
                {
                    "output_type": "display_data",
                    "data": {
                        "text/plain": [
                            "HBox(children=(HTML(value='Processing paragraphs'), FloatProgress(value=1.0, bar_style='info', layout=Layout(w…"
                        ],
                        "application/vnd.jupyter.widget-view+json": {
                            "version_major": 2,
                            "version_minor": 0,
                            "model_id": "356f68213fa2422fae979c9aa5d54fd4"
                        }
                    },
                    "metadata": {}
                },
                {
                    "output_type": "stream",
                    "name": "stdout",
                    "text": [
                        "Critique_of_Pure_Reason\n"
                    ]
                },
                {
                    "output_type": "display_data",
                    "data": {
                        "text/plain": [
                            "HBox(children=(HTML(value='Processing paragraphs'), FloatProgress(value=1.0, bar_style='info', layout=Layout(w…"
                        ],
                        "application/vnd.jupyter.widget-view+json": {
                            "version_major": 2,
                            "version_minor": 0,
                            "model_id": "39dcee1a256c497690c74d0f97f9bdcc"
                        }
                    },
                    "metadata": {}
                },
                {
                    "output_type": "stream",
                    "name": "stdout",
                    "text": [
                        "Transcendental_idealism\n"
                    ]
                },
                {
                    "output_type": "display_data",
                    "data": {
                        "text/plain": [
                            "HBox(children=(HTML(value='Processing paragraphs'), FloatProgress(value=1.0, bar_style='info', layout=Layout(w…"
                        ],
                        "application/vnd.jupyter.widget-view+json": {
                            "version_major": 2,
                            "version_minor": 0,
                            "model_id": "6011462e7b774db9883d07af72629fb3"
                        }
                    },
                    "metadata": {}
                },
                {
                    "output_type": "stream",
                    "name": "stdout",
                    "text": [
                        "Critique_of_Judgment\n"
                    ]
                },
                {
                    "output_type": "display_data",
                    "data": {
                        "text/plain": [
                            "HBox(children=(HTML(value='Processing paragraphs'), FloatProgress(value=1.0, bar_style='info', layout=Layout(w…"
                        ],
                        "application/vnd.jupyter.widget-view+json": {
                            "version_major": 2,
                            "version_minor": 0,
                            "model_id": "f26aab6d33ec447c9678f9a4558af914"
                        }
                    },
                    "metadata": {}
                },
                {
                    "output_type": "stream",
                    "name": "stdout",
                    "text": [
                        "Kantianism\n"
                    ]
                },
                {
                    "output_type": "display_data",
                    "data": {
                        "text/plain": [
                            "HBox(children=(HTML(value='Processing paragraphs'), FloatProgress(value=1.0, bar_style='info', layout=Layout(w…"
                        ],
                        "application/vnd.jupyter.widget-view+json": {
                            "version_major": 2,
                            "version_minor": 0,
                            "model_id": "b08b2024d28a4074afb2dad9c310136d"
                        }
                    },
                    "metadata": {}
                },
                {
                    "output_type": "stream",
                    "name": "stdout",
                    "text": [
                        "Karl_Leonhard_Reinhold\n"
                    ]
                },
                {
                    "output_type": "display_data",
                    "data": {
                        "text/plain": [
                            "HBox(children=(HTML(value='Processing paragraphs'), FloatProgress(value=1.0, bar_style='info', layout=Layout(w…"
                        ],
                        "application/vnd.jupyter.widget-view+json": {
                            "version_major": 2,
                            "version_minor": 0,
                            "model_id": "836f9f63236045c8aed8ea18b9aef1a4"
                        }
                    },
                    "metadata": {}
                },
                {
                    "output_type": "stream",
                    "name": "stdout",
                    "text": [
                        "The_Bounds_of_Sense\n"
                    ]
                },
                {
                    "output_type": "display_data",
                    "data": {
                        "text/plain": [
                            "HBox(children=(HTML(value='Processing paragraphs'), FloatProgress(value=1.0, bar_style='info', layout=Layout(w…"
                        ],
                        "application/vnd.jupyter.widget-view+json": {
                            "version_major": 2,
                            "version_minor": 0,
                            "model_id": "53af733932c3490f86eac7c951a83d16"
                        }
                    },
                    "metadata": {}
                },
                {
                    "output_type": "stream",
                    "name": "stdout",
                    "text": [
                        "Transcendence_(philosophy)\n"
                    ]
                },
                {
                    "output_type": "display_data",
                    "data": {
                        "text/plain": [
                            "HBox(children=(HTML(value='Processing paragraphs'), FloatProgress(value=1.0, bar_style='info', layout=Layout(w…"
                        ],
                        "application/vnd.jupyter.widget-view+json": {
                            "version_major": 2,
                            "version_minor": 0,
                            "model_id": "a1c69fb698cf4791b8d9980358dbeb78"
                        }
                    },
                    "metadata": {}
                },
                {
                    "output_type": "stream",
                    "name": "stdout",
                    "text": [
                        "Mou_Zongsan\n"
                    ]
                },
                {
                    "output_type": "display_data",
                    "data": {
                        "text/plain": [
                            "HBox(children=(HTML(value='Processing paragraphs'), FloatProgress(value=1.0, bar_style='info', layout=Layout(w…"
                        ],
                        "application/vnd.jupyter.widget-view+json": {
                            "version_major": 2,
                            "version_minor": 0,
                            "model_id": "3a6558b7e6064e059840b3dc06c4d854"
                        }
                    },
                    "metadata": {}
                },
                {
                    "output_type": "stream",
                    "name": "stdout",
                    "text": [
                        "Critique_of_the_Kantian_Philosophy\n"
                    ]
                },
                {
                    "output_type": "display_data",
                    "data": {
                        "text/plain": [
                            "HBox(children=(HTML(value='Processing paragraphs'), FloatProgress(value=1.0, bar_style='info', layout=Layout(w…"
                        ],
                        "application/vnd.jupyter.widget-view+json": {
                            "version_major": 2,
                            "version_minor": 0,
                            "model_id": "fd9c5f77e2744a638b29b62384d95826"
                        }
                    },
                    "metadata": {}
                },
                {
                    "output_type": "stream",
                    "name": "stdout",
                    "text": [
                        "Schema_(Kant)\n"
                    ]
                },
                {
                    "output_type": "display_data",
                    "data": {
                        "text/plain": [
                            "HBox(children=(HTML(value='Processing paragraphs'), FloatProgress(value=1.0, bar_style='info', layout=Layout(w…"
                        ],
                        "application/vnd.jupyter.widget-view+json": {
                            "version_major": 2,
                            "version_minor": 0,
                            "model_id": "d27d974ff0c94e94b074adb4a7be644e"
                        }
                    },
                    "metadata": {}
                },
                {
                    "output_type": "stream",
                    "name": "stdout",
                    "text": [
                        "A_priori_and_a_posteriori\n"
                    ]
                },
                {
                    "output_type": "display_data",
                    "data": {
                        "text/plain": [
                            "HBox(children=(HTML(value='Processing paragraphs'), FloatProgress(value=1.0, bar_style='info', layout=Layout(w…"
                        ],
                        "application/vnd.jupyter.widget-view+json": {
                            "version_major": 2,
                            "version_minor": 0,
                            "model_id": "58dbc8f9310d4950805a01eff31b0a31"
                        }
                    },
                    "metadata": {}
                },
                {
                    "output_type": "stream",
                    "name": "stdout",
                    "text": [
                        "Arthur_Schopenhauer's_criticism_of_Immanuel_Kant's_schemata\n"
                    ]
                },
                {
                    "output_type": "display_data",
                    "data": {
                        "text/plain": [
                            "HBox(children=(HTML(value='Processing paragraphs'), FloatProgress(value=1.0, bar_style='info', layout=Layout(w…"
                        ],
                        "application/vnd.jupyter.widget-view+json": {
                            "version_major": 2,
                            "version_minor": 0,
                            "model_id": "e9e3254f1ec649e0ade5ddbeaabde01b"
                        }
                    },
                    "metadata": {}
                },
                {
                    "output_type": "stream",
                    "name": "stdout",
                    "text": [
                        "Category_(Kant)\n"
                    ]
                },
                {
                    "output_type": "display_data",
                    "data": {
                        "text/plain": [
                            "HBox(children=(HTML(value='Processing paragraphs'), FloatProgress(value=1.0, bar_style='info', layout=Layout(w…"
                        ],
                        "application/vnd.jupyter.widget-view+json": {
                            "version_major": 2,
                            "version_minor": 0,
                            "model_id": "09e2d1bf3af4476e9f60745436dea946"
                        }
                    },
                    "metadata": {}
                },
                {
                    "output_type": "stream",
                    "name": "stdout",
                    "text": [
                        "Introduction_to_Kant's_Anthropology\n"
                    ]
                },
                {
                    "output_type": "display_data",
                    "data": {
                        "text/plain": [
                            "HBox(children=(HTML(value='Processing paragraphs'), FloatProgress(value=1.0, bar_style='info', layout=Layout(w…"
                        ],
                        "application/vnd.jupyter.widget-view+json": {
                            "version_major": 2,
                            "version_minor": 0,
                            "model_id": "a6a46f4f99f645a2a0a6e30ba408212d"
                        }
                    },
                    "metadata": {}
                },
                {
                    "output_type": "stream",
                    "name": "stdout",
                    "text": [
                        "Allen_W._Wood\n"
                    ]
                },
                {
                    "output_type": "display_data",
                    "data": {
                        "text/plain": [
                            "HBox(children=(HTML(value='Processing paragraphs'), FloatProgress(value=1.0, bar_style='info', layout=Layout(w…"
                        ],
                        "application/vnd.jupyter.widget-view+json": {
                            "version_major": 2,
                            "version_minor": 0,
                            "model_id": "94879d9108dd419390acb9cb0ca1b046"
                        }
                    },
                    "metadata": {}
                },
                {
                    "output_type": "stream",
                    "name": "stdout",
                    "text": [
                        "Timeline_of_German_idealism\n"
                    ]
                },
                {
                    "output_type": "display_data",
                    "data": {
                        "text/plain": [
                            "HBox(children=(HTML(value='Processing paragraphs'), FloatProgress(value=1.0, bar_style='info', layout=Layout(w…"
                        ],
                        "application/vnd.jupyter.widget-view+json": {
                            "version_major": 2,
                            "version_minor": 0,
                            "model_id": "de1ce636b7774dec9061e8718d51c6bc"
                        }
                    },
                    "metadata": {}
                },
                {
                    "output_type": "stream",
                    "name": "stdout",
                    "text": [
                        "Béatrice_Longuenesse\n"
                    ]
                },
                {
                    "output_type": "display_data",
                    "data": {
                        "text/plain": [
                            "HBox(children=(HTML(value='Processing paragraphs'), FloatProgress(value=1.0, bar_style='info', layout=Layout(w…"
                        ],
                        "application/vnd.jupyter.widget-view+json": {
                            "version_major": 2,
                            "version_minor": 0,
                            "model_id": "aa4366da168f40658252080c53c69862"
                        }
                    },
                    "metadata": {}
                },
                {
                    "output_type": "stream",
                    "name": "stdout",
                    "text": [
                        "Stephen_Palmquist\n"
                    ]
                },
                {
                    "output_type": "display_data",
                    "data": {
                        "text/plain": [
                            "HBox(children=(HTML(value='Processing paragraphs'), FloatProgress(value=1.0, bar_style='info', layout=Layout(w…"
                        ],
                        "application/vnd.jupyter.widget-view+json": {
                            "version_major": 2,
                            "version_minor": 0,
                            "model_id": "ffa128e3b6f448b29682c5a1da7c0373"
                        }
                    },
                    "metadata": {}
                },
                {
                    "output_type": "stream",
                    "name": "stdout",
                    "text": [
                        "token_num 2128611\n",
                        "total_pages 525\n"
                    ]
                },
                {
                    "output_type": "display_data",
                    "data": {
                        "text/plain": [
                            "HBox(children=(HTML(value='Processing titles'), FloatProgress(value=0.0, max=21.0), HTML(value='')))"
                        ],
                        "application/vnd.jupyter.widget-view+json": {
                            "version_major": 2,
                            "version_minor": 0,
                            "model_id": "01a4f167b5c84fa8a9bb7dbe769e7446"
                        }
                    },
                    "metadata": {}
                },
                {
                    "output_type": "stream",
                    "name": "stdout",
                    "text": [
                        "USS_Enterprise\n"
                    ]
                },
                {
                    "output_type": "display_data",
                    "data": {
                        "text/plain": [
                            "HBox(children=(HTML(value='Processing paragraphs'), FloatProgress(value=1.0, bar_style='info', layout=Layout(w…"
                        ],
                        "application/vnd.jupyter.widget-view+json": {
                            "version_major": 2,
                            "version_minor": 0,
                            "model_id": "72ac222ddace4198930a995cdf0881a6"
                        }
                    },
                    "metadata": {}
                },
                {
                    "output_type": "stream",
                    "name": "stdout",
                    "text": [
                        "Enterprise\n"
                    ]
                },
                {
                    "output_type": "display_data",
                    "data": {
                        "text/plain": [
                            "HBox(children=(HTML(value='Processing paragraphs'), FloatProgress(value=1.0, bar_style='info', layout=Layout(w…"
                        ],
                        "application/vnd.jupyter.widget-view+json": {
                            "version_major": 2,
                            "version_minor": 0,
                            "model_id": "22187337c4324f93af3477a030931371"
                        }
                    },
                    "metadata": {}
                },
                {
                    "output_type": "stream",
                    "name": "stdout",
                    "text": [
                        "Starship_Enterprise\n"
                    ]
                },
                {
                    "output_type": "display_data",
                    "data": {
                        "text/plain": [
                            "HBox(children=(HTML(value='Processing paragraphs'), FloatProgress(value=1.0, bar_style='info', layout=Layout(w…"
                        ],
                        "application/vnd.jupyter.widget-view+json": {
                            "version_major": 2,
                            "version_minor": 0,
                            "model_id": "6032302db71c4ff999f318ae7c6c9adb"
                        }
                    },
                    "metadata": {}
                },
                {
                    "output_type": "stream",
                    "name": "stdout",
                    "text": [
                        "Starfleet\n"
                    ]
                },
                {
                    "output_type": "display_data",
                    "data": {
                        "text/plain": [
                            "HBox(children=(HTML(value='Processing paragraphs'), FloatProgress(value=1.0, bar_style='info', layout=Layout(w…"
                        ],
                        "application/vnd.jupyter.widget-view+json": {
                            "version_major": 2,
                            "version_minor": 0,
                            "model_id": "75908e1e18604469a399ac09a539a7d3"
                        }
                    },
                    "metadata": {}
                },
                {
                    "output_type": "stream",
                    "name": "stdout",
                    "text": [
                        "USS_Wasp\n"
                    ]
                },
                {
                    "output_type": "display_data",
                    "data": {
                        "text/plain": [
                            "HBox(children=(HTML(value='Processing paragraphs'), FloatProgress(value=1.0, bar_style='info', layout=Layout(w…"
                        ],
                        "application/vnd.jupyter.widget-view+json": {
                            "version_major": 2,
                            "version_minor": 0,
                            "model_id": "4d9fb69994fc4d6d8450917e20008aee"
                        }
                    },
                    "metadata": {}
                },
                {
                    "output_type": "stream",
                    "name": "stdout",
                    "text": [
                        "USS_Enterprise_(CVN-65)\n"
                    ]
                },
                {
                    "output_type": "display_data",
                    "data": {
                        "text/plain": [
                            "HBox(children=(HTML(value='Processing paragraphs'), FloatProgress(value=1.0, bar_style='info', layout=Layout(w…"
                        ],
                        "application/vnd.jupyter.widget-view+json": {
                            "version_major": 2,
                            "version_minor": 0,
                            "model_id": "9e85a18928074ce6abe90af13c9b0b6f"
                        }
                    },
                    "metadata": {}
                },
                {
                    "output_type": "stream",
                    "name": "stdout",
                    "text": [
                        "USS_Franklin\n"
                    ]
                },
                {
                    "output_type": "display_data",
                    "data": {
                        "text/plain": [
                            "HBox(children=(HTML(value='Processing paragraphs'), FloatProgress(value=1.0, bar_style='info', layout=Layout(w…"
                        ],
                        "application/vnd.jupyter.widget-view+json": {
                            "version_major": 2,
                            "version_minor": 0,
                            "model_id": "e13c7238cbc84ab680741cdc929947ef"
                        }
                    },
                    "metadata": {}
                },
                {
                    "output_type": "stream",
                    "name": "stdout",
                    "text": [
                        "List_of_fictional_ships\n"
                    ]
                },
                {
                    "output_type": "display_data",
                    "data": {
                        "text/plain": [
                            "HBox(children=(HTML(value='Processing paragraphs'), FloatProgress(value=1.0, bar_style='info', layout=Layout(w…"
                        ],
                        "application/vnd.jupyter.widget-view+json": {
                            "version_major": 2,
                            "version_minor": 0,
                            "model_id": "96009f56a3774b6db125622881c9af88"
                        }
                    },
                    "metadata": {}
                },
                {
                    "output_type": "stream",
                    "name": "stdout",
                    "text": [
                        "List_of_fictional_spacecraft\n"
                    ]
                },
                {
                    "output_type": "display_data",
                    "data": {
                        "text/plain": [
                            "HBox(children=(HTML(value='Processing paragraphs'), FloatProgress(value=1.0, bar_style='info', layout=Layout(w…"
                        ],
                        "application/vnd.jupyter.widget-view+json": {
                            "version_major": 2,
                            "version_minor": 0,
                            "model_id": "f0c09d074a7d4e7aadde50c93998454c"
                        }
                    },
                    "metadata": {}
                },
                {
                    "output_type": "stream",
                    "name": "stdout",
                    "text": [
                        "Defiant\n"
                    ]
                },
                {
                    "output_type": "display_data",
                    "data": {
                        "text/plain": [
                            "HBox(children=(HTML(value='Processing paragraphs'), FloatProgress(value=1.0, bar_style='info', layout=Layout(w…"
                        ],
                        "application/vnd.jupyter.widget-view+json": {
                            "version_major": 2,
                            "version_minor": 0,
                            "model_id": "0de41c8055104e869f0e5138bd8155f3"
                        }
                    },
                    "metadata": {}
                },
                {
                    "output_type": "stream",
                    "name": "stdout",
                    "text": [
                        "USS_Enterprise_(NCC-1701)\n"
                    ]
                },
                {
                    "output_type": "display_data",
                    "data": {
                        "text/plain": [
                            "HBox(children=(HTML(value='Processing paragraphs'), FloatProgress(value=1.0, bar_style='info', layout=Layout(w…"
                        ],
                        "application/vnd.jupyter.widget-view+json": {
                            "version_major": 2,
                            "version_minor": 0,
                            "model_id": "0d2e93c124794093a5f1d107ac183544"
                        }
                    },
                    "metadata": {}
                },
                {
                    "output_type": "stream",
                    "name": "stdout",
                    "text": [
                        "USS_Enterprise_(NCC-1701-D)\n"
                    ]
                },
                {
                    "output_type": "display_data",
                    "data": {
                        "text/plain": [
                            "HBox(children=(HTML(value='Processing paragraphs'), FloatProgress(value=1.0, bar_style='info', layout=Layout(w…"
                        ],
                        "application/vnd.jupyter.widget-view+json": {
                            "version_major": 2,
                            "version_minor": 0,
                            "model_id": "0ec9c20425824b15a4c9d3f593145e36"
                        }
                    },
                    "metadata": {}
                },
                {
                    "output_type": "stream",
                    "name": "stdout",
                    "text": [
                        "USS_Enterprise_(NCC-1701-A)\n"
                    ]
                },
                {
                    "output_type": "display_data",
                    "data": {
                        "text/plain": [
                            "HBox(children=(HTML(value='Processing paragraphs'), FloatProgress(value=1.0, bar_style='info', layout=Layout(w…"
                        ],
                        "application/vnd.jupyter.widget-view+json": {
                            "version_major": 2,
                            "version_minor": 0,
                            "model_id": "b67f0fa171674112ae026892b22ef085"
                        }
                    },
                    "metadata": {}
                },
                {
                    "output_type": "stream",
                    "name": "stdout",
                    "text": [
                        "Timeline_of_Star_Trek\n"
                    ]
                },
                {
                    "output_type": "display_data",
                    "data": {
                        "text/plain": [
                            "HBox(children=(HTML(value='Processing paragraphs'), FloatProgress(value=1.0, bar_style='info', layout=Layout(w…"
                        ],
                        "application/vnd.jupyter.widget-view+json": {
                            "version_major": 2,
                            "version_minor": 0,
                            "model_id": "f5a37b02898c4e79b3d3a060e7bc47c5"
                        }
                    },
                    "metadata": {}
                },
                {
                    "output_type": "stream",
                    "name": "stdout",
                    "text": [
                        "USS_Enterprise_(NCC-1701-E)\n"
                    ]
                },
                {
                    "output_type": "display_data",
                    "data": {
                        "text/plain": [
                            "HBox(children=(HTML(value='Processing paragraphs'), FloatProgress(value=1.0, bar_style='info', layout=Layout(w…"
                        ],
                        "application/vnd.jupyter.widget-view+json": {
                            "version_major": 2,
                            "version_minor": 0,
                            "model_id": "bcfa52c7942b40e3a6a23afcc5355556"
                        }
                    },
                    "metadata": {}
                },
                {
                    "output_type": "stream",
                    "name": "stdout",
                    "text": [
                        "Shuttlecraft_(Star_Trek)\n"
                    ]
                },
                {
                    "output_type": "display_data",
                    "data": {
                        "text/plain": [
                            "HBox(children=(HTML(value='Processing paragraphs'), FloatProgress(value=1.0, bar_style='info', layout=Layout(w…"
                        ],
                        "application/vnd.jupyter.widget-view+json": {
                            "version_major": 2,
                            "version_minor": 0,
                            "model_id": "2c8d2f4eec544ff5b06951e11e24aeae"
                        }
                    },
                    "metadata": {}
                },
                {
                    "output_type": "stream",
                    "name": "stdout",
                    "text": [
                        "First_Flight_(Star_Trek:_Enterprise)\n"
                    ]
                },
                {
                    "output_type": "display_data",
                    "data": {
                        "text/plain": [
                            "HBox(children=(HTML(value='Processing paragraphs'), FloatProgress(value=1.0, bar_style='info', layout=Layout(w…"
                        ],
                        "application/vnd.jupyter.widget-view+json": {
                            "version_major": 2,
                            "version_minor": 0,
                            "model_id": "c0c7be084e8b457ab8853317f244b152"
                        }
                    },
                    "metadata": {}
                },
                {
                    "output_type": "stream",
                    "name": "stdout",
                    "text": [
                        "List_of_U.S._military_vessels_named_after_presidents\n"
                    ]
                },
                {
                    "output_type": "display_data",
                    "data": {
                        "text/plain": [
                            "HBox(children=(HTML(value='Processing paragraphs'), FloatProgress(value=1.0, bar_style='info', layout=Layout(w…"
                        ],
                        "application/vnd.jupyter.widget-view+json": {
                            "version_major": 2,
                            "version_minor": 0,
                            "model_id": "f36faa03b79247929bc590ccf199ef1c"
                        }
                    },
                    "metadata": {}
                },
                {
                    "output_type": "stream",
                    "name": "stdout",
                    "text": [
                        "Spacecraft_in_Star_Trek\n"
                    ]
                },
                {
                    "output_type": "display_data",
                    "data": {
                        "text/plain": [
                            "HBox(children=(HTML(value='Processing paragraphs'), FloatProgress(value=1.0, bar_style='info', layout=Layout(w…"
                        ],
                        "application/vnd.jupyter.widget-view+json": {
                            "version_major": 2,
                            "version_minor": 0,
                            "model_id": "2b09f201ada14dec891bfec213ebe1a2"
                        }
                    },
                    "metadata": {}
                },
                {
                    "output_type": "stream",
                    "name": "stdout",
                    "text": [
                        "Outline_of_Star_Trek\n"
                    ]
                },
                {
                    "output_type": "display_data",
                    "data": {
                        "text/plain": [
                            "HBox(children=(HTML(value='Processing paragraphs'), FloatProgress(value=1.0, bar_style='info', layout=Layout(w…"
                        ],
                        "application/vnd.jupyter.widget-view+json": {
                            "version_major": 2,
                            "version_minor": 0,
                            "model_id": "bf022557bb344e64b55558bd0c91be1c"
                        }
                    },
                    "metadata": {}
                },
                {
                    "output_type": "stream",
                    "name": "stdout",
                    "text": [
                        "Now_hear_this_(nautical_command)\n"
                    ]
                },
                {
                    "output_type": "display_data",
                    "data": {
                        "text/plain": [
                            "HBox(children=(HTML(value='Processing paragraphs'), FloatProgress(value=1.0, bar_style='info', layout=Layout(w…"
                        ],
                        "application/vnd.jupyter.widget-view+json": {
                            "version_major": 2,
                            "version_minor": 0,
                            "model_id": "0433c9a2b40b4443b9691af282909039"
                        }
                    },
                    "metadata": {}
                },
                {
                    "output_type": "stream",
                    "name": "stdout",
                    "text": [
                        "token_num 2165624\n",
                        "total_pages 546\n"
                    ]
                },
                {
                    "output_type": "display_data",
                    "data": {
                        "text/plain": [
                            "HBox(children=(HTML(value='Processing titles'), FloatProgress(value=0.0, max=21.0), HTML(value='')))"
                        ],
                        "application/vnd.jupyter.widget-view+json": {
                            "version_major": 2,
                            "version_minor": 0,
                            "model_id": "049193928fef419099a92823575f2fd8"
                        }
                    },
                    "metadata": {}
                },
                {
                    "output_type": "stream",
                    "name": "stdout",
                    "text": [
                        "Atomic_bombings_of_Hiroshima_and_Nagasaki\n"
                    ]
                },
                {
                    "output_type": "display_data",
                    "data": {
                        "text/plain": [
                            "HBox(children=(HTML(value='Processing paragraphs'), FloatProgress(value=1.0, bar_style='info', layout=Layout(w…"
                        ],
                        "application/vnd.jupyter.widget-view+json": {
                            "version_major": 2,
                            "version_minor": 0,
                            "model_id": "40ed287b3d1e4681a52d9f698a7346b8"
                        }
                    },
                    "metadata": {}
                },
                {
                    "output_type": "stream",
                    "name": "stdout",
                    "text": [
                        "Enola_Gay\n"
                    ]
                },
                {
                    "output_type": "display_data",
                    "data": {
                        "text/plain": [
                            "HBox(children=(HTML(value='Processing paragraphs'), FloatProgress(value=1.0, bar_style='info', layout=Layout(w…"
                        ],
                        "application/vnd.jupyter.widget-view+json": {
                            "version_major": 2,
                            "version_minor": 0,
                            "model_id": "ed6cdb3bb548444fbbc5d143c7df9168"
                        }
                    },
                    "metadata": {}
                },
                {
                    "output_type": "stream",
                    "name": "stdout",
                    "text": [
                        "Fat_Man\n"
                    ]
                },
                {
                    "output_type": "display_data",
                    "data": {
                        "text/plain": [
                            "HBox(children=(HTML(value='Processing paragraphs'), FloatProgress(value=1.0, bar_style='info', layout=Layout(w…"
                        ],
                        "application/vnd.jupyter.widget-view+json": {
                            "version_major": 2,
                            "version_minor": 0,
                            "model_id": "ce1f0e6da83a4d2bad3e46374aa563b4"
                        }
                    },
                    "metadata": {}
                },
                {
                    "output_type": "stream",
                    "name": "stdout",
                    "text": [
                        "Little_Boy\n"
                    ]
                },
                {
                    "output_type": "display_data",
                    "data": {
                        "text/plain": [
                            "HBox(children=(HTML(value='Processing paragraphs'), FloatProgress(value=1.0, bar_style='info', layout=Layout(w…"
                        ],
                        "application/vnd.jupyter.widget-view+json": {
                            "version_major": 2,
                            "version_minor": 0,
                            "model_id": "02f4147c7d7b427ea11f158ae2890d15"
                        }
                    },
                    "metadata": {}
                },
                {
                    "output_type": "stream",
                    "name": "stdout",
                    "text": [
                        "Nagasaki\n"
                    ]
                },
                {
                    "output_type": "display_data",
                    "data": {
                        "text/plain": [
                            "HBox(children=(HTML(value='Processing paragraphs'), FloatProgress(value=1.0, bar_style='info', layout=Layout(w…"
                        ],
                        "application/vnd.jupyter.widget-view+json": {
                            "version_major": 2,
                            "version_minor": 0,
                            "model_id": "a258f4dcfb8f4edca2e14e87f8585eff"
                        }
                    },
                    "metadata": {}
                },
                {
                    "output_type": "stream",
                    "name": "stdout",
                    "text": [
                        "Nuclear_warfare\n"
                    ]
                },
                {
                    "output_type": "display_data",
                    "data": {
                        "text/plain": [
                            "HBox(children=(HTML(value='Processing paragraphs'), FloatProgress(value=1.0, bar_style='info', layout=Layout(w…"
                        ],
                        "application/vnd.jupyter.widget-view+json": {
                            "version_major": 2,
                            "version_minor": 0,
                            "model_id": "6c4edccdcda74191b792c1c9d834a19e"
                        }
                    },
                    "metadata": {}
                },
                {
                    "output_type": "stream",
                    "name": "stdout",
                    "text": [
                        "Hiroshima\n"
                    ]
                },
                {
                    "output_type": "display_data",
                    "data": {
                        "text/plain": [
                            "HBox(children=(HTML(value='Processing paragraphs'), FloatProgress(value=1.0, bar_style='info', layout=Layout(w…"
                        ],
                        "application/vnd.jupyter.widget-view+json": {
                            "version_major": 2,
                            "version_minor": 0,
                            "model_id": "e0dde1d11317490599318c2142815d45"
                        }
                    },
                    "metadata": {}
                },
                {
                    "output_type": "stream",
                    "name": "stdout",
                    "text": [
                        "History_of_nuclear_weapons\n"
                    ]
                },
                {
                    "output_type": "display_data",
                    "data": {
                        "text/plain": [
                            "HBox(children=(HTML(value='Processing paragraphs'), FloatProgress(value=1.0, bar_style='info', layout=Layout(w…"
                        ],
                        "application/vnd.jupyter.widget-view+json": {
                            "version_major": 2,
                            "version_minor": 0,
                            "model_id": "8b5f697ebc00434aa815a6174a196028"
                        }
                    },
                    "metadata": {}
                },
                {
                    "output_type": "stream",
                    "name": "stdout",
                    "text": [
                        "Hibakusha\n"
                    ]
                },
                {
                    "output_type": "display_data",
                    "data": {
                        "text/plain": [
                            "HBox(children=(HTML(value='Processing paragraphs'), FloatProgress(value=1.0, bar_style='info', layout=Layout(w…"
                        ],
                        "application/vnd.jupyter.widget-view+json": {
                            "version_major": 2,
                            "version_minor": 0,
                            "model_id": "955fa923f774478bbdb57f138ece52f3"
                        }
                    },
                    "metadata": {}
                },
                {
                    "output_type": "stream",
                    "name": "stdout",
                    "text": [
                        "Interim_Committee\n"
                    ]
                },
                {
                    "output_type": "display_data",
                    "data": {
                        "text/plain": [
                            "HBox(children=(HTML(value='Processing paragraphs'), FloatProgress(value=1.0, bar_style='info', layout=Layout(w…"
                        ],
                        "application/vnd.jupyter.widget-view+json": {
                            "version_major": 2,
                            "version_minor": 0,
                            "model_id": "e17afb73feca40848d57ba3109f83030"
                        }
                    },
                    "metadata": {}
                },
                {
                    "output_type": "stream",
                    "name": "stdout",
                    "text": [
                        "Nuclear_weapons_debate\n"
                    ]
                },
                {
                    "output_type": "display_data",
                    "data": {
                        "text/plain": [
                            "HBox(children=(HTML(value='Processing paragraphs'), FloatProgress(value=1.0, bar_style='info', layout=Layout(w…"
                        ],
                        "application/vnd.jupyter.widget-view+json": {
                            "version_major": 2,
                            "version_minor": 0,
                            "model_id": "ebf9c2b83cad472e8b0f6bd16132a85c"
                        }
                    },
                    "metadata": {}
                },
                {
                    "output_type": "stream",
                    "name": "stdout",
                    "text": [
                        "Timeline_of_the_Manhattan_Project\n"
                    ]
                },
                {
                    "output_type": "display_data",
                    "data": {
                        "text/plain": [
                            "HBox(children=(HTML(value='Processing paragraphs'), FloatProgress(value=1.0, bar_style='info', layout=Layout(w…"
                        ],
                        "application/vnd.jupyter.widget-view+json": {
                            "version_major": 2,
                            "version_minor": 0,
                            "model_id": "c85f3a6316294d4db7a2b130b4ac5f69"
                        }
                    },
                    "metadata": {}
                },
                {
                    "output_type": "stream",
                    "name": "stdout",
                    "text": [
                        "Nuclear_explosion\n"
                    ]
                },
                {
                    "output_type": "display_data",
                    "data": {
                        "text/plain": [
                            "HBox(children=(HTML(value='Processing paragraphs'), FloatProgress(value=1.0, bar_style='info', layout=Layout(w…"
                        ],
                        "application/vnd.jupyter.widget-view+json": {
                            "version_major": 2,
                            "version_minor": 0,
                            "model_id": "c0dc2c0e047244d2b9e474566f7599a1"
                        }
                    },
                    "metadata": {}
                },
                {
                    "output_type": "stream",
                    "name": "stdout",
                    "text": [
                        "Hiroshima_Peace_Memorial_Park\n"
                    ]
                },
                {
                    "output_type": "display_data",
                    "data": {
                        "text/plain": [
                            "HBox(children=(HTML(value='Processing paragraphs'), FloatProgress(value=1.0, bar_style='info', layout=Layout(w…"
                        ],
                        "application/vnd.jupyter.widget-view+json": {
                            "version_major": 2,
                            "version_minor": 0,
                            "model_id": "24ef6e477268466f9dbcaf0d22dd7ebf"
                        }
                    },
                    "metadata": {}
                },
                {
                    "output_type": "stream",
                    "name": "stdout",
                    "text": [
                        "Nagasaki_Atomic_Bomb_Museum\n"
                    ]
                },
                {
                    "output_type": "display_data",
                    "data": {
                        "text/plain": [
                            "HBox(children=(HTML(value='Processing paragraphs'), FloatProgress(value=1.0, bar_style='info', layout=Layout(w…"
                        ],
                        "application/vnd.jupyter.widget-view+json": {
                            "version_major": 2,
                            "version_minor": 0,
                            "model_id": "018f95529a94448983d256cd9a3b9944"
                        }
                    },
                    "metadata": {}
                },
                {
                    "output_type": "stream",
                    "name": "stdout",
                    "text": [
                        "Sumiteru_Taniguchi\n"
                    ]
                },
                {
                    "output_type": "display_data",
                    "data": {
                        "text/plain": [
                            "HBox(children=(HTML(value='Processing paragraphs'), FloatProgress(value=1.0, bar_style='info', layout=Layout(w…"
                        ],
                        "application/vnd.jupyter.widget-view+json": {
                            "version_major": 2,
                            "version_minor": 0,
                            "model_id": "2d960bf9fea349b5afacc1b7afcb6d97"
                        }
                    },
                    "metadata": {}
                },
                {
                    "output_type": "stream",
                    "name": "stdout",
                    "text": [
                        "Debate_over_the_atomic_bombings_of_Hiroshima_and_Nagasaki\n"
                    ]
                },
                {
                    "output_type": "display_data",
                    "data": {
                        "text/plain": [
                            "HBox(children=(HTML(value='Processing paragraphs'), FloatProgress(value=1.0, bar_style='info', layout=Layout(w…"
                        ],
                        "application/vnd.jupyter.widget-view+json": {
                            "version_major": 2,
                            "version_minor": 0,
                            "model_id": "8383dbc1f7074537a7361bb2fc7d9776"
                        }
                    },
                    "metadata": {}
                },
                {
                    "output_type": "stream",
                    "name": "stdout",
                    "text": [
                        "Bockscar\n"
                    ]
                },
                {
                    "output_type": "display_data",
                    "data": {
                        "text/plain": [
                            "HBox(children=(HTML(value='Processing paragraphs'), FloatProgress(value=1.0, bar_style='info', layout=Layout(w…"
                        ],
                        "application/vnd.jupyter.widget-view+json": {
                            "version_major": 2,
                            "version_minor": 0,
                            "model_id": "7fafc91d2c9d45078ef85555be499069"
                        }
                    },
                    "metadata": {}
                },
                {
                    "output_type": "stream",
                    "name": "stdout",
                    "text": [
                        "Charles_Donald_Albury\n"
                    ]
                },
                {
                    "output_type": "display_data",
                    "data": {
                        "text/plain": [
                            "HBox(children=(HTML(value='Processing paragraphs'), FloatProgress(value=1.0, bar_style='info', layout=Layout(w…"
                        ],
                        "application/vnd.jupyter.widget-view+json": {
                            "version_major": 2,
                            "version_minor": 0,
                            "model_id": "69d3b8e0528744989a53f2d567f5878c"
                        }
                    },
                    "metadata": {}
                },
                {
                    "output_type": "stream",
                    "name": "stdout",
                    "text": [
                        "Hiroshima:_BBC_History_of_World_War_II\n"
                    ]
                },
                {
                    "output_type": "display_data",
                    "data": {
                        "text/plain": [
                            "HBox(children=(HTML(value='Processing paragraphs'), FloatProgress(value=1.0, bar_style='info', layout=Layout(w…"
                        ],
                        "application/vnd.jupyter.widget-view+json": {
                            "version_major": 2,
                            "version_minor": 0,
                            "model_id": "0443b47c488f42eba7348025102a3806"
                        }
                    },
                    "metadata": {}
                },
                {
                    "output_type": "stream",
                    "name": "stdout",
                    "text": [
                        "Shuntaro_Hida\n"
                    ]
                },
                {
                    "output_type": "display_data",
                    "data": {
                        "text/plain": [
                            "HBox(children=(HTML(value='Processing paragraphs'), FloatProgress(value=1.0, bar_style='info', layout=Layout(w…"
                        ],
                        "application/vnd.jupyter.widget-view+json": {
                            "version_major": 2,
                            "version_minor": 0,
                            "model_id": "44bc6c733fb1468a962b4daa391a38b5"
                        }
                    },
                    "metadata": {}
                },
                {
                    "output_type": "stream",
                    "name": "stdout",
                    "text": [
                        "token_num 2255263\n",
                        "total_pages 567\n"
                    ]
                },
                {
                    "output_type": "display_data",
                    "data": {
                        "text/plain": [
                            "HBox(children=(HTML(value='Processing titles'), FloatProgress(value=0.0, max=21.0), HTML(value='')))"
                        ],
                        "application/vnd.jupyter.widget-view+json": {
                            "version_major": 2,
                            "version_minor": 0,
                            "model_id": "8793812d1a5241538cd2de917ae63b24"
                        }
                    },
                    "metadata": {}
                },
                {
                    "output_type": "stream",
                    "name": "stdout",
                    "text": [
                        "Adolf_Hitler\n"
                    ]
                },
                {
                    "output_type": "display_data",
                    "data": {
                        "text/plain": [
                            "HBox(children=(HTML(value='Processing paragraphs'), FloatProgress(value=1.0, bar_style='info', layout=Layout(w…"
                        ],
                        "application/vnd.jupyter.widget-view+json": {
                            "version_major": 2,
                            "version_minor": 0,
                            "model_id": "2cbfd416237140729799d5aba55b6f3d"
                        }
                    },
                    "metadata": {}
                },
                {
                    "output_type": "stream",
                    "name": "stdout",
                    "text": [
                        "Anton_Drexler\n"
                    ]
                },
                {
                    "output_type": "display_data",
                    "data": {
                        "text/plain": [
                            "HBox(children=(HTML(value='Processing paragraphs'), FloatProgress(value=1.0, bar_style='info', layout=Layout(w…"
                        ],
                        "application/vnd.jupyter.widget-view+json": {
                            "version_major": 2,
                            "version_minor": 0,
                            "model_id": "87d560d5fc554c2c941bc7f683cfcb6d"
                        }
                    },
                    "metadata": {}
                },
                {
                    "output_type": "stream",
                    "name": "stdout",
                    "text": [
                        "Heinrich_Himmler\n"
                    ]
                },
                {
                    "output_type": "display_data",
                    "data": {
                        "text/plain": [
                            "HBox(children=(HTML(value='Processing paragraphs'), FloatProgress(value=1.0, bar_style='info', layout=Layout(w…"
                        ],
                        "application/vnd.jupyter.widget-view+json": {
                            "version_major": 2,
                            "version_minor": 0,
                            "model_id": "da7afdcc8a1446e2941aa3bbc5ec6299"
                        }
                    },
                    "metadata": {}
                },
                {
                    "output_type": "stream",
                    "name": "stdout",
                    "text": [
                        "Joseph_Goebbels\n"
                    ]
                },
                {
                    "output_type": "display_data",
                    "data": {
                        "text/plain": [
                            "HBox(children=(HTML(value='Processing paragraphs'), FloatProgress(value=1.0, bar_style='info', layout=Layout(w…"
                        ],
                        "application/vnd.jupyter.widget-view+json": {
                            "version_major": 2,
                            "version_minor": 0,
                            "model_id": "ced1bd16a80b4fada42712dd273f5921"
                        }
                    },
                    "metadata": {}
                },
                {
                    "output_type": "stream",
                    "name": "stdout",
                    "text": [
                        "Nazi_Germany\n"
                    ]
                },
                {
                    "output_type": "display_data",
                    "data": {
                        "text/plain": [
                            "HBox(children=(HTML(value='Processing paragraphs'), FloatProgress(value=1.0, bar_style='info', layout=Layout(w…"
                        ],
                        "application/vnd.jupyter.widget-view+json": {
                            "version_major": 2,
                            "version_minor": 0,
                            "model_id": "afe24aae87234df3a890e7e462dbbcc6"
                        }
                    },
                    "metadata": {}
                },
                {
                    "output_type": "stream",
                    "name": "stdout",
                    "text": [
                        "Nazi_Party\n"
                    ]
                },
                {
                    "output_type": "display_data",
                    "data": {
                        "text/plain": [
                            "HBox(children=(HTML(value='Processing paragraphs'), FloatProgress(value=1.0, bar_style='info', layout=Layout(w…"
                        ],
                        "application/vnd.jupyter.widget-view+json": {
                            "version_major": 2,
                            "version_minor": 0,
                            "model_id": "26e3466163ec42b7911d4309a1d87f2e"
                        }
                    },
                    "metadata": {}
                },
                {
                    "output_type": "stream",
                    "name": "stdout",
                    "text": [
                        "Night_of_the_Long_Knives\n"
                    ]
                },
                {
                    "output_type": "display_data",
                    "data": {
                        "text/plain": [
                            "HBox(children=(HTML(value='Processing paragraphs'), FloatProgress(value=1.0, bar_style='info', layout=Layout(w…"
                        ],
                        "application/vnd.jupyter.widget-view+json": {
                            "version_major": 2,
                            "version_minor": 0,
                            "model_id": "0be62831e98a4c0888666da0fb05b0cc"
                        }
                    },
                    "metadata": {}
                },
                {
                    "output_type": "stream",
                    "name": "stdout",
                    "text": [
                        "Ernst_Röhm\n"
                    ]
                },
                {
                    "output_type": "display_data",
                    "data": {
                        "text/plain": [
                            "HBox(children=(HTML(value='Processing paragraphs'), FloatProgress(value=1.0, bar_style='info', layout=Layout(w…"
                        ],
                        "application/vnd.jupyter.widget-view+json": {
                            "version_major": 2,
                            "version_minor": 0,
                            "model_id": "1ce07e24590346978d656be00bfc5737"
                        }
                    },
                    "metadata": {}
                },
                {
                    "output_type": "stream",
                    "name": "stdout",
                    "text": [
                        "Franz_von_Papen\n"
                    ]
                },
                {
                    "output_type": "display_data",
                    "data": {
                        "text/plain": [
                            "HBox(children=(HTML(value='Processing paragraphs'), FloatProgress(value=1.0, bar_style='info', layout=Layout(w…"
                        ],
                        "application/vnd.jupyter.widget-view+json": {
                            "version_major": 2,
                            "version_minor": 0,
                            "model_id": "3137d3dd8a194a00b1b1d687b3ed3503"
                        }
                    },
                    "metadata": {}
                },
                {
                    "output_type": "stream",
                    "name": "stdout",
                    "text": [
                        "Early_timeline_of_Nazism\n"
                    ]
                },
                {
                    "output_type": "display_data",
                    "data": {
                        "text/plain": [
                            "HBox(children=(HTML(value='Processing paragraphs'), FloatProgress(value=1.0, bar_style='info', layout=Layout(w…"
                        ],
                        "application/vnd.jupyter.widget-view+json": {
                            "version_major": 2,
                            "version_minor": 0,
                            "model_id": "02a5e8538709413499fcf78ba2042baf"
                        }
                    },
                    "metadata": {}
                },
                {
                    "output_type": "stream",
                    "name": "stdout",
                    "text": [
                        "Political_views_of_Adolf_Hitler\n"
                    ]
                },
                {
                    "output_type": "display_data",
                    "data": {
                        "text/plain": [
                            "HBox(children=(HTML(value='Processing paragraphs'), FloatProgress(value=1.0, bar_style='info', layout=Layout(w…"
                        ],
                        "application/vnd.jupyter.widget-view+json": {
                            "version_major": 2,
                            "version_minor": 0,
                            "model_id": "cfbc966098d24ae99f1d9c600118f02b"
                        }
                    },
                    "metadata": {}
                },
                {
                    "output_type": "stream",
                    "name": "stdout",
                    "text": [
                        "Nuremberg_Laws\n"
                    ]
                },
                {
                    "output_type": "display_data",
                    "data": {
                        "text/plain": [
                            "HBox(children=(HTML(value='Processing paragraphs'), FloatProgress(value=1.0, bar_style='info', layout=Layout(w…"
                        ],
                        "application/vnd.jupyter.widget-view+json": {
                            "version_major": 2,
                            "version_minor": 0,
                            "model_id": "c8c25ecce86e434d9e5b6b4c6667a960"
                        }
                    },
                    "metadata": {}
                },
                {
                    "output_type": "stream",
                    "name": "stdout",
                    "text": [
                        "Bibliography_of_Adolf_Hitler\n"
                    ]
                },
                {
                    "output_type": "display_data",
                    "data": {
                        "text/plain": [
                            "HBox(children=(HTML(value='Processing paragraphs'), FloatProgress(value=1.0, bar_style='info', layout=Layout(w…"
                        ],
                        "application/vnd.jupyter.widget-view+json": {
                            "version_major": 2,
                            "version_minor": 0,
                            "model_id": "963255d42b8442bdb54df55de759d47d"
                        }
                    },
                    "metadata": {}
                },
                {
                    "output_type": "stream",
                    "name": "stdout",
                    "text": [
                        "Adolf_Hitler's_rise_to_power\n"
                    ]
                },
                {
                    "output_type": "display_data",
                    "data": {
                        "text/plain": [
                            "HBox(children=(HTML(value='Processing paragraphs'), FloatProgress(value=1.0, bar_style='info', layout=Layout(w…"
                        ],
                        "application/vnd.jupyter.widget-view+json": {
                            "version_major": 2,
                            "version_minor": 0,
                            "model_id": "402a3e0da8d74f818e2e86a4ea2406cf"
                        }
                    },
                    "metadata": {}
                },
                {
                    "output_type": "stream",
                    "name": "stdout",
                    "text": [
                        "Ulrich_Graf\n"
                    ]
                },
                {
                    "output_type": "display_data",
                    "data": {
                        "text/plain": [
                            "HBox(children=(HTML(value='Processing paragraphs'), FloatProgress(value=1.0, bar_style='info', layout=Layout(w…"
                        ],
                        "application/vnd.jupyter.widget-view+json": {
                            "version_major": 2,
                            "version_minor": 0,
                            "model_id": "9eb71881d6b14a41838bfec8ccf09ae0"
                        }
                    },
                    "metadata": {}
                },
                {
                    "output_type": "stream",
                    "name": "stdout",
                    "text": [
                        "Religious_views_of_Adolf_Hitler\n"
                    ]
                },
                {
                    "output_type": "display_data",
                    "data": {
                        "text/plain": [
                            "HBox(children=(HTML(value='Processing paragraphs'), FloatProgress(value=1.0, bar_style='info', layout=Layout(w…"
                        ],
                        "application/vnd.jupyter.widget-view+json": {
                            "version_major": 2,
                            "version_minor": 0,
                            "model_id": "e48a03e9e34548099ea4fbc1155c3b07"
                        }
                    },
                    "metadata": {}
                },
                {
                    "output_type": "stream",
                    "name": "stdout",
                    "text": [
                        "Sexuality_of_Adolf_Hitler\n"
                    ]
                },
                {
                    "output_type": "display_data",
                    "data": {
                        "text/plain": [
                            "HBox(children=(HTML(value='Processing paragraphs'), FloatProgress(value=1.0, bar_style='info', layout=Layout(w…"
                        ],
                        "application/vnd.jupyter.widget-view+json": {
                            "version_major": 2,
                            "version_minor": 0,
                            "model_id": "d45a73b137dd448b81c2ddd48b671077"
                        }
                    },
                    "metadata": {}
                },
                {
                    "output_type": "stream",
                    "name": "stdout",
                    "text": [
                        "Kirchenkampf\n"
                    ]
                },
                {
                    "output_type": "display_data",
                    "data": {
                        "text/plain": [
                            "HBox(children=(HTML(value='Processing paragraphs'), FloatProgress(value=1.0, bar_style='info', layout=Layout(w…"
                        ],
                        "application/vnd.jupyter.widget-view+json": {
                            "version_major": 2,
                            "version_minor": 0,
                            "model_id": "91b9e3509c974814af216c5fe36da2fe"
                        }
                    },
                    "metadata": {}
                },
                {
                    "output_type": "stream",
                    "name": "stdout",
                    "text": [
                        "Catholic_Church_and_Nazi_Germany\n"
                    ]
                },
                {
                    "output_type": "display_data",
                    "data": {
                        "text/plain": [
                            "HBox(children=(HTML(value='Processing paragraphs'), FloatProgress(value=1.0, bar_style='info', layout=Layout(w…"
                        ],
                        "application/vnd.jupyter.widget-view+json": {
                            "version_major": 2,
                            "version_minor": 0,
                            "model_id": "b50f7bc693e04a82b59fe4cc1bed4924"
                        }
                    },
                    "metadata": {}
                },
                {
                    "output_type": "stream",
                    "name": "stdout",
                    "text": [
                        "Military_career_of_Adolf_Hitler\n"
                    ]
                },
                {
                    "output_type": "display_data",
                    "data": {
                        "text/plain": [
                            "HBox(children=(HTML(value='Processing paragraphs'), FloatProgress(value=1.0, bar_style='info', layout=Layout(w…"
                        ],
                        "application/vnd.jupyter.widget-view+json": {
                            "version_major": 2,
                            "version_minor": 0,
                            "model_id": "c8cf2e3b96434d859e6576c371b19d06"
                        }
                    },
                    "metadata": {}
                },
                {
                    "output_type": "stream",
                    "name": "stdout",
                    "text": [
                        "Adolf_Hitler's_wealth_and_income\n"
                    ]
                },
                {
                    "output_type": "display_data",
                    "data": {
                        "text/plain": [
                            "HBox(children=(HTML(value='Processing paragraphs'), FloatProgress(value=1.0, bar_style='info', layout=Layout(w…"
                        ],
                        "application/vnd.jupyter.widget-view+json": {
                            "version_major": 2,
                            "version_minor": 0,
                            "model_id": "afa33d2351bb4fcfa8f0f64cc2542550"
                        }
                    },
                    "metadata": {}
                },
                {
                    "output_type": "stream",
                    "name": "stdout",
                    "text": [
                        "token_num 2410437\n",
                        "total_pages 588\n"
                    ]
                },
                {
                    "output_type": "display_data",
                    "data": {
                        "text/plain": [
                            "HBox(children=(HTML(value='Processing titles'), FloatProgress(value=0.0, max=21.0), HTML(value='')))"
                        ],
                        "application/vnd.jupyter.widget-view+json": {
                            "version_major": 2,
                            "version_minor": 0,
                            "model_id": "f014784e92cb48d295f99a8eefc3a4c4"
                        }
                    },
                    "metadata": {}
                },
                {
                    "output_type": "stream",
                    "name": "stdout",
                    "text": [
                        "Zanardelli_Code\n"
                    ]
                },
                {
                    "output_type": "display_data",
                    "data": {
                        "text/plain": [
                            "HBox(children=(HTML(value='Processing paragraphs'), FloatProgress(value=1.0, bar_style='info', layout=Layout(w…"
                        ],
                        "application/vnd.jupyter.widget-view+json": {
                            "version_major": 2,
                            "version_minor": 0,
                            "model_id": "445e433353b041aba8b0d8208ce1583d"
                        }
                    },
                    "metadata": {}
                },
                {
                    "output_type": "stream",
                    "name": "stdout",
                    "text": [
                        "Capital_punishment\n"
                    ]
                },
                {
                    "output_type": "display_data",
                    "data": {
                        "text/plain": [
                            "HBox(children=(HTML(value='Processing paragraphs'), FloatProgress(value=1.0, bar_style='info', layout=Layout(w…"
                        ],
                        "application/vnd.jupyter.widget-view+json": {
                            "version_major": 2,
                            "version_minor": 0,
                            "model_id": "5b8abcdf58d047bca0b503d15993f3f6"
                        }
                    },
                    "metadata": {}
                },
                {
                    "output_type": "stream",
                    "name": "stdout",
                    "text": [
                        "Misdemeanor\n"
                    ]
                },
                {
                    "output_type": "display_data",
                    "data": {
                        "text/plain": [
                            "HBox(children=(HTML(value='Processing paragraphs'), FloatProgress(value=1.0, bar_style='info', layout=Layout(w…"
                        ],
                        "application/vnd.jupyter.widget-view+json": {
                            "version_major": 2,
                            "version_minor": 0,
                            "model_id": "0ca72613ce984b1dbb875fab2c2c644a"
                        }
                    },
                    "metadata": {}
                },
                {
                    "output_type": "stream",
                    "name": "stdout",
                    "text": [
                        "Ex_post_facto_law\n"
                    ]
                },
                {
                    "output_type": "display_data",
                    "data": {
                        "text/plain": [
                            "HBox(children=(HTML(value='Processing paragraphs'), FloatProgress(value=1.0, bar_style='info', layout=Layout(w…"
                        ],
                        "application/vnd.jupyter.widget-view+json": {
                            "version_major": 2,
                            "version_minor": 0,
                            "model_id": "203b2e3f9fb64f2f868add6bef5317c7"
                        }
                    },
                    "metadata": {}
                },
                {
                    "output_type": "stream",
                    "name": "stdout",
                    "text": [
                        "Giuseppe_Zanardelli\n"
                    ]
                },
                {
                    "output_type": "display_data",
                    "data": {
                        "text/plain": [
                            "HBox(children=(HTML(value='Processing paragraphs'), FloatProgress(value=1.0, bar_style='info', layout=Layout(w…"
                        ],
                        "application/vnd.jupyter.widget-view+json": {
                            "version_major": 2,
                            "version_minor": 0,
                            "model_id": "70ee308e9b894edf9ae9161277539842"
                        }
                    },
                    "metadata": {}
                },
                {
                    "output_type": "stream",
                    "name": "stdout",
                    "text": [
                        "Three-strikes_law\n"
                    ]
                },
                {
                    "output_type": "display_data",
                    "data": {
                        "text/plain": [
                            "HBox(children=(HTML(value='Processing paragraphs'), FloatProgress(value=1.0, bar_style='info', layout=Layout(w…"
                        ],
                        "application/vnd.jupyter.widget-view+json": {
                            "version_major": 2,
                            "version_minor": 0,
                            "model_id": "cb00d2698fb14b929dd06113a4a23e40"
                        }
                    },
                    "metadata": {}
                },
                {
                    "output_type": "stream",
                    "name": "stdout",
                    "text": [
                        "Capital_punishment_in_India\n"
                    ]
                },
                {
                    "output_type": "display_data",
                    "data": {
                        "text/plain": [
                            "HBox(children=(HTML(value='Processing paragraphs'), FloatProgress(value=1.0, bar_style='info', layout=Layout(w…"
                        ],
                        "application/vnd.jupyter.widget-view+json": {
                            "version_major": 2,
                            "version_minor": 0,
                            "model_id": "291f656519c54fc49d77c2ba7f22f84a"
                        }
                    },
                    "metadata": {}
                },
                {
                    "output_type": "stream",
                    "name": "stdout",
                    "text": [
                        "Capital_punishment_in_Denmark\n"
                    ]
                },
                {
                    "output_type": "display_data",
                    "data": {
                        "text/plain": [
                            "HBox(children=(HTML(value='Processing paragraphs'), FloatProgress(value=1.0, bar_style='info', layout=Layout(w…"
                        ],
                        "application/vnd.jupyter.widget-view+json": {
                            "version_major": 2,
                            "version_minor": 0,
                            "model_id": "999db6bba0924671989d21e0ea0fca2e"
                        }
                    },
                    "metadata": {}
                },
                {
                    "output_type": "stream",
                    "name": "stdout",
                    "text": [
                        "Model_Penal_Code\n"
                    ]
                },
                {
                    "output_type": "display_data",
                    "data": {
                        "text/plain": [
                            "HBox(children=(HTML(value='Processing paragraphs'), FloatProgress(value=1.0, bar_style='info', layout=Layout(w…"
                        ],
                        "application/vnd.jupyter.widget-view+json": {
                            "version_major": 2,
                            "version_minor": 0,
                            "model_id": "fc70466316204392a186ab0be62e7e0b"
                        }
                    },
                    "metadata": {}
                },
                {
                    "output_type": "stream",
                    "name": "stdout",
                    "text": [
                        "Danish_Penal_Code\n"
                    ]
                },
                {
                    "output_type": "display_data",
                    "data": {
                        "text/plain": [
                            "HBox(children=(HTML(value='Processing paragraphs'), FloatProgress(value=1.0, bar_style='info', layout=Layout(w…"
                        ],
                        "application/vnd.jupyter.widget-view+json": {
                            "version_major": 2,
                            "version_minor": 0,
                            "model_id": "9b5e99be23e04832aeb5f16a47e1dfdb"
                        }
                    },
                    "metadata": {}
                },
                {
                    "output_type": "stream",
                    "name": "stdout",
                    "text": [
                        "Capital_punishment_in_Europe\n"
                    ]
                },
                {
                    "output_type": "display_data",
                    "data": {
                        "text/plain": [
                            "HBox(children=(HTML(value='Processing paragraphs'), FloatProgress(value=1.0, bar_style='info', layout=Layout(w…"
                        ],
                        "application/vnd.jupyter.widget-view+json": {
                            "version_major": 2,
                            "version_minor": 0,
                            "model_id": "4dac4ba7dea7446babae920c24d431c4"
                        }
                    },
                    "metadata": {}
                },
                {
                    "output_type": "stream",
                    "name": "stdout",
                    "text": [
                        "Criminal_law_of_Singapore\n"
                    ]
                },
                {
                    "output_type": "display_data",
                    "data": {
                        "text/plain": [
                            "HBox(children=(HTML(value='Processing paragraphs'), FloatProgress(value=1.0, bar_style='info', layout=Layout(w…"
                        ],
                        "application/vnd.jupyter.widget-view+json": {
                            "version_major": 2,
                            "version_minor": 0,
                            "model_id": "ef6dfa630e214e29beac771c1c4a51f0"
                        }
                    },
                    "metadata": {}
                },
                {
                    "output_type": "stream",
                    "name": "stdout",
                    "text": [
                        "Capital_punishment_in_Malaysia\n"
                    ]
                },
                {
                    "output_type": "display_data",
                    "data": {
                        "text/plain": [
                            "HBox(children=(HTML(value='Processing paragraphs'), FloatProgress(value=1.0, bar_style='info', layout=Layout(w…"
                        ],
                        "application/vnd.jupyter.widget-view+json": {
                            "version_major": 2,
                            "version_minor": 0,
                            "model_id": "be1dc8f7b19e497998944a88be578efe"
                        }
                    },
                    "metadata": {}
                },
                {
                    "output_type": "stream",
                    "name": "stdout",
                    "text": [
                        "Capital_punishment_in_Italy\n"
                    ]
                },
                {
                    "output_type": "display_data",
                    "data": {
                        "text/plain": [
                            "HBox(children=(HTML(value='Processing paragraphs'), FloatProgress(value=1.0, bar_style='info', layout=Layout(w…"
                        ],
                        "application/vnd.jupyter.widget-view+json": {
                            "version_major": 2,
                            "version_minor": 0,
                            "model_id": "21751b51af2a410596e23f890ba7d6e6"
                        }
                    },
                    "metadata": {}
                },
                {
                    "output_type": "stream",
                    "name": "stdout",
                    "text": [
                        "Capital_punishment_in_Serbia\n"
                    ]
                },
                {
                    "output_type": "display_data",
                    "data": {
                        "text/plain": [
                            "HBox(children=(HTML(value='Processing paragraphs'), FloatProgress(value=1.0, bar_style='info', layout=Layout(w…"
                        ],
                        "application/vnd.jupyter.widget-view+json": {
                            "version_major": 2,
                            "version_minor": 0,
                            "model_id": "55d3f42700da47c2aa19afbaf89cf7b5"
                        }
                    },
                    "metadata": {}
                },
                {
                    "output_type": "stream",
                    "name": "stdout",
                    "text": [
                        "Sodomy_law\n"
                    ]
                },
                {
                    "output_type": "display_data",
                    "data": {
                        "text/plain": [
                            "HBox(children=(HTML(value='Processing paragraphs'), FloatProgress(value=1.0, bar_style='info', layout=Layout(w…"
                        ],
                        "application/vnd.jupyter.widget-view+json": {
                            "version_major": 2,
                            "version_minor": 0,
                            "model_id": "b3ba58c5ef464640aa914892a2bf9de9"
                        }
                    },
                    "metadata": {}
                },
                {
                    "output_type": "stream",
                    "name": "stdout",
                    "text": [
                        "Capital_punishment_in_Vietnam\n"
                    ]
                },
                {
                    "output_type": "display_data",
                    "data": {
                        "text/plain": [
                            "HBox(children=(HTML(value='Processing paragraphs'), FloatProgress(value=1.0, bar_style='info', layout=Layout(w…"
                        ],
                        "application/vnd.jupyter.widget-view+json": {
                            "version_major": 2,
                            "version_minor": 0,
                            "model_id": "e8eed76841cd4c4e8814d664fc6bca0b"
                        }
                    },
                    "metadata": {}
                },
                {
                    "output_type": "stream",
                    "name": "stdout",
                    "text": [
                        "1890_Italian_general_election\n"
                    ]
                },
                {
                    "output_type": "display_data",
                    "data": {
                        "text/plain": [
                            "HBox(children=(HTML(value='Processing paragraphs'), FloatProgress(value=1.0, bar_style='info', layout=Layout(w…"
                        ],
                        "application/vnd.jupyter.widget-view+json": {
                            "version_major": 2,
                            "version_minor": 0,
                            "model_id": "fb0f9242b6524a5d88539d62c33c4a3c"
                        }
                    },
                    "metadata": {}
                },
                {
                    "output_type": "stream",
                    "name": "stdout",
                    "text": [
                        "Penal_Code_of_Romania\n"
                    ]
                },
                {
                    "output_type": "display_data",
                    "data": {
                        "text/plain": [
                            "HBox(children=(HTML(value='Processing paragraphs'), FloatProgress(value=1.0, bar_style='info', layout=Layout(w…"
                        ],
                        "application/vnd.jupyter.widget-view+json": {
                            "version_major": 2,
                            "version_minor": 0,
                            "model_id": "9be27a109ff34da892ba8d2561af0d3e"
                        }
                    },
                    "metadata": {}
                },
                {
                    "output_type": "stream",
                    "name": "stdout",
                    "text": [
                        "1890_in_Italy\n"
                    ]
                },
                {
                    "output_type": "display_data",
                    "data": {
                        "text/plain": [
                            "HBox(children=(HTML(value='Processing paragraphs'), FloatProgress(value=1.0, bar_style='info', layout=Layout(w…"
                        ],
                        "application/vnd.jupyter.widget-view+json": {
                            "version_major": 2,
                            "version_minor": 0,
                            "model_id": "bf9de0d3b5b742fb9b09bd82528a89f0"
                        }
                    },
                    "metadata": {}
                },
                {
                    "output_type": "stream",
                    "name": "stdout",
                    "text": [
                        "Egyptian_penal_code\n"
                    ]
                },
                {
                    "output_type": "display_data",
                    "data": {
                        "text/plain": [
                            "HBox(children=(HTML(value='Processing paragraphs'), FloatProgress(value=1.0, bar_style='info', layout=Layout(w…"
                        ],
                        "application/vnd.jupyter.widget-view+json": {
                            "version_major": 2,
                            "version_minor": 0,
                            "model_id": "5bfb6eb8866f472690cd56d660159c7e"
                        }
                    },
                    "metadata": {}
                },
                {
                    "output_type": "stream",
                    "name": "stdout",
                    "text": [
                        "token_num 2467035\n",
                        "total_pages 609\n"
                    ]
                },
                {
                    "output_type": "display_data",
                    "data": {
                        "text/plain": [
                            "HBox(children=(HTML(value='Processing titles'), FloatProgress(value=0.0, max=21.0), HTML(value='')))"
                        ],
                        "application/vnd.jupyter.widget-view+json": {
                            "version_major": 2,
                            "version_minor": 0,
                            "model_id": "e009105a16d54fbdb67db6e8af6fb02a"
                        }
                    },
                    "metadata": {}
                },
                {
                    "output_type": "stream",
                    "name": "stdout",
                    "text": [
                        "Sword\n"
                    ]
                },
                {
                    "output_type": "display_data",
                    "data": {
                        "text/plain": [
                            "HBox(children=(HTML(value='Processing paragraphs'), FloatProgress(value=1.0, bar_style='info', layout=Layout(w…"
                        ],
                        "application/vnd.jupyter.widget-view+json": {
                            "version_major": 2,
                            "version_minor": 0,
                            "model_id": "fe4aded42944430788012e6d23c36a22"
                        }
                    },
                    "metadata": {}
                },
                {
                    "output_type": "stream",
                    "name": "stdout",
                    "text": [
                        "Dagger\n"
                    ]
                },
                {
                    "output_type": "display_data",
                    "data": {
                        "text/plain": [
                            "HBox(children=(HTML(value='Processing paragraphs'), FloatProgress(value=1.0, bar_style='info', layout=Layout(w…"
                        ],
                        "application/vnd.jupyter.widget-view+json": {
                            "version_major": 2,
                            "version_minor": 0,
                            "model_id": "be7d7df3539e443e8edf44a27f9cf73b"
                        }
                    },
                    "metadata": {}
                },
                {
                    "output_type": "stream",
                    "name": "stdout",
                    "text": [
                        "Rapier\n"
                    ]
                },
                {
                    "output_type": "display_data",
                    "data": {
                        "text/plain": [
                            "HBox(children=(HTML(value='Processing paragraphs'), FloatProgress(value=1.0, bar_style='info', layout=Layout(w…"
                        ],
                        "application/vnd.jupyter.widget-view+json": {
                            "version_major": 2,
                            "version_minor": 0,
                            "model_id": "06473355722d4b5e883e9917b8393a78"
                        }
                    },
                    "metadata": {}
                },
                {
                    "output_type": "stream",
                    "name": "stdout",
                    "text": [
                        "Gladius\n"
                    ]
                },
                {
                    "output_type": "display_data",
                    "data": {
                        "text/plain": [
                            "HBox(children=(HTML(value='Processing paragraphs'), FloatProgress(value=1.0, bar_style='info', layout=Layout(w…"
                        ],
                        "application/vnd.jupyter.widget-view+json": {
                            "version_major": 2,
                            "version_minor": 0,
                            "model_id": "e99e2280f8e74d0ab530c9db1edb1092"
                        }
                    },
                    "metadata": {}
                },
                {
                    "output_type": "stream",
                    "name": "stdout",
                    "text": [
                        "Hilt\n"
                    ]
                },
                {
                    "output_type": "display_data",
                    "data": {
                        "text/plain": [
                            "HBox(children=(HTML(value='Processing paragraphs'), FloatProgress(value=1.0, bar_style='info', layout=Layout(w…"
                        ],
                        "application/vnd.jupyter.widget-view+json": {
                            "version_major": 2,
                            "version_minor": 0,
                            "model_id": "844370837a004ece9489822b790a0250"
                        }
                    },
                    "metadata": {}
                },
                {
                    "output_type": "stream",
                    "name": "stdout",
                    "text": [
                        "Longsword\n"
                    ]
                },
                {
                    "output_type": "display_data",
                    "data": {
                        "text/plain": [
                            "HBox(children=(HTML(value='Processing paragraphs'), FloatProgress(value=1.0, bar_style='info', layout=Layout(w…"
                        ],
                        "application/vnd.jupyter.widget-view+json": {
                            "version_major": 2,
                            "version_minor": 0,
                            "model_id": "64326cba51e84378bb26f080df260738"
                        }
                    },
                    "metadata": {}
                },
                {
                    "output_type": "stream",
                    "name": "stdout",
                    "text": [
                        "Spatha\n"
                    ]
                },
                {
                    "output_type": "display_data",
                    "data": {
                        "text/plain": [
                            "HBox(children=(HTML(value='Processing paragraphs'), FloatProgress(value=1.0, bar_style='info', layout=Layout(w…"
                        ],
                        "application/vnd.jupyter.widget-view+json": {
                            "version_major": 2,
                            "version_minor": 0,
                            "model_id": "5f0f356a7f9c4434bd0f3b948fa00c51"
                        }
                    },
                    "metadata": {}
                },
                {
                    "output_type": "stream",
                    "name": "stdout",
                    "text": [
                        "Small_sword\n"
                    ]
                },
                {
                    "output_type": "display_data",
                    "data": {
                        "text/plain": [
                            "HBox(children=(HTML(value='Processing paragraphs'), FloatProgress(value=1.0, bar_style='info', layout=Layout(w…"
                        ],
                        "application/vnd.jupyter.widget-view+json": {
                            "version_major": 2,
                            "version_minor": 0,
                            "model_id": "b058b5a38e8b46f6a8b233794d8c8124"
                        }
                    },
                    "metadata": {}
                },
                {
                    "output_type": "stream",
                    "name": "stdout",
                    "text": [
                        "Estoc\n"
                    ]
                },
                {
                    "output_type": "display_data",
                    "data": {
                        "text/plain": [
                            "HBox(children=(HTML(value='Processing paragraphs'), FloatProgress(value=1.0, bar_style='info', layout=Layout(w…"
                        ],
                        "application/vnd.jupyter.widget-view+json": {
                            "version_major": 2,
                            "version_minor": 0,
                            "model_id": "002a1507f5884c4bac838ce56f0e0a30"
                        }
                    },
                    "metadata": {}
                },
                {
                    "output_type": "stream",
                    "name": "stdout",
                    "text": [
                        "Yatagan\n"
                    ]
                },
                {
                    "output_type": "display_data",
                    "data": {
                        "text/plain": [
                            "HBox(children=(HTML(value='Processing paragraphs'), FloatProgress(value=1.0, bar_style='info', layout=Layout(w…"
                        ],
                        "application/vnd.jupyter.widget-view+json": {
                            "version_major": 2,
                            "version_minor": 0,
                            "model_id": "48bbfc678a05475ea8d2dbdb3635ff2f"
                        }
                    },
                    "metadata": {}
                },
                {
                    "output_type": "stream",
                    "name": "stdout",
                    "text": [
                        "Swordsmanship\n"
                    ]
                },
                {
                    "output_type": "display_data",
                    "data": {
                        "text/plain": [
                            "HBox(children=(HTML(value='Processing paragraphs'), FloatProgress(value=1.0, bar_style='info', layout=Layout(w…"
                        ],
                        "application/vnd.jupyter.widget-view+json": {
                            "version_major": 2,
                            "version_minor": 0,
                            "model_id": "cde023c1bef1439092de957efa0f9291"
                        }
                    },
                    "metadata": {}
                },
                {
                    "output_type": "stream",
                    "name": "stdout",
                    "text": [
                        "Classification_of_swords\n"
                    ]
                },
                {
                    "output_type": "display_data",
                    "data": {
                        "text/plain": [
                            "HBox(children=(HTML(value='Processing paragraphs'), FloatProgress(value=1.0, bar_style='info', layout=Layout(w…"
                        ],
                        "application/vnd.jupyter.widget-view+json": {
                            "version_major": 2,
                            "version_minor": 0,
                            "model_id": "6f4c80ca5ee9492abfaf2875d10e631b"
                        }
                    },
                    "metadata": {}
                },
                {
                    "output_type": "stream",
                    "name": "stdout",
                    "text": [
                        "Spadroon\n"
                    ]
                },
                {
                    "output_type": "display_data",
                    "data": {
                        "text/plain": [
                            "HBox(children=(HTML(value='Processing paragraphs'), FloatProgress(value=1.0, bar_style='info', layout=Layout(w…"
                        ],
                        "application/vnd.jupyter.widget-view+json": {
                            "version_major": 2,
                            "version_minor": 0,
                            "model_id": "3372f8eac3ba496a9d7497f9211afba8"
                        }
                    },
                    "metadata": {}
                },
                {
                    "output_type": "stream",
                    "name": "stdout",
                    "text": [
                        "Viking_sword\n"
                    ]
                },
                {
                    "output_type": "display_data",
                    "data": {
                        "text/plain": [
                            "HBox(children=(HTML(value='Processing paragraphs'), FloatProgress(value=1.0, bar_style='info', layout=Layout(w…"
                        ],
                        "application/vnd.jupyter.widget-view+json": {
                            "version_major": 2,
                            "version_minor": 0,
                            "model_id": "590e2067ddc241719a7d937622b69816"
                        }
                    },
                    "metadata": {}
                },
                {
                    "output_type": "stream",
                    "name": "stdout",
                    "text": [
                        "Oakeshott_typology\n"
                    ]
                },
                {
                    "output_type": "display_data",
                    "data": {
                        "text/plain": [
                            "HBox(children=(HTML(value='Processing paragraphs'), FloatProgress(value=1.0, bar_style='info', layout=Layout(w…"
                        ],
                        "application/vnd.jupyter.widget-view+json": {
                            "version_major": 2,
                            "version_minor": 0,
                            "model_id": "f5e26219624b44e8a710ae8b860610a3"
                        }
                    },
                    "metadata": {}
                },
                {
                    "output_type": "stream",
                    "name": "stdout",
                    "text": [
                        "Shashka\n"
                    ]
                },
                {
                    "output_type": "display_data",
                    "data": {
                        "text/plain": [
                            "HBox(children=(HTML(value='Processing paragraphs'), FloatProgress(value=1.0, bar_style='info', layout=Layout(w…"
                        ],
                        "application/vnd.jupyter.widget-view+json": {
                            "version_major": 2,
                            "version_minor": 0,
                            "model_id": "3721c6a1f75d4fc38f40fdcb014c40b4"
                        }
                    },
                    "metadata": {}
                },
                {
                    "output_type": "stream",
                    "name": "stdout",
                    "text": [
                        "Crossguard\n"
                    ]
                },
                {
                    "output_type": "display_data",
                    "data": {
                        "text/plain": [
                            "HBox(children=(HTML(value='Processing paragraphs'), FloatProgress(value=1.0, bar_style='info', layout=Layout(w…"
                        ],
                        "application/vnd.jupyter.widget-view+json": {
                            "version_major": 2,
                            "version_minor": 0,
                            "model_id": "57b6531a05b246db85ae20dec3ebef2a"
                        }
                    },
                    "metadata": {}
                },
                {
                    "output_type": "stream",
                    "name": "stdout",
                    "text": [
                        "Parrying_dagger\n"
                    ]
                },
                {
                    "output_type": "display_data",
                    "data": {
                        "text/plain": [
                            "HBox(children=(HTML(value='Processing paragraphs'), FloatProgress(value=1.0, bar_style='info', layout=Layout(w…"
                        ],
                        "application/vnd.jupyter.widget-view+json": {
                            "version_major": 2,
                            "version_minor": 0,
                            "model_id": "df90bad0b4e24bafb7ec500c0f8cdb98"
                        }
                    },
                    "metadata": {}
                },
                {
                    "output_type": "stream",
                    "name": "stdout",
                    "text": [
                        "1796_Heavy_Cavalry_Sword\n"
                    ]
                },
                {
                    "output_type": "display_data",
                    "data": {
                        "text/plain": [
                            "HBox(children=(HTML(value='Processing paragraphs'), FloatProgress(value=1.0, bar_style='info', layout=Layout(w…"
                        ],
                        "application/vnd.jupyter.widget-view+json": {
                            "version_major": 2,
                            "version_minor": 0,
                            "model_id": "8448fef47f3c495f90659a1a07f28a79"
                        }
                    },
                    "metadata": {}
                },
                {
                    "output_type": "stream",
                    "name": "stdout",
                    "text": [
                        "Basket-hilted_sword\n"
                    ]
                },
                {
                    "output_type": "display_data",
                    "data": {
                        "text/plain": [
                            "HBox(children=(HTML(value='Processing paragraphs'), FloatProgress(value=1.0, bar_style='info', layout=Layout(w…"
                        ],
                        "application/vnd.jupyter.widget-view+json": {
                            "version_major": 2,
                            "version_minor": 0,
                            "model_id": "18535f3be57c417489d3366a2fc50ca1"
                        }
                    },
                    "metadata": {}
                },
                {
                    "output_type": "stream",
                    "name": "stdout",
                    "text": [
                        "Pattern_1831_sabre_for_General_Officers\n"
                    ]
                },
                {
                    "output_type": "display_data",
                    "data": {
                        "text/plain": [
                            "HBox(children=(HTML(value='Processing paragraphs'), FloatProgress(value=1.0, bar_style='info', layout=Layout(w…"
                        ],
                        "application/vnd.jupyter.widget-view+json": {
                            "version_major": 2,
                            "version_minor": 0,
                            "model_id": "69bbe7702fb7475ea33ebcc1987dd577"
                        }
                    },
                    "metadata": {}
                },
                {
                    "output_type": "stream",
                    "name": "stdout",
                    "text": [
                        "token_num 2510556\n",
                        "total_pages 630\n"
                    ]
                },
                {
                    "output_type": "display_data",
                    "data": {
                        "text/plain": [
                            "HBox(children=(HTML(value='Processing titles'), FloatProgress(value=0.0, max=21.0), HTML(value='')))"
                        ],
                        "application/vnd.jupyter.widget-view+json": {
                            "version_major": 2,
                            "version_minor": 0,
                            "model_id": "d109759fda0241ee9bd7dab7b470d81a"
                        }
                    },
                    "metadata": {}
                },
                {
                    "output_type": "stream",
                    "name": "stdout",
                    "text": [
                        "History_of_Japan\n"
                    ]
                },
                {
                    "output_type": "display_data",
                    "data": {
                        "text/plain": [
                            "HBox(children=(HTML(value='Processing paragraphs'), FloatProgress(value=1.0, bar_style='info', layout=Layout(w…"
                        ],
                        "application/vnd.jupyter.widget-view+json": {
                            "version_major": 2,
                            "version_minor": 0,
                            "model_id": "f8266aa0d29848a29a7cb1b4a3839976"
                        }
                    },
                    "metadata": {}
                },
                {
                    "output_type": "stream",
                    "name": "stdout",
                    "text": [
                        "Shogun\n"
                    ]
                },
                {
                    "output_type": "display_data",
                    "data": {
                        "text/plain": [
                            "HBox(children=(HTML(value='Processing paragraphs'), FloatProgress(value=1.0, bar_style='info', layout=Layout(w…"
                        ],
                        "application/vnd.jupyter.widget-view+json": {
                            "version_major": 2,
                            "version_minor": 0,
                            "model_id": "c8d0d8256c264f47bc333c684de0b405"
                        }
                    },
                    "metadata": {}
                },
                {
                    "output_type": "stream",
                    "name": "stdout",
                    "text": [
                        "Kamakura_shogunate\n"
                    ]
                },
                {
                    "output_type": "display_data",
                    "data": {
                        "text/plain": [
                            "HBox(children=(HTML(value='Processing paragraphs'), FloatProgress(value=1.0, bar_style='info', layout=Layout(w…"
                        ],
                        "application/vnd.jupyter.widget-view+json": {
                            "version_major": 2,
                            "version_minor": 0,
                            "model_id": "6b8b8df5d8b74289909912513a502cbc"
                        }
                    },
                    "metadata": {}
                },
                {
                    "output_type": "stream",
                    "name": "stdout",
                    "text": [
                        "Ashikaga_shogunate\n"
                    ]
                },
                {
                    "output_type": "display_data",
                    "data": {
                        "text/plain": [
                            "HBox(children=(HTML(value='Processing paragraphs'), FloatProgress(value=1.0, bar_style='info', layout=Layout(w…"
                        ],
                        "application/vnd.jupyter.widget-view+json": {
                            "version_major": 2,
                            "version_minor": 0,
                            "model_id": "4d38e8e2b4a3455fbdc6fb8ca9082d2c"
                        }
                    },
                    "metadata": {}
                },
                {
                    "output_type": "stream",
                    "name": "stdout",
                    "text": [
                        "Tokugawa_shogunate\n"
                    ]
                },
                {
                    "output_type": "display_data",
                    "data": {
                        "text/plain": [
                            "HBox(children=(HTML(value='Processing paragraphs'), FloatProgress(value=1.0, bar_style='info', layout=Layout(w…"
                        ],
                        "application/vnd.jupyter.widget-view+json": {
                            "version_major": 2,
                            "version_minor": 0,
                            "model_id": "c4ba36ef78cd4a0387d78fb8f303d46a"
                        }
                    },
                    "metadata": {}
                },
                {
                    "output_type": "stream",
                    "name": "stdout",
                    "text": [
                        "Daimyo\n"
                    ]
                },
                {
                    "output_type": "display_data",
                    "data": {
                        "text/plain": [
                            "HBox(children=(HTML(value='Processing paragraphs'), FloatProgress(value=1.0, bar_style='info', layout=Layout(w…"
                        ],
                        "application/vnd.jupyter.widget-view+json": {
                            "version_major": 2,
                            "version_minor": 0,
                            "model_id": "b6a3eed2a54d41cc956be70ae965030d"
                        }
                    },
                    "metadata": {}
                },
                {
                    "output_type": "stream",
                    "name": "stdout",
                    "text": [
                        "Tokugawa_Yoshinobu\n"
                    ]
                },
                {
                    "output_type": "display_data",
                    "data": {
                        "text/plain": [
                            "HBox(children=(HTML(value='Processing paragraphs'), FloatProgress(value=1.0, bar_style='info', layout=Layout(w…"
                        ],
                        "application/vnd.jupyter.widget-view+json": {
                            "version_major": 2,
                            "version_minor": 0,
                            "model_id": "14ea874a7b694347bcaf554f7127ea53"
                        }
                    },
                    "metadata": {}
                },
                {
                    "output_type": "stream",
                    "name": "stdout",
                    "text": [
                        "Edo_period\n"
                    ]
                },
                {
                    "output_type": "display_data",
                    "data": {
                        "text/plain": [
                            "HBox(children=(HTML(value='Processing paragraphs'), FloatProgress(value=1.0, bar_style='info', layout=Layout(w…"
                        ],
                        "application/vnd.jupyter.widget-view+json": {
                            "version_major": 2,
                            "version_minor": 0,
                            "model_id": "053707f2bf1342aea2eee1c5d0e7b0d9"
                        }
                    },
                    "metadata": {}
                },
                {
                    "output_type": "stream",
                    "name": "stdout",
                    "text": [
                        "Military_history_of_Japan\n"
                    ]
                },
                {
                    "output_type": "display_data",
                    "data": {
                        "text/plain": [
                            "HBox(children=(HTML(value='Processing paragraphs'), FloatProgress(value=1.0, bar_style='info', layout=Layout(w…"
                        ],
                        "application/vnd.jupyter.widget-view+json": {
                            "version_major": 2,
                            "version_minor": 0,
                            "model_id": "fe3e26a9dd394617933e224e515119db"
                        }
                    },
                    "metadata": {}
                },
                {
                    "output_type": "stream",
                    "name": "stdout",
                    "text": [
                        "Kamakura_period\n"
                    ]
                },
                {
                    "output_type": "display_data",
                    "data": {
                        "text/plain": [
                            "HBox(children=(HTML(value='Processing paragraphs'), FloatProgress(value=1.0, bar_style='info', layout=Layout(w…"
                        ],
                        "application/vnd.jupyter.widget-view+json": {
                            "version_major": 2,
                            "version_minor": 0,
                            "model_id": "041b34086fad4e5ab43cde144e02cb30"
                        }
                    },
                    "metadata": {}
                },
                {
                    "output_type": "stream",
                    "name": "stdout",
                    "text": [
                        "Hōjō_Masako\n"
                    ]
                },
                {
                    "output_type": "display_data",
                    "data": {
                        "text/plain": [
                            "HBox(children=(HTML(value='Processing paragraphs'), FloatProgress(value=1.0, bar_style='info', layout=Layout(w…"
                        ],
                        "application/vnd.jupyter.widget-view+json": {
                            "version_major": 2,
                            "version_minor": 0,
                            "model_id": "f378d8942ea747f596a886f2024e98e1"
                        }
                    },
                    "metadata": {}
                },
                {
                    "output_type": "stream",
                    "name": "stdout",
                    "text": [
                        "Han_system\n"
                    ]
                },
                {
                    "output_type": "display_data",
                    "data": {
                        "text/plain": [
                            "HBox(children=(HTML(value='Processing paragraphs'), FloatProgress(value=1.0, bar_style='info', layout=Layout(w…"
                        ],
                        "application/vnd.jupyter.widget-view+json": {
                            "version_major": 2,
                            "version_minor": 0,
                            "model_id": "8026ac5604d148639f696e84ac55671a"
                        }
                    },
                    "metadata": {}
                },
                {
                    "output_type": "stream",
                    "name": "stdout",
                    "text": [
                        "Gokenin\n"
                    ]
                },
                {
                    "output_type": "display_data",
                    "data": {
                        "text/plain": [
                            "HBox(children=(HTML(value='Processing paragraphs'), FloatProgress(value=1.0, bar_style='info', layout=Layout(w…"
                        ],
                        "application/vnd.jupyter.widget-view+json": {
                            "version_major": 2,
                            "version_minor": 0,
                            "model_id": "ea5422f6754d4c17b20054bc6033c01f"
                        }
                    },
                    "metadata": {}
                },
                {
                    "output_type": "stream",
                    "name": "stdout",
                    "text": [
                        "Tokugawa_clan\n"
                    ]
                },
                {
                    "output_type": "display_data",
                    "data": {
                        "text/plain": [
                            "HBox(children=(HTML(value='Processing paragraphs'), FloatProgress(value=1.0, bar_style='info', layout=Layout(w…"
                        ],
                        "application/vnd.jupyter.widget-view+json": {
                            "version_major": 2,
                            "version_minor": 0,
                            "model_id": "4eaf3136b2524e89936f03178937f817"
                        }
                    },
                    "metadata": {}
                },
                {
                    "output_type": "stream",
                    "name": "stdout",
                    "text": [
                        "Matsudaira_clan\n"
                    ]
                },
                {
                    "output_type": "display_data",
                    "data": {
                        "text/plain": [
                            "HBox(children=(HTML(value='Processing paragraphs'), FloatProgress(value=1.0, bar_style='info', layout=Layout(w…"
                        ],
                        "application/vnd.jupyter.widget-view+json": {
                            "version_major": 2,
                            "version_minor": 0,
                            "model_id": "5d00caaef085435da0e2430921c1a481"
                        }
                    },
                    "metadata": {}
                },
                {
                    "output_type": "stream",
                    "name": "stdout",
                    "text": [
                        "Glossary_of_Japanese_history\n"
                    ]
                },
                {
                    "output_type": "display_data",
                    "data": {
                        "text/plain": [
                            "HBox(children=(HTML(value='Processing paragraphs'), FloatProgress(value=1.0, bar_style='info', layout=Layout(w…"
                        ],
                        "application/vnd.jupyter.widget-view+json": {
                            "version_major": 2,
                            "version_minor": 0,
                            "model_id": "0d1679e65e4345f2aff3b40e5136b170"
                        }
                    },
                    "metadata": {}
                },
                {
                    "output_type": "stream",
                    "name": "stdout",
                    "text": [
                        "Satsuma_Domain\n"
                    ]
                },
                {
                    "output_type": "display_data",
                    "data": {
                        "text/plain": [
                            "HBox(children=(HTML(value='Processing paragraphs'), FloatProgress(value=1.0, bar_style='info', layout=Layout(w…"
                        ],
                        "application/vnd.jupyter.widget-view+json": {
                            "version_major": 2,
                            "version_minor": 0,
                            "model_id": "b6cd2c0d43a44e3a81751f83e81e77b5"
                        }
                    },
                    "metadata": {}
                },
                {
                    "output_type": "stream",
                    "name": "stdout",
                    "text": [
                        "Matsudaira_Yoshinaga\n"
                    ]
                },
                {
                    "output_type": "display_data",
                    "data": {
                        "text/plain": [
                            "HBox(children=(HTML(value='Processing paragraphs'), FloatProgress(value=1.0, bar_style='info', layout=Layout(w…"
                        ],
                        "application/vnd.jupyter.widget-view+json": {
                            "version_major": 2,
                            "version_minor": 0,
                            "model_id": "1271109995ce407ca4adf55cb0771d63"
                        }
                    },
                    "metadata": {}
                },
                {
                    "output_type": "stream",
                    "name": "stdout",
                    "text": [
                        "Hayashi_clan_(Confucian_scholars)\n"
                    ]
                },
                {
                    "output_type": "display_data",
                    "data": {
                        "text/plain": [
                            "HBox(children=(HTML(value='Processing paragraphs'), FloatProgress(value=1.0, bar_style='info', layout=Layout(w…"
                        ],
                        "application/vnd.jupyter.widget-view+json": {
                            "version_major": 2,
                            "version_minor": 0,
                            "model_id": "37905d9e9994475abe70fd3398fffc7c"
                        }
                    },
                    "metadata": {}
                },
                {
                    "output_type": "stream",
                    "name": "stdout",
                    "text": [
                        "Edo_society\n"
                    ]
                },
                {
                    "output_type": "display_data",
                    "data": {
                        "text/plain": [
                            "HBox(children=(HTML(value='Processing paragraphs'), FloatProgress(value=1.0, bar_style='info', layout=Layout(w…"
                        ],
                        "application/vnd.jupyter.widget-view+json": {
                            "version_major": 2,
                            "version_minor": 0,
                            "model_id": "158861bed24d4de08732c45a5230c427"
                        }
                    },
                    "metadata": {}
                },
                {
                    "output_type": "stream",
                    "name": "stdout",
                    "text": [
                        "Meiji_Restoration\n"
                    ]
                },
                {
                    "output_type": "display_data",
                    "data": {
                        "text/plain": [
                            "HBox(children=(HTML(value='Processing paragraphs'), FloatProgress(value=1.0, bar_style='info', layout=Layout(w…"
                        ],
                        "application/vnd.jupyter.widget-view+json": {
                            "version_major": 2,
                            "version_minor": 0,
                            "model_id": "445c1908472240d2a6e4a46146de80a4"
                        }
                    },
                    "metadata": {}
                },
                {
                    "output_type": "stream",
                    "name": "stdout",
                    "text": [
                        "token_num 2581527\n",
                        "total_pages 651\n"
                    ]
                },
                {
                    "output_type": "display_data",
                    "data": {
                        "text/plain": [
                            "HBox(children=(HTML(value='Processing titles'), FloatProgress(value=0.0, max=21.0), HTML(value='')))"
                        ],
                        "application/vnd.jupyter.widget-view+json": {
                            "version_major": 2,
                            "version_minor": 0,
                            "model_id": "573175c2fa16476487028b0d4f3af4a8"
                        }
                    },
                    "metadata": {}
                },
                {
                    "output_type": "stream",
                    "name": "stdout",
                    "text": [
                        "Antimicrobial_nanotechnology\n"
                    ]
                },
                {
                    "output_type": "display_data",
                    "data": {
                        "text/plain": [
                            "HBox(children=(HTML(value='Processing paragraphs'), FloatProgress(value=1.0, bar_style='info', layout=Layout(w…"
                        ],
                        "application/vnd.jupyter.widget-view+json": {
                            "version_major": 2,
                            "version_minor": 0,
                            "model_id": "8301a6d315524c72a4c044b63bb2f6a3"
                        }
                    },
                    "metadata": {}
                },
                {
                    "output_type": "stream",
                    "name": "stdout",
                    "text": [
                        "Antimicrobial_resistance\n"
                    ]
                },
                {
                    "output_type": "display_data",
                    "data": {
                        "text/plain": [
                            "HBox(children=(HTML(value='Processing paragraphs'), FloatProgress(value=1.0, bar_style='info', layout=Layout(w…"
                        ],
                        "application/vnd.jupyter.widget-view+json": {
                            "version_major": 2,
                            "version_minor": 0,
                            "model_id": "6db10d822ce7489bb55d6f399f9b6101"
                        }
                    },
                    "metadata": {}
                },
                {
                    "output_type": "stream",
                    "name": "stdout",
                    "text": [
                        "Biofilm\n"
                    ]
                },
                {
                    "output_type": "display_data",
                    "data": {
                        "text/plain": [
                            "HBox(children=(HTML(value='Processing paragraphs'), FloatProgress(value=1.0, bar_style='info', layout=Layout(w…"
                        ],
                        "application/vnd.jupyter.widget-view+json": {
                            "version_major": 2,
                            "version_minor": 0,
                            "model_id": "d8af3cf9c8304f36b74f8310b5ef58cd"
                        }
                    },
                    "metadata": {}
                },
                {
                    "output_type": "stream",
                    "name": "stdout",
                    "text": [
                        "Staphylococcus_aureus\n"
                    ]
                },
                {
                    "output_type": "display_data",
                    "data": {
                        "text/plain": [
                            "HBox(children=(HTML(value='Processing paragraphs'), FloatProgress(value=1.0, bar_style='info', layout=Layout(w…"
                        ],
                        "application/vnd.jupyter.widget-view+json": {
                            "version_major": 2,
                            "version_minor": 0,
                            "model_id": "bcd5eef404c748a896443a27562b0eac"
                        }
                    },
                    "metadata": {}
                },
                {
                    "output_type": "stream",
                    "name": "stdout",
                    "text": [
                        "Methicillin-resistant_Staphylococcus_aureus\n"
                    ]
                },
                {
                    "output_type": "display_data",
                    "data": {
                        "text/plain": [
                            "HBox(children=(HTML(value='Processing paragraphs'), FloatProgress(value=1.0, bar_style='info', layout=Layout(w…"
                        ],
                        "application/vnd.jupyter.widget-view+json": {
                            "version_major": 2,
                            "version_minor": 0,
                            "model_id": "9708a389f2f64effbada886bad2afcd1"
                        }
                    },
                    "metadata": {}
                },
                {
                    "output_type": "stream",
                    "name": "stdout",
                    "text": [
                        "Klebsiella_pneumoniae\n"
                    ]
                },
                {
                    "output_type": "display_data",
                    "data": {
                        "text/plain": [
                            "HBox(children=(HTML(value='Processing paragraphs'), FloatProgress(value=1.0, bar_style='info', layout=Layout(w…"
                        ],
                        "application/vnd.jupyter.widget-view+json": {
                            "version_major": 2,
                            "version_minor": 0,
                            "model_id": "1c943818b53e469ab3cdd67d058a1336"
                        }
                    },
                    "metadata": {}
                },
                {
                    "output_type": "stream",
                    "name": "stdout",
                    "text": [
                        "Hospital-acquired_infection\n"
                    ]
                },
                {
                    "output_type": "display_data",
                    "data": {
                        "text/plain": [
                            "HBox(children=(HTML(value='Processing paragraphs'), FloatProgress(value=1.0, bar_style='info', layout=Layout(w…"
                        ],
                        "application/vnd.jupyter.widget-view+json": {
                            "version_major": 2,
                            "version_minor": 0,
                            "model_id": "a865a5cd64ee43aba3e816b464e8791d"
                        }
                    },
                    "metadata": {}
                },
                {
                    "output_type": "stream",
                    "name": "stdout",
                    "text": [
                        "Antimicrobial\n"
                    ]
                },
                {
                    "output_type": "display_data",
                    "data": {
                        "text/plain": [
                            "HBox(children=(HTML(value='Processing paragraphs'), FloatProgress(value=1.0, bar_style='info', layout=Layout(w…"
                        ],
                        "application/vnd.jupyter.widget-view+json": {
                            "version_major": 2,
                            "version_minor": 0,
                            "model_id": "3b6068848f714441aecde0f1ce363215"
                        }
                    },
                    "metadata": {}
                },
                {
                    "output_type": "stream",
                    "name": "stdout",
                    "text": [
                        "Vancomycin-resistant_Enterococcus\n"
                    ]
                },
                {
                    "output_type": "display_data",
                    "data": {
                        "text/plain": [
                            "HBox(children=(HTML(value='Processing paragraphs'), FloatProgress(value=1.0, bar_style='info', layout=Layout(w…"
                        ],
                        "application/vnd.jupyter.widget-view+json": {
                            "version_major": 2,
                            "version_minor": 0,
                            "model_id": "7ec89c2918004f408b84206f3196bd98"
                        }
                    },
                    "metadata": {}
                },
                {
                    "output_type": "stream",
                    "name": "stdout",
                    "text": [
                        "Acinetobacter_baumannii\n"
                    ]
                },
                {
                    "output_type": "display_data",
                    "data": {
                        "text/plain": [
                            "HBox(children=(HTML(value='Processing paragraphs'), FloatProgress(value=1.0, bar_style='info', layout=Layout(w…"
                        ],
                        "application/vnd.jupyter.widget-view+json": {
                            "version_major": 2,
                            "version_minor": 0,
                            "model_id": "21d56e07aed043d781b63ebdb3b1b49c"
                        }
                    },
                    "metadata": {}
                },
                {
                    "output_type": "stream",
                    "name": "stdout",
                    "text": [
                        "Medical_microbiology\n"
                    ]
                },
                {
                    "output_type": "display_data",
                    "data": {
                        "text/plain": [
                            "HBox(children=(HTML(value='Processing paragraphs'), FloatProgress(value=1.0, bar_style='info', layout=Layout(w…"
                        ],
                        "application/vnd.jupyter.widget-view+json": {
                            "version_major": 2,
                            "version_minor": 0,
                            "model_id": "93c33ba82fd142228285b0e0378dfc1e"
                        }
                    },
                    "metadata": {}
                },
                {
                    "output_type": "stream",
                    "name": "stdout",
                    "text": [
                        "Enterococcus_faecium\n"
                    ]
                },
                {
                    "output_type": "display_data",
                    "data": {
                        "text/plain": [
                            "HBox(children=(HTML(value='Processing paragraphs'), FloatProgress(value=1.0, bar_style='info', layout=Layout(w…"
                        ],
                        "application/vnd.jupyter.widget-view+json": {
                            "version_major": 2,
                            "version_minor": 0,
                            "model_id": "604110b1a1e04734a43738555c863397"
                        }
                    },
                    "metadata": {}
                },
                {
                    "output_type": "stream",
                    "name": "stdout",
                    "text": [
                        "Persister_cells\n"
                    ]
                },
                {
                    "output_type": "display_data",
                    "data": {
                        "text/plain": [
                            "HBox(children=(HTML(value='Processing paragraphs'), FloatProgress(value=1.0, bar_style='info', layout=Layout(w…"
                        ],
                        "application/vnd.jupyter.widget-view+json": {
                            "version_major": 2,
                            "version_minor": 0,
                            "model_id": "97bcda7645cb4e77b47f022289fa8f5b"
                        }
                    },
                    "metadata": {}
                },
                {
                    "output_type": "stream",
                    "name": "stdout",
                    "text": [
                        "Antimicrobial_properties_of_copper\n"
                    ]
                },
                {
                    "output_type": "display_data",
                    "data": {
                        "text/plain": [
                            "HBox(children=(HTML(value='Processing paragraphs'), FloatProgress(value=1.0, bar_style='info', layout=Layout(w…"
                        ],
                        "application/vnd.jupyter.widget-view+json": {
                            "version_major": 2,
                            "version_minor": 0,
                            "model_id": "bffd9c491df94d48846dbc1a35d919fb"
                        }
                    },
                    "metadata": {}
                },
                {
                    "output_type": "stream",
                    "name": "stdout",
                    "text": [
                        "Antimicrobial_copper-alloy_touch_surfaces\n"
                    ]
                },
                {
                    "output_type": "display_data",
                    "data": {
                        "text/plain": [
                            "HBox(children=(HTML(value='Processing paragraphs'), FloatProgress(value=1.0, bar_style='info', layout=Layout(w…"
                        ],
                        "application/vnd.jupyter.widget-view+json": {
                            "version_major": 2,
                            "version_minor": 0,
                            "model_id": "595748abbf9442c291a626b973b10ffa"
                        }
                    },
                    "metadata": {}
                },
                {
                    "output_type": "stream",
                    "name": "stdout",
                    "text": [
                        "Sharklet_(material)\n"
                    ]
                },
                {
                    "output_type": "display_data",
                    "data": {
                        "text/plain": [
                            "HBox(children=(HTML(value='Processing paragraphs'), FloatProgress(value=1.0, bar_style='info', layout=Layout(w…"
                        ],
                        "application/vnd.jupyter.widget-view+json": {
                            "version_major": 2,
                            "version_minor": 0,
                            "model_id": "7805656ece3d46ba9afbb5918736809c"
                        }
                    },
                    "metadata": {}
                },
                {
                    "output_type": "stream",
                    "name": "stdout",
                    "text": [
                        "Sophoraflavanone_G\n"
                    ]
                },
                {
                    "output_type": "display_data",
                    "data": {
                        "text/plain": [
                            "HBox(children=(HTML(value='Processing paragraphs'), FloatProgress(value=1.0, bar_style='info', layout=Layout(w…"
                        ],
                        "application/vnd.jupyter.widget-view+json": {
                            "version_major": 2,
                            "version_minor": 0,
                            "model_id": "d3bb51e8070545a49818939ee12b337e"
                        }
                    },
                    "metadata": {}
                },
                {
                    "output_type": "stream",
                    "name": "stdout",
                    "text": [
                        "Enzybiotics\n"
                    ]
                },
                {
                    "output_type": "display_data",
                    "data": {
                        "text/plain": [
                            "HBox(children=(HTML(value='Processing paragraphs'), FloatProgress(value=1.0, bar_style='info', layout=Layout(w…"
                        ],
                        "application/vnd.jupyter.widget-view+json": {
                            "version_major": 2,
                            "version_minor": 0,
                            "model_id": "297f43299824458e9f0e231a257600a8"
                        }
                    },
                    "metadata": {}
                },
                {
                    "output_type": "stream",
                    "name": "stdout",
                    "text": [
                        "Host–pathogen_interaction\n"
                    ]
                },
                {
                    "output_type": "display_data",
                    "data": {
                        "text/plain": [
                            "HBox(children=(HTML(value='Processing paragraphs'), FloatProgress(value=1.0, bar_style='info', layout=Layout(w…"
                        ],
                        "application/vnd.jupyter.widget-view+json": {
                            "version_major": 2,
                            "version_minor": 0,
                            "model_id": "35b4a3b8082d4af894780053e6fa4725"
                        }
                    },
                    "metadata": {}
                },
                {
                    "output_type": "stream",
                    "name": "stdout",
                    "text": [
                        "ESKAPE\n"
                    ]
                },
                {
                    "output_type": "display_data",
                    "data": {
                        "text/plain": [
                            "HBox(children=(HTML(value='Processing paragraphs'), FloatProgress(value=1.0, bar_style='info', layout=Layout(w…"
                        ],
                        "application/vnd.jupyter.widget-view+json": {
                            "version_major": 2,
                            "version_minor": 0,
                            "model_id": "9f5551ed659d4893a955de6fe1be8007"
                        }
                    },
                    "metadata": {}
                },
                {
                    "output_type": "stream",
                    "name": "stdout",
                    "text": [
                        "List_of_antibiotic-resistant_bacteria\n"
                    ]
                },
                {
                    "output_type": "display_data",
                    "data": {
                        "text/plain": [
                            "HBox(children=(HTML(value='Processing paragraphs'), FloatProgress(value=1.0, bar_style='info', layout=Layout(w…"
                        ],
                        "application/vnd.jupyter.widget-view+json": {
                            "version_major": 2,
                            "version_minor": 0,
                            "model_id": "94e5200b3b77435da7a13287caf15490"
                        }
                    },
                    "metadata": {}
                },
                {
                    "output_type": "stream",
                    "name": "stdout",
                    "text": [
                        "token_num 2637797\n",
                        "total_pages 672\n"
                    ]
                },
                {
                    "output_type": "display_data",
                    "data": {
                        "text/plain": [
                            "HBox(children=(HTML(value='Processing titles'), FloatProgress(value=0.0, max=21.0), HTML(value='')))"
                        ],
                        "application/vnd.jupyter.widget-view+json": {
                            "version_major": 2,
                            "version_minor": 0,
                            "model_id": "6206bbafd31e4ddcbaa546a5dc7d6925"
                        }
                    },
                    "metadata": {}
                },
                {
                    "output_type": "stream",
                    "name": "stdout",
                    "text": [
                        "Prediction\n"
                    ]
                },
                {
                    "output_type": "display_data",
                    "data": {
                        "text/plain": [
                            "HBox(children=(HTML(value='Processing paragraphs'), FloatProgress(value=1.0, bar_style='info', layout=Layout(w…"
                        ],
                        "application/vnd.jupyter.widget-view+json": {
                            "version_major": 2,
                            "version_minor": 0,
                            "model_id": "9aa5fe18a1ce4105afdc7ad4dbff5b6a"
                        }
                    },
                    "metadata": {}
                },
                {
                    "output_type": "stream",
                    "name": "stdout",
                    "text": [
                        "Econometrics\n"
                    ]
                },
                {
                    "output_type": "display_data",
                    "data": {
                        "text/plain": [
                            "HBox(children=(HTML(value='Processing paragraphs'), FloatProgress(value=1.0, bar_style='info', layout=Layout(w…"
                        ],
                        "application/vnd.jupyter.widget-view+json": {
                            "version_major": 2,
                            "version_minor": 0,
                            "model_id": "debcd60cd0664a08867e3929dc8072dd"
                        }
                    },
                    "metadata": {}
                },
                {
                    "output_type": "stream",
                    "name": "stdout",
                    "text": [
                        "Multivariate_statistics\n"
                    ]
                },
                {
                    "output_type": "display_data",
                    "data": {
                        "text/plain": [
                            "HBox(children=(HTML(value='Processing paragraphs'), FloatProgress(value=1.0, bar_style='info', layout=Layout(w…"
                        ],
                        "application/vnd.jupyter.widget-view+json": {
                            "version_major": 2,
                            "version_minor": 0,
                            "model_id": "807e5935155e4e8696e85b0c908c7723"
                        }
                    },
                    "metadata": {}
                },
                {
                    "output_type": "stream",
                    "name": "stdout",
                    "text": [
                        "Statistics\n"
                    ]
                },
                {
                    "output_type": "display_data",
                    "data": {
                        "text/plain": [
                            "HBox(children=(HTML(value='Processing paragraphs'), FloatProgress(value=1.0, bar_style='info', layout=Layout(w…"
                        ],
                        "application/vnd.jupyter.widget-view+json": {
                            "version_major": 2,
                            "version_minor": 0,
                            "model_id": "d58b791b7693419880f490cb0ae07d58"
                        }
                    },
                    "metadata": {}
                },
                {
                    "output_type": "stream",
                    "name": "stdout",
                    "text": [
                        "Logistic_regression\n"
                    ]
                },
                {
                    "output_type": "display_data",
                    "data": {
                        "text/plain": [
                            "HBox(children=(HTML(value='Processing paragraphs'), FloatProgress(value=1.0, bar_style='info', layout=Layout(w…"
                        ],
                        "application/vnd.jupyter.widget-view+json": {
                            "version_major": 2,
                            "version_minor": 0,
                            "model_id": "b895316e83084da0ae60e7a5509d849b"
                        }
                    },
                    "metadata": {}
                },
                {
                    "output_type": "stream",
                    "name": "stdout",
                    "text": [
                        "Forecasting\n"
                    ]
                },
                {
                    "output_type": "display_data",
                    "data": {
                        "text/plain": [
                            "HBox(children=(HTML(value='Processing paragraphs'), FloatProgress(value=1.0, bar_style='info', layout=Layout(w…"
                        ],
                        "application/vnd.jupyter.widget-view+json": {
                            "version_major": 2,
                            "version_minor": 0,
                            "model_id": "40562187bb064426a241c344229c23a3"
                        }
                    },
                    "metadata": {}
                },
                {
                    "output_type": "stream",
                    "name": "stdout",
                    "text": [
                        "Prediction_market\n"
                    ]
                },
                {
                    "output_type": "display_data",
                    "data": {
                        "text/plain": [
                            "HBox(children=(HTML(value='Processing paragraphs'), FloatProgress(value=1.0, bar_style='info', layout=Layout(w…"
                        ],
                        "application/vnd.jupyter.widget-view+json": {
                            "version_major": 2,
                            "version_minor": 0,
                            "model_id": "ed5a51cce32e4cf3b5ee50936ad83988"
                        }
                    },
                    "metadata": {}
                },
                {
                    "output_type": "stream",
                    "name": "stdout",
                    "text": [
                        "Time_series\n"
                    ]
                },
                {
                    "output_type": "display_data",
                    "data": {
                        "text/plain": [
                            "HBox(children=(HTML(value='Processing paragraphs'), FloatProgress(value=1.0, bar_style='info', layout=Layout(w…"
                        ],
                        "application/vnd.jupyter.widget-view+json": {
                            "version_major": 2,
                            "version_minor": 0,
                            "model_id": "56b90a665c4d44908e2164a1d57f47a2"
                        }
                    },
                    "metadata": {}
                },
                {
                    "output_type": "stream",
                    "name": "stdout",
                    "text": [
                        "Prediction_interval\n"
                    ]
                },
                {
                    "output_type": "display_data",
                    "data": {
                        "text/plain": [
                            "HBox(children=(HTML(value='Processing paragraphs'), FloatProgress(value=1.0, bar_style='info', layout=Layout(w…"
                        ],
                        "application/vnd.jupyter.widget-view+json": {
                            "version_major": 2,
                            "version_minor": 0,
                            "model_id": "85a195fb1a764b68b4cccd766655b5e7"
                        }
                    },
                    "metadata": {}
                },
                {
                    "output_type": "stream",
                    "name": "stdout",
                    "text": [
                        "Calibration_(statistics)\n"
                    ]
                },
                {
                    "output_type": "display_data",
                    "data": {
                        "text/plain": [
                            "HBox(children=(HTML(value='Processing paragraphs'), FloatProgress(value=1.0, bar_style='info', layout=Layout(w…"
                        ],
                        "application/vnd.jupyter.widget-view+json": {
                            "version_major": 2,
                            "version_minor": 0,
                            "model_id": "f7947861c76945639c1134eec56848a4"
                        }
                    },
                    "metadata": {}
                },
                {
                    "output_type": "stream",
                    "name": "stdout",
                    "text": [
                        "Regression_analysis\n"
                    ]
                },
                {
                    "output_type": "display_data",
                    "data": {
                        "text/plain": [
                            "HBox(children=(HTML(value='Processing paragraphs'), FloatProgress(value=1.0, bar_style='info', layout=Layout(w…"
                        ],
                        "application/vnd.jupyter.widget-view+json": {
                            "version_major": 2,
                            "version_minor": 0,
                            "model_id": "eb501bd49b2c417ab3390cb245c4e61a"
                        }
                    },
                    "metadata": {}
                },
                {
                    "output_type": "stream",
                    "name": "stdout",
                    "text": [
                        "Mathematical_statistics\n"
                    ]
                },
                {
                    "output_type": "display_data",
                    "data": {
                        "text/plain": [
                            "HBox(children=(HTML(value='Processing paragraphs'), FloatProgress(value=1.0, bar_style='info', layout=Layout(w…"
                        ],
                        "application/vnd.jupyter.widget-view+json": {
                            "version_major": 2,
                            "version_minor": 0,
                            "model_id": "517f1cfd36e349fd9e45cd3a455dfd17"
                        }
                    },
                    "metadata": {}
                },
                {
                    "output_type": "stream",
                    "name": "stdout",
                    "text": [
                        "Glossary_of_probability_and_statistics\n"
                    ]
                },
                {
                    "output_type": "display_data",
                    "data": {
                        "text/plain": [
                            "HBox(children=(HTML(value='Processing paragraphs'), FloatProgress(value=1.0, bar_style='info', layout=Layout(w…"
                        ],
                        "application/vnd.jupyter.widget-view+json": {
                            "version_major": 2,
                            "version_minor": 0,
                            "model_id": "eb37ccd060b34b6fa31525afbdfb51dc"
                        }
                    },
                    "metadata": {}
                },
                {
                    "output_type": "stream",
                    "name": "stdout",
                    "text": [
                        "Ensemble_forecasting\n"
                    ]
                },
                {
                    "output_type": "display_data",
                    "data": {
                        "text/plain": [
                            "HBox(children=(HTML(value='Processing paragraphs'), FloatProgress(value=1.0, bar_style='info', layout=Layout(w…"
                        ],
                        "application/vnd.jupyter.widget-view+json": {
                            "version_major": 2,
                            "version_minor": 0,
                            "model_id": "14cb300b09b44560a7c15e45217c8b15"
                        }
                    },
                    "metadata": {}
                },
                {
                    "output_type": "stream",
                    "name": "stdout",
                    "text": [
                        "Predictive_modelling\n"
                    ]
                },
                {
                    "output_type": "display_data",
                    "data": {
                        "text/plain": [
                            "HBox(children=(HTML(value='Processing paragraphs'), FloatProgress(value=1.0, bar_style='info', layout=Layout(w…"
                        ],
                        "application/vnd.jupyter.widget-view+json": {
                            "version_major": 2,
                            "version_minor": 0,
                            "model_id": "daf8e1b679bd49d3a355aed6d9542df7"
                        }
                    },
                    "metadata": {}
                },
                {
                    "output_type": "stream",
                    "name": "stdout",
                    "text": [
                        "Predictive_analytics\n"
                    ]
                },
                {
                    "output_type": "display_data",
                    "data": {
                        "text/plain": [
                            "HBox(children=(HTML(value='Processing paragraphs'), FloatProgress(value=1.0, bar_style='info', layout=Layout(w…"
                        ],
                        "application/vnd.jupyter.widget-view+json": {
                            "version_major": 2,
                            "version_minor": 0,
                            "model_id": "7961b7e67a0246f79767f7736ef3f7da"
                        }
                    },
                    "metadata": {}
                },
                {
                    "output_type": "stream",
                    "name": "stdout",
                    "text": [
                        "Stepwise_regression\n"
                    ]
                },
                {
                    "output_type": "display_data",
                    "data": {
                        "text/plain": [
                            "HBox(children=(HTML(value='Processing paragraphs'), FloatProgress(value=1.0, bar_style='info', layout=Layout(w…"
                        ],
                        "application/vnd.jupyter.widget-view+json": {
                            "version_major": 2,
                            "version_minor": 0,
                            "model_id": "3f5120f6c0c34f5e9b61ed37b607301d"
                        }
                    },
                    "metadata": {}
                },
                {
                    "output_type": "stream",
                    "name": "stdout",
                    "text": [
                        "Political_forecasting\n"
                    ]
                },
                {
                    "output_type": "display_data",
                    "data": {
                        "text/plain": [
                            "HBox(children=(HTML(value='Processing paragraphs'), FloatProgress(value=1.0, bar_style='info', layout=Layout(w…"
                        ],
                        "application/vnd.jupyter.widget-view+json": {
                            "version_major": 2,
                            "version_minor": 0,
                            "model_id": "c5b6eaccdf7649f9b4293cb834f7db13"
                        }
                    },
                    "metadata": {}
                },
                {
                    "output_type": "stream",
                    "name": "stdout",
                    "text": [
                        "Causal_inference\n"
                    ]
                },
                {
                    "output_type": "display_data",
                    "data": {
                        "text/plain": [
                            "HBox(children=(HTML(value='Processing paragraphs'), FloatProgress(value=1.0, bar_style='info', layout=Layout(w…"
                        ],
                        "application/vnd.jupyter.widget-view+json": {
                            "version_major": 2,
                            "version_minor": 0,
                            "model_id": "a2342839359b4a2d98e127dc38858c9f"
                        }
                    },
                    "metadata": {}
                },
                {
                    "output_type": "stream",
                    "name": "stdout",
                    "text": [
                        "Linear_regression\n"
                    ]
                },
                {
                    "output_type": "display_data",
                    "data": {
                        "text/plain": [
                            "HBox(children=(HTML(value='Processing paragraphs'), FloatProgress(value=1.0, bar_style='info', layout=Layout(w…"
                        ],
                        "application/vnd.jupyter.widget-view+json": {
                            "version_major": 2,
                            "version_minor": 0,
                            "model_id": "b488f87cdeef47818e43593e0d7e525b"
                        }
                    },
                    "metadata": {}
                },
                {
                    "output_type": "stream",
                    "name": "stdout",
                    "text": [
                        "Binary_regression\n"
                    ]
                },
                {
                    "output_type": "display_data",
                    "data": {
                        "text/plain": [
                            "HBox(children=(HTML(value='Processing paragraphs'), FloatProgress(value=1.0, bar_style='info', layout=Layout(w…"
                        ],
                        "application/vnd.jupyter.widget-view+json": {
                            "version_major": 2,
                            "version_minor": 0,
                            "model_id": "9f072d6a9a3c4700bd73c68ddee5fa8f"
                        }
                    },
                    "metadata": {}
                },
                {
                    "output_type": "stream",
                    "name": "stdout",
                    "text": [
                        "token_num 2695477\n",
                        "total_pages 693\n"
                    ]
                },
                {
                    "output_type": "display_data",
                    "data": {
                        "text/plain": [
                            "HBox(children=(HTML(value='Processing titles'), FloatProgress(value=0.0, max=21.0), HTML(value='')))"
                        ],
                        "application/vnd.jupyter.widget-view+json": {
                            "version_major": 2,
                            "version_minor": 0,
                            "model_id": "9234edc275214bb3a911289008b22d0f"
                        }
                    },
                    "metadata": {}
                },
                {
                    "output_type": "stream",
                    "name": "stdout",
                    "text": [
                        "AI_winter\n"
                    ]
                },
                {
                    "output_type": "display_data",
                    "data": {
                        "text/plain": [
                            "HBox(children=(HTML(value='Processing paragraphs'), FloatProgress(value=1.0, bar_style='info', layout=Layout(w…"
                        ],
                        "application/vnd.jupyter.widget-view+json": {
                            "version_major": 2,
                            "version_minor": 0,
                            "model_id": "6f0204d941a24dd2bc37ced0288a6d42"
                        }
                    },
                    "metadata": {}
                },
                {
                    "output_type": "stream",
                    "name": "stdout",
                    "text": [
                        "Artificial_intelligence\n"
                    ]
                },
                {
                    "output_type": "display_data",
                    "data": {
                        "text/plain": [
                            "HBox(children=(HTML(value='Processing paragraphs'), FloatProgress(value=1.0, bar_style='info', layout=Layout(w…"
                        ],
                        "application/vnd.jupyter.widget-view+json": {
                            "version_major": 2,
                            "version_minor": 0,
                            "model_id": "9b26f9bfa88d4f8396be774ff62f4548"
                        }
                    },
                    "metadata": {}
                },
                {
                    "output_type": "stream",
                    "name": "stdout",
                    "text": [
                        "Expert_system\n"
                    ]
                },
                {
                    "output_type": "display_data",
                    "data": {
                        "text/plain": [
                            "HBox(children=(HTML(value='Processing paragraphs'), FloatProgress(value=1.0, bar_style='info', layout=Layout(w…"
                        ],
                        "application/vnd.jupyter.widget-view+json": {
                            "version_major": 2,
                            "version_minor": 0,
                            "model_id": "56afdf52533b49c8ba921d91aa2f84ec"
                        }
                    },
                    "metadata": {}
                },
                {
                    "output_type": "stream",
                    "name": "stdout",
                    "text": [
                        "Symbolic_artificial_intelligence\n"
                    ]
                },
                {
                    "output_type": "display_data",
                    "data": {
                        "text/plain": [
                            "HBox(children=(HTML(value='Processing paragraphs'), FloatProgress(value=1.0, bar_style='info', layout=Layout(w…"
                        ],
                        "application/vnd.jupyter.widget-view+json": {
                            "version_major": 2,
                            "version_minor": 0,
                            "model_id": "3b2b2ae150ae40858364661a6a4cdfe9"
                        }
                    },
                    "metadata": {}
                },
                {
                    "output_type": "stream",
                    "name": "stdout",
                    "text": [
                        "Neats_and_scruffies\n"
                    ]
                },
                {
                    "output_type": "display_data",
                    "data": {
                        "text/plain": [
                            "HBox(children=(HTML(value='Processing paragraphs'), FloatProgress(value=1.0, bar_style='info', layout=Layout(w…"
                        ],
                        "application/vnd.jupyter.widget-view+json": {
                            "version_major": 2,
                            "version_minor": 0,
                            "model_id": "9a451fc118f24bbb9bb01a9b7505ae06"
                        }
                    },
                    "metadata": {}
                },
                {
                    "output_type": "stream",
                    "name": "stdout",
                    "text": [
                        "Artificial_Intelligence:_A_Modern_Approach\n"
                    ]
                },
                {
                    "output_type": "display_data",
                    "data": {
                        "text/plain": [
                            "HBox(children=(HTML(value='Processing paragraphs'), FloatProgress(value=1.0, bar_style='info', layout=Layout(w…"
                        ],
                        "application/vnd.jupyter.widget-view+json": {
                            "version_major": 2,
                            "version_minor": 0,
                            "model_id": "18a32987a14e440985a0d5ab16ac05b2"
                        }
                    },
                    "metadata": {}
                },
                {
                    "output_type": "stream",
                    "name": "stdout",
                    "text": [
                        "Artificial_general_intelligence\n"
                    ]
                },
                {
                    "output_type": "display_data",
                    "data": {
                        "text/plain": [
                            "HBox(children=(HTML(value='Processing paragraphs'), FloatProgress(value=1.0, bar_style='info', layout=Layout(w…"
                        ],
                        "application/vnd.jupyter.widget-view+json": {
                            "version_major": 2,
                            "version_minor": 0,
                            "model_id": "96dd7fdcb9b94fb78bf3b577cc58fec8"
                        }
                    },
                    "metadata": {}
                },
                {
                    "output_type": "stream",
                    "name": "stdout",
                    "text": [
                        "History_of_artificial_intelligence\n"
                    ]
                },
                {
                    "output_type": "display_data",
                    "data": {
                        "text/plain": [
                            "HBox(children=(HTML(value='Processing paragraphs'), FloatProgress(value=1.0, bar_style='info', layout=Layout(w…"
                        ],
                        "application/vnd.jupyter.widget-view+json": {
                            "version_major": 2,
                            "version_minor": 0,
                            "model_id": "f886bfb46cb546ab84de1b312479b2ec"
                        }
                    },
                    "metadata": {}
                },
                {
                    "output_type": "stream",
                    "name": "stdout",
                    "text": [
                        "Philosophy_of_artificial_intelligence\n"
                    ]
                },
                {
                    "output_type": "display_data",
                    "data": {
                        "text/plain": [
                            "HBox(children=(HTML(value='Processing paragraphs'), FloatProgress(value=1.0, bar_style='info', layout=Layout(w…"
                        ],
                        "application/vnd.jupyter.widget-view+json": {
                            "version_major": 2,
                            "version_minor": 0,
                            "model_id": "8efb261ac94a4a23bd34961bd5bebcdc"
                        }
                    },
                    "metadata": {}
                },
                {
                    "output_type": "stream",
                    "name": "stdout",
                    "text": [
                        "Outline_of_artificial_intelligence\n"
                    ]
                },
                {
                    "output_type": "display_data",
                    "data": {
                        "text/plain": [
                            "HBox(children=(HTML(value='Processing paragraphs'), FloatProgress(value=1.0, bar_style='info', layout=Layout(w…"
                        ],
                        "application/vnd.jupyter.widget-view+json": {
                            "version_major": 2,
                            "version_minor": 0,
                            "model_id": "88ae03bc86034b40acf97ccbcb66f9cd"
                        }
                    },
                    "metadata": {}
                },
                {
                    "output_type": "stream",
                    "name": "stdout",
                    "text": [
                        "STUDENT_(computer_program)\n"
                    ]
                },
                {
                    "output_type": "display_data",
                    "data": {
                        "text/plain": [
                            "HBox(children=(HTML(value='Processing paragraphs'), FloatProgress(value=1.0, bar_style='info', layout=Layout(w…"
                        ],
                        "application/vnd.jupyter.widget-view+json": {
                            "version_major": 2,
                            "version_minor": 0,
                            "model_id": "63668997aaa9452eb96c4f66c05b6a18"
                        }
                    },
                    "metadata": {}
                },
                {
                    "output_type": "stream",
                    "name": "stdout",
                    "text": [
                        "Hubert_Dreyfus's_views_on_artificial_intelligence\n"
                    ]
                },
                {
                    "output_type": "display_data",
                    "data": {
                        "text/plain": [
                            "HBox(children=(HTML(value='Processing paragraphs'), FloatProgress(value=1.0, bar_style='info', layout=Layout(w…"
                        ],
                        "application/vnd.jupyter.widget-view+json": {
                            "version_major": 2,
                            "version_minor": 0,
                            "model_id": "47874965d6b1456790abac2c4565cb16"
                        }
                    },
                    "metadata": {}
                },
                {
                    "output_type": "stream",
                    "name": "stdout",
                    "text": [
                        "Paradigms_of_AI_Programming\n"
                    ]
                },
                {
                    "output_type": "display_data",
                    "data": {
                        "text/plain": [
                            "HBox(children=(HTML(value='Processing paragraphs'), FloatProgress(value=1.0, bar_style='info', layout=Layout(w…"
                        ],
                        "application/vnd.jupyter.widget-view+json": {
                            "version_major": 2,
                            "version_minor": 0,
                            "model_id": "7d5754b8633046f08e2e326b8d270cb0"
                        }
                    },
                    "metadata": {}
                },
                {
                    "output_type": "stream",
                    "name": "stdout",
                    "text": [
                        "Timeline_of_artificial_intelligence\n"
                    ]
                },
                {
                    "output_type": "display_data",
                    "data": {
                        "text/plain": [
                            "HBox(children=(HTML(value='Processing paragraphs'), FloatProgress(value=1.0, bar_style='info', layout=Layout(w…"
                        ],
                        "application/vnd.jupyter.widget-view+json": {
                            "version_major": 2,
                            "version_minor": 0,
                            "model_id": "b971516b7aee4a75b9703befe41dac7b"
                        }
                    },
                    "metadata": {}
                },
                {
                    "output_type": "stream",
                    "name": "stdout",
                    "text": [
                        "Logic_Theorist\n"
                    ]
                },
                {
                    "output_type": "display_data",
                    "data": {
                        "text/plain": [
                            "HBox(children=(HTML(value='Processing paragraphs'), FloatProgress(value=1.0, bar_style='info', layout=Layout(w…"
                        ],
                        "application/vnd.jupyter.widget-view+json": {
                            "version_major": 2,
                            "version_minor": 0,
                            "model_id": "c38777f41ebc45baa9d1c135ac75964b"
                        }
                    },
                    "metadata": {}
                },
                {
                    "output_type": "stream",
                    "name": "stdout",
                    "text": [
                        "Perceptrons_(book)\n"
                    ]
                },
                {
                    "output_type": "display_data",
                    "data": {
                        "text/plain": [
                            "HBox(children=(HTML(value='Processing paragraphs'), FloatProgress(value=1.0, bar_style='info', layout=Layout(w…"
                        ],
                        "application/vnd.jupyter.widget-view+json": {
                            "version_major": 2,
                            "version_minor": 0,
                            "model_id": "ea1f1aadb9634fb38caaad05ec436f84"
                        }
                    },
                    "metadata": {}
                },
                {
                    "output_type": "stream",
                    "name": "stdout",
                    "text": [
                        "List_of_programming_languages_for_artificial_intelligence\n"
                    ]
                },
                {
                    "output_type": "display_data",
                    "data": {
                        "text/plain": [
                            "HBox(children=(HTML(value='Processing paragraphs'), FloatProgress(value=1.0, bar_style='info', layout=Layout(w…"
                        ],
                        "application/vnd.jupyter.widget-view+json": {
                            "version_major": 2,
                            "version_minor": 0,
                            "model_id": "68d76f5fa7414558b371bb6e3a96190c"
                        }
                    },
                    "metadata": {}
                },
                {
                    "output_type": "stream",
                    "name": "stdout",
                    "text": [
                        "Strategic_Computing_Initiative\n"
                    ]
                },
                {
                    "output_type": "display_data",
                    "data": {
                        "text/plain": [
                            "HBox(children=(HTML(value='Processing paragraphs'), FloatProgress(value=1.0, bar_style='info', layout=Layout(w…"
                        ],
                        "application/vnd.jupyter.widget-view+json": {
                            "version_major": 2,
                            "version_minor": 0,
                            "model_id": "68ca796183a94a2bba80c3f3cbbcb3b2"
                        }
                    },
                    "metadata": {}
                },
                {
                    "output_type": "stream",
                    "name": "stdout",
                    "text": [
                        "History_of_natural_language_processing\n"
                    ]
                },
                {
                    "output_type": "display_data",
                    "data": {
                        "text/plain": [
                            "HBox(children=(HTML(value='Processing paragraphs'), FloatProgress(value=1.0, bar_style='info', layout=Layout(w…"
                        ],
                        "application/vnd.jupyter.widget-view+json": {
                            "version_major": 2,
                            "version_minor": 0,
                            "model_id": "95a081b5e3c64e4cb4d7720e36657276"
                        }
                    },
                    "metadata": {}
                },
                {
                    "output_type": "stream",
                    "name": "stdout",
                    "text": [
                        "Stochastic_neural_analog_reinforcement_calculator\n"
                    ]
                },
                {
                    "output_type": "display_data",
                    "data": {
                        "text/plain": [
                            "HBox(children=(HTML(value='Processing paragraphs'), FloatProgress(value=1.0, bar_style='info', layout=Layout(w…"
                        ],
                        "application/vnd.jupyter.widget-view+json": {
                            "version_major": 2,
                            "version_minor": 0,
                            "model_id": "6083683587f24126bfd6a6a7a486233a"
                        }
                    },
                    "metadata": {}
                },
                {
                    "output_type": "stream",
                    "name": "stdout",
                    "text": [
                        "Computational_tools_for_artificial_intelligence\n"
                    ]
                },
                {
                    "output_type": "display_data",
                    "data": {
                        "text/plain": [
                            "HBox(children=(HTML(value='Processing paragraphs'), FloatProgress(value=1.0, bar_style='info', layout=Layout(w…"
                        ],
                        "application/vnd.jupyter.widget-view+json": {
                            "version_major": 2,
                            "version_minor": 0,
                            "model_id": "bb7b6a7953cf4ca1bfb2b227ae7e7946"
                        }
                    },
                    "metadata": {}
                },
                {
                    "output_type": "stream",
                    "name": "stdout",
                    "text": [
                        "token_num 2747307\n",
                        "total_pages 714\n"
                    ]
                },
                {
                    "output_type": "display_data",
                    "data": {
                        "text/plain": [
                            "HBox(children=(HTML(value='Processing titles'), FloatProgress(value=0.0, max=21.0), HTML(value='')))"
                        ],
                        "application/vnd.jupyter.widget-view+json": {
                            "version_major": 2,
                            "version_minor": 0,
                            "model_id": "dc85092f43ba4712aec2b5451df5b61d"
                        }
                    },
                    "metadata": {}
                },
                {
                    "output_type": "stream",
                    "name": "stdout",
                    "text": [
                        "Heart\n"
                    ]
                },
                {
                    "output_type": "display_data",
                    "data": {
                        "text/plain": [
                            "HBox(children=(HTML(value='Processing paragraphs'), FloatProgress(value=1.0, bar_style='info', layout=Layout(w…"
                        ],
                        "application/vnd.jupyter.widget-view+json": {
                            "version_major": 2,
                            "version_minor": 0,
                            "model_id": "e775089762ce4004be767ecd66f06037"
                        }
                    },
                    "metadata": {}
                },
                {
                    "output_type": "stream",
                    "name": "stdout",
                    "text": [
                        "Circulatory_system\n"
                    ]
                },
                {
                    "output_type": "display_data",
                    "data": {
                        "text/plain": [
                            "HBox(children=(HTML(value='Processing paragraphs'), FloatProgress(value=1.0, bar_style='info', layout=Layout(w…"
                        ],
                        "application/vnd.jupyter.widget-view+json": {
                            "version_major": 2,
                            "version_minor": 0,
                            "model_id": "fb5b315872c746ccbf3861b0525fe677"
                        }
                    },
                    "metadata": {}
                },
                {
                    "output_type": "stream",
                    "name": "stdout",
                    "text": [
                        "Coronary_circulation\n"
                    ]
                },
                {
                    "output_type": "display_data",
                    "data": {
                        "text/plain": [
                            "HBox(children=(HTML(value='Processing paragraphs'), FloatProgress(value=1.0, bar_style='info', layout=Layout(w…"
                        ],
                        "application/vnd.jupyter.widget-view+json": {
                            "version_major": 2,
                            "version_minor": 0,
                            "model_id": "966ce3aeef054f43954f88cd30844132"
                        }
                    },
                    "metadata": {}
                },
                {
                    "output_type": "stream",
                    "name": "stdout",
                    "text": [
                        "Heart_valve\n"
                    ]
                },
                {
                    "output_type": "display_data",
                    "data": {
                        "text/plain": [
                            "HBox(children=(HTML(value='Processing paragraphs'), FloatProgress(value=1.0, bar_style='info', layout=Layout(w…"
                        ],
                        "application/vnd.jupyter.widget-view+json": {
                            "version_major": 2,
                            "version_minor": 0,
                            "model_id": "ba9bbacda53b42218775c14b5e704dc7"
                        }
                    },
                    "metadata": {}
                },
                {
                    "output_type": "stream",
                    "name": "stdout",
                    "text": [
                        "Systole\n"
                    ]
                },
                {
                    "output_type": "display_data",
                    "data": {
                        "text/plain": [
                            "HBox(children=(HTML(value='Processing paragraphs'), FloatProgress(value=1.0, bar_style='info', layout=Layout(w…"
                        ],
                        "application/vnd.jupyter.widget-view+json": {
                            "version_major": 2,
                            "version_minor": 0,
                            "model_id": "9c833f319d4a45b69ca75917f17bff87"
                        }
                    },
                    "metadata": {}
                },
                {
                    "output_type": "stream",
                    "name": "stdout",
                    "text": [
                        "Ventricle_(heart)\n"
                    ]
                },
                {
                    "output_type": "display_data",
                    "data": {
                        "text/plain": [
                            "HBox(children=(HTML(value='Processing paragraphs'), FloatProgress(value=1.0, bar_style='info', layout=Layout(w…"
                        ],
                        "application/vnd.jupyter.widget-view+json": {
                            "version_major": 2,
                            "version_minor": 0,
                            "model_id": "4a6e5ec9249f4bb898cdc8ef709d4d2b"
                        }
                    },
                    "metadata": {}
                },
                {
                    "output_type": "stream",
                    "name": "stdout",
                    "text": [
                        "Atrioventricular_node\n"
                    ]
                },
                {
                    "output_type": "display_data",
                    "data": {
                        "text/plain": [
                            "HBox(children=(HTML(value='Processing paragraphs'), FloatProgress(value=1.0, bar_style='info', layout=Layout(w…"
                        ],
                        "application/vnd.jupyter.widget-view+json": {
                            "version_major": 2,
                            "version_minor": 0,
                            "model_id": "e9ddc191800748a2adf92f769a5cf1d4"
                        }
                    },
                    "metadata": {}
                },
                {
                    "output_type": "stream",
                    "name": "stdout",
                    "text": [
                        "Diastole\n"
                    ]
                },
                {
                    "output_type": "display_data",
                    "data": {
                        "text/plain": [
                            "HBox(children=(HTML(value='Processing paragraphs'), FloatProgress(value=1.0, bar_style='info', layout=Layout(w…"
                        ],
                        "application/vnd.jupyter.widget-view+json": {
                            "version_major": 2,
                            "version_minor": 0,
                            "model_id": "ba4c373f296c41ae9c220ae74d9cda1f"
                        }
                    },
                    "metadata": {}
                },
                {
                    "output_type": "stream",
                    "name": "stdout",
                    "text": [
                        "Electrical_conduction_system_of_the_heart\n"
                    ]
                },
                {
                    "output_type": "display_data",
                    "data": {
                        "text/plain": [
                            "HBox(children=(HTML(value='Processing paragraphs'), FloatProgress(value=1.0, bar_style='info', layout=Layout(w…"
                        ],
                        "application/vnd.jupyter.widget-view+json": {
                            "version_major": 2,
                            "version_minor": 0,
                            "model_id": "ccd07406ea864ae7999a6e5ee4e9dbe0"
                        }
                    },
                    "metadata": {}
                },
                {
                    "output_type": "stream",
                    "name": "stdout",
                    "text": [
                        "Atrium_(heart)\n"
                    ]
                },
                {
                    "output_type": "display_data",
                    "data": {
                        "text/plain": [
                            "HBox(children=(HTML(value='Processing paragraphs'), FloatProgress(value=1.0, bar_style='info', layout=Layout(w…"
                        ],
                        "application/vnd.jupyter.widget-view+json": {
                            "version_major": 2,
                            "version_minor": 0,
                            "model_id": "344a661975d84e67bb993d2a80f1cce6"
                        }
                    },
                    "metadata": {}
                },
                {
                    "output_type": "stream",
                    "name": "stdout",
                    "text": [
                        "Transposition_of_the_great_vessels\n"
                    ]
                },
                {
                    "output_type": "display_data",
                    "data": {
                        "text/plain": [
                            "HBox(children=(HTML(value='Processing paragraphs'), FloatProgress(value=1.0, bar_style='info', layout=Layout(w…"
                        ],
                        "application/vnd.jupyter.widget-view+json": {
                            "version_major": 2,
                            "version_minor": 0,
                            "model_id": "c23255b1eefa4a99bc5fdd121ac28ae0"
                        }
                    },
                    "metadata": {}
                },
                {
                    "output_type": "stream",
                    "name": "stdout",
                    "text": [
                        "Cardiac_cycle\n"
                    ]
                },
                {
                    "output_type": "display_data",
                    "data": {
                        "text/plain": [
                            "HBox(children=(HTML(value='Processing paragraphs'), FloatProgress(value=1.0, bar_style='info', layout=Layout(w…"
                        ],
                        "application/vnd.jupyter.widget-view+json": {
                            "version_major": 2,
                            "version_minor": 0,
                            "model_id": "ddb7325f75494c99bbacdd6dfe691d4e"
                        }
                    },
                    "metadata": {}
                },
                {
                    "output_type": "stream",
                    "name": "stdout",
                    "text": [
                        "Cardiac_skeleton\n"
                    ]
                },
                {
                    "output_type": "display_data",
                    "data": {
                        "text/plain": [
                            "HBox(children=(HTML(value='Processing paragraphs'), FloatProgress(value=1.0, bar_style='info', layout=Layout(w…"
                        ],
                        "application/vnd.jupyter.widget-view+json": {
                            "version_major": 2,
                            "version_minor": 0,
                            "model_id": "7112227eeee74ccb823ca0ece03a5ce0"
                        }
                    },
                    "metadata": {}
                },
                {
                    "output_type": "stream",
                    "name": "stdout",
                    "text": [
                        "Levo-Transposition_of_the_great_arteries\n"
                    ]
                },
                {
                    "output_type": "display_data",
                    "data": {
                        "text/plain": [
                            "HBox(children=(HTML(value='Processing paragraphs'), FloatProgress(value=1.0, bar_style='info', layout=Layout(w…"
                        ],
                        "application/vnd.jupyter.widget-view+json": {
                            "version_major": 2,
                            "version_minor": 0,
                            "model_id": "68e6a7e435974ae696908a85cb617b19"
                        }
                    },
                    "metadata": {}
                },
                {
                    "output_type": "stream",
                    "name": "stdout",
                    "text": [
                        "Crisscross_heart\n"
                    ]
                },
                {
                    "output_type": "display_data",
                    "data": {
                        "text/plain": [
                            "HBox(children=(HTML(value='Processing paragraphs'), FloatProgress(value=1.0, bar_style='info', layout=Layout(w…"
                        ],
                        "application/vnd.jupyter.widget-view+json": {
                            "version_major": 2,
                            "version_minor": 0,
                            "model_id": "c2c2b82b75b9466b99235e8839c6f7b9"
                        }
                    },
                    "metadata": {}
                },
                {
                    "output_type": "stream",
                    "name": "stdout",
                    "text": [
                        "Outline_of_cardiology\n"
                    ]
                },
                {
                    "output_type": "display_data",
                    "data": {
                        "text/plain": [
                            "HBox(children=(HTML(value='Processing paragraphs'), FloatProgress(value=1.0, bar_style='info', layout=Layout(w…"
                        ],
                        "application/vnd.jupyter.widget-view+json": {
                            "version_major": 2,
                            "version_minor": 0,
                            "model_id": "8f3b096e1e79445abc484d4989d961f1"
                        }
                    },
                    "metadata": {}
                },
                {
                    "output_type": "stream",
                    "name": "stdout",
                    "text": [
                        "Arrhythmia\n"
                    ]
                },
                {
                    "output_type": "display_data",
                    "data": {
                        "text/plain": [
                            "HBox(children=(HTML(value='Processing paragraphs'), FloatProgress(value=1.0, bar_style='info', layout=Layout(w…"
                        ],
                        "application/vnd.jupyter.widget-view+json": {
                            "version_major": 2,
                            "version_minor": 0,
                            "model_id": "78fc0722c8144e439b4aaeba3920496c"
                        }
                    },
                    "metadata": {}
                },
                {
                    "output_type": "stream",
                    "name": "stdout",
                    "text": [
                        "Cardiac_physiology\n"
                    ]
                },
                {
                    "output_type": "display_data",
                    "data": {
                        "text/plain": [
                            "HBox(children=(HTML(value='Processing paragraphs'), FloatProgress(value=1.0, bar_style='info', layout=Layout(w…"
                        ],
                        "application/vnd.jupyter.widget-view+json": {
                            "version_major": 2,
                            "version_minor": 0,
                            "model_id": "a16164ad76914d46bba30dc95a632c24"
                        }
                    },
                    "metadata": {}
                },
                {
                    "output_type": "stream",
                    "name": "stdout",
                    "text": [
                        "Senning_procedure\n"
                    ]
                },
                {
                    "output_type": "display_data",
                    "data": {
                        "text/plain": [
                            "HBox(children=(HTML(value='Processing paragraphs'), FloatProgress(value=1.0, bar_style='info', layout=Layout(w…"
                        ],
                        "application/vnd.jupyter.widget-view+json": {
                            "version_major": 2,
                            "version_minor": 0,
                            "model_id": "0c3aafe1aa5e4415b846d634d00b86e5"
                        }
                    },
                    "metadata": {}
                },
                {
                    "output_type": "stream",
                    "name": "stdout",
                    "text": [
                        "Heart_development\n"
                    ]
                },
                {
                    "output_type": "display_data",
                    "data": {
                        "text/plain": [
                            "HBox(children=(HTML(value='Processing paragraphs'), FloatProgress(value=1.0, bar_style='info', layout=Layout(w…"
                        ],
                        "application/vnd.jupyter.widget-view+json": {
                            "version_major": 2,
                            "version_minor": 0,
                            "model_id": "5b17348c463e425a8c1021e3a3fbe857"
                        }
                    },
                    "metadata": {}
                },
                {
                    "output_type": "stream",
                    "name": "stdout",
                    "text": [
                        "Anatomy_of_the_human_heart\n"
                    ]
                },
                {
                    "output_type": "display_data",
                    "data": {
                        "text/plain": [
                            "HBox(children=(HTML(value='Processing paragraphs'), FloatProgress(value=1.0, bar_style='info', layout=Layout(w…"
                        ],
                        "application/vnd.jupyter.widget-view+json": {
                            "version_major": 2,
                            "version_minor": 0,
                            "model_id": "03cc6fe9edd341f68985e099c00fe3bd"
                        }
                    },
                    "metadata": {}
                },
                {
                    "output_type": "stream",
                    "name": "stdout",
                    "text": [
                        "token_num 2800817\n",
                        "total_pages 735\n"
                    ]
                },
                {
                    "output_type": "display_data",
                    "data": {
                        "text/plain": [
                            "HBox(children=(HTML(value='Processing titles'), FloatProgress(value=0.0, max=21.0), HTML(value='')))"
                        ],
                        "application/vnd.jupyter.widget-view+json": {
                            "version_major": 2,
                            "version_minor": 0,
                            "model_id": "a2b07646b3d3400ea710d10a4531cd5a"
                        }
                    },
                    "metadata": {}
                },
                {
                    "output_type": "stream",
                    "name": "stdout",
                    "text": [
                        "Sun Tzu\n"
                    ]
                },
                {
                    "output_type": "display_data",
                    "data": {
                        "text/plain": [
                            "HBox(children=(HTML(value='Processing paragraphs'), FloatProgress(value=1.0, bar_style='info', layout=Layout(w…"
                        ],
                        "application/vnd.jupyter.widget-view+json": {
                            "version_major": 2,
                            "version_minor": 0,
                            "model_id": "56909048f3fc46349b3756ba7b72ad74"
                        }
                    },
                    "metadata": {}
                },
                {
                    "output_type": "stream",
                    "name": "stdout",
                    "text": [
                        "Guerrilla_warfare\n"
                    ]
                },
                {
                    "output_type": "display_data",
                    "data": {
                        "text/plain": [
                            "HBox(children=(HTML(value='Processing paragraphs'), FloatProgress(value=1.0, bar_style='info', layout=Layout(w…"
                        ],
                        "application/vnd.jupyter.widget-view+json": {
                            "version_major": 2,
                            "version_minor": 0,
                            "model_id": "f51b9aef10c343fe879566f48083ec14"
                        }
                    },
                    "metadata": {}
                },
                {
                    "output_type": "stream",
                    "name": "stdout",
                    "text": [
                        "Shang_dynasty\n"
                    ]
                },
                {
                    "output_type": "display_data",
                    "data": {
                        "text/plain": [
                            "HBox(children=(HTML(value='Processing paragraphs'), FloatProgress(value=1.0, bar_style='info', layout=Layout(w…"
                        ],
                        "application/vnd.jupyter.widget-view+json": {
                            "version_major": 2,
                            "version_minor": 0,
                            "model_id": "560a1787a6d94c98adaeb5ff87186887"
                        }
                    },
                    "metadata": {}
                },
                {
                    "output_type": "stream",
                    "name": "stdout",
                    "text": [
                        "The_Art_of_War\n"
                    ]
                },
                {
                    "output_type": "display_data",
                    "data": {
                        "text/plain": [
                            "HBox(children=(HTML(value='Processing paragraphs'), FloatProgress(value=1.0, bar_style='info', layout=Layout(w…"
                        ],
                        "application/vnd.jupyter.widget-view+json": {
                            "version_major": 2,
                            "version_minor": 0,
                            "model_id": "e09fd6c0a7bc4005a28bfdcc77869b49"
                        }
                    },
                    "metadata": {}
                },
                {
                    "output_type": "stream",
                    "name": "stdout",
                    "text": [
                        "List_of_military_writers\n"
                    ]
                },
                {
                    "output_type": "display_data",
                    "data": {
                        "text/plain": [
                            "HBox(children=(HTML(value='Processing paragraphs'), FloatProgress(value=1.0, bar_style='info', layout=Layout(w…"
                        ],
                        "application/vnd.jupyter.widget-view+json": {
                            "version_major": 2,
                            "version_minor": 0,
                            "model_id": "f825542e446c4e2494d7202f0af27c2b"
                        }
                    },
                    "metadata": {}
                },
                {
                    "output_type": "stream",
                    "name": "stdout",
                    "text": [
                        "Warring_States_period\n"
                    ]
                },
                {
                    "output_type": "display_data",
                    "data": {
                        "text/plain": [
                            "HBox(children=(HTML(value='Processing paragraphs'), FloatProgress(value=1.0, bar_style='info', layout=Layout(w…"
                        ],
                        "application/vnd.jupyter.widget-view+json": {
                            "version_major": 2,
                            "version_minor": 0,
                            "model_id": "a9efb5204ee64039b93bef27c88591b1"
                        }
                    },
                    "metadata": {}
                },
                {
                    "output_type": "stream",
                    "name": "stdout",
                    "text": [
                        "Qi_(state)\n"
                    ]
                },
                {
                    "output_type": "display_data",
                    "data": {
                        "text/plain": [
                            "HBox(children=(HTML(value='Processing paragraphs'), FloatProgress(value=1.0, bar_style='info', layout=Layout(w…"
                        ],
                        "application/vnd.jupyter.widget-view+json": {
                            "version_major": 2,
                            "version_minor": 0,
                            "model_id": "8761b261f7bb4ea0b6d943240e73c9f2"
                        }
                    },
                    "metadata": {}
                },
                {
                    "output_type": "stream",
                    "name": "stdout",
                    "text": [
                        "Wu_(state)\n"
                    ]
                },
                {
                    "output_type": "display_data",
                    "data": {
                        "text/plain": [
                            "HBox(children=(HTML(value='Processing paragraphs'), FloatProgress(value=1.0, bar_style='info', layout=Layout(w…"
                        ],
                        "application/vnd.jupyter.widget-view+json": {
                            "version_major": 2,
                            "version_minor": 0,
                            "model_id": "2baefbc7f73b46f5aad91fa429815378"
                        }
                    },
                    "metadata": {}
                },
                {
                    "output_type": "stream",
                    "name": "stdout",
                    "text": [
                        "Sun_Bin\n"
                    ]
                },
                {
                    "output_type": "display_data",
                    "data": {
                        "text/plain": [
                            "HBox(children=(HTML(value='Processing paragraphs'), FloatProgress(value=1.0, bar_style='info', layout=Layout(w…"
                        ],
                        "application/vnd.jupyter.widget-view+json": {
                            "version_major": 2,
                            "version_minor": 0,
                            "model_id": "f915e9512ab0438599089dd7651020ac"
                        }
                    },
                    "metadata": {}
                },
                {
                    "output_type": "stream",
                    "name": "stdout",
                    "text": [
                        "Battle_of_Boju\n"
                    ]
                },
                {
                    "output_type": "display_data",
                    "data": {
                        "text/plain": [
                            "HBox(children=(HTML(value='Processing paragraphs'), FloatProgress(value=1.0, bar_style='info', layout=Layout(w…"
                        ],
                        "application/vnd.jupyter.widget-view+json": {
                            "version_major": 2,
                            "version_minor": 0,
                            "model_id": "076ccedb26754a48bebee87afefdad4c"
                        }
                    },
                    "metadata": {}
                },
                {
                    "output_type": "stream",
                    "name": "stdout",
                    "text": [
                        "The_Art_of_War_(disambiguation)\n"
                    ]
                },
                {
                    "output_type": "display_data",
                    "data": {
                        "text/plain": [
                            "HBox(children=(HTML(value='Processing paragraphs'), FloatProgress(value=1.0, bar_style='info', layout=Layout(w…"
                        ],
                        "application/vnd.jupyter.widget-view+json": {
                            "version_major": 2,
                            "version_minor": 0,
                            "model_id": "761b7e6419764dd1b60202949ecf3f13"
                        }
                    },
                    "metadata": {}
                },
                {
                    "output_type": "stream",
                    "name": "stdout",
                    "text": [
                        "Seven_Military_Classics\n"
                    ]
                },
                {
                    "output_type": "display_data",
                    "data": {
                        "text/plain": [
                            "HBox(children=(HTML(value='Processing paragraphs'), FloatProgress(value=1.0, bar_style='info', layout=Layout(w…"
                        ],
                        "application/vnd.jupyter.widget-view+json": {
                            "version_major": 2,
                            "version_minor": 0,
                            "model_id": "449f51c650774270acb95269da0ea9e1"
                        }
                    },
                    "metadata": {}
                },
                {
                    "output_type": "stream",
                    "name": "stdout",
                    "text": [
                        "Wuzi\n"
                    ]
                },
                {
                    "output_type": "display_data",
                    "data": {
                        "text/plain": [
                            "HBox(children=(HTML(value='Processing paragraphs'), FloatProgress(value=1.0, bar_style='info', layout=Layout(w…"
                        ],
                        "application/vnd.jupyter.widget-view+json": {
                            "version_major": 2,
                            "version_minor": 0,
                            "model_id": "7528ffeb311a4b5bacb6ec07c781e6ac"
                        }
                    },
                    "metadata": {}
                },
                {
                    "output_type": "stream",
                    "name": "stdout",
                    "text": [
                        "Khoo_Kheng-Hor\n"
                    ]
                },
                {
                    "output_type": "display_data",
                    "data": {
                        "text/plain": [
                            "HBox(children=(HTML(value='Processing paragraphs'), FloatProgress(value=1.0, bar_style='info', layout=Layout(w…"
                        ],
                        "application/vnd.jupyter.widget-view+json": {
                            "version_major": 2,
                            "version_minor": 0,
                            "model_id": "fe50c2fc6802405496d8b7986123cb5e"
                        }
                    },
                    "metadata": {}
                },
                {
                    "output_type": "stream",
                    "name": "stdout",
                    "text": [
                        "History_of_Taoism\n"
                    ]
                },
                {
                    "output_type": "display_data",
                    "data": {
                        "text/plain": [
                            "HBox(children=(HTML(value='Processing paragraphs'), FloatProgress(value=1.0, bar_style='info', layout=Layout(w…"
                        ],
                        "application/vnd.jupyter.widget-view+json": {
                            "version_major": 2,
                            "version_minor": 0,
                            "model_id": "4c6030142bc84ac9bef3a494859c1ac6"
                        }
                    },
                    "metadata": {}
                },
                {
                    "output_type": "stream",
                    "name": "stdout",
                    "text": [
                        "Six_Secret_Teachings\n"
                    ]
                },
                {
                    "output_type": "display_data",
                    "data": {
                        "text/plain": [
                            "HBox(children=(HTML(value='Processing paragraphs'), FloatProgress(value=1.0, bar_style='info', layout=Layout(w…"
                        ],
                        "application/vnd.jupyter.widget-view+json": {
                            "version_major": 2,
                            "version_minor": 0,
                            "model_id": "6299980dfa5449efad8968d14a7befcc"
                        }
                    },
                    "metadata": {}
                },
                {
                    "output_type": "stream",
                    "name": "stdout",
                    "text": [
                        "The_Methods_of_the_Sima\n"
                    ]
                },
                {
                    "output_type": "display_data",
                    "data": {
                        "text/plain": [
                            "HBox(children=(HTML(value='Processing paragraphs'), FloatProgress(value=1.0, bar_style='info', layout=Layout(w…"
                        ],
                        "application/vnd.jupyter.widget-view+json": {
                            "version_major": 2,
                            "version_minor": 0,
                            "model_id": "e96c2a52ad844ca7b66c42cf46483983"
                        }
                    },
                    "metadata": {}
                },
                {
                    "output_type": "stream",
                    "name": "stdout",
                    "text": [
                        "Three_Strategies_of_Huang_Shigong\n"
                    ]
                },
                {
                    "output_type": "display_data",
                    "data": {
                        "text/plain": [
                            "HBox(children=(HTML(value='Processing paragraphs'), FloatProgress(value=1.0, bar_style='info', layout=Layout(w…"
                        ],
                        "application/vnd.jupyter.widget-view+json": {
                            "version_major": 2,
                            "version_minor": 0,
                            "model_id": "18e509a8858045c1807f47017acc137f"
                        }
                    },
                    "metadata": {}
                },
                {
                    "output_type": "stream",
                    "name": "stdout",
                    "text": [
                        "List_of_Chinese_military_texts\n"
                    ]
                },
                {
                    "output_type": "display_data",
                    "data": {
                        "text/plain": [
                            "HBox(children=(HTML(value='Processing paragraphs'), FloatProgress(value=1.0, bar_style='info', layout=Layout(w…"
                        ],
                        "application/vnd.jupyter.widget-view+json": {
                            "version_major": 2,
                            "version_minor": 0,
                            "model_id": "3c5960ff643749c3b29bd89e4eccbb19"
                        }
                    },
                    "metadata": {}
                },
                {
                    "output_type": "stream",
                    "name": "stdout",
                    "text": [
                        "Shenyin_Shu\n"
                    ]
                },
                {
                    "output_type": "display_data",
                    "data": {
                        "text/plain": [
                            "HBox(children=(HTML(value='Processing paragraphs'), FloatProgress(value=1.0, bar_style='info', layout=Layout(w…"
                        ],
                        "application/vnd.jupyter.widget-view+json": {
                            "version_major": 2,
                            "version_minor": 0,
                            "model_id": "0c920611595440ceabc9447c4549db4e"
                        }
                    },
                    "metadata": {}
                },
                {
                    "output_type": "stream",
                    "name": "stdout",
                    "text": [
                        "Outline_of_ancient_China\n"
                    ]
                },
                {
                    "output_type": "display_data",
                    "data": {
                        "text/plain": [
                            "HBox(children=(HTML(value='Processing paragraphs'), FloatProgress(value=1.0, bar_style='info', layout=Layout(w…"
                        ],
                        "application/vnd.jupyter.widget-view+json": {
                            "version_major": 2,
                            "version_minor": 0,
                            "model_id": "52f33822857d4f528cb2bad92f661f6c"
                        }
                    },
                    "metadata": {}
                },
                {
                    "output_type": "stream",
                    "name": "stdout",
                    "text": [
                        "token_num 2838319\n",
                        "total_pages 756\n"
                    ]
                },
                {
                    "output_type": "display_data",
                    "data": {
                        "text/plain": [
                            "HBox(children=(HTML(value='Processing titles'), FloatProgress(value=0.0, max=21.0), HTML(value='')))"
                        ],
                        "application/vnd.jupyter.widget-view+json": {
                            "version_major": 2,
                            "version_minor": 0,
                            "model_id": "b1bd2f9013da4b1fbf7dfdf8ed29d381"
                        }
                    },
                    "metadata": {}
                },
                {
                    "output_type": "stream",
                    "name": "stdout",
                    "text": [
                        "Cesare_Beccaria\n"
                    ]
                },
                {
                    "output_type": "display_data",
                    "data": {
                        "text/plain": [
                            "HBox(children=(HTML(value='Processing paragraphs'), FloatProgress(value=1.0, bar_style='info', layout=Layout(w…"
                        ],
                        "application/vnd.jupyter.widget-view+json": {
                            "version_major": 2,
                            "version_minor": 0,
                            "model_id": "13cfa02e370044a981fe9ca942972aca"
                        }
                    },
                    "metadata": {}
                },
                {
                    "output_type": "stream",
                    "name": "stdout",
                    "text": [
                        "Punishment\n"
                    ]
                },
                {
                    "output_type": "display_data",
                    "data": {
                        "text/plain": [
                            "HBox(children=(HTML(value='Processing paragraphs'), FloatProgress(value=1.0, bar_style='info', layout=Layout(w…"
                        ],
                        "application/vnd.jupyter.widget-view+json": {
                            "version_major": 2,
                            "version_minor": 0,
                            "model_id": "589f2650fc364b1080ae2f9329c257c0"
                        }
                    },
                    "metadata": {}
                },
                {
                    "output_type": "stream",
                    "name": "stdout",
                    "text": [
                        "Cesare_Lombroso\n"
                    ]
                },
                {
                    "output_type": "display_data",
                    "data": {
                        "text/plain": [
                            "HBox(children=(HTML(value='Processing paragraphs'), FloatProgress(value=1.0, bar_style='info', layout=Layout(w…"
                        ],
                        "application/vnd.jupyter.widget-view+json": {
                            "version_major": 2,
                            "version_minor": 0,
                            "model_id": "1a7adbce01f84fac90751ee4acb4d54c"
                        }
                    },
                    "metadata": {}
                },
                {
                    "output_type": "stream",
                    "name": "stdout",
                    "text": [
                        "Retributive_justice\n"
                    ]
                },
                {
                    "output_type": "display_data",
                    "data": {
                        "text/plain": [
                            "HBox(children=(HTML(value='Processing paragraphs'), FloatProgress(value=1.0, bar_style='info', layout=Layout(w…"
                        ],
                        "application/vnd.jupyter.widget-view+json": {
                            "version_major": 2,
                            "version_minor": 0,
                            "model_id": "eadaece4951d484195ab07d120480b38"
                        }
                    },
                    "metadata": {}
                },
                {
                    "output_type": "stream",
                    "name": "stdout",
                    "text": [
                        "André_Morellet\n"
                    ]
                },
                {
                    "output_type": "display_data",
                    "data": {
                        "text/plain": [
                            "HBox(children=(HTML(value='Processing paragraphs'), FloatProgress(value=1.0, bar_style='info', layout=Layout(w…"
                        ],
                        "application/vnd.jupyter.widget-view+json": {
                            "version_major": 2,
                            "version_minor": 0,
                            "model_id": "498a12253a7d47b9a143353a510e88f7"
                        }
                    },
                    "metadata": {}
                },
                {
                    "output_type": "stream",
                    "name": "stdout",
                    "text": [
                        "Beccaria\n"
                    ]
                },
                {
                    "output_type": "display_data",
                    "data": {
                        "text/plain": [
                            "HBox(children=(HTML(value='Processing paragraphs'), FloatProgress(value=1.0, bar_style='info', layout=Layout(w…"
                        ],
                        "application/vnd.jupyter.widget-view+json": {
                            "version_major": 2,
                            "version_minor": 0,
                            "model_id": "55920e30cc534da0a402e821f77188d8"
                        }
                    },
                    "metadata": {}
                },
                {
                    "output_type": "stream",
                    "name": "stdout",
                    "text": [
                        "Penology\n"
                    ]
                },
                {
                    "output_type": "display_data",
                    "data": {
                        "text/plain": [
                            "HBox(children=(HTML(value='Processing paragraphs'), FloatProgress(value=1.0, bar_style='info', layout=Layout(w…"
                        ],
                        "application/vnd.jupyter.widget-view+json": {
                            "version_major": 2,
                            "version_minor": 0,
                            "model_id": "7f8deae73d3648539569b27ca17cf2e9"
                        }
                    },
                    "metadata": {}
                },
                {
                    "output_type": "stream",
                    "name": "stdout",
                    "text": [
                        "Italian_school_of_criminology\n"
                    ]
                },
                {
                    "output_type": "display_data",
                    "data": {
                        "text/plain": [
                            "HBox(children=(HTML(value='Processing paragraphs'), FloatProgress(value=1.0, bar_style='info', layout=Layout(w…"
                        ],
                        "application/vnd.jupyter.widget-view+json": {
                            "version_major": 2,
                            "version_minor": 0,
                            "model_id": "f28ef1e44cb241baa3f38f884311c689"
                        }
                    },
                    "metadata": {}
                },
                {
                    "output_type": "stream",
                    "name": "stdout",
                    "text": [
                        "Pietro_Verri\n"
                    ]
                },
                {
                    "output_type": "display_data",
                    "data": {
                        "text/plain": [
                            "HBox(children=(HTML(value='Processing paragraphs'), FloatProgress(value=1.0, bar_style='info', layout=Layout(w…"
                        ],
                        "application/vnd.jupyter.widget-view+json": {
                            "version_major": 2,
                            "version_minor": 0,
                            "model_id": "d76edfab183d4c1da94fa21b3c266b82"
                        }
                    },
                    "metadata": {}
                },
                {
                    "output_type": "stream",
                    "name": "stdout",
                    "text": [
                        "Cities_for_Life_Day\n"
                    ]
                },
                {
                    "output_type": "display_data",
                    "data": {
                        "text/plain": [
                            "HBox(children=(HTML(value='Processing paragraphs'), FloatProgress(value=1.0, bar_style='info', layout=Layout(w…"
                        ],
                        "application/vnd.jupyter.widget-view+json": {
                            "version_major": 2,
                            "version_minor": 0,
                            "model_id": "946970a288eb4ff9b845035506347698"
                        }
                    },
                    "metadata": {}
                },
                {
                    "output_type": "stream",
                    "name": "stdout",
                    "text": [
                        "Classical_school_(criminology)\n"
                    ]
                },
                {
                    "output_type": "display_data",
                    "data": {
                        "text/plain": [
                            "HBox(children=(HTML(value='Processing paragraphs'), FloatProgress(value=1.0, bar_style='info', layout=Layout(w…"
                        ],
                        "application/vnd.jupyter.widget-view+json": {
                            "version_major": 2,
                            "version_minor": 0,
                            "model_id": "74421991a01e473f930605f01fabc711"
                        }
                    },
                    "metadata": {}
                },
                {
                    "output_type": "stream",
                    "name": "stdout",
                    "text": [
                        "Neo-classical_school_(criminology)\n"
                    ]
                },
                {
                    "output_type": "display_data",
                    "data": {
                        "text/plain": [
                            "HBox(children=(HTML(value='Processing paragraphs'), FloatProgress(value=1.0, bar_style='info', layout=Layout(w…"
                        ],
                        "application/vnd.jupyter.widget-view+json": {
                            "version_major": 2,
                            "version_minor": 0,
                            "model_id": "fb89f6626d9e47e8addd7848b7e93190"
                        }
                    },
                    "metadata": {}
                },
                {
                    "output_type": "stream",
                    "name": "stdout",
                    "text": [
                        "Deterrence_(penology)\n"
                    ]
                },
                {
                    "output_type": "display_data",
                    "data": {
                        "text/plain": [
                            "HBox(children=(HTML(value='Processing paragraphs'), FloatProgress(value=1.0, bar_style='info', layout=Layout(w…"
                        ],
                        "application/vnd.jupyter.widget-view+json": {
                            "version_major": 2,
                            "version_minor": 0,
                            "model_id": "3d6c8ff1862442fcb5aae810ca730cab"
                        }
                    },
                    "metadata": {}
                },
                {
                    "output_type": "stream",
                    "name": "stdout",
                    "text": [
                        "Preventive_police\n"
                    ]
                },
                {
                    "output_type": "display_data",
                    "data": {
                        "text/plain": [
                            "HBox(children=(HTML(value='Processing paragraphs'), FloatProgress(value=1.0, bar_style='info', layout=Layout(w…"
                        ],
                        "application/vnd.jupyter.widget-view+json": {
                            "version_major": 2,
                            "version_minor": 0,
                            "model_id": "1301ac15a7664e59a469693670f41800"
                        }
                    },
                    "metadata": {}
                },
                {
                    "output_type": "stream",
                    "name": "stdout",
                    "text": [
                        "On_Crimes_and_Punishments\n"
                    ]
                },
                {
                    "output_type": "display_data",
                    "data": {
                        "text/plain": [
                            "HBox(children=(HTML(value='Processing paragraphs'), FloatProgress(value=1.0, bar_style='info', layout=Layout(w…"
                        ],
                        "application/vnd.jupyter.widget-view+json": {
                            "version_major": 2,
                            "version_minor": 0,
                            "model_id": "0dddef8afa8f41ce8028c426ce31c0ef"
                        }
                    },
                    "metadata": {}
                },
                {
                    "output_type": "stream",
                    "name": "stdout",
                    "text": [
                        "Enrico_Ferri_(criminologist)\n"
                    ]
                },
                {
                    "output_type": "display_data",
                    "data": {
                        "text/plain": [
                            "HBox(children=(HTML(value='Processing paragraphs'), FloatProgress(value=1.0, bar_style='info', layout=Layout(w…"
                        ],
                        "application/vnd.jupyter.widget-view+json": {
                            "version_major": 2,
                            "version_minor": 0,
                            "model_id": "ba61efca174e4760984535d85807c39e"
                        }
                    },
                    "metadata": {}
                },
                {
                    "output_type": "stream",
                    "name": "stdout",
                    "text": [
                        "Reflections_on_the_Guillotine\n"
                    ]
                },
                {
                    "output_type": "display_data",
                    "data": {
                        "text/plain": [
                            "HBox(children=(HTML(value='Processing paragraphs'), FloatProgress(value=1.0, bar_style='info', layout=Layout(w…"
                        ],
                        "application/vnd.jupyter.widget-view+json": {
                            "version_major": 2,
                            "version_minor": 0,
                            "model_id": "5daf73c838f146518c837b5949fe4ce4"
                        }
                    },
                    "metadata": {}
                },
                {
                    "output_type": "stream",
                    "name": "stdout",
                    "text": [
                        "Francis_Saviour_Farrugia\n"
                    ]
                },
                {
                    "output_type": "display_data",
                    "data": {
                        "text/plain": [
                            "HBox(children=(HTML(value='Processing paragraphs'), FloatProgress(value=1.0, bar_style='info', layout=Layout(w…"
                        ],
                        "application/vnd.jupyter.widget-view+json": {
                            "version_major": 2,
                            "version_minor": 0,
                            "model_id": "5c5614997a64410687ace7882ced296c"
                        }
                    },
                    "metadata": {}
                },
                {
                    "output_type": "stream",
                    "name": "stdout",
                    "text": [
                        "History_of_Italian_culture_(1700s)\n"
                    ]
                },
                {
                    "output_type": "display_data",
                    "data": {
                        "text/plain": [
                            "HBox(children=(HTML(value='Processing paragraphs'), FloatProgress(value=1.0, bar_style='info', layout=Layout(w…"
                        ],
                        "application/vnd.jupyter.widget-view+json": {
                            "version_major": 2,
                            "version_minor": 0,
                            "model_id": "2b6a5bd37de3419baa33afc8d7e578e2"
                        }
                    },
                    "metadata": {}
                },
                {
                    "output_type": "stream",
                    "name": "stdout",
                    "text": [
                        "Criminology\n"
                    ]
                },
                {
                    "output_type": "display_data",
                    "data": {
                        "text/plain": [
                            "HBox(children=(HTML(value='Processing paragraphs'), FloatProgress(value=1.0, bar_style='info', layout=Layout(w…"
                        ],
                        "application/vnd.jupyter.widget-view+json": {
                            "version_major": 2,
                            "version_minor": 0,
                            "model_id": "907acad599d54ef9b768942a28f4546c"
                        }
                    },
                    "metadata": {}
                },
                {
                    "output_type": "stream",
                    "name": "stdout",
                    "text": [
                        "Alberto_de_Simoni\n"
                    ]
                },
                {
                    "output_type": "display_data",
                    "data": {
                        "text/plain": [
                            "HBox(children=(HTML(value='Processing paragraphs'), FloatProgress(value=1.0, bar_style='info', layout=Layout(w…"
                        ],
                        "application/vnd.jupyter.widget-view+json": {
                            "version_major": 2,
                            "version_minor": 0,
                            "model_id": "b05a193c7d724025baa038c1069cccb2"
                        }
                    },
                    "metadata": {}
                },
                {
                    "output_type": "stream",
                    "name": "stdout",
                    "text": [
                        "token_num 2872331\n",
                        "total_pages 777\n"
                    ]
                },
                {
                    "output_type": "display_data",
                    "data": {
                        "text/plain": [
                            "HBox(children=(HTML(value='Processing titles'), FloatProgress(value=0.0, max=21.0), HTML(value='')))"
                        ],
                        "application/vnd.jupyter.widget-view+json": {
                            "version_major": 2,
                            "version_minor": 0,
                            "model_id": "45001c8fcb6f4cc58e2252ac3041ea37"
                        }
                    },
                    "metadata": {}
                },
                {
                    "output_type": "stream",
                    "name": "stdout",
                    "text": [
                        "Alessandro_Manzoni\n"
                    ]
                },
                {
                    "output_type": "display_data",
                    "data": {
                        "text/plain": [
                            "HBox(children=(HTML(value='Processing paragraphs'), FloatProgress(value=1.0, bar_style='info', layout=Layout(w…"
                        ],
                        "application/vnd.jupyter.widget-view+json": {
                            "version_major": 2,
                            "version_minor": 0,
                            "model_id": "ef3b065c8453464192df7a7b419e8e0b"
                        }
                    },
                    "metadata": {}
                },
                {
                    "output_type": "stream",
                    "name": "stdout",
                    "text": [
                        "Lecco\n"
                    ]
                },
                {
                    "output_type": "display_data",
                    "data": {
                        "text/plain": [
                            "HBox(children=(HTML(value='Processing paragraphs'), FloatProgress(value=1.0, bar_style='info', layout=Layout(w…"
                        ],
                        "application/vnd.jupyter.widget-view+json": {
                            "version_major": 2,
                            "version_minor": 0,
                            "model_id": "f96d202ed41d4a73a841d3d2916e11fd"
                        }
                    },
                    "metadata": {}
                },
                {
                    "output_type": "stream",
                    "name": "stdout",
                    "text": [
                        "The_Betrothed_(Manzoni_novel)\n"
                    ]
                },
                {
                    "output_type": "display_data",
                    "data": {
                        "text/plain": [
                            "HBox(children=(HTML(value='Processing paragraphs'), FloatProgress(value=1.0, bar_style='info', layout=Layout(w…"
                        ],
                        "application/vnd.jupyter.widget-view+json": {
                            "version_major": 2,
                            "version_minor": 0,
                            "model_id": "a1f792cacdac43a9825bbc263262ff69"
                        }
                    },
                    "metadata": {}
                },
                {
                    "output_type": "stream",
                    "name": "stdout",
                    "text": [
                        "Tommaso_Grossi\n"
                    ]
                },
                {
                    "output_type": "display_data",
                    "data": {
                        "text/plain": [
                            "HBox(children=(HTML(value='Processing paragraphs'), FloatProgress(value=1.0, bar_style='info', layout=Layout(w…"
                        ],
                        "application/vnd.jupyter.widget-view+json": {
                            "version_major": 2,
                            "version_minor": 0,
                            "model_id": "aa642a8bfdc34eec9cc5d74a418d21f0"
                        }
                    },
                    "metadata": {}
                },
                {
                    "output_type": "stream",
                    "name": "stdout",
                    "text": [
                        "1629–1631_Italian_plague\n"
                    ]
                },
                {
                    "output_type": "display_data",
                    "data": {
                        "text/plain": [
                            "HBox(children=(HTML(value='Processing paragraphs'), FloatProgress(value=1.0, bar_style='info', layout=Layout(w…"
                        ],
                        "application/vnd.jupyter.widget-view+json": {
                            "version_major": 2,
                            "version_minor": 0,
                            "model_id": "1359dddddc054863ba59c13be1437bdf"
                        }
                    },
                    "metadata": {}
                },
                {
                    "output_type": "stream",
                    "name": "stdout",
                    "text": [
                        "Federico_Borromeo\n"
                    ]
                },
                {
                    "output_type": "display_data",
                    "data": {
                        "text/plain": [
                            "HBox(children=(HTML(value='Processing paragraphs'), FloatProgress(value=1.0, bar_style='info', layout=Layout(w…"
                        ],
                        "application/vnd.jupyter.widget-view+json": {
                            "version_major": 2,
                            "version_minor": 0,
                            "model_id": "9c989a37395f4060aeab70a0fabe18cf"
                        }
                    },
                    "metadata": {}
                },
                {
                    "output_type": "stream",
                    "name": "stdout",
                    "text": [
                        "Monte_Resegone\n"
                    ]
                },
                {
                    "output_type": "display_data",
                    "data": {
                        "text/plain": [
                            "HBox(children=(HTML(value='Processing paragraphs'), FloatProgress(value=1.0, bar_style='info', layout=Layout(w…"
                        ],
                        "application/vnd.jupyter.widget-view+json": {
                            "version_major": 2,
                            "version_minor": 0,
                            "model_id": "318e2f2a633e4ed79901d02654fb23cf"
                        }
                    },
                    "metadata": {}
                },
                {
                    "output_type": "stream",
                    "name": "stdout",
                    "text": [
                        "Carlo_Imbonati\n"
                    ]
                },
                {
                    "output_type": "display_data",
                    "data": {
                        "text/plain": [
                            "HBox(children=(HTML(value='Processing paragraphs'), FloatProgress(value=1.0, bar_style='info', layout=Layout(w…"
                        ],
                        "application/vnd.jupyter.widget-view+json": {
                            "version_major": 2,
                            "version_minor": 0,
                            "model_id": "509807b24cb347c6a49705f166f4b8c2"
                        }
                    },
                    "metadata": {}
                },
                {
                    "output_type": "stream",
                    "name": "stdout",
                    "text": [
                        "Michel_Altieri\n"
                    ]
                },
                {
                    "output_type": "display_data",
                    "data": {
                        "text/plain": [
                            "HBox(children=(HTML(value='Processing paragraphs'), FloatProgress(value=1.0, bar_style='info', layout=Layout(w…"
                        ],
                        "application/vnd.jupyter.widget-view+json": {
                            "version_major": 2,
                            "version_minor": 0,
                            "model_id": "1833054050eb4bbfb049b7fd58f79ebb"
                        }
                    },
                    "metadata": {}
                },
                {
                    "output_type": "stream",
                    "name": "stdout",
                    "text": [
                        "The_Betrothed_(miniseries)\n"
                    ]
                },
                {
                    "output_type": "display_data",
                    "data": {
                        "text/plain": [
                            "HBox(children=(HTML(value='Processing paragraphs'), FloatProgress(value=1.0, bar_style='info', layout=Layout(w…"
                        ],
                        "application/vnd.jupyter.widget-view+json": {
                            "version_major": 2,
                            "version_minor": 0,
                            "model_id": "a829d7d1caf74f9c9f6a872fdfc68693"
                        }
                    },
                    "metadata": {}
                },
                {
                    "output_type": "stream",
                    "name": "stdout",
                    "text": [
                        "Paride_Zajotti\n"
                    ]
                },
                {
                    "output_type": "display_data",
                    "data": {
                        "text/plain": [
                            "HBox(children=(HTML(value='Processing paragraphs'), FloatProgress(value=1.0, bar_style='info', layout=Layout(w…"
                        ],
                        "application/vnd.jupyter.widget-view+json": {
                            "version_major": 2,
                            "version_minor": 0,
                            "model_id": "824988ddf52c4969b417571aa07f8a9a"
                        }
                    },
                    "metadata": {}
                },
                {
                    "output_type": "stream",
                    "name": "stdout",
                    "text": [
                        "The_Nun_of_Monza\n"
                    ]
                },
                {
                    "output_type": "display_data",
                    "data": {
                        "text/plain": [
                            "HBox(children=(HTML(value='Processing paragraphs'), FloatProgress(value=1.0, bar_style='info', layout=Layout(w…"
                        ],
                        "application/vnd.jupyter.widget-view+json": {
                            "version_major": 2,
                            "version_minor": 0,
                            "model_id": "a0ef63ea5be54e048f666eef7b7d827a"
                        }
                    },
                    "metadata": {}
                },
                {
                    "output_type": "stream",
                    "name": "stdout",
                    "text": [
                        "The_Betrothed_(1941_film)\n"
                    ]
                },
                {
                    "output_type": "display_data",
                    "data": {
                        "text/plain": [
                            "HBox(children=(HTML(value='Processing paragraphs'), FloatProgress(value=1.0, bar_style='info', layout=Layout(w…"
                        ],
                        "application/vnd.jupyter.widget-view+json": {
                            "version_major": 2,
                            "version_minor": 0,
                            "model_id": "942a16ae096342e7975da7d4df90a0c9"
                        }
                    },
                    "metadata": {}
                },
                {
                    "output_type": "stream",
                    "name": "stdout",
                    "text": [
                        "The_Betrothed_(1964_film)\n"
                    ]
                },
                {
                    "output_type": "display_data",
                    "data": {
                        "text/plain": [
                            "HBox(children=(HTML(value='Processing paragraphs'), FloatProgress(value=1.0, bar_style='info', layout=Layout(w…"
                        ],
                        "application/vnd.jupyter.widget-view+json": {
                            "version_major": 2,
                            "version_minor": 0,
                            "model_id": "7502b7a46a174a50a3aa4cbd2cb9aab5"
                        }
                    },
                    "metadata": {}
                },
                {
                    "output_type": "stream",
                    "name": "stdout",
                    "text": [
                        "The_Betrothed_(1923_film)\n"
                    ]
                },
                {
                    "output_type": "display_data",
                    "data": {
                        "text/plain": [
                            "HBox(children=(HTML(value='Processing paragraphs'), FloatProgress(value=1.0, bar_style='info', layout=Layout(w…"
                        ],
                        "application/vnd.jupyter.widget-view+json": {
                            "version_major": 2,
                            "version_minor": 0,
                            "model_id": "44bd13a9aa8341f4b5d06d647973cfec"
                        }
                    },
                    "metadata": {}
                },
                {
                    "output_type": "stream",
                    "name": "stdout",
                    "text": [
                        "Teresina_Brambilla\n"
                    ]
                },
                {
                    "output_type": "display_data",
                    "data": {
                        "text/plain": [
                            "HBox(children=(HTML(value='Processing paragraphs'), FloatProgress(value=1.0, bar_style='info', layout=Layout(w…"
                        ],
                        "application/vnd.jupyter.widget-view+json": {
                            "version_major": 2,
                            "version_minor": 0,
                            "model_id": "0cbe76494b414a3da8d218c9f6da6ea9"
                        }
                    },
                    "metadata": {}
                },
                {
                    "output_type": "stream",
                    "name": "stdout",
                    "text": [
                        "San_Giovanni_Battista,_Lecco\n"
                    ]
                },
                {
                    "output_type": "display_data",
                    "data": {
                        "text/plain": [
                            "HBox(children=(HTML(value='Processing paragraphs'), FloatProgress(value=1.0, bar_style='info', layout=Layout(w…"
                        ],
                        "application/vnd.jupyter.widget-view+json": {
                            "version_major": 2,
                            "version_minor": 0,
                            "model_id": "ac171e004fa74b4a8bc726e0b020b6e5"
                        }
                    },
                    "metadata": {}
                },
                {
                    "output_type": "stream",
                    "name": "stdout",
                    "text": [
                        "Sigismondo_Boldoni\n"
                    ]
                },
                {
                    "output_type": "display_data",
                    "data": {
                        "text/plain": [
                            "HBox(children=(HTML(value='Processing paragraphs'), FloatProgress(value=1.0, bar_style='info', layout=Layout(w…"
                        ],
                        "application/vnd.jupyter.widget-view+json": {
                            "version_major": 2,
                            "version_minor": 0,
                            "model_id": "5de97c21a7e74cb08de33bc7cca78a75"
                        }
                    },
                    "metadata": {}
                },
                {
                    "output_type": "stream",
                    "name": "stdout",
                    "text": [
                        "Derek_A._Traversi\n"
                    ]
                },
                {
                    "output_type": "display_data",
                    "data": {
                        "text/plain": [
                            "HBox(children=(HTML(value='Processing paragraphs'), FloatProgress(value=1.0, bar_style='info', layout=Layout(w…"
                        ],
                        "application/vnd.jupyter.widget-view+json": {
                            "version_major": 2,
                            "version_minor": 0,
                            "model_id": "8b5afb714b344140af21882f8b037238"
                        }
                    },
                    "metadata": {}
                },
                {
                    "output_type": "stream",
                    "name": "stdout",
                    "text": [
                        "1989_in_Italian_television\n"
                    ]
                },
                {
                    "output_type": "display_data",
                    "data": {
                        "text/plain": [
                            "HBox(children=(HTML(value='Processing paragraphs'), FloatProgress(value=1.0, bar_style='info', layout=Layout(w…"
                        ],
                        "application/vnd.jupyter.widget-view+json": {
                            "version_major": 2,
                            "version_minor": 0,
                            "model_id": "9490c064ac364395ab79c094e867cf2c"
                        }
                    },
                    "metadata": {}
                },
                {
                    "output_type": "stream",
                    "name": "stdout",
                    "text": [
                        "1967_in_Italian_television\n"
                    ]
                },
                {
                    "output_type": "display_data",
                    "data": {
                        "text/plain": [
                            "HBox(children=(HTML(value='Processing paragraphs'), FloatProgress(value=1.0, bar_style='info', layout=Layout(w…"
                        ],
                        "application/vnd.jupyter.widget-view+json": {
                            "version_major": 2,
                            "version_minor": 0,
                            "model_id": "f82633504e6345bcbfa9bdd4b235c0a2"
                        }
                    },
                    "metadata": {}
                },
                {
                    "output_type": "stream",
                    "name": "stdout",
                    "text": [
                        "token_num 2888474\n",
                        "total_pages 798\n"
                    ]
                },
                {
                    "output_type": "display_data",
                    "data": {
                        "text/plain": [
                            "HBox(children=(HTML(value='Processing titles'), FloatProgress(value=0.0, max=21.0), HTML(value='')))"
                        ],
                        "application/vnd.jupyter.widget-view+json": {
                            "version_major": 2,
                            "version_minor": 0,
                            "model_id": "7cd194fdff8446a2b1557ea63d780c79"
                        }
                    },
                    "metadata": {}
                },
                {
                    "output_type": "stream",
                    "name": "stdout",
                    "text": [
                        "Gamma_ray\n"
                    ]
                },
                {
                    "output_type": "display_data",
                    "data": {
                        "text/plain": [
                            "HBox(children=(HTML(value='Processing paragraphs'), FloatProgress(value=1.0, bar_style='info', layout=Layout(w…"
                        ],
                        "application/vnd.jupyter.widget-view+json": {
                            "version_major": 2,
                            "version_minor": 0,
                            "model_id": "0d9a568007fe4ac3ac8d6426d087df8c"
                        }
                    },
                    "metadata": {}
                },
                {
                    "output_type": "stream",
                    "name": "stdout",
                    "text": [
                        "Alpha_decay\n"
                    ]
                },
                {
                    "output_type": "display_data",
                    "data": {
                        "text/plain": [
                            "HBox(children=(HTML(value='Processing paragraphs'), FloatProgress(value=1.0, bar_style='info', layout=Layout(w…"
                        ],
                        "application/vnd.jupyter.widget-view+json": {
                            "version_major": 2,
                            "version_minor": 0,
                            "model_id": "43e14ba6b3f14710946599133a6e882b"
                        }
                    },
                    "metadata": {}
                },
                {
                    "output_type": "stream",
                    "name": "stdout",
                    "text": [
                        "Neutron\n"
                    ]
                },
                {
                    "output_type": "display_data",
                    "data": {
                        "text/plain": [
                            "HBox(children=(HTML(value='Processing paragraphs'), FloatProgress(value=1.0, bar_style='info', layout=Layout(w…"
                        ],
                        "application/vnd.jupyter.widget-view+json": {
                            "version_major": 2,
                            "version_minor": 0,
                            "model_id": "51628e5a8a074e4aa322c01d4b06f3d8"
                        }
                    },
                    "metadata": {}
                },
                {
                    "output_type": "stream",
                    "name": "stdout",
                    "text": [
                        "Particle_radiation\n"
                    ]
                },
                {
                    "output_type": "display_data",
                    "data": {
                        "text/plain": [
                            "HBox(children=(HTML(value='Processing paragraphs'), FloatProgress(value=1.0, bar_style='info', layout=Layout(w…"
                        ],
                        "application/vnd.jupyter.widget-view+json": {
                            "version_major": 2,
                            "version_minor": 0,
                            "model_id": "176078a26c47414faa95c38e893c3d85"
                        }
                    },
                    "metadata": {}
                },
                {
                    "output_type": "stream",
                    "name": "stdout",
                    "text": [
                        "Radiation\n"
                    ]
                },
                {
                    "output_type": "display_data",
                    "data": {
                        "text/plain": [
                            "HBox(children=(HTML(value='Processing paragraphs'), FloatProgress(value=1.0, bar_style='info', layout=Layout(w…"
                        ],
                        "application/vnd.jupyter.widget-view+json": {
                            "version_major": 2,
                            "version_minor": 0,
                            "model_id": "af60c87e71bb4fdcb8b37a727b544960"
                        }
                    },
                    "metadata": {}
                },
                {
                    "output_type": "stream",
                    "name": "stdout",
                    "text": [
                        "Beta_particle\n"
                    ]
                },
                {
                    "output_type": "display_data",
                    "data": {
                        "text/plain": [
                            "HBox(children=(HTML(value='Processing paragraphs'), FloatProgress(value=1.0, bar_style='info', layout=Layout(w…"
                        ],
                        "application/vnd.jupyter.widget-view+json": {
                            "version_major": 2,
                            "version_minor": 0,
                            "model_id": "3378d05450b94ae68730ed0018931990"
                        }
                    },
                    "metadata": {}
                },
                {
                    "output_type": "stream",
                    "name": "stdout",
                    "text": [
                        "Nuclear_technology\n"
                    ]
                },
                {
                    "output_type": "display_data",
                    "data": {
                        "text/plain": [
                            "HBox(children=(HTML(value='Processing paragraphs'), FloatProgress(value=1.0, bar_style='info', layout=Layout(w…"
                        ],
                        "application/vnd.jupyter.widget-view+json": {
                            "version_major": 2,
                            "version_minor": 0,
                            "model_id": "96192ac2178345e586f26e1bed7066f5"
                        }
                    },
                    "metadata": {}
                },
                {
                    "output_type": "stream",
                    "name": "stdout",
                    "text": [
                        "Nuclear_isomer\n"
                    ]
                },
                {
                    "output_type": "display_data",
                    "data": {
                        "text/plain": [
                            "HBox(children=(HTML(value='Processing paragraphs'), FloatProgress(value=1.0, bar_style='info', layout=Layout(w…"
                        ],
                        "application/vnd.jupyter.widget-view+json": {
                            "version_major": 2,
                            "version_minor": 0,
                            "model_id": "dc21eb39dffb46b89217eae680a7e19e"
                        }
                    },
                    "metadata": {}
                },
                {
                    "output_type": "stream",
                    "name": "stdout",
                    "text": [
                        "Radioactive_decay\n"
                    ]
                },
                {
                    "output_type": "display_data",
                    "data": {
                        "text/plain": [
                            "HBox(children=(HTML(value='Processing paragraphs'), FloatProgress(value=1.0, bar_style='info', layout=Layout(w…"
                        ],
                        "application/vnd.jupyter.widget-view+json": {
                            "version_major": 2,
                            "version_minor": 0,
                            "model_id": "9870df2a6b4c4e92ba6bafa4906dc4bb"
                        }
                    },
                    "metadata": {}
                },
                {
                    "output_type": "stream",
                    "name": "stdout",
                    "text": [
                        "Ionizing_radiation\n"
                    ]
                },
                {
                    "output_type": "display_data",
                    "data": {
                        "text/plain": [
                            "HBox(children=(HTML(value='Processing paragraphs'), FloatProgress(value=1.0, bar_style='info', layout=Layout(w…"
                        ],
                        "application/vnd.jupyter.widget-view+json": {
                            "version_major": 2,
                            "version_minor": 0,
                            "model_id": "bcbde92edcf44cc0bb8201b925869357"
                        }
                    },
                    "metadata": {}
                },
                {
                    "output_type": "stream",
                    "name": "stdout",
                    "text": [
                        "Radiation_protection\n"
                    ]
                },
                {
                    "output_type": "display_data",
                    "data": {
                        "text/plain": [
                            "HBox(children=(HTML(value='Processing paragraphs'), FloatProgress(value=1.0, bar_style='info', layout=Layout(w…"
                        ],
                        "application/vnd.jupyter.widget-view+json": {
                            "version_major": 2,
                            "version_minor": 0,
                            "model_id": "5358ede06a504002835a2caa82629e65"
                        }
                    },
                    "metadata": {}
                },
                {
                    "output_type": "stream",
                    "name": "stdout",
                    "text": [
                        "Neutron_radiation\n"
                    ]
                },
                {
                    "output_type": "display_data",
                    "data": {
                        "text/plain": [
                            "HBox(children=(HTML(value='Processing paragraphs'), FloatProgress(value=1.0, bar_style='info', layout=Layout(w…"
                        ],
                        "application/vnd.jupyter.widget-view+json": {
                            "version_major": 2,
                            "version_minor": 0,
                            "model_id": "5158f932ec0b425b91a72a24b1f94a1c"
                        }
                    },
                    "metadata": {}
                },
                {
                    "output_type": "stream",
                    "name": "stdout",
                    "text": [
                        "Nuclear_reaction\n"
                    ]
                },
                {
                    "output_type": "display_data",
                    "data": {
                        "text/plain": [
                            "HBox(children=(HTML(value='Processing paragraphs'), FloatProgress(value=1.0, bar_style='info', layout=Layout(w…"
                        ],
                        "application/vnd.jupyter.widget-view+json": {
                            "version_major": 2,
                            "version_minor": 0,
                            "model_id": "cf2ecd8c86cb4b45a5e150d5a4b13a93"
                        }
                    },
                    "metadata": {}
                },
                {
                    "output_type": "stream",
                    "name": "stdout",
                    "text": [
                        "Internal_conversion\n"
                    ]
                },
                {
                    "output_type": "display_data",
                    "data": {
                        "text/plain": [
                            "HBox(children=(HTML(value='Processing paragraphs'), FloatProgress(value=1.0, bar_style='info', layout=Layout(w…"
                        ],
                        "application/vnd.jupyter.widget-view+json": {
                            "version_major": 2,
                            "version_minor": 0,
                            "model_id": "5b093df3174e4907b4a8cb1012bcf8f4"
                        }
                    },
                    "metadata": {}
                },
                {
                    "output_type": "stream",
                    "name": "stdout",
                    "text": [
                        "Neutron_activation\n"
                    ]
                },
                {
                    "output_type": "display_data",
                    "data": {
                        "text/plain": [
                            "HBox(children=(HTML(value='Processing paragraphs'), FloatProgress(value=1.0, bar_style='info', layout=Layout(w…"
                        ],
                        "application/vnd.jupyter.widget-view+json": {
                            "version_major": 2,
                            "version_minor": 0,
                            "model_id": "a61798cd8b424826abaf41e67109868d"
                        }
                    },
                    "metadata": {}
                },
                {
                    "output_type": "stream",
                    "name": "stdout",
                    "text": [
                        "Double_electron_capture\n"
                    ]
                },
                {
                    "output_type": "display_data",
                    "data": {
                        "text/plain": [
                            "HBox(children=(HTML(value='Processing paragraphs'), FloatProgress(value=1.0, bar_style='info', layout=Layout(w…"
                        ],
                        "application/vnd.jupyter.widget-view+json": {
                            "version_major": 2,
                            "version_minor": 0,
                            "model_id": "233a7cf124e24474a40fd22f51483ec3"
                        }
                    },
                    "metadata": {}
                },
                {
                    "output_type": "stream",
                    "name": "stdout",
                    "text": [
                        "Particle_shower\n"
                    ]
                },
                {
                    "output_type": "display_data",
                    "data": {
                        "text/plain": [
                            "HBox(children=(HTML(value='Processing paragraphs'), FloatProgress(value=1.0, bar_style='info', layout=Layout(w…"
                        ],
                        "application/vnd.jupyter.widget-view+json": {
                            "version_major": 2,
                            "version_minor": 0,
                            "model_id": "dded7bafa9a54fef98617ce992a66ae2"
                        }
                    },
                    "metadata": {}
                },
                {
                    "output_type": "stream",
                    "name": "stdout",
                    "text": [
                        "Induced_radioactivity\n"
                    ]
                },
                {
                    "output_type": "display_data",
                    "data": {
                        "text/plain": [
                            "HBox(children=(HTML(value='Processing paragraphs'), FloatProgress(value=1.0, bar_style='info', layout=Layout(w…"
                        ],
                        "application/vnd.jupyter.widget-view+json": {
                            "version_major": 2,
                            "version_minor": 0,
                            "model_id": "5a06d0b71317489285076f1996e5e914"
                        }
                    },
                    "metadata": {}
                },
                {
                    "output_type": "stream",
                    "name": "stdout",
                    "text": [
                        "Potassium-40\n"
                    ]
                },
                {
                    "output_type": "display_data",
                    "data": {
                        "text/plain": [
                            "HBox(children=(HTML(value='Processing paragraphs'), FloatProgress(value=1.0, bar_style='info', layout=Layout(w…"
                        ],
                        "application/vnd.jupyter.widget-view+json": {
                            "version_major": 2,
                            "version_minor": 0,
                            "model_id": "068086816f944bbd9e8975e53bcefe47"
                        }
                    },
                    "metadata": {}
                },
                {
                    "output_type": "stream",
                    "name": "stdout",
                    "text": [
                        "Relative_biological_effectiveness\n"
                    ]
                },
                {
                    "output_type": "display_data",
                    "data": {
                        "text/plain": [
                            "HBox(children=(HTML(value='Processing paragraphs'), FloatProgress(value=1.0, bar_style='info', layout=Layout(w…"
                        ],
                        "application/vnd.jupyter.widget-view+json": {
                            "version_major": 2,
                            "version_minor": 0,
                            "model_id": "165907beeca4493095ada3c0e1e6dc94"
                        }
                    },
                    "metadata": {}
                },
                {
                    "output_type": "stream",
                    "name": "stdout",
                    "text": [
                        "Alpha_particle\n"
                    ]
                },
                {
                    "output_type": "display_data",
                    "data": {
                        "text/plain": [
                            "HBox(children=(HTML(value='Processing paragraphs'), FloatProgress(value=1.0, bar_style='info', layout=Layout(w…"
                        ],
                        "application/vnd.jupyter.widget-view+json": {
                            "version_major": 2,
                            "version_minor": 0,
                            "model_id": "cfe4306379b941e9a5239e5601b435c4"
                        }
                    },
                    "metadata": {}
                },
                {
                    "output_type": "stream",
                    "name": "stdout",
                    "text": [
                        "token_num 2953129\n",
                        "total_pages 819\n"
                    ]
                },
                {
                    "output_type": "display_data",
                    "data": {
                        "text/plain": [
                            "HBox(children=(HTML(value='Processing titles'), FloatProgress(value=0.0, max=21.0), HTML(value='')))"
                        ],
                        "application/vnd.jupyter.widget-view+json": {
                            "version_major": 2,
                            "version_minor": 0,
                            "model_id": "1ff9256129b446cf81711a77bc4c04ee"
                        }
                    },
                    "metadata": {}
                },
                {
                    "output_type": "stream",
                    "name": "stdout",
                    "text": [
                        "Human_history\n"
                    ]
                },
                {
                    "output_type": "display_data",
                    "data": {
                        "text/plain": [
                            "HBox(children=(HTML(value='Processing paragraphs'), FloatProgress(value=1.0, bar_style='info', layout=Layout(w…"
                        ],
                        "application/vnd.jupyter.widget-view+json": {
                            "version_major": 2,
                            "version_minor": 0,
                            "model_id": "0beeeb5a2c794abdba93cca0c9d9ee6c"
                        }
                    },
                    "metadata": {}
                },
                {
                    "output_type": "stream",
                    "name": "stdout",
                    "text": [
                        "History_of_India\n"
                    ]
                },
                {
                    "output_type": "display_data",
                    "data": {
                        "text/plain": [
                            "HBox(children=(HTML(value='Processing paragraphs'), FloatProgress(value=1.0, bar_style='info', layout=Layout(w…"
                        ],
                        "application/vnd.jupyter.widget-view+json": {
                            "version_major": 2,
                            "version_minor": 0,
                            "model_id": "5dec1eb479a04b50af771dc274a93dc4"
                        }
                    },
                    "metadata": {}
                },
                {
                    "output_type": "stream",
                    "name": "stdout",
                    "text": [
                        "History_of_Asia\n"
                    ]
                },
                {
                    "output_type": "display_data",
                    "data": {
                        "text/plain": [
                            "HBox(children=(HTML(value='Processing paragraphs'), FloatProgress(value=1.0, bar_style='info', layout=Layout(w…"
                        ],
                        "application/vnd.jupyter.widget-view+json": {
                            "version_major": 2,
                            "version_minor": 0,
                            "model_id": "3e6953dac78647a08cc8b5c144465000"
                        }
                    },
                    "metadata": {}
                },
                {
                    "output_type": "stream",
                    "name": "stdout",
                    "text": [
                        "1st_century\n"
                    ]
                },
                {
                    "output_type": "display_data",
                    "data": {
                        "text/plain": [
                            "HBox(children=(HTML(value='Processing paragraphs'), FloatProgress(value=1.0, bar_style='info', layout=Layout(w…"
                        ],
                        "application/vnd.jupyter.widget-view+json": {
                            "version_major": 2,
                            "version_minor": 0,
                            "model_id": "fb266b7e71264126aeff2cc874f24f8c"
                        }
                    },
                    "metadata": {}
                },
                {
                    "output_type": "stream",
                    "name": "stdout",
                    "text": [
                        "History_of_Southeast_Asia\n"
                    ]
                },
                {
                    "output_type": "display_data",
                    "data": {
                        "text/plain": [
                            "HBox(children=(HTML(value='Processing paragraphs'), FloatProgress(value=1.0, bar_style='info', layout=Layout(w…"
                        ],
                        "application/vnd.jupyter.widget-view+json": {
                            "version_major": 2,
                            "version_minor": 0,
                            "model_id": "cc6ddcb5936c415bb86e03a9d5f107ca"
                        }
                    },
                    "metadata": {}
                },
                {
                    "output_type": "stream",
                    "name": "stdout",
                    "text": [
                        "Ancient_history\n"
                    ]
                },
                {
                    "output_type": "display_data",
                    "data": {
                        "text/plain": [
                            "HBox(children=(HTML(value='Processing paragraphs'), FloatProgress(value=1.0, bar_style='info', layout=Layout(w…"
                        ],
                        "application/vnd.jupyter.widget-view+json": {
                            "version_major": 2,
                            "version_minor": 0,
                            "model_id": "684f0266069d42a5bb0b0b7f1c8f2d26"
                        }
                    },
                    "metadata": {}
                },
                {
                    "output_type": "stream",
                    "name": "stdout",
                    "text": [
                        "Silk_Road\n"
                    ]
                },
                {
                    "output_type": "display_data",
                    "data": {
                        "text/plain": [
                            "HBox(children=(HTML(value='Processing paragraphs'), FloatProgress(value=1.0, bar_style='info', layout=Layout(w…"
                        ],
                        "application/vnd.jupyter.widget-view+json": {
                            "version_major": 2,
                            "version_minor": 0,
                            "model_id": "4b101d19485c49b6bfec26e2e80578eb"
                        }
                    },
                    "metadata": {}
                },
                {
                    "output_type": "stream",
                    "name": "stdout",
                    "text": [
                        "List_of_time_periods\n"
                    ]
                },
                {
                    "output_type": "display_data",
                    "data": {
                        "text/plain": [
                            "HBox(children=(HTML(value='Processing paragraphs'), FloatProgress(value=1.0, bar_style='info', layout=Layout(w…"
                        ],
                        "application/vnd.jupyter.widget-view+json": {
                            "version_major": 2,
                            "version_minor": 0,
                            "model_id": "acb19373e83d465cbb35492cde3e608d"
                        }
                    },
                    "metadata": {}
                },
                {
                    "output_type": "stream",
                    "name": "stdout",
                    "text": [
                        "Gupta_Empire\n"
                    ]
                },
                {
                    "output_type": "display_data",
                    "data": {
                        "text/plain": [
                            "HBox(children=(HTML(value='Processing paragraphs'), FloatProgress(value=1.0, bar_style='info', layout=Layout(w…"
                        ],
                        "application/vnd.jupyter.widget-view+json": {
                            "version_major": 2,
                            "version_minor": 0,
                            "model_id": "27bd4f326b6f4513af6a9e4e4b49c02b"
                        }
                    },
                    "metadata": {}
                },
                {
                    "output_type": "stream",
                    "name": "stdout",
                    "text": [
                        "Middle_kingdoms_of_India\n"
                    ]
                },
                {
                    "output_type": "display_data",
                    "data": {
                        "text/plain": [
                            "HBox(children=(HTML(value='Processing paragraphs'), FloatProgress(value=1.0, bar_style='info', layout=Layout(w…"
                        ],
                        "application/vnd.jupyter.widget-view+json": {
                            "version_major": 2,
                            "version_minor": 0,
                            "model_id": "af17024bb812436cb4dfcaa2896231dd"
                        }
                    },
                    "metadata": {}
                },
                {
                    "output_type": "stream",
                    "name": "stdout",
                    "text": [
                        "Tamils\n"
                    ]
                },
                {
                    "output_type": "display_data",
                    "data": {
                        "text/plain": [
                            "HBox(children=(HTML(value='Processing paragraphs'), FloatProgress(value=1.0, bar_style='info', layout=Layout(w…"
                        ],
                        "application/vnd.jupyter.widget-view+json": {
                            "version_major": 2,
                            "version_minor": 0,
                            "model_id": "a1d5458c365c42d09c18bad637facf10"
                        }
                    },
                    "metadata": {}
                },
                {
                    "output_type": "stream",
                    "name": "stdout",
                    "text": [
                        "Gandhara\n"
                    ]
                },
                {
                    "output_type": "display_data",
                    "data": {
                        "text/plain": [
                            "HBox(children=(HTML(value='Processing paragraphs'), FloatProgress(value=1.0, bar_style='info', layout=Layout(w…"
                        ],
                        "application/vnd.jupyter.widget-view+json": {
                            "version_major": 2,
                            "version_minor": 0,
                            "model_id": "b890d75ec3ec43aeb19882cce12c42e1"
                        }
                    },
                    "metadata": {}
                },
                {
                    "output_type": "stream",
                    "name": "stdout",
                    "text": [
                        "Outline_of_ancient_India\n"
                    ]
                },
                {
                    "output_type": "display_data",
                    "data": {
                        "text/plain": [
                            "HBox(children=(HTML(value='Processing paragraphs'), FloatProgress(value=1.0, bar_style='info', layout=Layout(w…"
                        ],
                        "application/vnd.jupyter.widget-view+json": {
                            "version_major": 2,
                            "version_minor": 0,
                            "model_id": "0712d0005e3d4447923aa54ffec2a1d6"
                        }
                    },
                    "metadata": {}
                },
                {
                    "output_type": "stream",
                    "name": "stdout",
                    "text": [
                        "Medieval_India\n"
                    ]
                },
                {
                    "output_type": "display_data",
                    "data": {
                        "text/plain": [
                            "HBox(children=(HTML(value='Processing paragraphs'), FloatProgress(value=1.0, bar_style='info', layout=Layout(w…"
                        ],
                        "application/vnd.jupyter.widget-view+json": {
                            "version_major": 2,
                            "version_minor": 0,
                            "model_id": "e3f7db501ce645a5b168753c6d692d00"
                        }
                    },
                    "metadata": {}
                },
                {
                    "output_type": "stream",
                    "name": "stdout",
                    "text": [
                        "History_of_Hinduism\n"
                    ]
                },
                {
                    "output_type": "display_data",
                    "data": {
                        "text/plain": [
                            "HBox(children=(HTML(value='Processing paragraphs'), FloatProgress(value=1.0, bar_style='info', layout=Layout(w…"
                        ],
                        "application/vnd.jupyter.widget-view+json": {
                            "version_major": 2,
                            "version_minor": 0,
                            "model_id": "8738e6d4c0ba480e820ddc2b829011c4"
                        }
                    },
                    "metadata": {}
                },
                {
                    "output_type": "stream",
                    "name": "stdout",
                    "text": [
                        "Indian_maritime_history\n"
                    ]
                },
                {
                    "output_type": "display_data",
                    "data": {
                        "text/plain": [
                            "HBox(children=(HTML(value='Processing paragraphs'), FloatProgress(value=1.0, bar_style='info', layout=Layout(w…"
                        ],
                        "application/vnd.jupyter.widget-view+json": {
                            "version_major": 2,
                            "version_minor": 0,
                            "model_id": "4f1d5eb3ae0741ebbf585382ccbb8b7a"
                        }
                    },
                    "metadata": {}
                },
                {
                    "output_type": "stream",
                    "name": "stdout",
                    "text": [
                        "Buddhist_art\n"
                    ]
                },
                {
                    "output_type": "display_data",
                    "data": {
                        "text/plain": [
                            "HBox(children=(HTML(value='Processing paragraphs'), FloatProgress(value=1.0, bar_style='info', layout=Layout(w…"
                        ],
                        "application/vnd.jupyter.widget-view+json": {
                            "version_major": 2,
                            "version_minor": 0,
                            "model_id": "2c54d8333a6b408c84b66383803ae054"
                        }
                    },
                    "metadata": {}
                },
                {
                    "output_type": "stream",
                    "name": "stdout",
                    "text": [
                        "History_by_period\n"
                    ]
                },
                {
                    "output_type": "display_data",
                    "data": {
                        "text/plain": [
                            "HBox(children=(HTML(value='Processing paragraphs'), FloatProgress(value=1.0, bar_style='info', layout=Layout(w…"
                        ],
                        "application/vnd.jupyter.widget-view+json": {
                            "version_major": 2,
                            "version_minor": 0,
                            "model_id": "6c0a61e4962c43b781a4cfffcc2d0b2f"
                        }
                    },
                    "metadata": {}
                },
                {
                    "output_type": "stream",
                    "name": "stdout",
                    "text": [
                        "Post-classical_history\n"
                    ]
                },
                {
                    "output_type": "display_data",
                    "data": {
                        "text/plain": [
                            "HBox(children=(HTML(value='Processing paragraphs'), FloatProgress(value=1.0, bar_style='info', layout=Layout(w…"
                        ],
                        "application/vnd.jupyter.widget-view+json": {
                            "version_major": 2,
                            "version_minor": 0,
                            "model_id": "102b36e0f16748e0bfff596b8dc38eae"
                        }
                    },
                    "metadata": {}
                },
                {
                    "output_type": "stream",
                    "name": "stdout",
                    "text": [
                        "List_of_kingdoms_in_pre-colonial_Africa\n"
                    ]
                },
                {
                    "output_type": "display_data",
                    "data": {
                        "text/plain": [
                            "HBox(children=(HTML(value='Processing paragraphs'), FloatProgress(value=1.0, bar_style='info', layout=Layout(w…"
                        ],
                        "application/vnd.jupyter.widget-view+json": {
                            "version_major": 2,
                            "version_minor": 0,
                            "model_id": "f63ed81988124ee2b393f0cff9eb63ac"
                        }
                    },
                    "metadata": {}
                },
                {
                    "output_type": "stream",
                    "name": "stdout",
                    "text": [
                        "Timeline_of_ancient_history\n"
                    ]
                },
                {
                    "output_type": "display_data",
                    "data": {
                        "text/plain": [
                            "HBox(children=(HTML(value='Processing paragraphs'), FloatProgress(value=1.0, bar_style='info', layout=Layout(w…"
                        ],
                        "application/vnd.jupyter.widget-view+json": {
                            "version_major": 2,
                            "version_minor": 0,
                            "model_id": "507e7571b1ae4264a292ef9721bd802b"
                        }
                    },
                    "metadata": {}
                },
                {
                    "output_type": "stream",
                    "name": "stdout",
                    "text": [
                        "token_num 3103076\n",
                        "total_pages 840\n"
                    ]
                },
                {
                    "output_type": "display_data",
                    "data": {
                        "text/plain": [
                            "HBox(children=(HTML(value='Processing titles'), FloatProgress(value=0.0, max=21.0), HTML(value='')))"
                        ],
                        "application/vnd.jupyter.widget-view+json": {
                            "version_major": 2,
                            "version_minor": 0,
                            "model_id": "ade8c2224022426c8cb40fbb87079507"
                        }
                    },
                    "metadata": {}
                },
                {
                    "output_type": "stream",
                    "name": "stdout",
                    "text": [
                        "Early_modern_Europe\n"
                    ]
                },
                {
                    "output_type": "display_data",
                    "data": {
                        "text/plain": [
                            "HBox(children=(HTML(value='Processing paragraphs'), FloatProgress(value=1.0, bar_style='info', layout=Layout(w…"
                        ],
                        "application/vnd.jupyter.widget-view+json": {
                            "version_major": 2,
                            "version_minor": 0,
                            "model_id": "575c8c032ae049a1993f4132ccb353e3"
                        }
                    },
                    "metadata": {}
                },
                {
                    "output_type": "stream",
                    "name": "stdout",
                    "text": [
                        "History_of_Europe\n"
                    ]
                },
                {
                    "output_type": "display_data",
                    "data": {
                        "text/plain": [
                            "HBox(children=(HTML(value='Processing paragraphs'), FloatProgress(value=1.0, bar_style='info', layout=Layout(w…"
                        ],
                        "application/vnd.jupyter.widget-view+json": {
                            "version_major": 2,
                            "version_minor": 0,
                            "model_id": "fec64774e82d4f98a81c1ea452c7dc76"
                        }
                    },
                    "metadata": {}
                },
                {
                    "output_type": "stream",
                    "name": "stdout",
                    "text": [
                        "Peace_of_Westphalia\n"
                    ]
                },
                {
                    "output_type": "display_data",
                    "data": {
                        "text/plain": [
                            "HBox(children=(HTML(value='Processing paragraphs'), FloatProgress(value=1.0, bar_style='info', layout=Layout(w…"
                        ],
                        "application/vnd.jupyter.widget-view+json": {
                            "version_major": 2,
                            "version_minor": 0,
                            "model_id": "0d3ed0fe406341949263882e75147905"
                        }
                    },
                    "metadata": {}
                },
                {
                    "output_type": "stream",
                    "name": "stdout",
                    "text": [
                        "Reformation\n"
                    ]
                },
                {
                    "output_type": "display_data",
                    "data": {
                        "text/plain": [
                            "HBox(children=(HTML(value='Processing paragraphs'), FloatProgress(value=1.0, bar_style='info', layout=Layout(w…"
                        ],
                        "application/vnd.jupyter.widget-view+json": {
                            "version_major": 2,
                            "version_minor": 0,
                            "model_id": "029c046ae0934516ac798cd80ba542af"
                        }
                    },
                    "metadata": {}
                },
                {
                    "output_type": "stream",
                    "name": "stdout",
                    "text": [
                        "Counter-Reformation\n"
                    ]
                },
                {
                    "output_type": "display_data",
                    "data": {
                        "text/plain": [
                            "HBox(children=(HTML(value='Processing paragraphs'), FloatProgress(value=1.0, bar_style='info', layout=Layout(w…"
                        ],
                        "application/vnd.jupyter.widget-view+json": {
                            "version_major": 2,
                            "version_minor": 0,
                            "model_id": "b770fde7d88b498995c7866cf4d596f2"
                        }
                    },
                    "metadata": {}
                },
                {
                    "output_type": "stream",
                    "name": "stdout",
                    "text": [
                        "Schmalkaldic_League\n"
                    ]
                },
                {
                    "output_type": "display_data",
                    "data": {
                        "text/plain": [
                            "HBox(children=(HTML(value='Processing paragraphs'), FloatProgress(value=1.0, bar_style='info', layout=Layout(w…"
                        ],
                        "application/vnd.jupyter.widget-view+json": {
                            "version_major": 2,
                            "version_minor": 0,
                            "model_id": "7491fe921a214bdb9b05cdee4c806c67"
                        }
                    },
                    "metadata": {}
                },
                {
                    "output_type": "stream",
                    "name": "stdout",
                    "text": [
                        "Grand_Alliance_(League_of_Augsburg)\n"
                    ]
                },
                {
                    "output_type": "display_data",
                    "data": {
                        "text/plain": [
                            "HBox(children=(HTML(value='Processing paragraphs'), FloatProgress(value=1.0, bar_style='info', layout=Layout(w…"
                        ],
                        "application/vnd.jupyter.widget-view+json": {
                            "version_major": 2,
                            "version_minor": 0,
                            "model_id": "874be7330f334ea58c78b080cf026694"
                        }
                    },
                    "metadata": {}
                },
                {
                    "output_type": "stream",
                    "name": "stdout",
                    "text": [
                        "Cuius_regio,_eius_religio\n"
                    ]
                },
                {
                    "output_type": "display_data",
                    "data": {
                        "text/plain": [
                            "HBox(children=(HTML(value='Processing paragraphs'), FloatProgress(value=1.0, bar_style='info', layout=Layout(w…"
                        ],
                        "application/vnd.jupyter.widget-view+json": {
                            "version_major": 2,
                            "version_minor": 0,
                            "model_id": "0e3b1af3636d4f02aca3ea9a56873467"
                        }
                    },
                    "metadata": {}
                },
                {
                    "output_type": "stream",
                    "name": "stdout",
                    "text": [
                        "Early_modern_Britain\n"
                    ]
                },
                {
                    "output_type": "display_data",
                    "data": {
                        "text/plain": [
                            "HBox(children=(HTML(value='Processing paragraphs'), FloatProgress(value=1.0, bar_style='info', layout=Layout(w…"
                        ],
                        "application/vnd.jupyter.widget-view+json": {
                            "version_major": 2,
                            "version_minor": 0,
                            "model_id": "b99d4eaef0c643509abcfc7c8cc4aa33"
                        }
                    },
                    "metadata": {}
                },
                {
                    "output_type": "stream",
                    "name": "stdout",
                    "text": [
                        "Early_modern_period\n"
                    ]
                },
                {
                    "output_type": "display_data",
                    "data": {
                        "text/plain": [
                            "HBox(children=(HTML(value='Processing paragraphs'), FloatProgress(value=1.0, bar_style='info', layout=Layout(w…"
                        ],
                        "application/vnd.jupyter.widget-view+json": {
                            "version_major": 2,
                            "version_minor": 0,
                            "model_id": "3d25215b741843fd85917ee4b70ff124"
                        }
                    },
                    "metadata": {}
                },
                {
                    "output_type": "stream",
                    "name": "stdout",
                    "text": [
                        "Anti-Protestantism\n"
                    ]
                },
                {
                    "output_type": "display_data",
                    "data": {
                        "text/plain": [
                            "HBox(children=(HTML(value='Processing paragraphs'), FloatProgress(value=1.0, bar_style='info', layout=Layout(w…"
                        ],
                        "application/vnd.jupyter.widget-view+json": {
                            "version_major": 2,
                            "version_minor": 0,
                            "model_id": "5df0d06a71ba4efbb83c2b236c77d9a4"
                        }
                    },
                    "metadata": {}
                },
                {
                    "output_type": "stream",
                    "name": "stdout",
                    "text": [
                        "History_of_Protestantism\n"
                    ]
                },
                {
                    "output_type": "display_data",
                    "data": {
                        "text/plain": [
                            "HBox(children=(HTML(value='Processing paragraphs'), FloatProgress(value=1.0, bar_style='info', layout=Layout(w…"
                        ],
                        "application/vnd.jupyter.widget-view+json": {
                            "version_major": 2,
                            "version_minor": 0,
                            "model_id": "a47671e8ccea4919a756dcf8ba7975e7"
                        }
                    },
                    "metadata": {}
                },
                {
                    "output_type": "stream",
                    "name": "stdout",
                    "text": [
                        "Ancien_Régime\n"
                    ]
                },
                {
                    "output_type": "display_data",
                    "data": {
                        "text/plain": [
                            "HBox(children=(HTML(value='Processing paragraphs'), FloatProgress(value=1.0, bar_style='info', layout=Layout(w…"
                        ],
                        "application/vnd.jupyter.widget-view+json": {
                            "version_major": 2,
                            "version_minor": 0,
                            "model_id": "f91b2d0430fb4dc88e8f960b6e6c8f33"
                        }
                    },
                    "metadata": {}
                },
                {
                    "output_type": "stream",
                    "name": "stdout",
                    "text": [
                        "European_wars_of_religion\n"
                    ]
                },
                {
                    "output_type": "display_data",
                    "data": {
                        "text/plain": [
                            "HBox(children=(HTML(value='Processing paragraphs'), FloatProgress(value=1.0, bar_style='info', layout=Layout(w…"
                        ],
                        "application/vnd.jupyter.widget-view+json": {
                            "version_major": 2,
                            "version_minor": 0,
                            "model_id": "62629cd9d01741208838a5ef49a073df"
                        }
                    },
                    "metadata": {}
                },
                {
                    "output_type": "stream",
                    "name": "stdout",
                    "text": [
                        "Germany_in_the_early_modern_period\n"
                    ]
                },
                {
                    "output_type": "display_data",
                    "data": {
                        "text/plain": [
                            "HBox(children=(HTML(value='Processing paragraphs'), FloatProgress(value=1.0, bar_style='info', layout=Layout(w…"
                        ],
                        "application/vnd.jupyter.widget-view+json": {
                            "version_major": 2,
                            "version_minor": 0,
                            "model_id": "c3e144a94b1e4f6c854355f981b9908a"
                        }
                    },
                    "metadata": {}
                },
                {
                    "output_type": "stream",
                    "name": "stdout",
                    "text": [
                        "European_balance_of_power\n"
                    ]
                },
                {
                    "output_type": "display_data",
                    "data": {
                        "text/plain": [
                            "HBox(children=(HTML(value='Processing paragraphs'), FloatProgress(value=1.0, bar_style='info', layout=Layout(w…"
                        ],
                        "application/vnd.jupyter.widget-view+json": {
                            "version_major": 2,
                            "version_minor": 0,
                            "model_id": "ad42a476269e4fa4ababfa126651874e"
                        }
                    },
                    "metadata": {}
                },
                {
                    "output_type": "stream",
                    "name": "stdout",
                    "text": [
                        "Protestantism_and_Islam\n"
                    ]
                },
                {
                    "output_type": "display_data",
                    "data": {
                        "text/plain": [
                            "HBox(children=(HTML(value='Processing paragraphs'), FloatProgress(value=1.0, bar_style='info', layout=Layout(w…"
                        ],
                        "application/vnd.jupyter.widget-view+json": {
                            "version_major": 2,
                            "version_minor": 0,
                            "model_id": "e44b3e8962b743a6acc072f0b971a998"
                        }
                    },
                    "metadata": {}
                },
                {
                    "output_type": "stream",
                    "name": "stdout",
                    "text": [
                        "International_relations,_1648–1814\n"
                    ]
                },
                {
                    "output_type": "display_data",
                    "data": {
                        "text/plain": [
                            "HBox(children=(HTML(value='Processing paragraphs'), FloatProgress(value=1.0, bar_style='info', layout=Layout(w…"
                        ],
                        "application/vnd.jupyter.widget-view+json": {
                            "version_major": 2,
                            "version_minor": 0,
                            "model_id": "1a143fd8b8d649eca4c021ce6c8aa8b7"
                        }
                    },
                    "metadata": {}
                },
                {
                    "output_type": "stream",
                    "name": "stdout",
                    "text": [
                        "Catholic–Protestant_relations\n"
                    ]
                },
                {
                    "output_type": "display_data",
                    "data": {
                        "text/plain": [
                            "HBox(children=(HTML(value='Processing paragraphs'), FloatProgress(value=1.0, bar_style='info', layout=Layout(w…"
                        ],
                        "application/vnd.jupyter.widget-view+json": {
                            "version_major": 2,
                            "version_minor": 0,
                            "model_id": "a7b79a25332745f9ab3adacb829d2317"
                        }
                    },
                    "metadata": {}
                },
                {
                    "output_type": "stream",
                    "name": "stdout",
                    "text": [
                        "token_num 3236092\n",
                        "total_pages 859\n"
                    ]
                },
                {
                    "output_type": "display_data",
                    "data": {
                        "text/plain": [
                            "HBox(children=(HTML(value='Processing titles'), FloatProgress(value=0.0, max=21.0), HTML(value='')))"
                        ],
                        "application/vnd.jupyter.widget-view+json": {
                            "version_major": 2,
                            "version_minor": 0,
                            "model_id": "3d502113b963447e86273640555f588a"
                        }
                    },
                    "metadata": {}
                },
                {
                    "output_type": "stream",
                    "name": "stdout",
                    "text": [
                        "Christendom\n"
                    ]
                },
                {
                    "output_type": "display_data",
                    "data": {
                        "text/plain": [
                            "HBox(children=(HTML(value='Processing paragraphs'), FloatProgress(value=1.0, bar_style='info', layout=Layout(w…"
                        ],
                        "application/vnd.jupyter.widget-view+json": {
                            "version_major": 2,
                            "version_minor": 0,
                            "model_id": "2ddc7f24ec4342a0805e94cdfb8bdbe5"
                        }
                    },
                    "metadata": {}
                },
                {
                    "output_type": "stream",
                    "name": "stdout",
                    "text": [
                        "Periodization\n"
                    ]
                },
                {
                    "output_type": "display_data",
                    "data": {
                        "text/plain": [
                            "HBox(children=(HTML(value='Processing paragraphs'), FloatProgress(value=1.0, bar_style='info', layout=Layout(w…"
                        ],
                        "application/vnd.jupyter.widget-view+json": {
                            "version_major": 2,
                            "version_minor": 0,
                            "model_id": "ae53e5780a364de0b49162af51028377"
                        }
                    },
                    "metadata": {}
                },
                {
                    "output_type": "stream",
                    "name": "stdout",
                    "text": [
                        "Scholasticism\n"
                    ]
                },
                {
                    "output_type": "display_data",
                    "data": {
                        "text/plain": [
                            "HBox(children=(HTML(value='Processing paragraphs'), FloatProgress(value=1.0, bar_style='info', layout=Layout(w…"
                        ],
                        "application/vnd.jupyter.widget-view+json": {
                            "version_major": 2,
                            "version_minor": 0,
                            "model_id": "3e701531f580493f802097b1a73584e4"
                        }
                    },
                    "metadata": {}
                },
                {
                    "output_type": "stream",
                    "name": "stdout",
                    "text": [
                        "Saeculum\n"
                    ]
                },
                {
                    "output_type": "display_data",
                    "data": {
                        "text/plain": [
                            "HBox(children=(HTML(value='Processing paragraphs'), FloatProgress(value=1.0, bar_style='info', layout=Layout(w…"
                        ],
                        "application/vnd.jupyter.widget-view+json": {
                            "version_major": 2,
                            "version_minor": 0,
                            "model_id": "02e795f8435d49359aa55ed89a0edc66"
                        }
                    },
                    "metadata": {}
                },
                {
                    "output_type": "stream",
                    "name": "stdout",
                    "text": [
                        "Caesar_Baronius\n"
                    ]
                },
                {
                    "output_type": "display_data",
                    "data": {
                        "text/plain": [
                            "HBox(children=(HTML(value='Processing paragraphs'), FloatProgress(value=1.0, bar_style='info', layout=Layout(w…"
                        ],
                        "application/vnd.jupyter.widget-view+json": {
                            "version_major": 2,
                            "version_minor": 0,
                            "model_id": "ba7110c3ea1f478da1abf1662754e7ea"
                        }
                    },
                    "metadata": {}
                },
                {
                    "output_type": "stream",
                    "name": "stdout",
                    "text": [
                        "Saeculum_obscurum\n"
                    ]
                },
                {
                    "output_type": "display_data",
                    "data": {
                        "text/plain": [
                            "HBox(children=(HTML(value='Processing paragraphs'), FloatProgress(value=1.0, bar_style='info', layout=Layout(w…"
                        ],
                        "application/vnd.jupyter.widget-view+json": {
                            "version_major": 2,
                            "version_minor": 0,
                            "model_id": "1842269ef8b042a3aeccdfa9c17ac396"
                        }
                    },
                    "metadata": {}
                },
                {
                    "output_type": "stream",
                    "name": "stdout",
                    "text": [
                        "Medievalism\n"
                    ]
                },
                {
                    "output_type": "display_data",
                    "data": {
                        "text/plain": [
                            "HBox(children=(HTML(value='Processing paragraphs'), FloatProgress(value=1.0, bar_style='info', layout=Layout(w…"
                        ],
                        "application/vnd.jupyter.widget-view+json": {
                            "version_major": 2,
                            "version_minor": 0,
                            "model_id": "a9b64c85965c4c9cb01cf409b0733aeb"
                        }
                    },
                    "metadata": {}
                },
                {
                    "output_type": "stream",
                    "name": "stdout",
                    "text": [
                        "Annales_Ecclesiastici\n"
                    ]
                },
                {
                    "output_type": "display_data",
                    "data": {
                        "text/plain": [
                            "HBox(children=(HTML(value='Processing paragraphs'), FloatProgress(value=1.0, bar_style='info', layout=Layout(w…"
                        ],
                        "application/vnd.jupyter.widget-view+json": {
                            "version_major": 2,
                            "version_minor": 0,
                            "model_id": "284d8c5609e74a51ab7c74b6c58ad04b"
                        }
                    },
                    "metadata": {}
                },
                {
                    "output_type": "stream",
                    "name": "stdout",
                    "text": [
                        "Myth_of_the_flat_Earth\n"
                    ]
                },
                {
                    "output_type": "display_data",
                    "data": {
                        "text/plain": [
                            "HBox(children=(HTML(value='Processing paragraphs'), FloatProgress(value=1.0, bar_style='info', layout=Layout(w…"
                        ],
                        "application/vnd.jupyter.widget-view+json": {
                            "version_major": 2,
                            "version_minor": 0,
                            "model_id": "4cc9bf315f79462e8a9b124c2617a3c8"
                        }
                    },
                    "metadata": {}
                },
                {
                    "output_type": "stream",
                    "name": "stdout",
                    "text": [
                        "Western_culture\n"
                    ]
                },
                {
                    "output_type": "display_data",
                    "data": {
                        "text/plain": [
                            "HBox(children=(HTML(value='Processing paragraphs'), FloatProgress(value=1.0, bar_style='info', layout=Layout(w…"
                        ],
                        "application/vnd.jupyter.widget-view+json": {
                            "version_major": 2,
                            "version_minor": 0,
                            "model_id": "2abd1f0f15cc4e3f87af0933d5efa96c"
                        }
                    },
                    "metadata": {}
                },
                {
                    "output_type": "stream",
                    "name": "stdout",
                    "text": [
                        "European_science_in_the_Middle_Ages\n"
                    ]
                },
                {
                    "output_type": "display_data",
                    "data": {
                        "text/plain": [
                            "HBox(children=(HTML(value='Processing paragraphs'), FloatProgress(value=1.0, bar_style='info', layout=Layout(w…"
                        ],
                        "application/vnd.jupyter.widget-view+json": {
                            "version_major": 2,
                            "version_minor": 0,
                            "model_id": "b82d60a8f1484432afabd1f0c6c536f6"
                        }
                    },
                    "metadata": {}
                },
                {
                    "output_type": "stream",
                    "name": "stdout",
                    "text": [
                        "Renaissance_in_Scotland\n"
                    ]
                },
                {
                    "output_type": "display_data",
                    "data": {
                        "text/plain": [
                            "HBox(children=(HTML(value='Processing paragraphs'), FloatProgress(value=1.0, bar_style='info', layout=Layout(w…"
                        ],
                        "application/vnd.jupyter.widget-view+json": {
                            "version_major": 2,
                            "version_minor": 0,
                            "model_id": "4a096a59af1c47a89ae77bb978b5595d"
                        }
                    },
                    "metadata": {}
                },
                {
                    "output_type": "stream",
                    "name": "stdout",
                    "text": [
                        "Christianity_and_science\n"
                    ]
                },
                {
                    "output_type": "display_data",
                    "data": {
                        "text/plain": [
                            "HBox(children=(HTML(value='Processing paragraphs'), FloatProgress(value=1.0, bar_style='info', layout=Layout(w…"
                        ],
                        "application/vnd.jupyter.widget-view+json": {
                            "version_major": 2,
                            "version_minor": 0,
                            "model_id": "c887184460ae4a338a220ca80f7a8500"
                        }
                    },
                    "metadata": {}
                },
                {
                    "output_type": "stream",
                    "name": "stdout",
                    "text": [
                        "List_of_common_misconceptions_about_the_Middle_Ages\n"
                    ]
                },
                {
                    "output_type": "display_data",
                    "data": {
                        "text/plain": [
                            "HBox(children=(HTML(value='Processing paragraphs'), FloatProgress(value=1.0, bar_style='info', layout=Layout(w…"
                        ],
                        "application/vnd.jupyter.widget-view+json": {
                            "version_major": 2,
                            "version_minor": 0,
                            "model_id": "7c275a59dad14a7ea1feceb26db2c4b4"
                        }
                    },
                    "metadata": {}
                },
                {
                    "output_type": "stream",
                    "name": "stdout",
                    "text": [
                        "token_num 3283111\n",
                        "total_pages 873\n"
                    ]
                },
                {
                    "output_type": "display_data",
                    "data": {
                        "text/plain": [
                            "HBox(children=(HTML(value='Processing titles'), FloatProgress(value=0.0, max=21.0), HTML(value='')))"
                        ],
                        "application/vnd.jupyter.widget-view+json": {
                            "version_major": 2,
                            "version_minor": 0,
                            "model_id": "87c34be09a284fd585f03ec6b1bc0e87"
                        }
                    },
                    "metadata": {}
                },
                {
                    "output_type": "stream",
                    "name": "stdout",
                    "text": [
                        "Russian_Revolution\n"
                    ]
                },
                {
                    "output_type": "display_data",
                    "data": {
                        "text/plain": [
                            "HBox(children=(HTML(value='Processing paragraphs'), FloatProgress(value=1.0, bar_style='info', layout=Layout(w…"
                        ],
                        "application/vnd.jupyter.widget-view+json": {
                            "version_major": 2,
                            "version_minor": 0,
                            "model_id": "55c137c6a76647c29e37861787b3675b"
                        }
                    },
                    "metadata": {}
                },
                {
                    "output_type": "stream",
                    "name": "stdout",
                    "text": [
                        "October_Revolution\n"
                    ]
                },
                {
                    "output_type": "display_data",
                    "data": {
                        "text/plain": [
                            "HBox(children=(HTML(value='Processing paragraphs'), FloatProgress(value=1.0, bar_style='info', layout=Layout(w…"
                        ],
                        "application/vnd.jupyter.widget-view+json": {
                            "version_major": 2,
                            "version_minor": 0,
                            "model_id": "b4f0e0d124ef4d9f9510d5417199372a"
                        }
                    },
                    "metadata": {}
                },
                {
                    "output_type": "stream",
                    "name": "stdout",
                    "text": [
                        "History_of_Soviet_Russia_and_the_Soviet_Union_(1917–1927)\n"
                    ]
                },
                {
                    "output_type": "display_data",
                    "data": {
                        "text/plain": [
                            "HBox(children=(HTML(value='Processing paragraphs'), FloatProgress(value=1.0, bar_style='info', layout=Layout(w…"
                        ],
                        "application/vnd.jupyter.widget-view+json": {
                            "version_major": 2,
                            "version_minor": 0,
                            "model_id": "45af2eb8861d4a2ab6b60fe2402403cf"
                        }
                    },
                    "metadata": {}
                },
                {
                    "output_type": "stream",
                    "name": "stdout",
                    "text": [
                        "April_Theses\n"
                    ]
                },
                {
                    "output_type": "display_data",
                    "data": {
                        "text/plain": [
                            "HBox(children=(HTML(value='Processing paragraphs'), FloatProgress(value=1.0, bar_style='info', layout=Layout(w…"
                        ],
                        "application/vnd.jupyter.widget-view+json": {
                            "version_major": 2,
                            "version_minor": 0,
                            "model_id": "6a7bacb5838f434cad19a34c532a6117"
                        }
                    },
                    "metadata": {}
                },
                {
                    "output_type": "stream",
                    "name": "stdout",
                    "text": [
                        "Dual_power\n"
                    ]
                },
                {
                    "output_type": "display_data",
                    "data": {
                        "text/plain": [
                            "HBox(children=(HTML(value='Processing paragraphs'), FloatProgress(value=1.0, bar_style='info', layout=Layout(w…"
                        ],
                        "application/vnd.jupyter.widget-view+json": {
                            "version_major": 2,
                            "version_minor": 0,
                            "model_id": "ad85af7a003642eaa2d430651b958514"
                        }
                    },
                    "metadata": {}
                },
                {
                    "output_type": "stream",
                    "name": "stdout",
                    "text": [
                        "History_of_the_Communist_Party_of_the_Soviet_Union\n"
                    ]
                },
                {
                    "output_type": "display_data",
                    "data": {
                        "text/plain": [
                            "HBox(children=(HTML(value='Processing paragraphs'), FloatProgress(value=1.0, bar_style='info', layout=Layout(w…"
                        ],
                        "application/vnd.jupyter.widget-view+json": {
                            "version_major": 2,
                            "version_minor": 0,
                            "model_id": "fdaf47a6617b4a88adbc9609e287dc7d"
                        }
                    },
                    "metadata": {}
                },
                {
                    "output_type": "stream",
                    "name": "stdout",
                    "text": [
                        "Ispolkom\n"
                    ]
                },
                {
                    "output_type": "display_data",
                    "data": {
                        "text/plain": [
                            "HBox(children=(HTML(value='Processing paragraphs'), FloatProgress(value=1.0, bar_style='info', layout=Layout(w…"
                        ],
                        "application/vnd.jupyter.widget-view+json": {
                            "version_major": 2,
                            "version_minor": 0,
                            "model_id": "3831781374004003a26e8439353af24f"
                        }
                    },
                    "metadata": {}
                },
                {
                    "output_type": "stream",
                    "name": "stdout",
                    "text": [
                        "July_Days\n"
                    ]
                },
                {
                    "output_type": "display_data",
                    "data": {
                        "text/plain": [
                            "HBox(children=(HTML(value='Processing paragraphs'), FloatProgress(value=1.0, bar_style='info', layout=Layout(w…"
                        ],
                        "application/vnd.jupyter.widget-view+json": {
                            "version_major": 2,
                            "version_minor": 0,
                            "model_id": "379935975796444d8900aaeaa8048c2f"
                        }
                    },
                    "metadata": {}
                },
                {
                    "output_type": "stream",
                    "name": "stdout",
                    "text": [
                        "Communism_in_Russia\n"
                    ]
                },
                {
                    "output_type": "display_data",
                    "data": {
                        "text/plain": [
                            "HBox(children=(HTML(value='Processing paragraphs'), FloatProgress(value=1.0, bar_style='info', layout=Layout(w…"
                        ],
                        "application/vnd.jupyter.widget-view+json": {
                            "version_major": 2,
                            "version_minor": 0,
                            "model_id": "380f395716df4bf4b86a8b053530f4bc"
                        }
                    },
                    "metadata": {}
                },
                {
                    "output_type": "stream",
                    "name": "stdout",
                    "text": [
                        "All-Russian_Congress_of_Soviets\n"
                    ]
                },
                {
                    "output_type": "display_data",
                    "data": {
                        "text/plain": [
                            "HBox(children=(HTML(value='Processing paragraphs'), FloatProgress(value=1.0, bar_style='info', layout=Layout(w…"
                        ],
                        "application/vnd.jupyter.widget-view+json": {
                            "version_major": 2,
                            "version_minor": 0,
                            "model_id": "95c992d5f519414598308b1db0b690d0"
                        }
                    },
                    "metadata": {}
                },
                {
                    "output_type": "stream",
                    "name": "stdout",
                    "text": [
                        "Left-wing_uprisings_against_the_Bolsheviks\n"
                    ]
                },
                {
                    "output_type": "display_data",
                    "data": {
                        "text/plain": [
                            "HBox(children=(HTML(value='Processing paragraphs'), FloatProgress(value=1.0, bar_style='info', layout=Layout(w…"
                        ],
                        "application/vnd.jupyter.widget-view+json": {
                            "version_major": 2,
                            "version_minor": 0,
                            "model_id": "f8172c277a9c4cab8c839d8fde8702aa"
                        }
                    },
                    "metadata": {}
                },
                {
                    "output_type": "stream",
                    "name": "stdout",
                    "text": [
                        "Left_Socialist-Revolutionaries\n"
                    ]
                },
                {
                    "output_type": "display_data",
                    "data": {
                        "text/plain": [
                            "HBox(children=(HTML(value='Processing paragraphs'), FloatProgress(value=1.0, bar_style='info', layout=Layout(w…"
                        ],
                        "application/vnd.jupyter.widget-view+json": {
                            "version_major": 2,
                            "version_minor": 0,
                            "model_id": "a2330b64fc6a48f18bd084cc2d47f55d"
                        }
                    },
                    "metadata": {}
                },
                {
                    "output_type": "stream",
                    "name": "stdout",
                    "text": [
                        "Red_Guards_(Russia)\n"
                    ]
                },
                {
                    "output_type": "display_data",
                    "data": {
                        "text/plain": [
                            "HBox(children=(HTML(value='Processing paragraphs'), FloatProgress(value=1.0, bar_style='info', layout=Layout(w…"
                        ],
                        "application/vnd.jupyter.widget-view+json": {
                            "version_major": 2,
                            "version_minor": 0,
                            "model_id": "2d155186a4c343d2bf8b9e37e01f30fc"
                        }
                    },
                    "metadata": {}
                },
                {
                    "output_type": "stream",
                    "name": "stdout",
                    "text": [
                        "Russian_Provisional_Government\n"
                    ]
                },
                {
                    "output_type": "display_data",
                    "data": {
                        "text/plain": [
                            "HBox(children=(HTML(value='Processing paragraphs'), FloatProgress(value=1.0, bar_style='info', layout=Layout(w…"
                        ],
                        "application/vnd.jupyter.widget-view+json": {
                            "version_major": 2,
                            "version_minor": 0,
                            "model_id": "099c44fca93b4b71996ebb75053787cd"
                        }
                    },
                    "metadata": {}
                },
                {
                    "output_type": "stream",
                    "name": "stdout",
                    "text": [
                        "Russian_Constituent_Assembly\n"
                    ]
                },
                {
                    "output_type": "display_data",
                    "data": {
                        "text/plain": [
                            "HBox(children=(HTML(value='Processing paragraphs'), FloatProgress(value=1.0, bar_style='info', layout=Layout(w…"
                        ],
                        "application/vnd.jupyter.widget-view+json": {
                            "version_major": 2,
                            "version_minor": 0,
                            "model_id": "321730bbaf2d490db23d2c5f520d66d0"
                        }
                    },
                    "metadata": {}
                },
                {
                    "output_type": "stream",
                    "name": "stdout",
                    "text": [
                        "April_Crisis\n"
                    ]
                },
                {
                    "output_type": "display_data",
                    "data": {
                        "text/plain": [
                            "HBox(children=(HTML(value='Processing paragraphs'), FloatProgress(value=1.0, bar_style='info', layout=Layout(w…"
                        ],
                        "application/vnd.jupyter.widget-view+json": {
                            "version_major": 2,
                            "version_minor": 0,
                            "model_id": "c6704f0d02d94532b673d5e9d75f7da9"
                        }
                    },
                    "metadata": {}
                },
                {
                    "output_type": "stream",
                    "name": "stdout",
                    "text": [
                        "Petrograd_Soviet\n"
                    ]
                },
                {
                    "output_type": "display_data",
                    "data": {
                        "text/plain": [
                            "HBox(children=(HTML(value='Processing paragraphs'), FloatProgress(value=1.0, bar_style='info', layout=Layout(w…"
                        ],
                        "application/vnd.jupyter.widget-view+json": {
                            "version_major": 2,
                            "version_minor": 0,
                            "model_id": "e088fa81b16e451e9123c062ef2fd315"
                        }
                    },
                    "metadata": {}
                },
                {
                    "output_type": "stream",
                    "name": "stdout",
                    "text": [
                        "February_Revolution\n"
                    ]
                },
                {
                    "output_type": "display_data",
                    "data": {
                        "text/plain": [
                            "HBox(children=(HTML(value='Processing paragraphs'), FloatProgress(value=1.0, bar_style='info', layout=Layout(w…"
                        ],
                        "application/vnd.jupyter.widget-view+json": {
                            "version_major": 2,
                            "version_minor": 0,
                            "model_id": "10ab9839c06849acb13e0db1732c83c2"
                        }
                    },
                    "metadata": {}
                },
                {
                    "output_type": "stream",
                    "name": "stdout",
                    "text": [
                        "Second_All-Russian_Congress_of_Soviets_of_Workers'_and_Soldiers'_Deputies\n"
                    ]
                },
                {
                    "output_type": "display_data",
                    "data": {
                        "text/plain": [
                            "HBox(children=(HTML(value='Processing paragraphs'), FloatProgress(value=1.0, bar_style='info', layout=Layout(w…"
                        ],
                        "application/vnd.jupyter.widget-view+json": {
                            "version_major": 2,
                            "version_minor": 0,
                            "model_id": "f4ed9abdb2ad48778aa24ad3c7dbde78"
                        }
                    },
                    "metadata": {}
                },
                {
                    "output_type": "stream",
                    "name": "stdout",
                    "text": [
                        "First_All-Russian_Congress_of_Soviets_of_Workers'_and_Soldiers'_Deputies\n"
                    ]
                },
                {
                    "output_type": "display_data",
                    "data": {
                        "text/plain": [
                            "HBox(children=(HTML(value='Processing paragraphs'), FloatProgress(value=1.0, bar_style='info', layout=Layout(w…"
                        ],
                        "application/vnd.jupyter.widget-view+json": {
                            "version_major": 2,
                            "version_minor": 0,
                            "model_id": "e1e283ab99c44caa97491c3aa0b7ce9a"
                        }
                    },
                    "metadata": {}
                },
                {
                    "output_type": "stream",
                    "name": "stdout",
                    "text": [
                        "Index_of_articles_related_to_the_Russian_Revolution_and_Civil_War\n"
                    ]
                },
                {
                    "output_type": "display_data",
                    "data": {
                        "text/plain": [
                            "HBox(children=(HTML(value='Processing paragraphs'), FloatProgress(value=1.0, bar_style='info', layout=Layout(w…"
                        ],
                        "application/vnd.jupyter.widget-view+json": {
                            "version_major": 2,
                            "version_minor": 0,
                            "model_id": "772c046808644db0b5ed002e87b1eda2"
                        }
                    },
                    "metadata": {}
                },
                {
                    "output_type": "stream",
                    "name": "stdout",
                    "text": [
                        "token_num 3373219\n",
                        "total_pages 894\n"
                    ]
                },
                {
                    "output_type": "display_data",
                    "data": {
                        "text/plain": [
                            "HBox(children=(HTML(value='Processing titles'), FloatProgress(value=0.0, max=21.0), HTML(value='')))"
                        ],
                        "application/vnd.jupyter.widget-view+json": {
                            "version_major": 2,
                            "version_minor": 0,
                            "model_id": "c45d5da68c94428c9f3a7136567dd0d9"
                        }
                    },
                    "metadata": {}
                },
                {
                    "output_type": "stream",
                    "name": "stdout",
                    "text": [
                        "American_Civil_War\n"
                    ]
                },
                {
                    "output_type": "display_data",
                    "data": {
                        "text/plain": [
                            "HBox(children=(HTML(value='Processing paragraphs'), FloatProgress(value=1.0, bar_style='info', layout=Layout(w…"
                        ],
                        "application/vnd.jupyter.widget-view+json": {
                            "version_major": 2,
                            "version_minor": 0,
                            "model_id": "d858d611413c48809b8f2865ed91314e"
                        }
                    },
                    "metadata": {}
                },
                {
                    "output_type": "stream",
                    "name": "stdout",
                    "text": [
                        "Confederate_States_of_America\n"
                    ]
                },
                {
                    "output_type": "display_data",
                    "data": {
                        "text/plain": [
                            "HBox(children=(HTML(value='Processing paragraphs'), FloatProgress(value=1.0, bar_style='info', layout=Layout(w…"
                        ],
                        "application/vnd.jupyter.widget-view+json": {
                            "version_major": 2,
                            "version_minor": 0,
                            "model_id": "efc0ea28bb144e2c8f8caf72f036a32e"
                        }
                    },
                    "metadata": {}
                },
                {
                    "output_type": "stream",
                    "name": "stdout",
                    "text": [
                        "Emancipation_Proclamation\n"
                    ]
                },
                {
                    "output_type": "display_data",
                    "data": {
                        "text/plain": [
                            "HBox(children=(HTML(value='Processing paragraphs'), FloatProgress(value=1.0, bar_style='info', layout=Layout(w…"
                        ],
                        "application/vnd.jupyter.widget-view+json": {
                            "version_major": 2,
                            "version_minor": 0,
                            "model_id": "b03ef381e2974135b76c94751ae80c8a"
                        }
                    },
                    "metadata": {}
                },
                {
                    "output_type": "stream",
                    "name": "stdout",
                    "text": [
                        "Confederate_States_Army\n"
                    ]
                },
                {
                    "output_type": "display_data",
                    "data": {
                        "text/plain": [
                            "HBox(children=(HTML(value='Processing paragraphs'), FloatProgress(value=1.0, bar_style='info', layout=Layout(w…"
                        ],
                        "application/vnd.jupyter.widget-view+json": {
                            "version_major": 2,
                            "version_minor": 0,
                            "model_id": "e867342abbe5496ca6495b9c8b9d2a65"
                        }
                    },
                    "metadata": {}
                },
                {
                    "output_type": "stream",
                    "name": "stdout",
                    "text": [
                        "Border_states_(American_Civil_War)\n"
                    ]
                },
                {
                    "output_type": "display_data",
                    "data": {
                        "text/plain": [
                            "HBox(children=(HTML(value='Processing paragraphs'), FloatProgress(value=1.0, bar_style='info', layout=Layout(w…"
                        ],
                        "application/vnd.jupyter.widget-view+json": {
                            "version_major": 2,
                            "version_minor": 0,
                            "model_id": "317be26bd9f0489bb2bb94262a9d5af4"
                        }
                    },
                    "metadata": {}
                },
                {
                    "output_type": "stream",
                    "name": "stdout",
                    "text": [
                        "History_of_the_United_States_(1849–1865)\n"
                    ]
                },
                {
                    "output_type": "display_data",
                    "data": {
                        "text/plain": [
                            "HBox(children=(HTML(value='Processing paragraphs'), FloatProgress(value=1.0, bar_style='info', layout=Layout(w…"
                        ],
                        "application/vnd.jupyter.widget-view+json": {
                            "version_major": 2,
                            "version_minor": 0,
                            "model_id": "a0cb5991dc5b44b08556ea8e3ef509a9"
                        }
                    },
                    "metadata": {}
                },
                {
                    "output_type": "stream",
                    "name": "stdout",
                    "text": [
                        "Neo-Confederate\n"
                    ]
                },
                {
                    "output_type": "display_data",
                    "data": {
                        "text/plain": [
                            "HBox(children=(HTML(value='Processing paragraphs'), FloatProgress(value=1.0, bar_style='info', layout=Layout(w…"
                        ],
                        "application/vnd.jupyter.widget-view+json": {
                            "version_major": 2,
                            "version_minor": 0,
                            "model_id": "e918346f850448ecbfb45467428bc373"
                        }
                    },
                    "metadata": {}
                },
                {
                    "output_type": "stream",
                    "name": "stdout",
                    "text": [
                        "Turning_point_of_the_American_Civil_War\n"
                    ]
                },
                {
                    "output_type": "display_data",
                    "data": {
                        "text/plain": [
                            "HBox(children=(HTML(value='Processing paragraphs'), FloatProgress(value=1.0, bar_style='info', layout=Layout(w…"
                        ],
                        "application/vnd.jupyter.widget-view+json": {
                            "version_major": 2,
                            "version_minor": 0,
                            "model_id": "e3bd615f17a7405189761ec72c9a92ce"
                        }
                    },
                    "metadata": {}
                },
                {
                    "output_type": "stream",
                    "name": "stdout",
                    "text": [
                        "Names_of_the_American_Civil_War\n"
                    ]
                },
                {
                    "output_type": "display_data",
                    "data": {
                        "text/plain": [
                            "HBox(children=(HTML(value='Processing paragraphs'), FloatProgress(value=1.0, bar_style='info', layout=Layout(w…"
                        ],
                        "application/vnd.jupyter.widget-view+json": {
                            "version_major": 2,
                            "version_minor": 0,
                            "model_id": "1532888ea004435792331716f22e1c5f"
                        }
                    },
                    "metadata": {}
                },
                {
                    "output_type": "stream",
                    "name": "stdout",
                    "text": [
                        "Missouri_in_the_American_Civil_War\n"
                    ]
                },
                {
                    "output_type": "display_data",
                    "data": {
                        "text/plain": [
                            "HBox(children=(HTML(value='Processing paragraphs'), FloatProgress(value=1.0, bar_style='info', layout=Layout(w…"
                        ],
                        "application/vnd.jupyter.widget-view+json": {
                            "version_major": 2,
                            "version_minor": 0,
                            "model_id": "5843b17996324baeaa00f2845e12b3a4"
                        }
                    },
                    "metadata": {}
                },
                {
                    "output_type": "stream",
                    "name": "stdout",
                    "text": [
                        "Maryland_in_the_American_Civil_War\n"
                    ]
                },
                {
                    "output_type": "display_data",
                    "data": {
                        "text/plain": [
                            "HBox(children=(HTML(value='Processing paragraphs'), FloatProgress(value=1.0, bar_style='info', layout=Layout(w…"
                        ],
                        "application/vnd.jupyter.widget-view+json": {
                            "version_major": 2,
                            "version_minor": 0,
                            "model_id": "77fa38f2d2434a8e8af0fc9e658a34fe"
                        }
                    },
                    "metadata": {}
                },
                {
                    "output_type": "stream",
                    "name": "stdout",
                    "text": [
                        "Alabama_in_the_American_Civil_War\n"
                    ]
                },
                {
                    "output_type": "display_data",
                    "data": {
                        "text/plain": [
                            "HBox(children=(HTML(value='Processing paragraphs'), FloatProgress(value=1.0, bar_style='info', layout=Layout(w…"
                        ],
                        "application/vnd.jupyter.widget-view+json": {
                            "version_major": 2,
                            "version_minor": 0,
                            "model_id": "4294acf41353432097b936b24483ead7"
                        }
                    },
                    "metadata": {}
                },
                {
                    "output_type": "stream",
                    "name": "stdout",
                    "text": [
                        "Mississippi_in_the_American_Civil_War\n"
                    ]
                },
                {
                    "output_type": "display_data",
                    "data": {
                        "text/plain": [
                            "HBox(children=(HTML(value='Processing paragraphs'), FloatProgress(value=1.0, bar_style='info', layout=Layout(w…"
                        ],
                        "application/vnd.jupyter.widget-view+json": {
                            "version_major": 2,
                            "version_minor": 0,
                            "model_id": "e5268b1d1c574151b5d2e73eb67c8b3c"
                        }
                    },
                    "metadata": {}
                },
                {
                    "output_type": "stream",
                    "name": "stdout",
                    "text": [
                        "South_Carolina_in_the_American_Civil_War\n"
                    ]
                },
                {
                    "output_type": "display_data",
                    "data": {
                        "text/plain": [
                            "HBox(children=(HTML(value='Processing paragraphs'), FloatProgress(value=1.0, bar_style='info', layout=Layout(w…"
                        ],
                        "application/vnd.jupyter.widget-view+json": {
                            "version_major": 2,
                            "version_minor": 0,
                            "model_id": "e94bba7cb56f45f4ba0cce1da0ca1b9c"
                        }
                    },
                    "metadata": {}
                },
                {
                    "output_type": "stream",
                    "name": "stdout",
                    "text": [
                        "Texas_in_the_American_Civil_War\n"
                    ]
                },
                {
                    "output_type": "display_data",
                    "data": {
                        "text/plain": [
                            "HBox(children=(HTML(value='Processing paragraphs'), FloatProgress(value=1.0, bar_style='info', layout=Layout(w…"
                        ],
                        "application/vnd.jupyter.widget-view+json": {
                            "version_major": 2,
                            "version_minor": 0,
                            "model_id": "c42abd5f7c654371b4c756dee3aa8617"
                        }
                    },
                    "metadata": {}
                },
                {
                    "output_type": "stream",
                    "name": "stdout",
                    "text": [
                        "Georgia_in_the_American_Civil_War\n"
                    ]
                },
                {
                    "output_type": "display_data",
                    "data": {
                        "text/plain": [
                            "HBox(children=(HTML(value='Processing paragraphs'), FloatProgress(value=1.0, bar_style='info', layout=Layout(w…"
                        ],
                        "application/vnd.jupyter.widget-view+json": {
                            "version_major": 2,
                            "version_minor": 0,
                            "model_id": "4de588c1a82348a5a6385bd18ed3beae"
                        }
                    },
                    "metadata": {}
                },
                {
                    "output_type": "stream",
                    "name": "stdout",
                    "text": [
                        "Virginia_in_the_American_Civil_War\n"
                    ]
                },
                {
                    "output_type": "display_data",
                    "data": {
                        "text/plain": [
                            "HBox(children=(HTML(value='Processing paragraphs'), FloatProgress(value=1.0, bar_style='info', layout=Layout(w…"
                        ],
                        "application/vnd.jupyter.widget-view+json": {
                            "version_major": 2,
                            "version_minor": 0,
                            "model_id": "009fd6b18ba24646b64c3539d4d07852"
                        }
                    },
                    "metadata": {}
                },
                {
                    "output_type": "stream",
                    "name": "stdout",
                    "text": [
                        "Louisiana_in_the_American_Civil_War\n"
                    ]
                },
                {
                    "output_type": "display_data",
                    "data": {
                        "text/plain": [
                            "HBox(children=(HTML(value='Processing paragraphs'), FloatProgress(value=1.0, bar_style='info', layout=Layout(w…"
                        ],
                        "application/vnd.jupyter.widget-view+json": {
                            "version_major": 2,
                            "version_minor": 0,
                            "model_id": "9dd4154c18024f629e30567f5c5a2744"
                        }
                    },
                    "metadata": {}
                },
                {
                    "output_type": "stream",
                    "name": "stdout",
                    "text": [
                        "Presidency_of_Abraham_Lincoln\n"
                    ]
                },
                {
                    "output_type": "display_data",
                    "data": {
                        "text/plain": [
                            "HBox(children=(HTML(value='Processing paragraphs'), FloatProgress(value=1.0, bar_style='info', layout=Layout(w…"
                        ],
                        "application/vnd.jupyter.widget-view+json": {
                            "version_major": 2,
                            "version_minor": 0,
                            "model_id": "bf4be659ae4b43659407a2126b933c0c"
                        }
                    },
                    "metadata": {}
                },
                {
                    "output_type": "stream",
                    "name": "stdout",
                    "text": [
                        "Historiographic_issues_about_the_American_Civil_War\n"
                    ]
                },
                {
                    "output_type": "display_data",
                    "data": {
                        "text/plain": [
                            "HBox(children=(HTML(value='Processing paragraphs'), FloatProgress(value=1.0, bar_style='info', layout=Layout(w…"
                        ],
                        "application/vnd.jupyter.widget-view+json": {
                            "version_major": 2,
                            "version_minor": 0,
                            "model_id": "e822edce895848b0afc999f5aed43859"
                        }
                    },
                    "metadata": {}
                },
                {
                    "output_type": "stream",
                    "name": "stdout",
                    "text": [
                        "Slavery_during_the_American_Civil_War\n"
                    ]
                },
                {
                    "output_type": "display_data",
                    "data": {
                        "text/plain": [
                            "HBox(children=(HTML(value='Processing paragraphs'), FloatProgress(value=1.0, bar_style='info', layout=Layout(w…"
                        ],
                        "application/vnd.jupyter.widget-view+json": {
                            "version_major": 2,
                            "version_minor": 0,
                            "model_id": "148608472a2f40398b21aeb2e4715d30"
                        }
                    },
                    "metadata": {}
                },
                {
                    "output_type": "stream",
                    "name": "stdout",
                    "text": [
                        "token_num 3518013\n",
                        "total_pages 915\n"
                    ]
                },
                {
                    "output_type": "display_data",
                    "data": {
                        "text/plain": [
                            "HBox(children=(HTML(value='Processing titles'), FloatProgress(value=0.0, max=21.0), HTML(value='')))"
                        ],
                        "application/vnd.jupyter.widget-view+json": {
                            "version_major": 2,
                            "version_minor": 0,
                            "model_id": "fc650e40b5b64635a1ef1db1f9ecf109"
                        }
                    },
                    "metadata": {}
                },
                {
                    "output_type": "stream",
                    "name": "stdout",
                    "text": [
                        "United_States_Declaration_of_Independence\n"
                    ]
                },
                {
                    "output_type": "display_data",
                    "data": {
                        "text/plain": [
                            "HBox(children=(HTML(value='Processing paragraphs'), FloatProgress(value=1.0, bar_style='info', layout=Layout(w…"
                        ],
                        "application/vnd.jupyter.widget-view+json": {
                            "version_major": 2,
                            "version_minor": 0,
                            "model_id": "7488ae6148e348eca581c18c001d18be"
                        }
                    },
                    "metadata": {}
                },
                {
                    "output_type": "stream",
                    "name": "stdout",
                    "text": [
                        "American_Revolution\n"
                    ]
                },
                {
                    "output_type": "display_data",
                    "data": {
                        "text/plain": [
                            "HBox(children=(HTML(value='Processing paragraphs'), FloatProgress(value=1.0, bar_style='info', layout=Layout(w…"
                        ],
                        "application/vnd.jupyter.widget-view+json": {
                            "version_major": 2,
                            "version_minor": 0,
                            "model_id": "d301f7244240415f88ec7913e452d547"
                        }
                    },
                    "metadata": {}
                },
                {
                    "output_type": "stream",
                    "name": "stdout",
                    "text": [
                        "1776_(musical)\n"
                    ]
                },
                {
                    "output_type": "display_data",
                    "data": {
                        "text/plain": [
                            "HBox(children=(HTML(value='Processing paragraphs'), FloatProgress(value=1.0, bar_style='info', layout=Layout(w…"
                        ],
                        "application/vnd.jupyter.widget-view+json": {
                            "version_major": 2,
                            "version_minor": 0,
                            "model_id": "5f01f13841854665aa812a7307e33df4"
                        }
                    },
                    "metadata": {}
                },
                {
                    "output_type": "stream",
                    "name": "stdout",
                    "text": [
                        "History_of_the_United_States_(1776–1789)\n"
                    ]
                },
                {
                    "output_type": "display_data",
                    "data": {
                        "text/plain": [
                            "HBox(children=(HTML(value='Processing paragraphs'), FloatProgress(value=1.0, bar_style='info', layout=Layout(w…"
                        ],
                        "application/vnd.jupyter.widget-view+json": {
                            "version_major": 2,
                            "version_minor": 0,
                            "model_id": "e890dd7fe7da4b81b80212fdb4626020"
                        }
                    },
                    "metadata": {}
                },
                {
                    "output_type": "stream",
                    "name": "stdout",
                    "text": [
                        "Mecklenburg_Declaration_of_Independence\n"
                    ]
                },
                {
                    "output_type": "display_data",
                    "data": {
                        "text/plain": [
                            "HBox(children=(HTML(value='Processing paragraphs'), FloatProgress(value=1.0, bar_style='info', layout=Layout(w…"
                        ],
                        "application/vnd.jupyter.widget-view+json": {
                            "version_major": 2,
                            "version_minor": 0,
                            "model_id": "c8c1a2bb0a634c94a31c9317ccd56520"
                        }
                    },
                    "metadata": {}
                },
                {
                    "output_type": "stream",
                    "name": "stdout",
                    "text": [
                        "All_men_are_created_equal\n"
                    ]
                },
                {
                    "output_type": "display_data",
                    "data": {
                        "text/plain": [
                            "HBox(children=(HTML(value='Processing paragraphs'), FloatProgress(value=1.0, bar_style='info', layout=Layout(w…"
                        ],
                        "application/vnd.jupyter.widget-view+json": {
                            "version_major": 2,
                            "version_minor": 0,
                            "model_id": "5ac964140a844c23997a015ac1112cae"
                        }
                    },
                    "metadata": {}
                },
                {
                    "output_type": "stream",
                    "name": "stdout",
                    "text": [
                        "Life,_Liberty_and_the_pursuit_of_Happiness\n"
                    ]
                },
                {
                    "output_type": "display_data",
                    "data": {
                        "text/plain": [
                            "HBox(children=(HTML(value='Processing paragraphs'), FloatProgress(value=1.0, bar_style='info', layout=Layout(w…"
                        ],
                        "application/vnd.jupyter.widget-view+json": {
                            "version_major": 2,
                            "version_minor": 0,
                            "model_id": "0e5329836b7d42a590d14fded9fb5f2f"
                        }
                    },
                    "metadata": {}
                },
                {
                    "output_type": "stream",
                    "name": "stdout",
                    "text": [
                        "Olive_Branch_Petition\n"
                    ]
                },
                {
                    "output_type": "display_data",
                    "data": {
                        "text/plain": [
                            "HBox(children=(HTML(value='Processing paragraphs'), FloatProgress(value=1.0, bar_style='info', layout=Layout(w…"
                        ],
                        "application/vnd.jupyter.widget-view+json": {
                            "version_major": 2,
                            "version_minor": 0,
                            "model_id": "114ea943bee2457198b96bd762271999"
                        }
                    },
                    "metadata": {}
                },
                {
                    "output_type": "stream",
                    "name": "stdout",
                    "text": [
                        "Second_Continental_Congress\n"
                    ]
                },
                {
                    "output_type": "display_data",
                    "data": {
                        "text/plain": [
                            "HBox(children=(HTML(value='Processing paragraphs'), FloatProgress(value=1.0, bar_style='info', layout=Layout(w…"
                        ],
                        "application/vnd.jupyter.widget-view+json": {
                            "version_major": 2,
                            "version_minor": 0,
                            "model_id": "e6498135c5f245028a0c93b7cfddff65"
                        }
                    },
                    "metadata": {}
                },
                {
                    "output_type": "stream",
                    "name": "stdout",
                    "text": [
                        "John_Dickinson\n"
                    ]
                },
                {
                    "output_type": "display_data",
                    "data": {
                        "text/plain": [
                            "HBox(children=(HTML(value='Processing paragraphs'), FloatProgress(value=1.0, bar_style='info', layout=Layout(w…"
                        ],
                        "application/vnd.jupyter.widget-view+json": {
                            "version_major": 2,
                            "version_minor": 0,
                            "model_id": "d36dd97575a8497e8a738c8bd45838f5"
                        }
                    },
                    "metadata": {}
                },
                {
                    "output_type": "stream",
                    "name": "stdout",
                    "text": [
                        "Founding_Fathers_of_the_United_States\n"
                    ]
                },
                {
                    "output_type": "display_data",
                    "data": {
                        "text/plain": [
                            "HBox(children=(HTML(value='Processing paragraphs'), FloatProgress(value=1.0, bar_style='info', layout=Layout(w…"
                        ],
                        "application/vnd.jupyter.widget-view+json": {
                            "version_major": 2,
                            "version_minor": 0,
                            "model_id": "97b94ffc87dc4d73bc083825c39b0c4a"
                        }
                    },
                    "metadata": {}
                },
                {
                    "output_type": "stream",
                    "name": "stdout",
                    "text": [
                        "Independence_Day_(United_States)\n"
                    ]
                },
                {
                    "output_type": "display_data",
                    "data": {
                        "text/plain": [
                            "HBox(children=(HTML(value='Processing paragraphs'), FloatProgress(value=1.0, bar_style='info', layout=Layout(w…"
                        ],
                        "application/vnd.jupyter.widget-view+json": {
                            "version_major": 2,
                            "version_minor": 0,
                            "model_id": "14241f0650df46a2a3a1ebc21a5b5035"
                        }
                    },
                    "metadata": {}
                },
                {
                    "output_type": "stream",
                    "name": "stdout",
                    "text": [
                        "Suffolk_Resolves\n"
                    ]
                },
                {
                    "output_type": "display_data",
                    "data": {
                        "text/plain": [
                            "HBox(children=(HTML(value='Processing paragraphs'), FloatProgress(value=1.0, bar_style='info', layout=Layout(w…"
                        ],
                        "application/vnd.jupyter.widget-view+json": {
                            "version_major": 2,
                            "version_minor": 0,
                            "model_id": "659fc6d41c074ba4848c04e23530d5d1"
                        }
                    },
                    "metadata": {}
                },
                {
                    "output_type": "stream",
                    "name": "stdout",
                    "text": [
                        "Lee_Resolution\n"
                    ]
                },
                {
                    "output_type": "display_data",
                    "data": {
                        "text/plain": [
                            "HBox(children=(HTML(value='Processing paragraphs'), FloatProgress(value=1.0, bar_style='info', layout=Layout(w…"
                        ],
                        "application/vnd.jupyter.widget-view+json": {
                            "version_major": 2,
                            "version_minor": 0,
                            "model_id": "6ca12cd2dfc44732873a3deb4954a422"
                        }
                    },
                    "metadata": {}
                },
                {
                    "output_type": "stream",
                    "name": "stdout",
                    "text": [
                        "United_Colonies\n"
                    ]
                },
                {
                    "output_type": "display_data",
                    "data": {
                        "text/plain": [
                            "HBox(children=(HTML(value='Processing paragraphs'), FloatProgress(value=1.0, bar_style='info', layout=Layout(w…"
                        ],
                        "application/vnd.jupyter.widget-view+json": {
                            "version_major": 2,
                            "version_minor": 0,
                            "model_id": "6d16fe8646a7477ba64ebc30c8bb9b39"
                        }
                    },
                    "metadata": {}
                },
                {
                    "output_type": "stream",
                    "name": "stdout",
                    "text": [
                        "Committee_of_Five\n"
                    ]
                },
                {
                    "output_type": "display_data",
                    "data": {
                        "text/plain": [
                            "HBox(children=(HTML(value='Processing paragraphs'), FloatProgress(value=1.0, bar_style='info', layout=Layout(w…"
                        ],
                        "application/vnd.jupyter.widget-view+json": {
                            "version_major": 2,
                            "version_minor": 0,
                            "model_id": "26cf23bfb17049bfa4314eb6499cd06b"
                        }
                    },
                    "metadata": {}
                },
                {
                    "output_type": "stream",
                    "name": "stdout",
                    "text": [
                        "1776_(film)\n"
                    ]
                },
                {
                    "output_type": "display_data",
                    "data": {
                        "text/plain": [
                            "HBox(children=(HTML(value='Processing paragraphs'), FloatProgress(value=1.0, bar_style='info', layout=Layout(w…"
                        ],
                        "application/vnd.jupyter.widget-view+json": {
                            "version_major": 2,
                            "version_minor": 0,
                            "model_id": "abb8d2de61ca4256b0b2221a799180dc"
                        }
                    },
                    "metadata": {}
                },
                {
                    "output_type": "stream",
                    "name": "stdout",
                    "text": [
                        "Physical_history_of_the_United_States_Declaration_of_Independence\n"
                    ]
                },
                {
                    "output_type": "display_data",
                    "data": {
                        "text/plain": [
                            "HBox(children=(HTML(value='Processing paragraphs'), FloatProgress(value=1.0, bar_style='info', layout=Layout(w…"
                        ],
                        "application/vnd.jupyter.widget-view+json": {
                            "version_major": 2,
                            "version_minor": 0,
                            "model_id": "20257c84d0ef48bd9e454aca032fe02b"
                        }
                    },
                    "metadata": {}
                },
                {
                    "output_type": "stream",
                    "name": "stdout",
                    "text": [
                        "Signing_of_the_United_States_Declaration_of_Independence\n"
                    ]
                },
                {
                    "output_type": "display_data",
                    "data": {
                        "text/plain": [
                            "HBox(children=(HTML(value='Processing paragraphs'), FloatProgress(value=1.0, bar_style='info', layout=Layout(w…"
                        ],
                        "application/vnd.jupyter.widget-view+json": {
                            "version_major": 2,
                            "version_minor": 0,
                            "model_id": "dc2ed876ad2344128b3be29e696208b6"
                        }
                    },
                    "metadata": {}
                },
                {
                    "output_type": "stream",
                    "name": "stdout",
                    "text": [
                        "Spirit_of_'76_(sentiment)\n"
                    ]
                },
                {
                    "output_type": "display_data",
                    "data": {
                        "text/plain": [
                            "HBox(children=(HTML(value='Processing paragraphs'), FloatProgress(value=1.0, bar_style='info', layout=Layout(w…"
                        ],
                        "application/vnd.jupyter.widget-view+json": {
                            "version_major": 2,
                            "version_minor": 0,
                            "model_id": "4c404b6826914858b18011ec9c337a43"
                        }
                    },
                    "metadata": {}
                },
                {
                    "output_type": "stream",
                    "name": "stdout",
                    "text": [
                        "Augusta_Declaration\n"
                    ]
                },
                {
                    "output_type": "display_data",
                    "data": {
                        "text/plain": [
                            "HBox(children=(HTML(value='Processing paragraphs'), FloatProgress(value=1.0, bar_style='info', layout=Layout(w…"
                        ],
                        "application/vnd.jupyter.widget-view+json": {
                            "version_major": 2,
                            "version_minor": 0,
                            "model_id": "3122f69558784917952c22cbf22d7e17"
                        }
                    },
                    "metadata": {}
                },
                {
                    "output_type": "stream",
                    "name": "stdout",
                    "text": [
                        "token_num 3597245\n",
                        "total_pages 936\n"
                    ]
                },
                {
                    "output_type": "display_data",
                    "data": {
                        "text/plain": [
                            "HBox(children=(HTML(value='Processing titles'), FloatProgress(value=0.0, max=21.0), HTML(value='')))"
                        ],
                        "application/vnd.jupyter.widget-view+json": {
                            "version_major": 2,
                            "version_minor": 0,
                            "model_id": "856aa0ce86754df09b897590b557d2ab"
                        }
                    },
                    "metadata": {}
                },
                {
                    "output_type": "stream",
                    "name": "stdout",
                    "text": [
                        "Thirteen_Colonies\n"
                    ]
                },
                {
                    "output_type": "display_data",
                    "data": {
                        "text/plain": [
                            "HBox(children=(HTML(value='Processing paragraphs'), FloatProgress(value=1.0, bar_style='info', layout=Layout(w…"
                        ],
                        "application/vnd.jupyter.widget-view+json": {
                            "version_major": 2,
                            "version_minor": 0,
                            "model_id": "e0cc6e6661d84838bb44ab665dafcf3a"
                        }
                    },
                    "metadata": {}
                },
                {
                    "output_type": "stream",
                    "name": "stdout",
                    "text": [
                        "Prisoners_of_war_in_the_American_Revolutionary_War\n"
                    ]
                },
                {
                    "output_type": "display_data",
                    "data": {
                        "text/plain": [
                            "HBox(children=(HTML(value='Processing paragraphs'), FloatProgress(value=1.0, bar_style='info', layout=Layout(w…"
                        ],
                        "application/vnd.jupyter.widget-view+json": {
                            "version_major": 2,
                            "version_minor": 0,
                            "model_id": "16c5c92d81ff41029d4860b66a4f8ef9"
                        }
                    },
                    "metadata": {}
                },
                {
                    "output_type": "stream",
                    "name": "stdout",
                    "text": [
                        "Province_of_New_York\n"
                    ]
                },
                {
                    "output_type": "display_data",
                    "data": {
                        "text/plain": [
                            "HBox(children=(HTML(value='Processing paragraphs'), FloatProgress(value=1.0, bar_style='info', layout=Layout(w…"
                        ],
                        "application/vnd.jupyter.widget-view+json": {
                            "version_major": 2,
                            "version_minor": 0,
                            "model_id": "6bb2386193844c0483f7e53fdfa2abe4"
                        }
                    },
                    "metadata": {}
                },
                {
                    "output_type": "stream",
                    "name": "stdout",
                    "text": [
                        "Committees_of_correspondence\n"
                    ]
                },
                {
                    "output_type": "display_data",
                    "data": {
                        "text/plain": [
                            "HBox(children=(HTML(value='Processing paragraphs'), FloatProgress(value=1.0, bar_style='info', layout=Layout(w…"
                        ],
                        "application/vnd.jupyter.widget-view+json": {
                            "version_major": 2,
                            "version_minor": 0,
                            "model_id": "cfaa0eba06d14acd8cf7aa74cc89d997"
                        }
                    },
                    "metadata": {}
                },
                {
                    "output_type": "stream",
                    "name": "stdout",
                    "text": [
                        "Loyalist_(American_Revolution)\n"
                    ]
                },
                {
                    "output_type": "display_data",
                    "data": {
                        "text/plain": [
                            "HBox(children=(HTML(value='Processing paragraphs'), FloatProgress(value=1.0, bar_style='info', layout=Layout(w…"
                        ],
                        "application/vnd.jupyter.widget-view+json": {
                            "version_major": 2,
                            "version_minor": 0,
                            "model_id": "e1e44d58e2d24f67a945373e7f17f33c"
                        }
                    },
                    "metadata": {}
                },
                {
                    "output_type": "stream",
                    "name": "stdout",
                    "text": [
                        "Patriot_(American_Revolution)\n"
                    ]
                },
                {
                    "output_type": "display_data",
                    "data": {
                        "text/plain": [
                            "HBox(children=(HTML(value='Processing paragraphs'), FloatProgress(value=1.0, bar_style='info', layout=Layout(w…"
                        ],
                        "application/vnd.jupyter.widget-view+json": {
                            "version_major": 2,
                            "version_minor": 0,
                            "model_id": "fcc2c330127047c5b122f095e10e7d83"
                        }
                    },
                    "metadata": {}
                },
                {
                    "output_type": "stream",
                    "name": "stdout",
                    "text": [
                        "Committee_of_safety_(American_Revolution)\n"
                    ]
                },
                {
                    "output_type": "display_data",
                    "data": {
                        "text/plain": [
                            "HBox(children=(HTML(value='Processing paragraphs'), FloatProgress(value=1.0, bar_style='info', layout=Layout(w…"
                        ],
                        "application/vnd.jupyter.widget-view+json": {
                            "version_major": 2,
                            "version_minor": 0,
                            "model_id": "1872e42316f74817bf32ebbd906aa8f4"
                        }
                    },
                    "metadata": {}
                },
                {
                    "output_type": "stream",
                    "name": "stdout",
                    "text": [
                        "First_Continental_Congress\n"
                    ]
                },
                {
                    "output_type": "display_data",
                    "data": {
                        "text/plain": [
                            "HBox(children=(HTML(value='Processing paragraphs'), FloatProgress(value=1.0, bar_style='info', layout=Layout(w…"
                        ],
                        "application/vnd.jupyter.widget-view+json": {
                            "version_major": 2,
                            "version_minor": 0,
                            "model_id": "a4981b66171148ac932f1b72ae7e5a5a"
                        }
                    },
                    "metadata": {}
                },
                {
                    "output_type": "stream",
                    "name": "stdout",
                    "text": [
                        "Boston_campaign\n"
                    ]
                },
                {
                    "output_type": "display_data",
                    "data": {
                        "text/plain": [
                            "HBox(children=(HTML(value='Processing paragraphs'), FloatProgress(value=1.0, bar_style='info', layout=Layout(w…"
                        ],
                        "application/vnd.jupyter.widget-view+json": {
                            "version_major": 2,
                            "version_minor": 0,
                            "model_id": "dae7b05cac2b45f8bb82744337af455f"
                        }
                    },
                    "metadata": {}
                },
                {
                    "output_type": "stream",
                    "name": "stdout",
                    "text": [
                        "South_Carolina_in_the_American_Revolution\n"
                    ]
                },
                {
                    "output_type": "display_data",
                    "data": {
                        "text/plain": [
                            "HBox(children=(HTML(value='Processing paragraphs'), FloatProgress(value=1.0, bar_style='info', layout=Layout(w…"
                        ],
                        "application/vnd.jupyter.widget-view+json": {
                            "version_major": 2,
                            "version_minor": 0,
                            "model_id": "6c13407782464d76807a0763acbdef37"
                        }
                    },
                    "metadata": {}
                },
                {
                    "output_type": "stream",
                    "name": "stdout",
                    "text": [
                        "Southern_theater_of_the_American_Revolutionary_War\n"
                    ]
                },
                {
                    "output_type": "display_data",
                    "data": {
                        "text/plain": [
                            "HBox(children=(HTML(value='Processing paragraphs'), FloatProgress(value=1.0, bar_style='info', layout=Layout(w…"
                        ],
                        "application/vnd.jupyter.widget-view+json": {
                            "version_major": 2,
                            "version_minor": 0,
                            "model_id": "ec279b12d4e74b9b94a3c0670d0b5f0a"
                        }
                    },
                    "metadata": {}
                },
                {
                    "output_type": "stream",
                    "name": "stdout",
                    "text": [
                        "Dunmore's_Proclamation\n"
                    ]
                },
                {
                    "output_type": "display_data",
                    "data": {
                        "text/plain": [
                            "HBox(children=(HTML(value='Processing paragraphs'), FloatProgress(value=1.0, bar_style='info', layout=Layout(w…"
                        ],
                        "application/vnd.jupyter.widget-view+json": {
                            "version_major": 2,
                            "version_minor": 0,
                            "model_id": "230b8479695b46cd88c3a1a477c860c4"
                        }
                    },
                    "metadata": {}
                },
                {
                    "output_type": "stream",
                    "name": "stdout",
                    "text": [
                        "African_Americans_in_the_Revolutionary_War\n"
                    ]
                },
                {
                    "output_type": "display_data",
                    "data": {
                        "text/plain": [
                            "HBox(children=(HTML(value='Processing paragraphs'), FloatProgress(value=1.0, bar_style='info', layout=Layout(w…"
                        ],
                        "application/vnd.jupyter.widget-view+json": {
                            "version_major": 2,
                            "version_minor": 0,
                            "model_id": "5dbefc74a6974a39a7fe5237fb2cdd10"
                        }
                    },
                    "metadata": {}
                },
                {
                    "output_type": "stream",
                    "name": "stdout",
                    "text": [
                        "James_Moore_(Continental_Army_officer)\n"
                    ]
                },
                {
                    "output_type": "display_data",
                    "data": {
                        "text/plain": [
                            "HBox(children=(HTML(value='Processing paragraphs'), FloatProgress(value=1.0, bar_style='info', layout=Layout(w…"
                        ],
                        "application/vnd.jupyter.widget-view+json": {
                            "version_major": 2,
                            "version_minor": 0,
                            "model_id": "0473559d579543fcb98336d662dd9b58"
                        }
                    },
                    "metadata": {}
                },
                {
                    "output_type": "stream",
                    "name": "stdout",
                    "text": [
                        "Associators\n"
                    ]
                },
                {
                    "output_type": "display_data",
                    "data": {
                        "text/plain": [
                            "HBox(children=(HTML(value='Processing paragraphs'), FloatProgress(value=1.0, bar_style='info', layout=Layout(w…"
                        ],
                        "application/vnd.jupyter.widget-view+json": {
                            "version_major": 2,
                            "version_minor": 0,
                            "model_id": "e748995de78f40b7b2a1db98c6838a87"
                        }
                    },
                    "metadata": {}
                },
                {
                    "output_type": "stream",
                    "name": "stdout",
                    "text": [
                        "Diplomacy_in_the_American_Revolutionary_War\n"
                    ]
                },
                {
                    "output_type": "display_data",
                    "data": {
                        "text/plain": [
                            "HBox(children=(HTML(value='Processing paragraphs'), FloatProgress(value=1.0, bar_style='info', layout=Layout(w…"
                        ],
                        "application/vnd.jupyter.widget-view+json": {
                            "version_major": 2,
                            "version_minor": 0,
                            "model_id": "7b9d72a50bd74da2adafe1b1010c90d5"
                        }
                    },
                    "metadata": {}
                },
                {
                    "output_type": "stream",
                    "name": "stdout",
                    "text": [
                        "Maryland_in_the_American_Revolution\n"
                    ]
                },
                {
                    "output_type": "display_data",
                    "data": {
                        "text/plain": [
                            "HBox(children=(HTML(value='Processing paragraphs'), FloatProgress(value=1.0, bar_style='info', layout=Layout(w…"
                        ],
                        "application/vnd.jupyter.widget-view+json": {
                            "version_major": 2,
                            "version_minor": 0,
                            "model_id": "c5c0c767a2b94e62a997149ba1279b80"
                        }
                    },
                    "metadata": {}
                },
                {
                    "output_type": "stream",
                    "name": "stdout",
                    "text": [
                        "token_num 3657253\n",
                        "total_pages 953\n"
                    ]
                },
                {
                    "output_type": "display_data",
                    "data": {
                        "text/plain": [
                            "HBox(children=(HTML(value='Processing titles'), FloatProgress(value=0.0, max=21.0), HTML(value='')))"
                        ],
                        "application/vnd.jupyter.widget-view+json": {
                            "version_major": 2,
                            "version_minor": 0,
                            "model_id": "279b8781cd8144829c1411558713fed1"
                        }
                    },
                    "metadata": {}
                },
                {
                    "output_type": "stream",
                    "name": "stdout",
                    "text": [
                        "French_Revolution\n"
                    ]
                },
                {
                    "output_type": "display_data",
                    "data": {
                        "text/plain": [
                            "HBox(children=(HTML(value='Processing paragraphs'), FloatProgress(value=1.0, bar_style='info', layout=Layout(w…"
                        ],
                        "application/vnd.jupyter.widget-view+json": {
                            "version_major": 2,
                            "version_minor": 0,
                            "model_id": "e69a866e4f524330bb27a27c579bee5f"
                        }
                    },
                    "metadata": {}
                },
                {
                    "output_type": "stream",
                    "name": "stdout",
                    "text": [
                        "Jacobin_(politics)\n"
                    ]
                },
                {
                    "output_type": "display_data",
                    "data": {
                        "text/plain": [
                            "HBox(children=(HTML(value='Processing paragraphs'), FloatProgress(value=1.0, bar_style='info', layout=Layout(w…"
                        ],
                        "application/vnd.jupyter.widget-view+json": {
                            "version_major": 2,
                            "version_minor": 0,
                            "model_id": "b696ba2abc584e17b434183c8ac5176f"
                        }
                    },
                    "metadata": {}
                },
                {
                    "output_type": "stream",
                    "name": "stdout",
                    "text": [
                        "Flight_to_Varennes\n"
                    ]
                },
                {
                    "output_type": "display_data",
                    "data": {
                        "text/plain": [
                            "HBox(children=(HTML(value='Processing paragraphs'), FloatProgress(value=1.0, bar_style='info', layout=Layout(w…"
                        ],
                        "application/vnd.jupyter.widget-view+json": {
                            "version_major": 2,
                            "version_minor": 0,
                            "model_id": "c0e8b6ea0a2f4ee2a27ae80176a485f3"
                        }
                    },
                    "metadata": {}
                },
                {
                    "output_type": "stream",
                    "name": "stdout",
                    "text": [
                        "Girondins\n"
                    ]
                },
                {
                    "output_type": "display_data",
                    "data": {
                        "text/plain": [
                            "HBox(children=(HTML(value='Processing paragraphs'), FloatProgress(value=1.0, bar_style='info', layout=Layout(w…"
                        ],
                        "application/vnd.jupyter.widget-view+json": {
                            "version_major": 2,
                            "version_minor": 0,
                            "model_id": "2c11ce570cdd479d9075abf7ddf06be1"
                        }
                    },
                    "metadata": {}
                },
                {
                    "output_type": "stream",
                    "name": "stdout",
                    "text": [
                        "Camille_Desmoulins\n"
                    ]
                },
                {
                    "output_type": "display_data",
                    "data": {
                        "text/plain": [
                            "HBox(children=(HTML(value='Processing paragraphs'), FloatProgress(value=1.0, bar_style='info', layout=Layout(w…"
                        ],
                        "application/vnd.jupyter.widget-view+json": {
                            "version_major": 2,
                            "version_minor": 0,
                            "model_id": "dff5d1633bea4727a378c0825d414982"
                        }
                    },
                    "metadata": {}
                },
                {
                    "output_type": "stream",
                    "name": "stdout",
                    "text": [
                        "Georges_Couthon\n"
                    ]
                },
                {
                    "output_type": "display_data",
                    "data": {
                        "text/plain": [
                            "HBox(children=(HTML(value='Processing paragraphs'), FloatProgress(value=1.0, bar_style='info', layout=Layout(w…"
                        ],
                        "application/vnd.jupyter.widget-view+json": {
                            "version_major": 2,
                            "version_minor": 0,
                            "model_id": "420f2337c7174af08f1dc4042be97b16"
                        }
                    },
                    "metadata": {}
                },
                {
                    "output_type": "stream",
                    "name": "stdout",
                    "text": [
                        "Cult_of_Reason\n"
                    ]
                },
                {
                    "output_type": "display_data",
                    "data": {
                        "text/plain": [
                            "HBox(children=(HTML(value='Processing paragraphs'), FloatProgress(value=1.0, bar_style='info', layout=Layout(w…"
                        ],
                        "application/vnd.jupyter.widget-view+json": {
                            "version_major": 2,
                            "version_minor": 0,
                            "model_id": "22cc3c9c7359440d97fb443ad937a96c"
                        }
                    },
                    "metadata": {}
                },
                {
                    "output_type": "stream",
                    "name": "stdout",
                    "text": [
                        "Women's_March_on_Versailles\n"
                    ]
                },
                {
                    "output_type": "display_data",
                    "data": {
                        "text/plain": [
                            "HBox(children=(HTML(value='Processing paragraphs'), FloatProgress(value=1.0, bar_style='info', layout=Layout(w…"
                        ],
                        "application/vnd.jupyter.widget-view+json": {
                            "version_major": 2,
                            "version_minor": 0,
                            "model_id": "26f1406ad2004684b9aab72812e18d5c"
                        }
                    },
                    "metadata": {}
                },
                {
                    "output_type": "stream",
                    "name": "stdout",
                    "text": [
                        "Feuillant_(political_group)\n"
                    ]
                },
                {
                    "output_type": "display_data",
                    "data": {
                        "text/plain": [
                            "HBox(children=(HTML(value='Processing paragraphs'), FloatProgress(value=1.0, bar_style='info', layout=Layout(w…"
                        ],
                        "application/vnd.jupyter.widget-view+json": {
                            "version_major": 2,
                            "version_minor": 0,
                            "model_id": "cbed180b783e4127910ce583f5186f1b"
                        }
                    },
                    "metadata": {}
                },
                {
                    "output_type": "stream",
                    "name": "stdout",
                    "text": [
                        "Women_in_the_French_Revolution\n"
                    ]
                },
                {
                    "output_type": "display_data",
                    "data": {
                        "text/plain": [
                            "HBox(children=(HTML(value='Processing paragraphs'), FloatProgress(value=1.0, bar_style='info', layout=Layout(w…"
                        ],
                        "application/vnd.jupyter.widget-view+json": {
                            "version_major": 2,
                            "version_minor": 0,
                            "model_id": "7635e97959134fadbf6a9f7b76538ef0"
                        }
                    },
                    "metadata": {}
                },
                {
                    "output_type": "stream",
                    "name": "stdout",
                    "text": [
                        "token_num 3696624\n",
                        "total_pages 963\n"
                    ]
                },
                {
                    "output_type": "display_data",
                    "data": {
                        "text/plain": [
                            "HBox(children=(HTML(value='Processing titles'), FloatProgress(value=0.0, max=21.0), HTML(value='')))"
                        ],
                        "application/vnd.jupyter.widget-view+json": {
                            "version_major": 2,
                            "version_minor": 0,
                            "model_id": "5d390de6bad346ed908c74822641a580"
                        }
                    },
                    "metadata": {}
                },
                {
                    "output_type": "stream",
                    "name": "stdout",
                    "text": [
                        "Viking_Age\n"
                    ]
                },
                {
                    "output_type": "display_data",
                    "data": {
                        "text/plain": [
                            "HBox(children=(HTML(value='Processing paragraphs'), FloatProgress(value=1.0, bar_style='info', layout=Layout(w…"
                        ],
                        "application/vnd.jupyter.widget-view+json": {
                            "version_major": 2,
                            "version_minor": 0,
                            "model_id": "16d3cd2a1f76467cb3f5d8b1e5da393f"
                        }
                    },
                    "metadata": {}
                },
                {
                    "output_type": "stream",
                    "name": "stdout",
                    "text": [
                        "Scandinavia\n"
                    ]
                },
                {
                    "output_type": "display_data",
                    "data": {
                        "text/plain": [
                            "HBox(children=(HTML(value='Processing paragraphs'), FloatProgress(value=1.0, bar_style='info', layout=Layout(w…"
                        ],
                        "application/vnd.jupyter.widget-view+json": {
                            "version_major": 2,
                            "version_minor": 0,
                            "model_id": "64203b75756d4a5abb24f978f74c2b2b"
                        }
                    },
                    "metadata": {}
                },
                {
                    "output_type": "stream",
                    "name": "stdout",
                    "text": [
                        "Vikings\n"
                    ]
                },
                {
                    "output_type": "display_data",
                    "data": {
                        "text/plain": [
                            "HBox(children=(HTML(value='Processing paragraphs'), FloatProgress(value=1.0, bar_style='info', layout=Layout(w…"
                        ],
                        "application/vnd.jupyter.widget-view+json": {
                            "version_major": 2,
                            "version_minor": 0,
                            "model_id": "3c5d26c2dc584fe39440090c1f57a981"
                        }
                    },
                    "metadata": {}
                },
                {
                    "output_type": "stream",
                    "name": "stdout",
                    "text": [
                        "Ragnar_Lodbrok\n"
                    ]
                },
                {
                    "output_type": "display_data",
                    "data": {
                        "text/plain": [
                            "HBox(children=(HTML(value='Processing paragraphs'), FloatProgress(value=1.0, bar_style='info', layout=Layout(w…"
                        ],
                        "application/vnd.jupyter.widget-view+json": {
                            "version_major": 2,
                            "version_minor": 0,
                            "model_id": "47fc906468f74fb7b57682df18b8cc0a"
                        }
                    },
                    "metadata": {}
                },
                {
                    "output_type": "stream",
                    "name": "stdout",
                    "text": [
                        "Norsemen\n"
                    ]
                },
                {
                    "output_type": "display_data",
                    "data": {
                        "text/plain": [
                            "HBox(children=(HTML(value='Processing paragraphs'), FloatProgress(value=1.0, bar_style='info', layout=Layout(w…"
                        ],
                        "application/vnd.jupyter.widget-view+json": {
                            "version_major": 2,
                            "version_minor": 0,
                            "model_id": "9b25df94decd49a696d1b8c09368094d"
                        }
                    },
                    "metadata": {}
                },
                {
                    "output_type": "stream",
                    "name": "stdout",
                    "text": [
                        "Swedes_(Germanic_tribe)\n"
                    ]
                },
                {
                    "output_type": "display_data",
                    "data": {
                        "text/plain": [
                            "HBox(children=(HTML(value='Processing paragraphs'), FloatProgress(value=1.0, bar_style='info', layout=Layout(w…"
                        ],
                        "application/vnd.jupyter.widget-view+json": {
                            "version_major": 2,
                            "version_minor": 0,
                            "model_id": "8ebe33dc5fa54a10a74367fb119e1547"
                        }
                    },
                    "metadata": {}
                },
                {
                    "output_type": "stream",
                    "name": "stdout",
                    "text": [
                        "History_of_Sweden_(800–1521)\n"
                    ]
                },
                {
                    "output_type": "display_data",
                    "data": {
                        "text/plain": [
                            "HBox(children=(HTML(value='Processing paragraphs'), FloatProgress(value=1.0, bar_style='info', layout=Layout(w…"
                        ],
                        "application/vnd.jupyter.widget-view+json": {
                            "version_major": 2,
                            "version_minor": 0,
                            "model_id": "957ab974532f427980a3629eabe9f03c"
                        }
                    },
                    "metadata": {}
                },
                {
                    "output_type": "stream",
                    "name": "stdout",
                    "text": [
                        "Varangian_Guard\n"
                    ]
                },
                {
                    "output_type": "display_data",
                    "data": {
                        "text/plain": [
                            "HBox(children=(HTML(value='Processing paragraphs'), FloatProgress(value=1.0, bar_style='info', layout=Layout(w…"
                        ],
                        "application/vnd.jupyter.widget-view+json": {
                            "version_major": 2,
                            "version_minor": 0,
                            "model_id": "1c940a57a56f40a7a9714a5439de7e96"
                        }
                    },
                    "metadata": {}
                },
                {
                    "output_type": "stream",
                    "name": "stdout",
                    "text": [
                        "Danes_(Germanic_tribe)\n"
                    ]
                },
                {
                    "output_type": "display_data",
                    "data": {
                        "text/plain": [
                            "HBox(children=(HTML(value='Processing paragraphs'), FloatProgress(value=1.0, bar_style='info', layout=Layout(w…"
                        ],
                        "application/vnd.jupyter.widget-view+json": {
                            "version_major": 2,
                            "version_minor": 0,
                            "model_id": "2a101983f459495d966d76917c857803"
                        }
                    },
                    "metadata": {}
                },
                {
                    "output_type": "stream",
                    "name": "stdout",
                    "text": [
                        "History_of_Scandinavia\n"
                    ]
                },
                {
                    "output_type": "display_data",
                    "data": {
                        "text/plain": [
                            "HBox(children=(HTML(value='Processing paragraphs'), FloatProgress(value=1.0, bar_style='info', layout=Layout(w…"
                        ],
                        "application/vnd.jupyter.widget-view+json": {
                            "version_major": 2,
                            "version_minor": 0,
                            "model_id": "ea3791beb7aa4d48917e724781471135"
                        }
                    },
                    "metadata": {}
                },
                {
                    "output_type": "stream",
                    "name": "stdout",
                    "text": [
                        "Norse–Gaels\n"
                    ]
                },
                {
                    "output_type": "display_data",
                    "data": {
                        "text/plain": [
                            "HBox(children=(HTML(value='Processing paragraphs'), FloatProgress(value=1.0, bar_style='info', layout=Layout(w…"
                        ],
                        "application/vnd.jupyter.widget-view+json": {
                            "version_major": 2,
                            "version_minor": 0,
                            "model_id": "c830b04168654478a39d9cd16647ce1e"
                        }
                    },
                    "metadata": {}
                },
                {
                    "output_type": "stream",
                    "name": "stdout",
                    "text": [
                        "Medieval_Scandinavian_law\n"
                    ]
                },
                {
                    "output_type": "display_data",
                    "data": {
                        "text/plain": [
                            "HBox(children=(HTML(value='Processing paragraphs'), FloatProgress(value=1.0, bar_style='info', layout=Layout(w…"
                        ],
                        "application/vnd.jupyter.widget-view+json": {
                            "version_major": 2,
                            "version_minor": 0,
                            "model_id": "ff1f5ecdb1854665be5d8bc6be45bbda"
                        }
                    },
                    "metadata": {}
                },
                {
                    "output_type": "stream",
                    "name": "stdout",
                    "text": [
                        "List_of_runestones\n"
                    ]
                },
                {
                    "output_type": "display_data",
                    "data": {
                        "text/plain": [
                            "HBox(children=(HTML(value='Processing paragraphs'), FloatProgress(value=1.0, bar_style='info', layout=Layout(w…"
                        ],
                        "application/vnd.jupyter.widget-view+json": {
                            "version_major": 2,
                            "version_minor": 0,
                            "model_id": "0e6cbf38362d4ccc9e8d82e75377248e"
                        }
                    },
                    "metadata": {}
                },
                {
                    "output_type": "stream",
                    "name": "stdout",
                    "text": [
                        "Viking_expansion\n"
                    ]
                },
                {
                    "output_type": "display_data",
                    "data": {
                        "text/plain": [
                            "HBox(children=(HTML(value='Processing paragraphs'), FloatProgress(value=1.0, bar_style='info', layout=Layout(w…"
                        ],
                        "application/vnd.jupyter.widget-view+json": {
                            "version_major": 2,
                            "version_minor": 0,
                            "model_id": "bc63b53a512e41d7812843d902345077"
                        }
                    },
                    "metadata": {}
                },
                {
                    "output_type": "stream",
                    "name": "stdout",
                    "text": [
                        "Kylfings\n"
                    ]
                },
                {
                    "output_type": "display_data",
                    "data": {
                        "text/plain": [
                            "HBox(children=(HTML(value='Processing paragraphs'), FloatProgress(value=1.0, bar_style='info', layout=Layout(w…"
                        ],
                        "application/vnd.jupyter.widget-view+json": {
                            "version_major": 2,
                            "version_minor": 0,
                            "model_id": "d12f15561cc74164b386e4e32b5ba777"
                        }
                    },
                    "metadata": {}
                },
                {
                    "output_type": "stream",
                    "name": "stdout",
                    "text": [
                        "Rus'_people\n"
                    ]
                },
                {
                    "output_type": "display_data",
                    "data": {
                        "text/plain": [
                            "HBox(children=(HTML(value='Processing paragraphs'), FloatProgress(value=1.0, bar_style='info', layout=Layout(w…"
                        ],
                        "application/vnd.jupyter.widget-view+json": {
                            "version_major": 2,
                            "version_minor": 0,
                            "model_id": "03bc382ea6984ee899069db7e8f18b0b"
                        }
                    },
                    "metadata": {}
                },
                {
                    "output_type": "stream",
                    "name": "stdout",
                    "text": [
                        "Varangians\n"
                    ]
                },
                {
                    "output_type": "display_data",
                    "data": {
                        "text/plain": [
                            "HBox(children=(HTML(value='Processing paragraphs'), FloatProgress(value=1.0, bar_style='info', layout=Layout(w…"
                        ],
                        "application/vnd.jupyter.widget-view+json": {
                            "version_major": 2,
                            "version_minor": 0,
                            "model_id": "2529f62c27544426967995f66c57ac50"
                        }
                    },
                    "metadata": {}
                },
                {
                    "output_type": "stream",
                    "name": "stdout",
                    "text": [
                        "Viking_activity_in_the_British_Isles\n"
                    ]
                },
                {
                    "output_type": "display_data",
                    "data": {
                        "text/plain": [
                            "HBox(children=(HTML(value='Processing paragraphs'), FloatProgress(value=1.0, bar_style='info', layout=Layout(w…"
                        ],
                        "application/vnd.jupyter.widget-view+json": {
                            "version_major": 2,
                            "version_minor": 0,
                            "model_id": "51f8b3cf62af489b957014ce1491f503"
                        }
                    },
                    "metadata": {}
                },
                {
                    "output_type": "stream",
                    "name": "stdout",
                    "text": [
                        "Scandinavian_Scotland\n"
                    ]
                },
                {
                    "output_type": "display_data",
                    "data": {
                        "text/plain": [
                            "HBox(children=(HTML(value='Processing paragraphs'), FloatProgress(value=1.0, bar_style='info', layout=Layout(w…"
                        ],
                        "application/vnd.jupyter.widget-view+json": {
                            "version_major": 2,
                            "version_minor": 0,
                            "model_id": "8b1676cd483e44b191491697f5e1011d"
                        }
                    },
                    "metadata": {}
                },
                {
                    "output_type": "stream",
                    "name": "stdout",
                    "text": [
                        "North_Germanic_peoples\n"
                    ]
                },
                {
                    "output_type": "display_data",
                    "data": {
                        "text/plain": [
                            "HBox(children=(HTML(value='Processing paragraphs'), FloatProgress(value=1.0, bar_style='info', layout=Layout(w…"
                        ],
                        "application/vnd.jupyter.widget-view+json": {
                            "version_major": 2,
                            "version_minor": 0,
                            "model_id": "66105a9616504facbcd3cbd0034dff83"
                        }
                    },
                    "metadata": {}
                },
                {
                    "output_type": "stream",
                    "name": "stdout",
                    "text": [
                        "Viking_coinage\n"
                    ]
                },
                {
                    "output_type": "display_data",
                    "data": {
                        "text/plain": [
                            "HBox(children=(HTML(value='Processing paragraphs'), FloatProgress(value=1.0, bar_style='info', layout=Layout(w…"
                        ],
                        "application/vnd.jupyter.widget-view+json": {
                            "version_major": 2,
                            "version_minor": 0,
                            "model_id": "cc597deb3a5447a08c44e19ab91f8861"
                        }
                    },
                    "metadata": {}
                },
                {
                    "output_type": "stream",
                    "name": "stdout",
                    "text": [
                        "token_num 3793222\n",
                        "total_pages 984\n"
                    ]
                },
                {
                    "output_type": "display_data",
                    "data": {
                        "text/plain": [
                            "HBox(children=(HTML(value='Processing titles'), FloatProgress(value=0.0, max=21.0), HTML(value='')))"
                        ],
                        "application/vnd.jupyter.widget-view+json": {
                            "version_major": 2,
                            "version_minor": 0,
                            "model_id": "4872c042c7f04e19994758a9b6aefc44"
                        }
                    },
                    "metadata": {}
                },
                {
                    "output_type": "stream",
                    "name": "stdout",
                    "text": [
                        "Ancient_Greece\n"
                    ]
                },
                {
                    "output_type": "display_data",
                    "data": {
                        "text/plain": [
                            "HBox(children=(HTML(value='Processing paragraphs'), FloatProgress(value=1.0, bar_style='info', layout=Layout(w…"
                        ],
                        "application/vnd.jupyter.widget-view+json": {
                            "version_major": 2,
                            "version_minor": 0,
                            "model_id": "02e918cf6d7d4430ba1cb17d5182dd3c"
                        }
                    },
                    "metadata": {}
                },
                {
                    "output_type": "stream",
                    "name": "stdout",
                    "text": [
                        "Delian_League\n"
                    ]
                },
                {
                    "output_type": "display_data",
                    "data": {
                        "text/plain": [
                            "HBox(children=(HTML(value='Processing paragraphs'), FloatProgress(value=1.0, bar_style='info', layout=Layout(w…"
                        ],
                        "application/vnd.jupyter.widget-view+json": {
                            "version_major": 2,
                            "version_minor": 0,
                            "model_id": "d1408d1e9c3a4c76b790bd691000a3ca"
                        }
                    },
                    "metadata": {}
                },
                {
                    "output_type": "stream",
                    "name": "stdout",
                    "text": [
                        "Peloponnesian_War\n"
                    ]
                },
                {
                    "output_type": "display_data",
                    "data": {
                        "text/plain": [
                            "HBox(children=(HTML(value='Processing paragraphs'), FloatProgress(value=1.0, bar_style='info', layout=Layout(w…"
                        ],
                        "application/vnd.jupyter.widget-view+json": {
                            "version_major": 2,
                            "version_minor": 0,
                            "model_id": "a825605c19554037a468ce6e3dbf8fa6"
                        }
                    },
                    "metadata": {}
                },
                {
                    "output_type": "stream",
                    "name": "stdout",
                    "text": [
                        "5th_century_BC\n"
                    ]
                },
                {
                    "output_type": "display_data",
                    "data": {
                        "text/plain": [
                            "HBox(children=(HTML(value='Processing paragraphs'), FloatProgress(value=1.0, bar_style='info', layout=Layout(w…"
                        ],
                        "application/vnd.jupyter.widget-view+json": {
                            "version_major": 2,
                            "version_minor": 0,
                            "model_id": "0b980a7a1b0d41729c70f66f79f2717b"
                        }
                    },
                    "metadata": {}
                },
                {
                    "output_type": "stream",
                    "name": "stdout",
                    "text": [
                        "Macedonia_(ancient_kingdom)\n"
                    ]
                },
                {
                    "output_type": "display_data",
                    "data": {
                        "text/plain": [
                            "HBox(children=(HTML(value='Processing paragraphs'), FloatProgress(value=1.0, bar_style='info', layout=Layout(w…"
                        ],
                        "application/vnd.jupyter.widget-view+json": {
                            "version_major": 2,
                            "version_minor": 0,
                            "model_id": "6d302da1b771452590e417a9b61cfe66"
                        }
                    },
                    "metadata": {}
                },
                {
                    "output_type": "stream",
                    "name": "stdout",
                    "text": [
                        "450s_BC\n"
                    ]
                },
                {
                    "output_type": "display_data",
                    "data": {
                        "text/plain": [
                            "HBox(children=(HTML(value='Processing paragraphs'), FloatProgress(value=1.0, bar_style='info', layout=Layout(w…"
                        ],
                        "application/vnd.jupyter.widget-view+json": {
                            "version_major": 2,
                            "version_minor": 0,
                            "model_id": "c2a93bbc1a0844dbbef4bced477a5920"
                        }
                    },
                    "metadata": {}
                },
                {
                    "output_type": "stream",
                    "name": "stdout",
                    "text": [
                        "Lysander\n"
                    ]
                },
                {
                    "output_type": "display_data",
                    "data": {
                        "text/plain": [
                            "HBox(children=(HTML(value='Processing paragraphs'), FloatProgress(value=1.0, bar_style='info', layout=Layout(w…"
                        ],
                        "application/vnd.jupyter.widget-view+json": {
                            "version_major": 2,
                            "version_minor": 0,
                            "model_id": "3e949d02be1e40bc8755e82cf187939a"
                        }
                    },
                    "metadata": {}
                },
                {
                    "output_type": "stream",
                    "name": "stdout",
                    "text": [
                        "Polis\n"
                    ]
                },
                {
                    "output_type": "display_data",
                    "data": {
                        "text/plain": [
                            "HBox(children=(HTML(value='Processing paragraphs'), FloatProgress(value=1.0, bar_style='info', layout=Layout(w…"
                        ],
                        "application/vnd.jupyter.widget-view+json": {
                            "version_major": 2,
                            "version_minor": 0,
                            "model_id": "067f17f485af4372a487d284c611f269"
                        }
                    },
                    "metadata": {}
                },
                {
                    "output_type": "stream",
                    "name": "stdout",
                    "text": [
                        "Spartan_hegemony\n"
                    ]
                },
                {
                    "output_type": "display_data",
                    "data": {
                        "text/plain": [
                            "HBox(children=(HTML(value='Processing paragraphs'), FloatProgress(value=1.0, bar_style='info', layout=Layout(w…"
                        ],
                        "application/vnd.jupyter.widget-view+json": {
                            "version_major": 2,
                            "version_minor": 0,
                            "model_id": "12d4d92a0cf64b8795410a3de449f080"
                        }
                    },
                    "metadata": {}
                },
                {
                    "output_type": "stream",
                    "name": "stdout",
                    "text": [
                        "Classical_antiquity\n"
                    ]
                },
                {
                    "output_type": "display_data",
                    "data": {
                        "text/plain": [
                            "HBox(children=(HTML(value='Processing paragraphs'), FloatProgress(value=1.0, bar_style='info', layout=Layout(w…"
                        ],
                        "application/vnd.jupyter.widget-view+json": {
                            "version_major": 2,
                            "version_minor": 0,
                            "model_id": "67f73f9fdfef409b94b9e7b4c656de8c"
                        }
                    },
                    "metadata": {}
                },
                {
                    "output_type": "stream",
                    "name": "stdout",
                    "text": [
                        "Sestos\n"
                    ]
                },
                {
                    "output_type": "display_data",
                    "data": {
                        "text/plain": [
                            "HBox(children=(HTML(value='Processing paragraphs'), FloatProgress(value=1.0, bar_style='info', layout=Layout(w…"
                        ],
                        "application/vnd.jupyter.widget-view+json": {
                            "version_major": 2,
                            "version_minor": 0,
                            "model_id": "682b711e17f442afba84fcb280a5e291"
                        }
                    },
                    "metadata": {}
                },
                {
                    "output_type": "stream",
                    "name": "stdout",
                    "text": [
                        "Hellenistic_period\n"
                    ]
                },
                {
                    "output_type": "display_data",
                    "data": {
                        "text/plain": [
                            "HBox(children=(HTML(value='Processing paragraphs'), FloatProgress(value=1.0, bar_style='info', layout=Layout(w…"
                        ],
                        "application/vnd.jupyter.widget-view+json": {
                            "version_major": 2,
                            "version_minor": 0,
                            "model_id": "d40695decba34bd8a73460e75ff18274"
                        }
                    },
                    "metadata": {}
                },
                {
                    "output_type": "stream",
                    "name": "stdout",
                    "text": [
                        "History_of_Greece\n"
                    ]
                },
                {
                    "output_type": "display_data",
                    "data": {
                        "text/plain": [
                            "HBox(children=(HTML(value='Processing paragraphs'), FloatProgress(value=1.0, bar_style='info', layout=Layout(w…"
                        ],
                        "application/vnd.jupyter.widget-view+json": {
                            "version_major": 2,
                            "version_minor": 0,
                            "model_id": "0cdd4c3864f74463b617ea77d342da16"
                        }
                    },
                    "metadata": {}
                },
                {
                    "output_type": "stream",
                    "name": "stdout",
                    "text": [
                        "Hellenistic_Greece\n"
                    ]
                },
                {
                    "output_type": "display_data",
                    "data": {
                        "text/plain": [
                            "HBox(children=(HTML(value='Processing paragraphs'), FloatProgress(value=1.0, bar_style='info', layout=Layout(w…"
                        ],
                        "application/vnd.jupyter.widget-view+json": {
                            "version_major": 2,
                            "version_minor": 0,
                            "model_id": "fb2e946f2c984753911ea6a044ad5150"
                        }
                    },
                    "metadata": {}
                },
                {
                    "output_type": "stream",
                    "name": "stdout",
                    "text": [
                        "Areus_I\n"
                    ]
                },
                {
                    "output_type": "display_data",
                    "data": {
                        "text/plain": [
                            "HBox(children=(HTML(value='Processing paragraphs'), FloatProgress(value=1.0, bar_style='info', layout=Layout(w…"
                        ],
                        "application/vnd.jupyter.widget-view+json": {
                            "version_major": 2,
                            "version_minor": 0,
                            "model_id": "4ba3f671697d4d7eb624d116f5a91451"
                        }
                    },
                    "metadata": {}
                },
                {
                    "output_type": "stream",
                    "name": "stdout",
                    "text": [
                        "Ancient_Greek_warfare\n"
                    ]
                },
                {
                    "output_type": "display_data",
                    "data": {
                        "text/plain": [
                            "HBox(children=(HTML(value='Processing paragraphs'), FloatProgress(value=1.0, bar_style='info', layout=Layout(w…"
                        ],
                        "application/vnd.jupyter.widget-view+json": {
                            "version_major": 2,
                            "version_minor": 0,
                            "model_id": "3f3e6f533f8244f4aab36f9ef00d95b8"
                        }
                    },
                    "metadata": {}
                },
                {
                    "output_type": "stream",
                    "name": "stdout",
                    "text": [
                        "Common_Peace\n"
                    ]
                },
                {
                    "output_type": "display_data",
                    "data": {
                        "text/plain": [
                            "HBox(children=(HTML(value='Processing paragraphs'), FloatProgress(value=1.0, bar_style='info', layout=Layout(w…"
                        ],
                        "application/vnd.jupyter.widget-view+json": {
                            "version_major": 2,
                            "version_minor": 0,
                            "model_id": "329431b19e98435ebd105acec201cb79"
                        }
                    },
                    "metadata": {}
                },
                {
                    "output_type": "stream",
                    "name": "stdout",
                    "text": [
                        "Classical_Greece\n"
                    ]
                },
                {
                    "output_type": "display_data",
                    "data": {
                        "text/plain": [
                            "HBox(children=(HTML(value='Processing paragraphs'), FloatProgress(value=1.0, bar_style='info', layout=Layout(w…"
                        ],
                        "application/vnd.jupyter.widget-view+json": {
                            "version_major": 2,
                            "version_minor": 0,
                            "model_id": "c261b2c43183456f848943d6dbb62ed3"
                        }
                    },
                    "metadata": {}
                },
                {
                    "output_type": "stream",
                    "name": "stdout",
                    "text": [
                        "History_of_Sparta\n"
                    ]
                },
                {
                    "output_type": "display_data",
                    "data": {
                        "text/plain": [
                            "HBox(children=(HTML(value='Processing paragraphs'), FloatProgress(value=1.0, bar_style='info', layout=Layout(w…"
                        ],
                        "application/vnd.jupyter.widget-view+json": {
                            "version_major": 2,
                            "version_minor": 0,
                            "model_id": "51ad20e7e7bf461da5c76314b82fe3da"
                        }
                    },
                    "metadata": {}
                },
                {
                    "output_type": "stream",
                    "name": "stdout",
                    "text": [
                        "Outline_of_ancient_Greece\n"
                    ]
                },
                {
                    "output_type": "display_data",
                    "data": {
                        "text/plain": [
                            "HBox(children=(HTML(value='Processing paragraphs'), FloatProgress(value=1.0, bar_style='info', layout=Layout(w…"
                        ],
                        "application/vnd.jupyter.widget-view+json": {
                            "version_major": 2,
                            "version_minor": 0,
                            "model_id": "de5928d758774320b53ff904e3313ca1"
                        }
                    },
                    "metadata": {}
                },
                {
                    "output_type": "stream",
                    "name": "stdout",
                    "text": [
                        "History_of_Macedonia_(ancient_kingdom)\n"
                    ]
                },
                {
                    "output_type": "display_data",
                    "data": {
                        "text/plain": [
                            "HBox(children=(HTML(value='Processing paragraphs'), FloatProgress(value=1.0, bar_style='info', layout=Layout(w…"
                        ],
                        "application/vnd.jupyter.widget-view+json": {
                            "version_major": 2,
                            "version_minor": 0,
                            "model_id": "630cdda4c41443b4ba42b6106ebec268"
                        }
                    },
                    "metadata": {}
                },
                {
                    "output_type": "stream",
                    "name": "stdout",
                    "text": [
                        "token_num 3917788\n",
                        "total_pages 1005\n"
                    ]
                },
                {
                    "output_type": "display_data",
                    "data": {
                        "text/plain": [
                            "HBox(children=(HTML(value='Processing titles'), FloatProgress(value=0.0, max=21.0), HTML(value='')))"
                        ],
                        "application/vnd.jupyter.widget-view+json": {
                            "version_major": 2,
                            "version_minor": 0,
                            "model_id": "56eed206629f445da2ea3f7e0e1855c0"
                        }
                    },
                    "metadata": {}
                },
                {
                    "output_type": "stream",
                    "name": "stdout",
                    "text": [
                        "Second_Battle_of_the_Piave_River\n"
                    ]
                },
                {
                    "output_type": "display_data",
                    "data": {
                        "text/plain": [
                            "HBox(children=(HTML(value='Processing paragraphs'), FloatProgress(value=1.0, bar_style='info', layout=Layout(w…"
                        ],
                        "application/vnd.jupyter.widget-view+json": {
                            "version_major": 2,
                            "version_minor": 0,
                            "model_id": "1c55e957fcde47e68ef59c1ce14e6142"
                        }
                    },
                    "metadata": {}
                },
                {
                    "output_type": "stream",
                    "name": "stdout",
                    "text": [
                        "Franz_Conrad_von_Hötzendorf\n"
                    ]
                },
                {
                    "output_type": "display_data",
                    "data": {
                        "text/plain": [
                            "HBox(children=(HTML(value='Processing paragraphs'), FloatProgress(value=1.0, bar_style='info', layout=Layout(w…"
                        ],
                        "application/vnd.jupyter.widget-view+json": {
                            "version_major": 2,
                            "version_minor": 0,
                            "model_id": "cc43158785074b838d5f4e47b4c07819"
                        }
                    },
                    "metadata": {}
                },
                {
                    "output_type": "stream",
                    "name": "stdout",
                    "text": [
                        "Battle_of_Caporetto\n"
                    ]
                },
                {
                    "output_type": "display_data",
                    "data": {
                        "text/plain": [
                            "HBox(children=(HTML(value='Processing paragraphs'), FloatProgress(value=1.0, bar_style='info', layout=Layout(w…"
                        ],
                        "application/vnd.jupyter.widget-view+json": {
                            "version_major": 2,
                            "version_minor": 0,
                            "model_id": "3b9b6d21d4d44f0d87dc97778106fd6e"
                        }
                    },
                    "metadata": {}
                },
                {
                    "output_type": "stream",
                    "name": "stdout",
                    "text": [
                        "Svetozar_Boroević\n"
                    ]
                },
                {
                    "output_type": "display_data",
                    "data": {
                        "text/plain": [
                            "HBox(children=(HTML(value='Processing paragraphs'), FloatProgress(value=1.0, bar_style='info', layout=Layout(w…"
                        ],
                        "application/vnd.jupyter.widget-view+json": {
                            "version_major": 2,
                            "version_minor": 0,
                            "model_id": "12a2983314e6460c906aaa2977263410"
                        }
                    },
                    "metadata": {}
                },
                {
                    "output_type": "stream",
                    "name": "stdout",
                    "text": [
                        "Italian_front_(World_War_I)\n"
                    ]
                },
                {
                    "output_type": "display_data",
                    "data": {
                        "text/plain": [
                            "HBox(children=(HTML(value='Processing paragraphs'), FloatProgress(value=1.0, bar_style='info', layout=Layout(w…"
                        ],
                        "application/vnd.jupyter.widget-view+json": {
                            "version_major": 2,
                            "version_minor": 0,
                            "model_id": "21b775a5035042f0a24b8fb8836ccdd4"
                        }
                    },
                    "metadata": {}
                },
                {
                    "output_type": "stream",
                    "name": "stdout",
                    "text": [
                        "Otto_von_Below\n"
                    ]
                },
                {
                    "output_type": "display_data",
                    "data": {
                        "text/plain": [
                            "HBox(children=(HTML(value='Processing paragraphs'), FloatProgress(value=1.0, bar_style='info', layout=Layout(w…"
                        ],
                        "application/vnd.jupyter.widget-view+json": {
                            "version_major": 2,
                            "version_minor": 0,
                            "model_id": "b9d04103dc7f49ad89e869a6c8e2221c"
                        }
                    },
                    "metadata": {}
                },
                {
                    "output_type": "stream",
                    "name": "stdout",
                    "text": [
                        "Battle_of_Vittorio_Veneto\n"
                    ]
                },
                {
                    "output_type": "display_data",
                    "data": {
                        "text/plain": [
                            "HBox(children=(HTML(value='Processing paragraphs'), FloatProgress(value=1.0, bar_style='info', layout=Layout(w…"
                        ],
                        "application/vnd.jupyter.widget-view+json": {
                            "version_major": 2,
                            "version_minor": 0,
                            "model_id": "25d8fa7cd3f849bf9181c1d5e38d0983"
                        }
                    },
                    "metadata": {}
                },
                {
                    "output_type": "stream",
                    "name": "stdout",
                    "text": [
                        "First_Battle_of_the_Isonzo\n"
                    ]
                },
                {
                    "output_type": "display_data",
                    "data": {
                        "text/plain": [
                            "HBox(children=(HTML(value='Processing paragraphs'), FloatProgress(value=1.0, bar_style='info', layout=Layout(w…"
                        ],
                        "application/vnd.jupyter.widget-view+json": {
                            "version_major": 2,
                            "version_minor": 0,
                            "model_id": "b85fa3111c6746768c5a5e969528021d"
                        }
                    },
                    "metadata": {}
                },
                {
                    "output_type": "stream",
                    "name": "stdout",
                    "text": [
                        "Third_Battle_of_the_Isonzo\n"
                    ]
                },
                {
                    "output_type": "display_data",
                    "data": {
                        "text/plain": [
                            "HBox(children=(HTML(value='Processing paragraphs'), FloatProgress(value=1.0, bar_style='info', layout=Layout(w…"
                        ],
                        "application/vnd.jupyter.widget-view+json": {
                            "version_major": 2,
                            "version_minor": 0,
                            "model_id": "6a9c4f268727457fbe1ae575825a38b0"
                        }
                    },
                    "metadata": {}
                },
                {
                    "output_type": "stream",
                    "name": "stdout",
                    "text": [
                        "Battle_of_Limanowa\n"
                    ]
                },
                {
                    "output_type": "display_data",
                    "data": {
                        "text/plain": [
                            "HBox(children=(HTML(value='Processing paragraphs'), FloatProgress(value=1.0, bar_style='info', layout=Layout(w…"
                        ],
                        "application/vnd.jupyter.widget-view+json": {
                            "version_major": 2,
                            "version_minor": 0,
                            "model_id": "2e1938d537ee47059b17368323eeaa1b"
                        }
                    },
                    "metadata": {}
                },
                {
                    "output_type": "stream",
                    "name": "stdout",
                    "text": [
                        "Arthur_Arz_von_Straußenburg\n"
                    ]
                },
                {
                    "output_type": "display_data",
                    "data": {
                        "text/plain": [
                            "HBox(children=(HTML(value='Processing paragraphs'), FloatProgress(value=1.0, bar_style='info', layout=Layout(w…"
                        ],
                        "application/vnd.jupyter.widget-view+json": {
                            "version_major": 2,
                            "version_minor": 0,
                            "model_id": "10055837d4304949b5fd800cc8b2fcbc"
                        }
                    },
                    "metadata": {}
                },
                {
                    "output_type": "stream",
                    "name": "stdout",
                    "text": [
                        "Military_history_of_Italy_during_World_War_I\n"
                    ]
                },
                {
                    "output_type": "display_data",
                    "data": {
                        "text/plain": [
                            "HBox(children=(HTML(value='Processing paragraphs'), FloatProgress(value=1.0, bar_style='info', layout=Layout(w…"
                        ],
                        "application/vnd.jupyter.widget-view+json": {
                            "version_major": 2,
                            "version_minor": 0,
                            "model_id": "3d314d5aa6234177983fecb0eec2edd7"
                        }
                    },
                    "metadata": {}
                },
                {
                    "output_type": "stream",
                    "name": "stdout",
                    "text": [
                        "Viktor_Graf_von_Scheuchenstuel\n"
                    ]
                },
                {
                    "output_type": "display_data",
                    "data": {
                        "text/plain": [
                            "HBox(children=(HTML(value='Processing paragraphs'), FloatProgress(value=1.0, bar_style='info', layout=Layout(w…"
                        ],
                        "application/vnd.jupyter.widget-view+json": {
                            "version_major": 2,
                            "version_minor": 0,
                            "model_id": "6ad4ca149606465caa07bfbb735a0202"
                        }
                    },
                    "metadata": {}
                },
                {
                    "output_type": "stream",
                    "name": "stdout",
                    "text": [
                        "Battle_of_Monte_Grappa\n"
                    ]
                },
                {
                    "output_type": "display_data",
                    "data": {
                        "text/plain": [
                            "HBox(children=(HTML(value='Processing paragraphs'), FloatProgress(value=1.0, bar_style='info', layout=Layout(w…"
                        ],
                        "application/vnd.jupyter.widget-view+json": {
                            "version_major": 2,
                            "version_minor": 0,
                            "model_id": "e18a01d4786748c79126ff4245ef7301"
                        }
                    },
                    "metadata": {}
                },
                {
                    "output_type": "stream",
                    "name": "stdout",
                    "text": [
                        "1917_in_Italy\n"
                    ]
                },
                {
                    "output_type": "display_data",
                    "data": {
                        "text/plain": [
                            "HBox(children=(HTML(value='Processing paragraphs'), FloatProgress(value=1.0, bar_style='info', layout=Layout(w…"
                        ],
                        "application/vnd.jupyter.widget-view+json": {
                            "version_major": 2,
                            "version_minor": 0,
                            "model_id": "e3a0c50c657743859e93d8aba10be28d"
                        }
                    },
                    "metadata": {}
                },
                {
                    "output_type": "stream",
                    "name": "stdout",
                    "text": [
                        "1918_in_Italy\n"
                    ]
                },
                {
                    "output_type": "display_data",
                    "data": {
                        "text/plain": [
                            "HBox(children=(HTML(value='Processing paragraphs'), FloatProgress(value=1.0, bar_style='info', layout=Layout(w…"
                        ],
                        "application/vnd.jupyter.widget-view+json": {
                            "version_major": 2,
                            "version_minor": 0,
                            "model_id": "0baab0ab648c48238e77378800c10dcc"
                        }
                    },
                    "metadata": {}
                },
                {
                    "output_type": "stream",
                    "name": "stdout",
                    "text": [
                        "First_Battle_of_Monte_Grappa\n"
                    ]
                },
                {
                    "output_type": "display_data",
                    "data": {
                        "text/plain": [
                            "HBox(children=(HTML(value='Processing paragraphs'), FloatProgress(value=1.0, bar_style='info', layout=Layout(w…"
                        ],
                        "application/vnd.jupyter.widget-view+json": {
                            "version_major": 2,
                            "version_minor": 0,
                            "model_id": "421fc7a32fac43bc961f2476457b1dc5"
                        }
                    },
                    "metadata": {}
                },
                {
                    "output_type": "stream",
                    "name": "stdout",
                    "text": [
                        "5th_Army_(Austria-Hungary)\n"
                    ]
                },
                {
                    "output_type": "display_data",
                    "data": {
                        "text/plain": [
                            "HBox(children=(HTML(value='Processing paragraphs'), FloatProgress(value=1.0, bar_style='info', layout=Layout(w…"
                        ],
                        "application/vnd.jupyter.widget-view+json": {
                            "version_major": 2,
                            "version_minor": 0,
                            "model_id": "c1624ddabb014cd9b86715327e62d981"
                        }
                    },
                    "metadata": {}
                },
                {
                    "output_type": "stream",
                    "name": "stdout",
                    "text": [
                        "3rd_Army_(Austria-Hungary)\n"
                    ]
                },
                {
                    "output_type": "display_data",
                    "data": {
                        "text/plain": [
                            "HBox(children=(HTML(value='Processing paragraphs'), FloatProgress(value=1.0, bar_style='info', layout=Layout(w…"
                        ],
                        "application/vnd.jupyter.widget-view+json": {
                            "version_major": 2,
                            "version_minor": 0,
                            "model_id": "f9e39314075244009ac9d105b2261295"
                        }
                    },
                    "metadata": {}
                },
                {
                    "output_type": "stream",
                    "name": "stdout",
                    "text": [
                        "Balkanstreitkräfte\n"
                    ]
                },
                {
                    "output_type": "display_data",
                    "data": {
                        "text/plain": [
                            "HBox(children=(HTML(value='Processing paragraphs'), FloatProgress(value=1.0, bar_style='info', layout=Layout(w…"
                        ],
                        "application/vnd.jupyter.widget-view+json": {
                            "version_major": 2,
                            "version_minor": 0,
                            "model_id": "e3a20d47141c4cac98605f40a9bd9cd5"
                        }
                    },
                    "metadata": {}
                },
                {
                    "output_type": "stream",
                    "name": "stdout",
                    "text": [
                        "Ludwig_Goiginger\n"
                    ]
                },
                {
                    "output_type": "display_data",
                    "data": {
                        "text/plain": [
                            "HBox(children=(HTML(value='Processing paragraphs'), FloatProgress(value=1.0, bar_style='info', layout=Layout(w…"
                        ],
                        "application/vnd.jupyter.widget-view+json": {
                            "version_major": 2,
                            "version_minor": 0,
                            "model_id": "ad55538a1dfb45d282ad4b9096878ac2"
                        }
                    },
                    "metadata": {}
                },
                {
                    "output_type": "stream",
                    "name": "stdout",
                    "text": [
                        "token_num 3946210\n",
                        "total_pages 1026\n"
                    ]
                }
            ],
            "metadata": {}
        },
        {
            "cell_type": "code",
            "execution_count": null,
            "source": [],
            "outputs": [],
            "metadata": {}
        },
        {
            "cell_type": "code",
            "execution_count": 47,
            "source": [
                "title = \"La_presa_di_Roma\"\r\n",
                "page = get_wikipedia_page(title)\r\n",
                "page_id, page_wikidata_id = get_wikidata_info(title)\r\n",
                "page_historical = is_historical(\r\n",
                "                page_wikidata_id, title\r\n",
                "            )"
            ],
            "outputs": [],
            "metadata": {}
        },
        {
            "cell_type": "code",
            "execution_count": null,
            "source": [
                "process_page(page, \"Extraterrestrial_sky\", \"1\", \"2\", 1)"
            ],
            "outputs": [],
            "metadata": {}
        },
        {
            "cell_type": "code",
            "execution_count": 48,
            "source": [
                "nlp = spacy.load(\"en_core_web_sm\")\r\n",
                "    \r\n",
                "results = []\r\n",
                "total_tokens = 0\r\n",
                "\r\n",
                "html = page[\"html\"]\r\n",
                "soup = BeautifulSoup(html, \"html.parser\")\r\n",
                "\r\n",
                "paragraphs = soup.find_all(\"p\")\r\n",
                "preprocessed_paragraphs = []\r\n",
                "\r\n",
                "for paragraph in tqdm(\r\n",
                "    paragraphs,\r\n",
                "    desc=\"Processing paragraphs\",\r\n",
                "    leave=False\r\n",
                "):\r\n",
                "    if (paragraph.has_attr(\"class\")) \\\r\n",
                "        and (\"mw-empty-elt\" in paragraph.get(\"class\")):\r\n",
                "        continue\r\n",
                "    \r\n",
                "    paragraph = preprocess_paragraph(paragraph)\r\n",
                "    preprocessed_paragraphs.append(paragraph)"
            ],
            "outputs": [
                {
                    "output_type": "stream",
                    "name": "stderr",
                    "text": []
                }
            ],
            "metadata": {}
        },
        {
            "cell_type": "code",
            "execution_count": 52,
            "source": [
                "par = preprocessed_paragraphs[6]\r\n",
                "par"
            ],
            "outputs": [
                {
                    "output_type": "execute_result",
                    "data": {
                        "text/plain": [
                            "<p>1. Studio set representing a city gate and a statue. A general enters from the right on horseback with an escort of two officers. He dismounts and salutes two waiting officers. He is blindfolded and taken into a carriage which enters the gate.\n",
                            "@media all and (max-width:720px){.mw-parser-output .content .thumb&gt;div:not(.thumbinner){display:flex;justify-content:center;flex-wrap:wrap;align-content:flex-start;flex-direction:column}}body.skin-vector .mw-parser-output div.thumb&gt;div:not(.thumbinner){font-size:94%;text-align:center;overflow:hidden;min-width:100px}body.skin-minerva .mw-parser-output div.thumb&gt;div:not(.thumbinner){margin:0 auto;max-width:100%!important}\n",
                            "</p>"
                        ]
                    },
                    "metadata": {},
                    "execution_count": 52
                }
            ],
            "metadata": {}
        },
        {
            "cell_type": "code",
            "execution_count": 53,
            "source": [
                "par.text"
            ],
            "outputs": [
                {
                    "output_type": "execute_result",
                    "data": {
                        "text/plain": [
                            "'1. Studio set representing a city gate and a statue. A general enters from the right on horseback with an escort of two officers. He dismounts and salutes two waiting officers. He is blindfolded and taken into a carriage which enters the gate.\\n\\n'"
                        ]
                    },
                    "metadata": {},
                    "execution_count": 53
                }
            ],
            "metadata": {}
        },
        {
            "cell_type": "code",
            "execution_count": 54,
            "source": [
                "paragraph = par\r\n",
                "\r\n",
                "result = {\r\n",
                "    \"title\": title,\r\n",
                "    \"historical\": page_historical,\r\n",
                "    \"page_id\": page_id,\r\n",
                "    \"wikidata_id\": page_wikidata_id,\r\n",
                "    \"clean_content\": \"\",\r\n",
                "    \"entities\": [],\r\n",
                "    \"res_tokenized\": []\r\n",
                "}\r\n",
                "\r\n",
                "char_idx = 0\r\n",
                "word_idx = 0\r\n",
                "token_idx = 0\r\n",
                "\r\n",
                "res_tokenized = []\r\n",
                "\r\n",
                "for content in paragraph.contents:\r\n",
                "    if content.name == \"a\":\r\n",
                "        entity = dict()\r\n",
                "        raw_text = content.get_text()\r\n",
                "        text = content.get_text().strip()\r\n",
                "        title = content.get(\"title\")\r\n",
                "        words_length = len(text.split(\" \"))\r\n",
                "        tokenized_text = nlp(text)\r\n",
                "        tokens_length = len(tokenized_text)\r\n",
                "\r\n",
                "        res_tokenized.append(text)\r\n",
                "\r\n",
                "        if \"(page does not exist)\" in title:\r\n",
                "            char_idx += len(raw_text)\r\n",
                "            word_idx += words_length\r\n",
                "            token_idx += tokens_length\r\n",
                "            continue\r\n",
                "\r\n",
                "        try:\r\n",
                "            # entity_page_id, entity_wikidata_id = get_wikidata_info(\r\n",
                "            #     title\r\n",
                "            # )\r\n",
                "            entity_page_id, entity_wikidata_id = \"dummy\", \"dummy\"\r\n",
                "        except NoPageException:\r\n",
                "            char_idx += len(raw_text)\r\n",
                "            word_idx += words_length\r\n",
                "            token_idx += tokens_length\r\n",
                "            continue\r\n",
                "\r\n",
                "        entity[\"surface_form\"] = raw_text\r\n",
                "        entity[\"page_title\"] = title\r\n",
                "        entity[\"page_id\"] = entity_page_id\r\n",
                "        entity[\"wikidata_id\"] = entity_wikidata_id\r\n",
                "        entity[\"char_offset\"] = char_idx\r\n",
                "        entity[\"char_length\"] = len(raw_text)\r\n",
                "        entity[\"word_offset\"] = word_idx\r\n",
                "        entity[\"words_length\"] = words_length\r\n",
                "        entity[\"token_offset\"] = token_idx\r\n",
                "        entity[\"tokens_length\"] = tokens_length\r\n",
                "        #entity[\"historical\"] = is_historical(\r\n",
                "        #    entity_wikidata_id, title\r\n",
                "        #)\r\n",
                "        entity[\"historical\"] = \"dummy\"\r\n",
                "        char_idx += len(raw_text)\r\n",
                "        word_idx += words_length\r\n",
                "        token_idx += tokens_length\r\n",
                "        result[\"entities\"].append(entity)\r\n",
                "    else:\r\n",
                "        raw_text = str(content)\r\n",
                "        text = raw_text.strip()\r\n",
                "\r\n",
                "        if \".mw-parser-output\" in text:\r\n",
                "            text = \"\"\r\n",
                "\r\n",
                "        tokenized_text = nlp(text)\r\n",
                "        tokenized_raw_text = nlp(raw_text)\r\n",
                "        spl = text.split(\" \")\r\n",
                "        if spl[0] == \"\":\r\n",
                "            words_length = 0\r\n",
                "        else:\r\n",
                "            words_length = len(spl)\r\n",
                "\r\n",
                "        if len(text) > 0:\r\n",
                "            res_tokenized.append(text)\r\n",
                "\r\n",
                "        tokens_length = len(tokenized_text)\r\n",
                "\r\n",
                "        try:\r\n",
                "            print(content.name)\r\n",
                "        except:\r\n",
                "            print(\"error\")\r\n",
                "\r\n",
                "        char_idx += len(raw_text)\r\n",
                "        word_idx += words_length\r\n",
                "        token_idx += tokens_length\r\n",
                "\r\n",
                "result[\"clean_content\"] = \" \".join(res_tokenized)"
            ],
            "outputs": [
                {
                    "output_type": "stream",
                    "name": "stdout",
                    "text": [
                        "None\n",
                        "None\n",
                        "None\n"
                    ]
                }
            ],
            "metadata": {}
        },
        {
            "cell_type": "code",
            "execution_count": 55,
            "source": [
                "res_tokenized"
            ],
            "outputs": [
                {
                    "output_type": "execute_result",
                    "data": {
                        "text/plain": [
                            "['1. Studio set representing a city gate and a statue. A general enters from the right on horseback with an escort of two officers. He dismounts and salutes two waiting officers. He is blindfolded and taken into a carriage which enters the gate.']"
                        ]
                    },
                    "metadata": {},
                    "execution_count": 55
                }
            ],
            "metadata": {}
        },
        {
            "cell_type": "code",
            "execution_count": 56,
            "source": [
                "result[\"clean_content\"]"
            ],
            "outputs": [
                {
                    "output_type": "execute_result",
                    "data": {
                        "text/plain": [
                            "'1. Studio set representing a city gate and a statue. A general enters from the right on horseback with an escort of two officers. He dismounts and salutes two waiting officers. He is blindfolded and taken into a carriage which enters the gate.'"
                        ]
                    },
                    "metadata": {},
                    "execution_count": 56
                }
            ],
            "metadata": {}
        },
        {
            "cell_type": "code",
            "execution_count": 57,
            "source": [
                "check_entities_offsets(result, nlp, \"title\", 1)"
            ],
            "outputs": [],
            "metadata": {}
        },
        {
            "cell_type": "code",
            "execution_count": null,
            "source": [],
            "outputs": [],
            "metadata": {}
        },
        {
            "cell_type": "code",
            "execution_count": null,
            "source": [
                "for title in [\"Sun Tzu\", \"Cesare_Beccaria\", \"Alessandro_Manzoni\", \"Gamma_ray\",\r\n",
                "    \"Human_history\", \"Dark_Ages_(historiography)\", \"Russian_Revolution\", \r\n",
                "    \"American_Civil_War\", \"United_States_Declaration_of_Independence\",\r\n",
                "    \"American_Revolution\", \"French_Revolution\", \"Viking_Age\", \"Ancient_Greece\",\r\n",
                "    \"Second_Battle_of_the_Piave_River\"\r\n",
                "    ]:\r\n",
                "    update_dataset(title)"
            ],
            "outputs": [],
            "metadata": {}
        },
        {
            "cell_type": "code",
            "execution_count": null,
            "source": [
                "import wikipedia\r\n",
                "import spacy\r\n",
                "from bs4 import BeautifulSoup"
            ],
            "outputs": [],
            "metadata": {}
        },
        {
            "cell_type": "code",
            "execution_count": null,
            "source": [
                "page = wikipedia.page(\"World War I\")"
            ],
            "outputs": [],
            "metadata": {}
        },
        {
            "cell_type": "code",
            "execution_count": null,
            "source": [
                "page.content"
            ],
            "outputs": [],
            "metadata": {}
        },
        {
            "cell_type": "code",
            "execution_count": null,
            "source": [
                "page.pageid"
            ],
            "outputs": [],
            "metadata": {}
        },
        {
            "cell_type": "code",
            "execution_count": null,
            "source": [
                "page = wptools.page('Edmund Hazle')\r\n",
                "# page.get_query()\r\n",
                "page.get_restbase()"
            ],
            "outputs": [],
            "metadata": {}
        },
        {
            "cell_type": "code",
            "execution_count": null,
            "source": [
                "page.data"
            ],
            "outputs": [],
            "metadata": {}
        },
        {
            "cell_type": "code",
            "execution_count": null,
            "source": [
                "page.data[\"exhtml\"]"
            ],
            "outputs": [],
            "metadata": {}
        },
        {
            "cell_type": "code",
            "execution_count": null,
            "source": [
                "page.data[\"pageid\"]"
            ],
            "outputs": [],
            "metadata": {}
        },
        {
            "cell_type": "code",
            "execution_count": null,
            "source": [
                "get_wikidata_info2(\"World_War_I\")"
            ],
            "outputs": [],
            "metadata": {}
        },
        {
            "cell_type": "code",
            "execution_count": null,
            "source": [
                "def get_wikidata_info2(title: str):\r\n",
                "    S = requests.Session()\r\n",
                "\r\n",
                "    URL = \"https://en.wikipedia.org/w/api.php\"\r\n",
                "\r\n",
                "    PARAMS = {\r\n",
                "        \"action\": \"query\",\r\n",
                "        \"titles\": title,\r\n",
                "        \"prop\": \"pageprops\",\r\n",
                "        \"ppprop\": \"wikibase_item\",\r\n",
                "        \"redirects\": 1,\r\n",
                "        \"format\": \"json\"\r\n",
                "    }\r\n",
                "\r\n",
                "    R = S.get(url=URL, params=PARAMS)\r\n",
                "    DATA = R.json()\r\n",
                "    page_ids, wikidata_ids = [], []\r\n",
                "\r\n",
                "    print(DATA)\r\n",
                "\r\n",
                "    if \"pages\" not in DATA[\"query\"]:\r\n",
                "        raise NoPageException\r\n",
                "    for _, v in DATA[\"query\"][\"pages\"].items():\r\n",
                "        try:\r\n",
                "            if \"missing\" in v:\r\n",
                "                page_ids.append(np.nan)\r\n",
                "            else:\r\n",
                "                page_ids.append(v[\"pageid\"])\r\n",
                "            wikidata_ids.append(v[\"pageprops\"][\"wikibase_item\"])\r\n",
                "        except Exception as ex:\r\n",
                "            traceback.print_exc()\r\n",
                "            print(title)\r\n",
                "            print(DATA)\r\n",
                "            \r\n",
                "    \r\n",
                "    assert len(page_ids) == 1\r\n",
                "\r\n",
                "    return page_ids[0], wikidata_ids[0]"
            ],
            "outputs": [],
            "metadata": {}
        },
        {
            "cell_type": "code",
            "execution_count": null,
            "source": [
                "nlp = spacy.load(\"en_core_web_sm\")"
            ],
            "outputs": [],
            "metadata": {}
        },
        {
            "cell_type": "code",
            "execution_count": null,
            "source": [
                "html = page.data[\"html\"]\r\n",
                "soup = BeautifulSoup(html, \"html.parser\")\r\n",
                "\r\n",
                "paragraphs = soup.find_all(\"p\")"
            ],
            "outputs": [],
            "metadata": {}
        },
        {
            "cell_type": "code",
            "execution_count": null,
            "source": [
                "for paragraph in paragraphs:\r\n",
                "    if paragraph.text == \"From Khyber Pass to Hellfire Pass, Operation Battleaxe\\n\":\r\n",
                "        print(\"found\")\r\n",
                "        p = paragraph\r\n",
                "        break"
            ],
            "outputs": [],
            "metadata": {}
        },
        {
            "cell_type": "code",
            "execution_count": null,
            "source": [
                "p"
            ],
            "outputs": [],
            "metadata": {}
        },
        {
            "cell_type": "code",
            "execution_count": null,
            "source": [
                "pp = preprocess_paragraph(p)\r\n",
                "pp"
            ],
            "outputs": [],
            "metadata": {}
        },
        {
            "cell_type": "code",
            "execution_count": null,
            "source": [
                "rr = process_paragraph2(pp, \"title\", \"1\", \"2\", 1, nlp=nlp)"
            ],
            "outputs": [],
            "metadata": {}
        },
        {
            "cell_type": "code",
            "execution_count": null,
            "source": [
                "rr"
            ],
            "outputs": [],
            "metadata": {}
        },
        {
            "cell_type": "code",
            "execution_count": null,
            "source": [
                "page = get_wikipedia_page(\"Edmund_Hazle\")"
            ],
            "outputs": [],
            "metadata": {}
        },
        {
            "cell_type": "code",
            "execution_count": null,
            "source": [
                "rr = process_page(page, \"ed\", \"1\", \"2\", 1)"
            ],
            "outputs": [],
            "metadata": {}
        },
        {
            "cell_type": "code",
            "execution_count": null,
            "source": [
                "rr[0][3][\"clean_content\"]"
            ],
            "outputs": [],
            "metadata": {}
        }
    ],
    "metadata": {
        "orig_nbformat": 4,
        "language_info": {
            "name": "python",
            "version": "3.9.5",
            "mimetype": "text/x-python",
            "codemirror_mode": {
                "name": "ipython",
                "version": 3
            },
            "pygments_lexer": "ipython3",
            "nbconvert_exporter": "python",
            "file_extension": ".py"
        },
        "kernelspec": {
            "name": "python3",
            "display_name": "Python 3.9.5 64-bit ('tf_p3.9': conda)"
        },
        "interpreter": {
            "hash": "f3a0b09ceef9b827a17ce91fbca1b0359a993a122e166af5f0b6d31a5625f693"
        }
    },
    "nbformat": 4,
    "nbformat_minor": 2
}